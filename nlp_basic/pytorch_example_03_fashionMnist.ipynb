{
 "cells": [
  {
   "cell_type": "markdown",
   "metadata": {},
   "source": [
    "# PyTorch - Fashion_Mnist"
   ]
  },
  {
   "cell_type": "markdown",
   "metadata": {},
   "source": [
    "### 필요 라이브러리 불러오기"
   ]
  },
  {
   "cell_type": "code",
   "execution_count": 13,
   "metadata": {},
   "outputs": [],
   "source": [
    "import numpy as np\n",
    "import pandas as pd\n",
    "import matplotlib.pyplot as plt\n",
    "\n",
    "import torch\n",
    "import torch.nn as nn\n",
    "import torch.nn.functional as F\n",
    "import torchvision\n",
    "from torchvision import transforms, datasets\n",
    "from torch.utils.data import DataLoader, random_split"
   ]
  },
  {
   "cell_type": "code",
   "execution_count": 3,
   "metadata": {},
   "outputs": [
    {
     "name": "stdout",
     "output_type": "stream",
     "text": [
      "cpu\n"
     ]
    }
   ],
   "source": [
    "# GPU, CPU 설정\n",
    "\n",
    "if torch.cuda.is_available():\n",
    "    device = torch.device('cuda')\n",
    "else:\n",
    "    device = torch.device('cpu')\n",
    "print(device)"
   ]
  },
  {
   "cell_type": "markdown",
   "metadata": {},
   "source": [
    "### 데이터 준비"
   ]
  },
  {
   "cell_type": "code",
   "execution_count": 4,
   "metadata": {},
   "outputs": [],
   "source": [
    "# 데이터 준비 1\n",
    "transform = transforms.Compose([transforms.ToTensor()])"
   ]
  },
  {
   "cell_type": "code",
   "execution_count": 14,
   "metadata": {},
   "outputs": [],
   "source": [
    "# 데이터 준비 2 (데이터셋 만들기)\n",
    "\n",
    "train_dataset = datasets.FashionMNIST(root = 'data_files', \n",
    "                                      train=True, download=True, \n",
    "                                      transform=transform)\n",
    "test_dataset = datasets.FashionMNIST(root = 'data_files', \n",
    "                                     train=False, download=True, \n",
    "                                     transform=transform)\n",
    "\n",
    "# Train Dataset을 Train/Validation Datasest으로 분리\n",
    "train_size = int(0.8 * len(train_dataset))  # 80% 훈련 데이터\n",
    "val_size = len(train_dataset) - train_size  # 20% 검증 데이터\n",
    "\n",
    "train_dataset, val_dataset = torch.utils.data.random_split(train_dataset, [train_size, val_size])"
   ]
  },
  {
   "cell_type": "code",
   "execution_count": 16,
   "metadata": {},
   "outputs": [],
   "source": [
    "# 데이터 준비 3 (DataLoader)\n",
    "\n",
    "train_loader = torch.utils.data.DataLoader(dataset = train_dataset,\n",
    "                                           batch_size = 32, shuffle=True)\n",
    "validation_loader = torch.utils.data.DataLoader(dataset = val_dataset,\n",
    "                                                batch_size = 32, shuffle=False)\n",
    "test_loader = torch.utils.data.DataLoader(dataset = test_dataset,\n",
    "                                           batch_size = 32, shuffle=True)"
   ]
  },
  {
   "cell_type": "code",
   "execution_count": 17,
   "metadata": {},
   "outputs": [
    {
     "name": "stdout",
     "output_type": "stream",
     "text": [
      "torch.Size([32, 1, 28, 28]) torch.Size([32])\n"
     ]
    },
    {
     "data": {
      "image/png": "[encoded data removed]",
      "text/plain": [
       "<Figure size 640x480 with 10 Axes>"
      ]
     },
     "metadata": {},
     "output_type": "display_data"
    },
    {
     "data": {
      "text/plain": [
       "tensor([5, 2, 7, 5, 9, 7, 8, 3, 4, 4])"
      ]
     },
     "execution_count": 17,
     "metadata": {},
     "output_type": "execute_result"
    }
   ],
   "source": [
    "# 데이터 확인\n",
    "\n",
    "for X, y in train_loader:\n",
    "    print(X.shape, y.shape)\n",
    "    break\n",
    "\n",
    "for idx in range(10):\n",
    "    plt.subplot(1, 10, idx+1)\n",
    "    plt.axis('off')\n",
    "    plt.imshow(X[idx, :, :, :].reshape(28, 28), cmap='gray_r')\n",
    "plt.show()\n",
    "y[:10]"
   ]
  },
  {
   "cell_type": "markdown",
   "metadata": {},
   "source": [
    "### 모델 만들기"
   ]
  },
  {
   "cell_type": "code",
   "execution_count": 32,
   "metadata": {},
   "outputs": [
    {
     "name": "stdout",
     "output_type": "stream",
     "text": [
      "FMnistCnn(\n",
      "  (conv1): Conv2d(1, 8, kernel_size=(3, 3), stride=(1, 1), padding=(1, 1))\n",
      "  (conv2): Conv2d(8, 32, kernel_size=(3, 3), stride=(1, 1), padding=(1, 1))\n",
      "  (conv3): Conv2d(32, 64, kernel_size=(3, 3), stride=(1, 1), padding=(1, 1))\n",
      "  (pool): MaxPool2d(kernel_size=2, stride=2, padding=0, dilation=1, ceil_mode=False)\n",
      "  (fc1): Linear(in_features=3136, out_features=32, bias=True)\n",
      "  (fc2): Linear(in_features=32, out_features=10, bias=True)\n",
      ")\n"
     ]
    }
   ],
   "source": [
    "# 모델 구조 설계\n",
    "\n",
    "class FMnistCnn(nn.Module):\n",
    "    def __init__(self):\n",
    "        super(FMnistCnn, self).__init__()\n",
    "        self.conv1 = nn.Conv2d(in_channels=1, out_channels=8, kernel_size=3, padding=1)\n",
    "        self.conv2 = nn.Conv2d(in_channels=8, out_channels=32, kernel_size=3, padding=1)\n",
    "        self.conv3 = nn.Conv2d(in_channels=32, out_channels=64, kernel_size=3, padding=1)\n",
    "        self.pool = nn.MaxPool2d(kernel_size=2, stride=2)\n",
    "        # 28 * 28 >(1st pooling)> 14 * 14 >(2nd pooling)> 7 * 7\n",
    "        self.fc1 = nn.Linear(7*7*64, 32)\n",
    "        self.fc2 = nn.Linear(32, 10)\n",
    "\n",
    "    def forward(self, x):\n",
    "        x = self.conv1(x)\n",
    "        x = F.relu(x)\n",
    "        x = self.conv2(x)\n",
    "        x = F.relu(x)\n",
    "        x = self.pool(x)\n",
    "        x = self.conv3(x)\n",
    "        x = F.relu(x)\n",
    "        x = self.pool(x)\n",
    "\n",
    "        x = x.view(-1, 7*7*64)\n",
    "        x = self.fc1(x)\n",
    "        x = F.relu(x)\n",
    "        x = self.fc2(x)\n",
    "        x = F.log_softmax(x, dim=1)\n",
    "        return x\n",
    "    \n",
    "# 학습 도구 구성\n",
    "model = FMnistCnn().to(device)\n",
    "criterion = nn.CrossEntropyLoss()\n",
    "optimizer = torch.optim.Adam(model.parameters(), lr = 0.01)\n",
    "\n",
    "print(model)"
   ]
  },
  {
   "cell_type": "code",
   "execution_count": 40,
   "metadata": {},
   "outputs": [],
   "source": [
    "# 훈련 함수 정의\n",
    "\n",
    "def train(model, train_loader, optimizer):\n",
    "    model.train()\n",
    "    running_loss = 0.0\n",
    "    correct = 0\n",
    "    total = 0\n",
    "    for idx, (images, labels) in enumerate(train_loader):\n",
    "        images = images.to(device)\n",
    "        labels = labels.to(device)\n",
    "\n",
    "        output = model(images)\n",
    "        loss = criterion(output, labels)\n",
    "\n",
    "        optimizer.zero_grad()\n",
    "        loss.backward()\n",
    "        optimizer.step()\n",
    "\n",
    "        running_loss += loss.item()\n",
    "        _, predicted = torch.max(output, 1)\n",
    "        total += labels.size(0)\n",
    "        correct += (predicted == labels).sum().item()\n",
    "        \n",
    "        if idx % 300 == 0:\n",
    "            accuracy = 100 * correct / total\n",
    "            print(f'Batch : {idx}, Loss : {loss.item()}, Accuracy : {accuracy}')\n",
    "    \n",
    "    # Epoch 결과 출력\n",
    "    epoch_loss = running_loss / len(train_loader)\n",
    "    epoch_accuracy = 100 * correct / total\n",
    "    print(f'Epoch Loss: {epoch_loss:.4f}, Epoch Accuracy: {epoch_accuracy:.2f}%')\n"
   ]
  },
  {
   "cell_type": "code",
   "execution_count": 42,
   "metadata": {},
   "outputs": [
    {
     "name": "stdout",
     "output_type": "stream",
     "text": [
      "Batch : 0, Loss : 0.34602177143096924, Accuracy : 84.375\n",
      "Batch : 300, Loss : 0.3388572931289673, Accuracy : 87.76993355481727\n",
      "Batch : 600, Loss : 0.4053109288215637, Accuracy : 87.88477537437603\n",
      "Batch : 900, Loss : 0.28958576917648315, Accuracy : 87.86417869034406\n",
      "Batch : 1200, Loss : 0.43008583784103394, Accuracy : 87.99958368026644\n",
      "Epoch Loss: 0.3284, Epoch Accuracy: 87.96%\n",
      "Epoch : 1, Loss : 0.3733, Accuracy : 86.49%\n",
      "Batch : 0, Loss : 0.6246962547302246, Accuracy : 71.875\n",
      "Batch : 300, Loss : 0.23009002208709717, Accuracy : 88.50705980066445\n",
      "Batch : 600, Loss : 0.19815996289253235, Accuracy : 88.4619384359401\n",
      "Batch : 900, Loss : 0.43094033002853394, Accuracy : 88.2838512763596\n",
      "Batch : 1200, Loss : 0.5031000375747681, Accuracy : 88.26238551207327\n",
      "Epoch Loss: 0.3171, Epoch Accuracy: 88.33%\n",
      "Epoch : 2, Loss : 0.3350, Accuracy : 87.47%\n",
      "Batch : 0, Loss : 0.2579491138458252, Accuracy : 93.75\n",
      "Batch : 300, Loss : 0.15013335645198822, Accuracy : 88.86004983388705\n",
      "Batch : 600, Loss : 0.4259965419769287, Accuracy : 88.97150582362728\n",
      "Batch : 900, Loss : 0.16858014464378357, Accuracy : 89.036487236404\n",
      "Batch : 1200, Loss : 0.4444265067577362, Accuracy : 89.10283097418818\n",
      "Epoch Loss: 0.3029, Epoch Accuracy: 88.99%\n",
      "Epoch : 3, Loss : 0.3366, Accuracy : 87.84%\n",
      "Batch : 0, Loss : 0.27763041853904724, Accuracy : 87.5\n",
      "Batch : 300, Loss : 0.4731130003929138, Accuracy : 89.02616279069767\n",
      "Batch : 600, Loss : 0.11506164819002151, Accuracy : 89.05470049916805\n",
      "Batch : 900, Loss : 0.24331508576869965, Accuracy : 89.01220865704772\n",
      "Batch : 1200, Loss : 0.32143422961235046, Accuracy : 89.01436303080766\n",
      "Epoch Loss: 0.2968, Epoch Accuracy: 89.00%\n",
      "Epoch : 4, Loss : 0.3806, Accuracy : 86.37%\n",
      "Batch : 0, Loss : 0.17544512450695038, Accuracy : 93.75\n",
      "Batch : 300, Loss : 0.3021050989627838, Accuracy : 90.00207641196013\n",
      "Batch : 600, Loss : 0.1741449236869812, Accuracy : 89.81905158069884\n",
      "Batch : 900, Loss : 0.05282506346702576, Accuracy : 89.51859045504995\n",
      "Batch : 1200, Loss : 0.29550591111183167, Accuracy : 89.55557868442965\n",
      "Epoch Loss: 0.2898, Epoch Accuracy: 89.40%\n",
      "Epoch : 5, Loss : 0.3183, Accuracy : 88.16%\n",
      "Batch : 0, Loss : 0.29796937108039856, Accuracy : 87.5\n",
      "Batch : 300, Loss : 0.4608198404312134, Accuracy : 89.5452657807309\n",
      "Batch : 600, Loss : 0.16126765310764313, Accuracy : 89.75145590682196\n",
      "Batch : 900, Loss : 0.18328642845153809, Accuracy : 89.69894561598224\n",
      "Batch : 1200, Loss : 0.3577331304550171, Accuracy : 89.45410074937553\n",
      "Epoch Loss: 0.2943, Epoch Accuracy: 89.41%\n",
      "Epoch : 6, Loss : 0.3739, Accuracy : 86.52%\n",
      "Batch : 0, Loss : 0.3628121614456177, Accuracy : 81.25\n",
      "Batch : 300, Loss : 0.46827879548072815, Accuracy : 89.98131229235881\n",
      "Batch : 600, Loss : 0.21717984974384308, Accuracy : 89.79825291181365\n",
      "Batch : 900, Loss : 0.3145429491996765, Accuracy : 89.51512208657047\n",
      "Batch : 1200, Loss : 0.07880271226167679, Accuracy : 89.67527060782682\n",
      "Epoch Loss: 0.2843, Epoch Accuracy: 89.67%\n",
      "Epoch : 7, Loss : 0.3503, Accuracy : 87.77%\n",
      "Batch : 0, Loss : 0.2772022783756256, Accuracy : 90.625\n",
      "Batch : 300, Loss : 0.3024306297302246, Accuracy : 90.23048172757476\n",
      "Batch : 600, Loss : 0.2947998642921448, Accuracy : 89.94384359400998\n",
      "Batch : 900, Loss : 0.12399915605783463, Accuracy : 89.69547724750278\n",
      "Batch : 1200, Loss : 0.3144339323043823, Accuracy : 89.55818068276436\n",
      "Epoch Loss: 0.2858, Epoch Accuracy: 89.50%\n",
      "Epoch : 8, Loss : 0.3450, Accuracy : 88.35%\n",
      "Batch : 0, Loss : 0.6941436529159546, Accuracy : 81.25\n",
      "Batch : 300, Loss : 0.2370537966489792, Accuracy : 89.64908637873754\n",
      "Batch : 600, Loss : 0.06749004125595093, Accuracy : 89.68905990016638\n",
      "Batch : 900, Loss : 0.5329122543334961, Accuracy : 89.53593229744727\n",
      "Batch : 1200, Loss : 0.5732613801956177, Accuracy : 89.46190674437969\n",
      "Epoch Loss: 0.2897, Epoch Accuracy: 89.49%\n",
      "Epoch : 9, Loss : 0.3410, Accuracy : 88.52%\n",
      "Batch : 0, Loss : 0.20760270953178406, Accuracy : 90.625\n",
      "Batch : 300, Loss : 0.30570268630981445, Accuracy : 90.13704318936877\n",
      "Batch : 600, Loss : 0.3705228269100189, Accuracy : 90.16222961730449\n",
      "Batch : 900, Loss : 0.16195550560951233, Accuracy : 89.73016093229745\n",
      "Batch : 1200, Loss : 0.26922109723091125, Accuracy : 89.65445462114904\n",
      "Epoch Loss: 0.2860, Epoch Accuracy: 89.54%\n",
      "Epoch : 10, Loss : 0.3475, Accuracy : 87.99%\n"
     ]
    }
   ],
   "source": [
    "# 학습 실행\n",
    "for epoch in range(10):\n",
    "    train(model, train_loader, optimizer)  # 훈련\n",
    "    loss, accuracy = evaluate(model, test_loader, criterion, device)  # 평가\n",
    "    print(f\"Epoch : {epoch + 1}, Loss : {loss:.4f}, Accuracy : {accuracy:.2f}%\")\n"
   ]
  },
  {
   "cell_type": "code",
   "execution_count": 43,
   "metadata": {},
   "outputs": [],
   "source": [
    "def evaluate(model, loader, criterion, device):\n",
    "    model.eval()\n",
    "    loss_total = 0\n",
    "    correct_total = 0\n",
    "    with torch.no_grad():\n",
    "        for images, labels in loader:\n",
    "            images = images.to(device)\n",
    "            labels = labels.to(device)\n",
    "\n",
    "            outputs = model(images)\n",
    "            loss = criterion(outputs, labels).item()\n",
    "            loss_total += loss\n",
    "            _, predicted = torch.max(outputs, 1)\n",
    "            correct_total += (predicted == labels).sum().item()\n",
    "    \n",
    "    loss_avg = loss_total / len(loader)\n",
    "    accuracy = 100.0 * correct_total / len(loader.dataset)\n",
    "    \n",
    "    return loss_avg, accuracy\n"
   ]
  },
  {
   "cell_type": "code",
   "execution_count": 44,
   "metadata": {},
   "outputs": [
    {
     "name": "stdout",
     "output_type": "stream",
     "text": [
      "Validation Loss: 0.33451463776826856, Validation Accuracy: 88.34166666666667%\n"
     ]
    }
   ],
   "source": [
    "# 검증 데이터 평가 (Validation)\n",
    "val_loss, val_accuracy = evaluate(model, validation_loader, criterion, device)\n",
    "print(f'Validation Loss: {val_loss}, Validation Accuracy: {val_accuracy}%')"
   ]
  },
  {
   "cell_type": "code",
   "execution_count": 45,
   "metadata": {},
   "outputs": [
    {
     "name": "stdout",
     "output_type": "stream",
     "text": [
      "Test - Loss: 0.3478, Accuracy: 87.99%\n"
     ]
    }
   ],
   "source": [
    "#테스트 데이터 평가 (Test)\n",
    "test_loss, test_accuracy = evaluate(model, test_loader, criterion, device)\n",
    "print(f\"Test - Loss: {test_loss:.4f}, Accuracy: {test_accuracy:.2f}%\")"
   ]
  }
 ],
 "metadata": {
  "kernelspec": {
   "display_name": "human-dl-env2",
   "language": "python",
   "name": "python3"
  },
  "language_info": {
   "codemirror_mode": {
    "name": "ipython",
    "version": 3
   },
   "file_extension": ".py",
   "mimetype": "text/x-python",
   "name": "python",
   "nbconvert_exporter": "python",
   "pygments_lexer": "ipython3",
   "version": "3.9.21"
  }
 },
 "nbformat": 4,
 "nbformat_minor": 2
}
