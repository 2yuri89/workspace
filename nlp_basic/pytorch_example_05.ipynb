{
 "cells": [
  {
   "cell_type": "markdown",
   "metadata": {},
   "source": [
    "# PyTorch ( 선생님과 함께 dogs and cats)"
   ]
  },
  {
   "cell_type": "code",
   "execution_count": 8,
   "metadata": {},
   "outputs": [],
   "source": [
    "import numpy as np\n",
    "import pandas as pd\n",
    "import matplotlib.pyplot as plt\n",
    "import seaborn as sns\n",
    "\n",
    "import torch\n",
    "import torch.nn as nn\n",
    "import torch.nn.functional as F\n",
    "import torchvision\n",
    "from torchvision import transforms, datasets\n",
    "import os"
   ]
  },
  {
   "cell_type": "code",
   "execution_count": 2,
   "metadata": {},
   "outputs": [
    {
     "name": "stdout",
     "output_type": "stream",
     "text": [
      "cpu\n"
     ]
    }
   ],
   "source": [
    "# GPU 사용 가능 여부 확인 -> GPU, CPU 선택\n",
    "\n",
    "if torch.cuda.is_available():   # False\n",
    "    device = torch.device('cuda')\n",
    "else:\n",
    "    device = torch.device('cpu')\n",
    "print(device)"
   ]
  },
  {
   "cell_type": "markdown",
   "metadata": {},
   "source": [
    "### 데이터 준비 (새로운 방법으로 데이터셋 구성)"
   ]
  },
  {
   "cell_type": "code",
   "execution_count": 3,
   "metadata": {},
   "outputs": [],
   "source": [
    "# # 데이터 다운로드\n",
    "\n",
    "# import kagglehub\n",
    "# # Download latest version\n",
    "# path = kagglehub.dataset_download(\"salader/dogs-vs-cats\")\n",
    "# print(\"Path to dataset files:\", path)"
   ]
  },
  {
   "cell_type": "code",
   "execution_count": 4,
   "metadata": {},
   "outputs": [],
   "source": [
    "# !copy C:\\Users\\human\\.cache\\kagglehub\\datasets\\salader\\dogs-vs-cats\\versions\\1\\dogs_vs_cats\\* data_files\\"
   ]
  },
  {
   "cell_type": "code",
   "execution_count": 5,
   "metadata": {},
   "outputs": [],
   "source": [
    "# 데이터 준비 1. (파일에서 읽어오면 이미지 크기가 제각각인데, 여기서 맞춰준다.)\n",
    "\n",
    "transform =  transforms.Compose([transforms.RandomResizedCrop(224), transforms.ToTensor()])"
   ]
  },
  {
   "cell_type": "code",
   "execution_count": 12,
   "metadata": {},
   "outputs": [
    {
     "data": {
      "text/plain": [
       "[1, 2, 3, 1, 2, 3, 4, 5, 6]"
      ]
     },
     "execution_count": 12,
     "metadata": {},
     "output_type": "execute_result"
    }
   ],
   "source": [
    "a = [1, 2, 3]; a = a + [4, 5, 6]; a\n",
    "a = [1, 2, 3]; b = a + [4, 5, 6]; b\n",
    "a = [1, 2, 3]; a += a + [4, 5, 6]; a"
   ]
  },
  {
   "cell_type": "code",
   "execution_count": 25,
   "metadata": {},
   "outputs": [
    {
     "name": "stdout",
     "output_type": "stream",
     "text": [
      "20000 5000\n"
     ]
    },
    {
     "data": {
      "text/plain": [
       "['data_files/dogs_vs_cats/test\\\\cats\\\\cat.1924.jpg',\n",
       " 'data_files/dogs_vs_cats/test\\\\cats\\\\cat.4141.jpg',\n",
       " 'data_files/dogs_vs_cats/test\\\\dogs\\\\dog.84.jpg',\n",
       " 'data_files/dogs_vs_cats/test\\\\dogs\\\\dog.1674.jpg',\n",
       " 'data_files/dogs_vs_cats/test\\\\cats\\\\cat.193.jpg']"
      ]
     },
     "execution_count": 25,
     "metadata": {},
     "output_type": "execute_result"
    }
   ],
   "source": [
    "# 데이터 준비 2-1. (데이터셋 만들기 - 다른 방식으로 불러올때 어떻게 할까)\n",
    "import os\n",
    "import random\n",
    "# data_files/dogs_vs_cats/train\n",
    "# train_dog_files = os.listdir('data_files/dogs_vs_cats/train/dogs')\n",
    "# train_cat_files = os.listdir('data_files/dogs_vs_cats/train/cats')\n",
    "\n",
    "# 위의 경로를 반복문으로 불러오기\n",
    "base_dir = 'data_files/dogs_vs_cats/'\n",
    "\n",
    "train_files = []\n",
    "test_files = []\n",
    "for dir in ['dogs', 'cats']:\n",
    "    train_files += [os.path.join(base_dir, 'train', dir, f) for f in os.listdir(f'{base_dir}/train/{dir}')]\n",
    "    test_files += [os.path.join(base_dir, 'test', dir, f) for f in os.listdir(f'{base_dir}/test/{dir}')]\n",
    "\n",
    "random.shuffle(train_files)\n",
    "random.shuffle(test_files)\n",
    "# print( len(train_files), len(test_files) )\n",
    "# train_files[:5]\n",
    "# test_files[:5]"
   ]
  },
  {
   "cell_type": "code",
   "execution_count": 34,
   "metadata": {},
   "outputs": [],
   "source": [
    "# 데이터 준비 2-2. (데이터셋 만들기)\n",
    "from torch.utils.data import Dataset\n",
    "from PIL import Image   # 이미지 처리 도구\n",
    "\n",
    "class DogsVsCatsDataset(Dataset):\n",
    "    # 데이터셋이되기 위해서 함수를 반드시 상속 받아라\n",
    "    # 지금 여기서는 init(선택)과 len, getitem\n",
    "    # 모델에서는 init과 forward\n",
    "    def __init__(self, file_list, transform=None):\n",
    "        self.file_list = file_list\n",
    "        self.transform = transform\n",
    "\n",
    "    def __len__(self):\n",
    "        return len(self.file_list)\n",
    "    \n",
    "    def __getitem__(self, idx):\n",
    "        img_path = self.file_list[idx]\n",
    "        img = Image.open(img_path)\n",
    "        transformed_img = self.transform(img)\n",
    "\n",
    "        label = None\n",
    "        if 'cat' in img_path.split(\"\\\\\")[-1].lower():\n",
    "            label = 0\n",
    "        else:\n",
    "            label = 1\n",
    "\n",
    "        return transformed_img, label"
   ]
  },
  {
   "cell_type": "code",
   "execution_count": 35,
   "metadata": {},
   "outputs": [],
   "source": [
    "# 데이터 준비 2-3.\n",
    "\n",
    "train_dataset = DogsVsCatsDataset(train_files, transform)\n",
    "test_dataset = DogsVsCatsDataset(test_files, transform)"
   ]
  },
  {
   "cell_type": "code",
   "execution_count": 36,
   "metadata": {},
   "outputs": [],
   "source": [
    "# 데이터 준비 3. (DataLoader)\n",
    "\n",
    "train_loader = torch.utils.data.DataLoader(dataset=train_dataset,\n",
    "                                           batch_size=32, \n",
    "                                           shuffle=True)\n",
    "test_loader = torch.utils.data.DataLoader(dataset=test_dataset,\n",
    "                                           batch_size=32, \n",
    "                                           shuffle=True)"
   ]
  },
  {
   "cell_type": "code",
   "execution_count": 37,
   "metadata": {},
   "outputs": [
    {
     "name": "stdout",
     "output_type": "stream",
     "text": [
      "torch.Size([32, 3, 224, 224]) torch.Size([32])\n"
     ]
    }
   ],
   "source": [
    "# 데이터 확인\n",
    "\n",
    "for X, y in train_loader:\n",
    "    print(X.shape, y.shape)\n",
    "    break"
   ]
  },
  {
   "cell_type": "code",
   "execution_count": 39,
   "metadata": {},
   "outputs": [
    {
     "data": {
      "image/png": "[encoded data removed]",
      "text/plain": [
       "<Figure size 640x480 with 10 Axes>"
      ]
     },
     "metadata": {},
     "output_type": "display_data"
    },
    {
     "data": {
      "text/plain": [
       "tensor([1, 0, 0, 1, 0, 1, 0, 0, 1, 1])"
      ]
     },
     "execution_count": 39,
     "metadata": {},
     "output_type": "execute_result"
    }
   ],
   "source": [
    "for idx in range(10):\n",
    "    plt.subplot(1, 10, idx+1)\n",
    "    plt.axis('off')\n",
    "    plt.imshow(X[idx, :, :, :].permute(1, 2, 0))\n",
    "plt.show()\n",
    "y[:10]"
   ]
  },
  {
   "cell_type": "markdown",
   "metadata": {},
   "source": [
    "### 모델 만들기 - 모델 돌릴때 주의"
   ]
  },
  {
   "cell_type": "code",
   "execution_count": 60,
   "metadata": {},
   "outputs": [],
   "source": [
    "# 모델 구조 설계\n",
    "\n",
    "class dncCnn(nn.Module):\n",
    "    def __init__(self):\n",
    "        super(dncCnn, self).__init__()\n",
    "        # Cnn이므로 Conv, Pool 필요. out_channels : 필터 개수, padding 수를 직접 지정해야한다. 1=same\n",
    "        self.conv1 = nn.Conv2d(in_channels=3, out_channels=32, kernel_size=3, padding=1)\n",
    "        self.conv2 = nn.Conv2d(in_channels=32, out_channels=128, kernel_size=3, padding=1)\n",
    "        self.conv3 = nn.Conv2d(in_channels=128, out_channels=256, kernel_size=3, padding=1)\n",
    "        self.conv4 = nn.Conv2d(in_channels=256, out_channels=512, kernel_size=3, padding=1)\n",
    "        self.pool = nn.MaxPool2d(kernel_size=2, stride=2)\n",
    "        # 256 > 128 > 64 > 32 > 16\n",
    "        self.fc1 = nn.Linear(16*16*512, 32)   # flatten하는 것\n",
    "        self.fc2 = nn.Linear(32, 1)\n",
    "\n",
    "    def forward(self, x):\n",
    "        # conv 층 작업\n",
    "        x = self.conv1(x)\n",
    "        x = F.relu(x)\n",
    "        x = self.pool(x)\n",
    "        x = self.conv2(x)\n",
    "        x = F.relu(x)\n",
    "        x = self.pool(x)\n",
    "        x = self.conv3(x)\n",
    "        x = F.relu(x)\n",
    "        x = self.pool(x)\n",
    "        x = self.conv4(x)\n",
    "        x = F.relu(x)\n",
    "        x = self.pool(x)\n",
    "\n",
    "        x = x.view(-1, 16*16*512)\n",
    "        x = self.fc1(x)\n",
    "        x = F.relu(x)\n",
    "        x = self.fc2(x)\n",
    "        x = F.sigmoid(x)\n",
    "        return x"
   ]
  },
  {
   "cell_type": "code",
   "execution_count": 61,
   "metadata": {},
   "outputs": [
    {
     "name": "stdout",
     "output_type": "stream",
     "text": [
      "dncCnn(\n",
      "  (conv1): Conv2d(3, 32, kernel_size=(3, 3), stride=(1, 1), padding=(1, 1))\n",
      "  (conv2): Conv2d(32, 128, kernel_size=(3, 3), stride=(1, 1), padding=(1, 1))\n",
      "  (conv3): Conv2d(128, 256, kernel_size=(3, 3), stride=(1, 1), padding=(1, 1))\n",
      "  (conv4): Conv2d(256, 512, kernel_size=(3, 3), stride=(1, 1), padding=(1, 1))\n",
      "  (pool): MaxPool2d(kernel_size=2, stride=2, padding=0, dilation=1, ceil_mode=False)\n",
      "  (fc1): Linear(in_features=131072, out_features=32, bias=True)\n",
      "  (fc2): Linear(in_features=32, out_features=1, bias=True)\n",
      ")\n"
     ]
    }
   ],
   "source": [
    "# 학습 도구 구성\n",
    "model = dncCnn().to(device)\n",
    "criterion = nn.BCELoss().to(device)\n",
    "optimizer = torch.optim.Adam(model.parameters(), lr=0.001)\n",
    "\n",
    "print(model)"
   ]
  },
  {
   "cell_type": "code",
   "execution_count": 69,
   "metadata": {},
   "outputs": [],
   "source": [
    "# 훈련 함수 정의 (배치 10으로 하니 너무 많아서 300으로 조정)\n",
    "\n",
    "def train(model, train_loader, optimizer):\n",
    "    model.train()\n",
    "    for idx, (images, labels) in enumerate(train_loader):\n",
    "        images = images.to(device)\n",
    "        labels = labels.to(device)\n",
    "        optimizer.zero_grad()\n",
    "        output = model(images).reshape(-1)\n",
    "        loss = criterion(output, labels.to(torch.float32))\n",
    "        loss.backward()\n",
    "        optimizer.step()\n",
    "\n",
    "        if idx % 300 == 0:\n",
    "            print(f'Batch : {idx}, Loss : {loss.item()}')"
   ]
  },
  {
   "cell_type": "code",
   "execution_count": 66,
   "metadata": {},
   "outputs": [],
   "source": [
    "# 모델 평가 함수 정의\n",
    "\n",
    "def evaluate(model, test_loader):\n",
    "    loss_total = 0\n",
    "    correct_total = 0\n",
    "    model.eval()\n",
    "    with torch.no_grad():\n",
    "        for images, labels in test_loader:\n",
    "            images = images.to(device)\n",
    "            labels = labels.to(device)\n",
    "            output = model(images).reshape(-1)\n",
    "            loss = criterion(output, labels.to(torch.float32)).item()\n",
    "            loss_total += loss\n",
    "            predicted_values = output.max(1, keepdim=True)[1]\n",
    "            correct = predicted_values.eq(labels.view_as(predicted_values)).sum().item() # 비교하기\n",
    "            correct_total += correct\n",
    "    \n",
    "    loss_total /= (len(test_dataset) / 32 )\n",
    "    accuracy = correct_total / len(test_dataset)\n",
    "    \n",
    "    return loss_total, accuracy"
   ]
  },
  {
   "cell_type": "code",
   "execution_count": null,
   "metadata": {},
   "outputs": [
    {
     "name": "stdout",
     "output_type": "stream",
     "text": [
      "Batch : 0, Loss : 0.712234616279602\n"
     ]
    }
   ],
   "source": [
    "# 학습 실행\n",
    "\n",
    "for epoch in range(10):\n",
    "    train(model, train_loader, optimizer) \n",
    "    loss, accuracy = evaluate(model, test_loader)\n",
    "    print(f\"Epoch : {epoch + 1}, Loss : {loss}, Accuracy : {accuracy}\")\n",
    "    # 에폭마다 validation이 어떻게 개선되는지 볼 수 있게 함. (여기선 validation따로 안 만들어서 test로 함)"
   ]
  },
  {
   "cell_type": "code",
   "execution_count": 23,
   "metadata": {},
   "outputs": [
    {
     "data": {
      "text/plain": [
       "(0.05625466647148132, 0.9839)"
      ]
     },
     "execution_count": 23,
     "metadata": {},
     "output_type": "execute_result"
    }
   ],
   "source": [
    "# 최종적인 작업\n",
    "\n",
    "evaluate(model, test_loader)\n",
    "# "
   ]
  },
  {
   "cell_type": "code",
   "execution_count": null,
   "metadata": {},
   "outputs": [],
   "source": []
  }
 ],
 "metadata": {
  "kernelspec": {
   "display_name": "human-dl-env2",
   "language": "python",
   "name": "python3"
  },
  "language_info": {
   "codemirror_mode": {
    "name": "ipython",
    "version": 3
   },
   "file_extension": ".py",
   "mimetype": "text/x-python",
   "name": "python",
   "nbconvert_exporter": "python",
   "pygments_lexer": "ipython3",
   "version": "3.9.21"
  }
 },
 "nbformat": 4,
 "nbformat_minor": 2
}
