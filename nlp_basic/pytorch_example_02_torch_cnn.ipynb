{
 "cells": [
  {
   "cell_type": "markdown",
   "metadata": {},
   "source": [
    "# PyTorch"
   ]
  },
  {
   "cell_type": "code",
   "execution_count": 1,
   "metadata": {},
   "outputs": [],
   "source": [
    "import numpy as np\n",
    "import pandas as pd\n",
    "import matplotlib.pyplot as plt\n",
    "import seaborn as sns\n",
    "\n",
    "import torch\n",
    "import torch.nn as nn\n",
    "import torch.nn.functional as F\n",
    "import torchvision\n",
    "from torchvision import transforms, datasets"
   ]
  },
  {
   "cell_type": "code",
   "execution_count": 2,
   "metadata": {},
   "outputs": [
    {
     "name": "stdout",
     "output_type": "stream",
     "text": [
      "cpu\n"
     ]
    }
   ],
   "source": [
    "# GPU 사용 가능 여부 확인 -> GPU, CPU 선택\n",
    "\n",
    "if torch.cuda.is_available():   # False\n",
    "    device = torch.device('cuda')\n",
    "else:\n",
    "    device = torch.device('cpu')\n",
    "print(device)"
   ]
  },
  {
   "cell_type": "markdown",
   "metadata": {},
   "source": [
    "### 데이터 준비"
   ]
  },
  {
   "cell_type": "code",
   "execution_count": 3,
   "metadata": {},
   "outputs": [],
   "source": [
    "# 데이터 준비 1. \n",
    "\n",
    "transform =  transforms.Compose([transforms.ToTensor()])"
   ]
  },
  {
   "cell_type": "code",
   "execution_count": 4,
   "metadata": {},
   "outputs": [],
   "source": [
    "# 데이터 준비 2. (데이터셋 만들기)\n",
    "\n",
    "train_dataset = datasets.MNIST(root=\"data_files\", \n",
    "                               train=True, \n",
    "                               download=True,\n",
    "                               transform=transform)\n",
    "test_dataset = datasets.MNIST(root=\"data_files\", \n",
    "                              train=False, \n",
    "                              download=True, \n",
    "                              transform=transform)"
   ]
  },
  {
   "cell_type": "code",
   "execution_count": 5,
   "metadata": {},
   "outputs": [],
   "source": [
    "# 데이터 준비 3. (DataLoader)\n",
    "\n",
    "train_loader = torch.utils.data.DataLoader(dataset=train_dataset,\n",
    "                                           batch_size=32, \n",
    "                                           shuffle=True)\n",
    "test_loader = torch.utils.data.DataLoader(dataset=test_dataset,\n",
    "                                           batch_size=32, \n",
    "                                           shuffle=True)"
   ]
  },
  {
   "cell_type": "code",
   "execution_count": 6,
   "metadata": {},
   "outputs": [
    {
     "name": "stdout",
     "output_type": "stream",
     "text": [
      "torch.Size([32, 1, 28, 28]) torch.Size([32])\n"
     ]
    }
   ],
   "source": [
    "# 데이터 확인\n",
    "\n",
    "for X, y in train_loader:\n",
    "    print(X.shape, y.shape)\n",
    "    break"
   ]
  },
  {
   "cell_type": "code",
   "execution_count": 7,
   "metadata": {},
   "outputs": [
    {
     "data": {
      "image/png": "[encoded data removed]",
      "text/plain": [
       "<Figure size 640x480 with 10 Axes>"
      ]
     },
     "metadata": {},
     "output_type": "display_data"
    },
    {
     "data": {
      "text/plain": [
       "tensor([6, 2, 9, 9, 4, 8, 7, 6, 8, 4])"
      ]
     },
     "execution_count": 7,
     "metadata": {},
     "output_type": "execute_result"
    }
   ],
   "source": [
    "for idx in range(10):\n",
    "    plt.subplot(1, 10, idx+1)\n",
    "    plt.axis('off')\n",
    "    plt.imshow(X[idx, :, :, :].reshape(28, 28), cmap='gray_r')\n",
    "plt.show()\n",
    "y[:10]"
   ]
  },
  {
   "cell_type": "markdown",
   "metadata": {},
   "source": [
    "### 모델 만들기"
   ]
  },
  {
   "cell_type": "code",
   "execution_count": 17,
   "metadata": {},
   "outputs": [],
   "source": [
    "# 모델 구조 설계\n",
    "\n",
    "class MnistCnn(nn.Module):\n",
    "    def __init__(self):\n",
    "        super(MnistCnn, self).__init__()\n",
    "        # Cnn이므로 Conv, Pool 필요. out_channels : 필터 개수, padding 수를 직접 지정해야한다. 1=same\n",
    "        self.conv1 = nn.Conv2d(in_channels=1, out_channels=8, kernel_size=3, padding=1)\n",
    "        self.conv2 = nn.Conv2d(in_channels=8, out_channels=16, kernel_size=3, padding=1)\n",
    "        self.pool = nn.MaxPool2d(kernel_size=2, stride=2)\n",
    "        # pool하면서 이미지 28*28이 14*14가 된다. > 한번 더 돌면 7*7\n",
    "        self.fc1 = nn.Linear(7*7*16, 32)   # flatten하는 것\n",
    "        self.fc2 = nn.Linear(32, 10)\n",
    "\n",
    "    def forward(self, x):\n",
    "        # conv 층 작업\n",
    "        x = self.conv1(x)\n",
    "        x = F.relu(x)\n",
    "        x = self.pool(x)\n",
    "        x = self.conv2(x)\n",
    "        x = F.relu(x)\n",
    "        x = self.pool(x)\n",
    "\n",
    "        x = x.view(-1, 7*7*16)\n",
    "        x = self.fc1(x)\n",
    "        x = F.relu(x)\n",
    "        x = self.fc2(x)\n",
    "        x = F.log_softmax(x, dim=1)\n",
    "        return x"
   ]
  },
  {
   "cell_type": "code",
   "execution_count": 18,
   "metadata": {},
   "outputs": [
    {
     "name": "stdout",
     "output_type": "stream",
     "text": [
      "MnistCnn(\n",
      "  (conv1): Conv2d(1, 8, kernel_size=(3, 3), stride=(1, 1), padding=(1, 1))\n",
      "  (conv2): Conv2d(8, 16, kernel_size=(3, 3), stride=(1, 1), padding=(1, 1))\n",
      "  (pool): MaxPool2d(kernel_size=2, stride=2, padding=0, dilation=1, ceil_mode=False)\n",
      "  (fc1): Linear(in_features=784, out_features=32, bias=True)\n",
      "  (fc2): Linear(in_features=32, out_features=10, bias=True)\n",
      ")\n"
     ]
    }
   ],
   "source": [
    "# 학습 도구 구성\n",
    "model = MnistCnn().to(device)\n",
    "criterion = nn.CrossEntropyLoss()\n",
    "optimizer = torch.optim.Adam(model.parameters(), lr=0.001)\n",
    "\n",
    "print(model)"
   ]
  },
  {
   "cell_type": "code",
   "execution_count": 19,
   "metadata": {},
   "outputs": [],
   "source": [
    "# 훈련 함수 정의 (배치 10으로 하니 너무 많아서 300으로 조정)\n",
    "\n",
    "def train(model, train_loader, optimizer):\n",
    "    model.train()\n",
    "    for idx, (images, labels) in enumerate(train_loader):\n",
    "        images = images.to(device)\n",
    "        labels = labels.to(device)\n",
    "        optimizer.zero_grad()\n",
    "        output = model(images)\n",
    "        loss = criterion(output, labels)\n",
    "        loss.backward()\n",
    "        optimizer.step()\n",
    "\n",
    "        if idx % 300 == 0:\n",
    "            print(f'Batch : {idx}, Loss : {loss.item()}')"
   ]
  },
  {
   "cell_type": "code",
   "execution_count": 21,
   "metadata": {},
   "outputs": [],
   "source": [
    "# 모델 평가 함수 정의\n",
    "\n",
    "def evaluate(model, test_loader):\n",
    "    loss_total = 0\n",
    "    correct_total = 0\n",
    "    model.eval()\n",
    "    with torch.no_grad():\n",
    "        for images, labels in test_loader:\n",
    "            images = images.to(device)\n",
    "            labels = labels.to(device)\n",
    "            output = model(images)\n",
    "            loss = criterion(output, labels).item()\n",
    "            loss_total += loss\n",
    "            predicted_values = output.max(1, keepdim=True)[1]\n",
    "            correct = predicted_values.eq(labels.view_as(predicted_values)).sum().item() # 비교하기\n",
    "            correct_total += correct\n",
    "    \n",
    "    loss_total /= (len(test_dataset) / 32 )\n",
    "    accuracy = correct_total / len(test_dataset)\n",
    "    \n",
    "    return loss_total, accuracy"
   ]
  },
  {
   "cell_type": "code",
   "execution_count": 22,
   "metadata": {},
   "outputs": [
    {
     "name": "stdout",
     "output_type": "stream",
     "text": [
      "Batch : 0, Loss : 0.1050143763422966\n",
      "Batch : 300, Loss : 0.13350002467632294\n",
      "Batch : 600, Loss : 0.056602220982313156\n",
      "Batch : 900, Loss : 0.06836283206939697\n",
      "Batch : 1200, Loss : 0.10255139321088791\n",
      "Batch : 1500, Loss : 0.1330542415380478\n",
      "Batch : 1800, Loss : 0.03466441109776497\n",
      "Epoch : 1, Loss : 0.07437082510590554, Accuracy : 0.9765\n",
      "Batch : 0, Loss : 0.07214885950088501\n",
      "Batch : 300, Loss : 0.1574651151895523\n",
      "Batch : 600, Loss : 0.038958627730607986\n",
      "Batch : 900, Loss : 0.04552131146192551\n",
      "Batch : 1200, Loss : 0.10108233243227005\n",
      "Batch : 1500, Loss : 0.015540869906544685\n",
      "Batch : 1800, Loss : 0.17434747517108917\n",
      "Epoch : 2, Loss : 0.059447656825184825, Accuracy : 0.9809\n",
      "Batch : 0, Loss : 0.01084250770509243\n",
      "Batch : 300, Loss : 0.04211652651429176\n",
      "Batch : 600, Loss : 0.017277929931879044\n",
      "Batch : 900, Loss : 0.04753003641963005\n",
      "Batch : 1200, Loss : 0.04209510609507561\n",
      "Batch : 1500, Loss : 0.02186363935470581\n",
      "Batch : 1800, Loss : 0.16521048545837402\n",
      "Epoch : 3, Loss : 0.05043749718591571, Accuracy : 0.9848\n",
      "Batch : 0, Loss : 0.04986651614308357\n",
      "Batch : 300, Loss : 0.005394551437348127\n",
      "Batch : 600, Loss : 0.003673727158457041\n",
      "Batch : 900, Loss : 0.011870127171278\n",
      "Batch : 1200, Loss : 0.005366267170757055\n",
      "Batch : 1500, Loss : 0.040737178176641464\n",
      "Batch : 1800, Loss : 0.09522401541471481\n",
      "Epoch : 4, Loss : 0.04826272128224373, Accuracy : 0.9839\n",
      "Batch : 0, Loss : 0.03216831013560295\n",
      "Batch : 300, Loss : 0.002993640722706914\n",
      "Batch : 600, Loss : 0.0084171611815691\n",
      "Batch : 900, Loss : 0.020017215982079506\n",
      "Batch : 1200, Loss : 0.05538806691765785\n",
      "Batch : 1500, Loss : 0.0700036883354187\n",
      "Batch : 1800, Loss : 0.05794660747051239\n",
      "Epoch : 5, Loss : 0.04622958879256621, Accuracy : 0.9856\n",
      "Batch : 0, Loss : 0.06625820696353912\n",
      "Batch : 300, Loss : 0.004618010018020868\n",
      "Batch : 600, Loss : 0.01210726611316204\n",
      "Batch : 900, Loss : 0.029132483527064323\n",
      "Batch : 1200, Loss : 0.005458553321659565\n",
      "Batch : 1500, Loss : 0.07744799554347992\n",
      "Batch : 1800, Loss : 0.0302753746509552\n",
      "Epoch : 6, Loss : 0.03999497498495039, Accuracy : 0.9884\n",
      "Batch : 0, Loss : 0.01701081171631813\n",
      "Batch : 300, Loss : 0.025593368336558342\n",
      "Batch : 600, Loss : 0.09900692105293274\n",
      "Batch : 900, Loss : 0.011633871123194695\n",
      "Batch : 1200, Loss : 0.0010011051781475544\n",
      "Batch : 1500, Loss : 0.004975336138159037\n",
      "Batch : 1800, Loss : 0.011281360872089863\n",
      "Epoch : 7, Loss : 0.046412853487394753, Accuracy : 0.985\n",
      "Batch : 0, Loss : 0.004044465720653534\n",
      "Batch : 300, Loss : 0.1502072513103485\n",
      "Batch : 600, Loss : 0.0021595594007521868\n",
      "Batch : 900, Loss : 0.0819229856133461\n",
      "Batch : 1200, Loss : 0.1796795129776001\n",
      "Batch : 1500, Loss : 0.05038668215274811\n",
      "Batch : 1800, Loss : 0.0009540240280330181\n",
      "Epoch : 8, Loss : 0.04791074877730571, Accuracy : 0.987\n",
      "Batch : 0, Loss : 0.0004994801129214466\n",
      "Batch : 300, Loss : 0.13209286332130432\n",
      "Batch : 600, Loss : 0.00047963863471522927\n",
      "Batch : 900, Loss : 0.004121560137718916\n",
      "Batch : 1200, Loss : 0.000655046256724745\n",
      "Batch : 1500, Loss : 0.008889040909707546\n",
      "Batch : 1800, Loss : 0.041938237845897675\n",
      "Epoch : 9, Loss : 0.048708626529294995, Accuracy : 0.9861\n",
      "Batch : 0, Loss : 0.029165372252464294\n",
      "Batch : 300, Loss : 0.005105042830109596\n",
      "Batch : 600, Loss : 0.28355902433395386\n",
      "Batch : 900, Loss : 0.043817806988954544\n",
      "Batch : 1200, Loss : 0.004634147509932518\n",
      "Batch : 1500, Loss : 0.013015329837799072\n",
      "Batch : 1800, Loss : 0.0012936806306242943\n",
      "Epoch : 10, Loss : 0.05740635561905801, Accuracy : 0.9839\n"
     ]
    }
   ],
   "source": [
    "# 학습 실행\n",
    "\n",
    "for epoch in range(10):\n",
    "    train(model, train_loader, optimizer) \n",
    "    loss, accuracy = evaluate(model, test_loader)\n",
    "    print(f\"Epoch : {epoch + 1}, Loss : {loss}, Accuracy : {accuracy}\")\n",
    "    # 에폭마다 validation이 어떻게 개선되는지 볼 수 있게 함. (여기선 validation따로 안 만들어서 test로 함)"
   ]
  },
  {
   "cell_type": "code",
   "execution_count": 23,
   "metadata": {},
   "outputs": [
    {
     "data": {
      "text/plain": [
       "(0.05625466647148132, 0.9839)"
      ]
     },
     "execution_count": 23,
     "metadata": {},
     "output_type": "execute_result"
    }
   ],
   "source": [
    "# 최종적인 작업\n",
    "\n",
    "evaluate(model, test_loader)\n",
    "# "
   ]
  },
  {
   "cell_type": "code",
   "execution_count": null,
   "metadata": {},
   "outputs": [],
   "source": []
  }
 ],
 "metadata": {
  "kernelspec": {
   "display_name": "human-dl-env2",
   "language": "python",
   "name": "python3"
  },
  "language_info": {
   "codemirror_mode": {
    "name": "ipython",
    "version": 3
   },
   "file_extension": ".py",
   "mimetype": "text/x-python",
   "name": "python",
   "nbconvert_exporter": "python",
   "pygments_lexer": "ipython3",
   "version": "3.9.21"
  }
 },
 "nbformat": 4,
 "nbformat_minor": 2
}
