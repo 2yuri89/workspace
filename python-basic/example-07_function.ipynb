{
 "cells": [
  {
   "cell_type": "code",
   "execution_count": 6,
   "metadata": {},
   "outputs": [
    {
     "name": "stdout",
     "output_type": "stream",
     "text": [
      "********************\n",
      "*                  *\n",
      "*                  *\n",
      "*                  *\n",
      "*                  *\n",
      "*                  *\n",
      "*                  *\n",
      "*                  *\n",
      "*                  *\n",
      "********************\n"
     ]
    }
   ],
   "source": [
    "for y in range(10):\n",
    "    for x in range(20):\n",
    "        if (x == 0) or (x == 20 - 1) or (y == 0) or (y == 10 - 1):  # () 안 해도 됌\n",
    "            print(\"*\", end = \"\")\n",
    "        else:\n",
    "            print(\" \", end = \"\")\n",
    "    print()"
   ]
  },
  {
   "cell_type": "markdown",
   "metadata": {},
   "source": [
    "함수 만들기"
   ]
  },
  {
   "cell_type": "code",
   "execution_count": 7,
   "metadata": {},
   "outputs": [],
   "source": [
    "# 가로 20, 세로 10 고정\n",
    "def draw_box():\n",
    "    for y in range(10):\n",
    "        for x in range(20):\n",
    "            if (x == 0) or (x == 20 - 1) or (y == 0) or (y == 10 - 1):\n",
    "                print(\"*\", end = \"\")\n",
    "            else:\n",
    "                print(\" \", end = \"\")\n",
    "        print()"
   ]
  },
  {
   "cell_type": "code",
   "execution_count": 10,
   "metadata": {},
   "outputs": [
    {
     "name": "stdout",
     "output_type": "stream",
     "text": [
      "********************\n",
      "*                  *\n",
      "*                  *\n",
      "*                  *\n",
      "*                  *\n",
      "*                  *\n",
      "*                  *\n",
      "*                  *\n",
      "*                  *\n",
      "********************\n",
      "********************\n",
      "*                  *\n",
      "*                  *\n",
      "*                  *\n",
      "*                  *\n",
      "*                  *\n",
      "*                  *\n",
      "*                  *\n",
      "*                  *\n",
      "********************\n"
     ]
    }
   ],
   "source": [
    "# 함수 호출 : 함수 실행\n",
    "draw_box()\n",
    "draw_box()"
   ]
  },
  {
   "cell_type": "markdown",
   "metadata": {},
   "source": [
    "함수 유연하게 사용하기"
   ]
  },
  {
   "cell_type": "code",
   "execution_count": 35,
   "metadata": {},
   "outputs": [],
   "source": [
    "def draw_box2(w, h, c): # c, w, h가 전달 인자 (함수를 호출하는 쪽에서 제공하는 데이터)\n",
    "    for y in range(h):\n",
    "        for x in range(w):\n",
    "            if (x == 0) or (x == w - 1) or (y == 0) or (y == h - 1):\n",
    "                print(c, end = \"\")\n",
    "            else:\n",
    "                print(\" \", end = \"\")\n",
    "        print()"
   ]
  },
  {
   "cell_type": "code",
   "execution_count": 36,
   "metadata": {},
   "outputs": [
    {
     "name": "stdout",
     "output_type": "stream",
     "text": [
      "####################\n",
      "#                  #\n",
      "#                  #\n",
      "#                  #\n",
      "####################\n"
     ]
    }
   ],
   "source": [
    "ch, width, height = '#', 20, 5 # 함수 호출할때 전달인자 정의하기\n",
    "draw_box2(width, height, ch)"
   ]
  },
  {
   "cell_type": "code",
   "execution_count": 28,
   "metadata": {},
   "outputs": [],
   "source": [
    "def draw_box3(w, h, c = '^'): # c = '^' : 기본값, 호출할 때 제공하지 않으면 기본 값 사용\n",
    "    for y in range(h):\n",
    "        for x in range(w):\n",
    "            if (x == 0) or (x == w - 1) or (y == 0) or (y == h - 1):\n",
    "                print(c, end = \"\")\n",
    "            else:\n",
    "                print(\" \", end = \"\")\n",
    "        print()"
   ]
  },
  {
   "cell_type": "code",
   "execution_count": 34,
   "metadata": {},
   "outputs": [
    {
     "name": "stdout",
     "output_type": "stream",
     "text": [
      "^^^^^^^^^^^^^^^^^^^^^^^^^^^^^^^^^^^^^^^^\n",
      "^                                      ^\n",
      "^                                      ^\n",
      "^                                      ^\n",
      "^^^^^^^^^^^^^^^^^^^^^^^^^^^^^^^^^^^^^^^^\n",
      "########################################\n",
      "#                                      #\n",
      "#                                      #\n",
      "#                                      #\n",
      "########################################\n",
      "%%%%%%%%%%%%%%%%%%%%%%%%%%%%%%%%%%%%%%%%\n",
      "%                                      %\n",
      "%                                      %\n",
      "%                                      %\n",
      "%%%%%%%%%%%%%%%%%%%%%%%%%%%%%%%%%%%%%%%%\n"
     ]
    }
   ],
   "source": [
    "draw_box3(40, 5)        # 기본 값으로 실행 - 전달인자 순서를 알고 있어야함\n",
    "draw_box3(40, 5, '#')   # 지정된 값으로 실행 - 전달인자 순서를 알고 있어야함\n",
    "\n",
    "draw_box3(c='%', h=5, w=40) # 명명된 전달인자 : 전달인자 이름을 지정해서 데이터 전달 > 전달인자 순서 몰라도 ㅇㅋ\n",
    "# 순서 알아도 이름써주는게 가독성면에서 좋다\n"
   ]
  },
  {
   "cell_type": "code",
   "execution_count": 37,
   "metadata": {},
   "outputs": [],
   "source": [
    "# 함수가 일한 결과를 반환\n",
    "def calc(n1, n2):\n",
    "    result = n1 + n2\n",
    "    return result # return : 함수를 호출한 곳으로 함수가 생산한 값을 반환"
   ]
  },
  {
   "cell_type": "code",
   "execution_count": 38,
   "metadata": {},
   "outputs": [
    {
     "name": "stdout",
     "output_type": "stream",
     "text": [
      "30\n"
     ]
    }
   ],
   "source": [
    "r = calc(10, 20) # result의 값을 변수 r에 저장\n",
    "print(r)\n",
    "# 함수 calc호출, 함수 안의 명령을 수행, 그 결과를 r에 저장\n",
    "# 리턴은 단일 값만 반환"
   ]
  },
  {
   "cell_type": "code",
   "execution_count": 42,
   "metadata": {},
   "outputs": [],
   "source": [
    "def calc2(n1, n2):\n",
    "    return n1 + n2, n1 - n2, n1 * n2, n1 / n2 # 다중 값 반환 -> tuple로 변환해서 반환\n",
    "    # 다중 값 같지만 튜플로 변환했으므로 1개의 튜플 값임"
   ]
  },
  {
   "cell_type": "code",
   "execution_count": 43,
   "metadata": {},
   "outputs": [
    {
     "data": {
      "text/plain": [
       "(300, 100, 20000, 2.0)"
      ]
     },
     "execution_count": 43,
     "metadata": {},
     "output_type": "execute_result"
    }
   ],
   "source": [
    "r = calc2(200, 100)\n",
    "r"
   ]
  },
  {
   "cell_type": "code",
   "execution_count": 44,
   "metadata": {},
   "outputs": [
    {
     "data": {
      "text/plain": [
       "(300, 100, 20000, 2.0)"
      ]
     },
     "execution_count": 44,
     "metadata": {},
     "output_type": "execute_result"
    }
   ],
   "source": [
    "r1, r2, r3, r4 = calc2(200, 100)\n",
    "r1, r2, r3, r4"
   ]
  },
  {
   "cell_type": "code",
   "execution_count": 45,
   "metadata": {},
   "outputs": [],
   "source": [
    "def calc2(n1, n2):\n",
    "    r1, r2, r3, r4 = n1 + n2, n1 - n2, n1 * n2, n1 / n2\n",
    "    return r1, r2, r3, r4"
   ]
  },
  {
   "cell_type": "code",
   "execution_count": 46,
   "metadata": {},
   "outputs": [
    {
     "data": {
      "text/plain": [
       "(300, 100, 20000, 2.0)"
      ]
     },
     "execution_count": 46,
     "metadata": {},
     "output_type": "execute_result"
    }
   ],
   "source": [
    "# 변수가 같다 = 공간이 같다\n",
    "r1, r2, r3, r4 = calc2(200, 100)\n",
    "# 이 r1, r2, r3, r4과, 함수안의 r1, r2, r3, r4는 다른 공간이다. \n",
    "# 함수를 넘나드는 변수들은 같은 이름이라도, 다른 변수인 것!\n",
    "r1, r2, r3, r4"
   ]
  },
  {
   "cell_type": "code",
   "execution_count": 2,
   "metadata": {},
   "outputs": [],
   "source": [
    "# *args 전달인자 몇 개더라도 괜찮다.\n",
    "def f1(*args): # 호출할 때 전달되는 데이터를 모아서 리스트로 구성하는 전달인자\n",
    "    return sum(args)\n",
    "# 가변인자 배열이라고 한다."
   ]
  },
  {
   "cell_type": "code",
   "execution_count": 3,
   "metadata": {},
   "outputs": [
    {
     "name": "stdout",
     "output_type": "stream",
     "text": [
      "30\n",
      "150\n",
      "55\n"
     ]
    }
   ],
   "source": [
    "print( f1(10, 20) )\n",
    "print( f1(10, 20, 30, 40, 50) )\n",
    "print( f1(1, 2, 3, 4, 5, 6, 7, 8, 9, 10) )\n"
   ]
  },
  {
   "cell_type": "code",
   "execution_count": 18,
   "metadata": {},
   "outputs": [
    {
     "data": {
      "text/plain": [
       "21000"
      ]
     },
     "execution_count": 18,
     "metadata": {},
     "output_type": "execute_result"
    }
   ],
   "source": [
    "vr = [1000, 2000, 3000, 4000, 5000, 6000]\n",
    "# f1(vr[0], vr[1], vr[2], vr[3], vr[4], vr[5])\n",
    "f1(*vr)\n",
    "# [1000, 2000, 3000, 4000, 5000, 6000] -> 1000, 2000, 3000, 4000, 5000, 6000\n",
    "# 리스트인 전달인자 앞에 *붙이면 리스트 해체임"
   ]
  },
  {
   "cell_type": "code",
   "execution_count": 12,
   "metadata": {},
   "outputs": [],
   "source": [
    "def f2(**kwargs): # 이름=값의 목록으로 호출되는 가변 전달인자를 딕셔너리로 만드는 전달인자\n",
    "    for k, v in kwargs.items(): # items(): key, value 조합을 반환\n",
    "        print(k, v, end = ' ')\n",
    "    print()"
   ]
  },
  {
   "cell_type": "code",
   "execution_count": 13,
   "metadata": {},
   "outputs": [
    {
     "name": "stdout",
     "output_type": "stream",
     "text": [
      "a 10 b 20 c 30 \n",
      "x 100 y 200 z 300 \n",
      "p 5 q 66 r 45 \n"
     ]
    }
   ],
   "source": [
    "f2(a = 10, b = 20, c = 30)\n",
    "f2(x = 100, y = 200, z = 300)\n",
    "f2(p = 5, q = 66, r = 45)\n",
    "\n",
    "# 전달인지가, abc, xyz, pqr 근데 제 멋대로 쓰고 있는 상황\n",
    "# f1은 값만 줬지만 f2는 이름까지 멋대로 줘버림 > **사용\n"
   ]
  },
  {
   "cell_type": "code",
   "execution_count": 16,
   "metadata": {},
   "outputs": [
    {
     "name": "stdout",
     "output_type": "stream",
     "text": [
      "a 111 b 222 c 333 \n"
     ]
    }
   ],
   "source": [
    "dp = { 'a': 111, 'b': 222, 'c': 333 }\n",
    "# f2(a = dp['a'], b = dp['b'], c = dp['c'])\n",
    "f2(**dp) \n",
    "# **dp : a = dp['a'], b = dp['b'], c = dp['c'] \n",
    "# 원래 딕셔너리인 애는 key, value를 풀어냄(해체함)\n",
    "# **dp : a = 111, b = 222, c = 333 # key value를 풀어냄"
   ]
  },
  {
   "cell_type": "code",
   "execution_count": null,
   "metadata": {},
   "outputs": [],
   "source": []
  }
 ],
 "metadata": {
  "kernelspec": {
   "display_name": "human-da-env",
   "language": "python",
   "name": "python3"
  },
  "language_info": {
   "codemirror_mode": {
    "name": "ipython",
    "version": 3
   },
   "file_extension": ".py",
   "mimetype": "text/x-python",
   "name": "python",
   "nbconvert_exporter": "python",
   "pygments_lexer": "ipython3",
   "version": "3.12.7"
  }
 },
 "nbformat": 4,
 "nbformat_minor": 2
}
