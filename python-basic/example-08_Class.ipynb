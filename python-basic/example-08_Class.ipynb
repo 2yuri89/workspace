{
 "cells": [
  {
   "cell_type": "markdown",
   "metadata": {},
   "source": [
    "# 클래스"
   ]
  },
  {
   "cell_type": "code",
   "execution_count": null,
   "metadata": {},
   "outputs": [],
   "source": [
    "# 클래스 만들기\n",
    "\n",
    "class Employee:\n",
    "    '''직원 정보를 관리하는 클래스'''\n",
    "\n",
    "    def __init__(self): # __init__ : 인스턴스 만들 때 자동호출되는 함수 : 초기화 함수\n",
    "        \n",
    "        # 보통 __init__ 함수에서 변수를 만듭니다. (다른 함수에서 만드는 것 가능)\n",
    "        # # self는 Employee 클래스를 지칭\n",
    "        self.name = \"John Doe\"              # name 변수 만들기\n",
    "        self.phone = '010-6598-1247'        # phone 변수 만들기\n",
    "        self.email = 'johndoe@example.com'  # email 변수 만들기\n",
    "        \n",
    "        print('객체가 생성됩니다.')\n",
    "\n",
    "    def display(self):  # 함수, 첫 번째 전달인자는 반드시 self > class Employee를 뜻함\n",
    "        # print(\"display function\")\n",
    "        print(f\"[{self.name}][{self.phone}][{self.email}]\")"
   ]
  },
  {
   "cell_type": "code",
   "execution_count": null,
   "metadata": {},
   "outputs": [
    {
     "name": "stdout",
     "output_type": "stream",
     "text": [
      "객체가 생성됩니다.\n",
      "[John Doe][010-6598-1247][johndoe@example.com]\n",
      "객체가 생성됩니다.\n",
      "[John Doe][010-6598-1247][johndoe@example.com]\n"
     ]
    }
   ],
   "source": [
    "# 인스턴스 (객체) 만들기\n",
    "employee = Employee() # 이 때 __init__ 함수가 호출한다\n",
    "# Employee라는 클래스를 이용해서 건물 짓는 것. Employee안의 것을 사용할때는 . 찍어서 표현\n",
    "\n",
    "employee.display() # 클래스>인스턴스의 멤버에 접근할 때 dot(.) 연산자 사용\n",
    "\n",
    "employee2 = Employee()  # 1개 클래스 2개 건물 > 새로운 건물\n",
    "employee2.display()     # 다른 건물인데 같은 내용의 건물이 생김 ㅜㅜ 안의 내용은 달라야해\n",
    "# 같은 이유는 클래스 안의 변수에 저장해버려서 그렇다. 그러므로 아래처럼 해야한다."
   ]
  },
  {
   "cell_type": "code",
   "execution_count": 10,
   "metadata": {},
   "outputs": [],
   "source": [
    "# 클래스 만들기 2\n",
    "\n",
    "class Employee2:\n",
    "\n",
    "    def __init__(self, name, phone, email):\n",
    "        # 변수에 저장될 값을 클래스에서 바로 지정하지 않고 메서드의 전달인자로 받는다.\n",
    "        self.name = name\n",
    "        self.phone = phone\n",
    "        self.email = email\n",
    "\n",
    "    def display(self):\n",
    "        print(f\"[{self.name}][{self.phone}][{self.email}]\")"
   ]
  },
  {
   "cell_type": "code",
   "execution_count": null,
   "metadata": {},
   "outputs": [
    {
     "name": "stdout",
     "output_type": "stream",
     "text": [
      "[장동건][010-6523-9987][jdk@example.com]\n",
      "[김윤석][010-4215-3369][kys@emaple.com]\n",
      "[김윤석][010-5589-4477][kys@emaple.com]\n"
     ]
    }
   ],
   "source": [
    "# 인스턴스(객체) 만들기 2\n",
    "employee = Employee2(\"장동건\", '010-6523-9987', 'jdk@example.com')\n",
    "# Employee2 클래스의 name전달인자로 전달 :\"장동건\"\n",
    "# Employee2 클래스의 phone전달인자로 전달 :'010-6523-9987'\n",
    "# Employee2 클래스의 email전달인자로 전달 :'jdk@example.com'\n",
    "employee.display()  # 인스턴스의 멤버에 접근할 때 dot(.) 연산자 사용\n",
    "\n",
    "employee2 = Employee2(\"김윤석\", '010-4215-3369', 'kys@emaple.com')\n",
    "# Employee2 클래스의 name전달인자로 전달 :\"김윤석\"\n",
    "# Employee2 클래스의 phone전달인자로 전달 :'010-4215-3369'\n",
    "# Employee2 클래스의 email전달인자로 전달 :'kys@emaple.com'\n",
    "employee2.display()\n",
    "employee2.phone='010-5589-4477'     # 인스턴스 멤버 변수 값 변경\n",
    "employee2.display()"
   ]
  },
  {
   "cell_type": "markdown",
   "metadata": {},
   "source": [
    "### 디테일"
   ]
  },
  {
   "cell_type": "code",
   "execution_count": null,
   "metadata": {},
   "outputs": [],
   "source": [
    "# 클래스 만들기 3\n",
    "\n",
    "class Employee3:\n",
    "\n",
    "    empCount = 0 # 공유 변수 : 이 클래스로 만드는 모든 인스턴스가 공유하는 변수\n",
    "    # 인스턴스 10개만들면 name변수는 10개, 그러나 empCount는 1개\n",
    "\n",
    "    def __init__(self, name, phone, email):\n",
    "        # 여기는 인스턴스 마다 만드는 변수\n",
    "        self.name = name\n",
    "        self.phone = phone\n",
    "        self.email = email\n",
    "\n",
    "    def display(self):\n",
    "        print(f\"[{self.name}][{self.phone}][{self.email}]\")"
   ]
  },
  {
   "cell_type": "code",
   "execution_count": null,
   "metadata": {},
   "outputs": [
    {
     "name": "stdout",
     "output_type": "stream",
     "text": [
      "0 0\n",
      "100 100\n"
     ]
    }
   ],
   "source": [
    "# 공유 변수 테스트\n",
    "e31 = Employee3('a', 'b', 'c')\n",
    "e32 = Employee3('d', 'e', 'f')\n",
    "print(e31.empCount, e32.empCount)\n",
    "# e31.empCount = 100\n",
    "# 인스턴스의 멤버를 사용 (없으면 해당 인스턴스에 변수를 새로 만들어요) \n",
    "# > e31에 empCount가 새로 만들어진 것 > 허용되지만 권하진 않는 방법\n",
    "Employee3.empCount = 100 # 클래스의 멤버 사용\n",
    "print(e31.empCount, e32.empCount)"
   ]
  },
  {
   "cell_type": "code",
   "execution_count": 22,
   "metadata": {},
   "outputs": [],
   "source": [
    "# 클래스 만들기 3-2\n",
    "\n",
    "class Employee3:\n",
    "\n",
    "    empCount = 0 # 공유 변수 : 이 클래스로 만드는 모든 인스턴스가 공유하는 변수\n",
    "    # 인스턴스 10개만들면 name변수는 10개, 그러나 empCount는 1개\n",
    "\n",
    "    def __init__(self, name, phone, email):\n",
    "        # 여기는 인스턴스 마다 만드는 변수\n",
    "        self.name = name\n",
    "        self.phone = phone\n",
    "        self.email = email\n",
    "        Employee3.empCount += 1 # 직원 만들어질때마다 사번을 +1 하자는 것\n",
    "\n",
    "    # 메서드도 하나 더 만들기\n",
    "    def displayEmpCount(self):\n",
    "        print(f\"Employee Count: {Employee3.empCount}\")\n",
    "\n",
    "    def display(self):\n",
    "        print(f\"[{self.name}][{self.phone}][{self.email}]\")"
   ]
  },
  {
   "cell_type": "code",
   "execution_count": null,
   "metadata": {},
   "outputs": [
    {
     "name": "stdout",
     "output_type": "stream",
     "text": [
      "Employee Count: 2\n",
      "Employee Count: 2\n"
     ]
    }
   ],
   "source": [
    "# 공유 변수 테스트 2\n",
    "e33 = Employee3('a', 'b', 'c')  # empCount += 1\n",
    "e34 = Employee3('d', 'e', 'f')  # empCount += 2\n",
    "\n",
    "e33.displayEmpCount()\n",
    "e34.displayEmpCount()"
   ]
  },
  {
   "cell_type": "code",
   "execution_count": null,
   "metadata": {},
   "outputs": [],
   "source": [
    "# 클래스 만들기 3-3\n",
    "\n",
    "class Employee3:\n",
    "\n",
    "    empCount = 0\n",
    "\n",
    "    def __init__(self, name, phone, email):\n",
    "        self.name = name\n",
    "        self.phone = phone\n",
    "        self.email = email\n",
    "        Employee3.empCount += 1\n",
    "\n",
    "    def displayEmpCount(self):\n",
    "        print(f\"Employee Count: {Employee3.empCount}\")\n",
    "\n",
    "    @staticmethod   # 이 메서드는 클래스의 멤버로 만듭니다. (인스턴스의 멤버가 아닙니다.)\n",
    "    # @ 붙은것을 데코레이터라고 부르고, 이걸 붙이면 이 대상에 대해서 특별한 기능, 특별한 조건을 부여하는 것이다.\n",
    "    # @staticmethod 붙임으로써, 너는 클래스 변수다 인스턴스 변수 아님 하는 것으로 특별한 처리함\n",
    "    # 클래스 멤버 = 스태틱 멤버라고도 한다\n",
    "    def displayEmpCount2():\n",
    "        print(f\"Employee Count: {Employee3.empCount}\")\n",
    "\n",
    "    def display(self):\n",
    "        print(f\"[{self.name}][{self.phone}][{self.email}]\")"
   ]
  },
  {
   "cell_type": "code",
   "execution_count": null,
   "metadata": {},
   "outputs": [
    {
     "name": "stdout",
     "output_type": "stream",
     "text": [
      "Employee Count: 4\n",
      "Employee Count: 4\n",
      "Employee Count: 4\n"
     ]
    }
   ],
   "source": [
    "# 공유 변수 테스트 3\n",
    "e33 = Employee3('a', 'b', 'c')  # empCount += 1\n",
    "e34 = Employee3('d', 'e', 'f')  # empCount += 2\n",
    "\n",
    "e33.displayEmpCount()\n",
    "\n",
    "Employee3.displayEmpCount2()    # empCount는 공유변수이므로 객체에서 접근하기보다 클래스에서 접근하는 게 좋다.\n",
    "e34.displayEmpCount2()          # 공유변수를 인스턴스에서 접근하는게 파이썬에서는 허용하지만 타 언어에서는 불허하는 경우도 있다.\n"
   ]
  },
  {
   "cell_type": "code",
   "execution_count": null,
   "metadata": {},
   "outputs": [],
   "source": []
  }
 ],
 "metadata": {
  "kernelspec": {
   "display_name": "human-da-env",
   "language": "python",
   "name": "python3"
  },
  "language_info": {
   "codemirror_mode": {
    "name": "ipython",
    "version": 3
   },
   "file_extension": ".py",
   "mimetype": "text/x-python",
   "name": "python",
   "nbconvert_exporter": "python",
   "pygments_lexer": "ipython3",
   "version": "3.12.7"
  }
 },
 "nbformat": 4,
 "nbformat_minor": 2
}
