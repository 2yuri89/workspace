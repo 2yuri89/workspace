{
 "cells": [
  {
   "cell_type": "markdown",
   "metadata": {},
   "source": [
    "##### API 시작"
   ]
  },
  {
   "cell_type": "code",
   "execution_count": 1,
   "metadata": {},
   "outputs": [
    {
     "name": "stdout",
     "output_type": "stream",
     "text": [
      "{\n",
      "\t\"lastBuildDate\":\"Tue, 22 Oct 2024 10:16:37 +0900\",\n",
      "\t\"total\":10,\n",
      "\t\"start\":1,\n",
      "\t\"display\":10,\n",
      "\t\"items\":[\n",
      "\t\t{\n",
      "\t\t\t\"title\":\"소년이 온다 (한강 소설 l 2024년 노벨문학상 수상작가)\",\n",
      "\t\t\t\"link\":\"https:\\/\\/search.shopping.naver.com\\/book\\/catalog\\/32491401626\",\n",
      "\t\t\t\"image\":\"https:\\/\\/shopping-phinf.pstatic.net\\/main_3249140\\/32491401626.20231004072435.jpg\",\n",
      "\t\t\t\"author\":\"한강\",\n",
      "\t\t\t\"discount\":\"13500\",\n",
      "\t\t\t\"publisher\":\"창비\",\n",
      "\t\t\t\"pubdate\":\"20140519\",\n",
      "\t\t\t\"isbn\":\"9788936434120\",\n",
      "\t\t\t\"description\":\"말라파르테 문학상, 만해문학상 수상작 \\n우리 시대의 소설 『소년이 온다』\\n\\n2014년 만해문학상, 2017년 이탈리아 말라파르테 문학상을 수상하고 전세계 20여개국에 번역 출간되며 세계를 사로잡은 우리 시대의 소설 『소년이 온다』.\\n이 작품은 『채식주의자』로 인터내셔널 부커상을 수상한 한강 작가에게 “눈을 뗄 수 없는, 보편적이며 깊은 울림”(뉴욕타임즈), “역사와 인간의 본질을 다룬 충격적이고 도발적인 소설”(가디언), “한강을 뛰어넘은 한강의 소설”(문학평론가 신형철)이라는 찬사를 선사한 작품으로, 그간 많은 독자들에게 광주의 상처를 깨우치고 함께 아파하는 문학적인 헌사로 높은 관심과 찬사를 받아왔다. \\n『소년이 온다』는 ‘상처의 구조에 대한 투시와 천착의 서사’를 통해 한강만이 풀어낼 수 있는 방식으로 1980년 5월을 새롭게 조명하며, 무고한 영혼들의 말을 대신 전하는 듯한 진심 어린 문장들로 5·18 이후를 살고 있는 우리에게 묵직한 질문을 던진다. \\n이 작품은 가장 한국적인 서사로 세계를 사로잡은 한강 문학의 지향점을 보여준다. 인간의 잔혹함과 위대함을 동시에 증언하는 이 충일한 서사는 이렇듯 시공간의 한계를 넘어 인간 역사의 보편성을 보여주며 훼손되지 말아야 할 인간성을 절박하게 복원한다.\"\n",
      "\t\t},\n",
      "\t\t{\n",
      "\t\t\t\"title\":\"소년이 온다 1(큰글자도서) (한강 소설ㅣ2024년 노벨문학상 수상작가)\",\n",
      "\t\t\t\"link\":\"https:\\/\\/search.shopping.naver.com\\/book\\/catalog\\/32497276947\",\n",
      "\t\t\t\"image\":\"https:\\/\\/shopping-phinf.pstatic.net\\/main_3249727\\/32497276947.20240815214654.jpg\",\n",
      "\t\t\t\"author\":\"한강\",\n",
      "\t\t\t\"discount\":\"18050\",\n",
      "\t\t\t\"publisher\":\"창비\",\n",
      "\t\t\t\"pubdate\":\"20170220\",\n",
      "\t\t\t\"isbn\":\"9788936473235\",\n",
      "\t\t\t\"description\":\"『소년이 온다』를 큰글자로 제작한 책으로 소설 전체 중 전반부의 내용을 담고 있습니다.\\n\\n한강을 뛰어넘은 한강의 소설\\n\\n섬세한 감수성과 치밀한 문장으로 인간 존재의 본질을 탐구해온 작가 한강의 여섯번째 장편소설 『소년이 온다』가 출간되었다. 1980년 광주의 5월을 다뤄 창비문학블로그 '창문'에 연재할 당시(2013년 11월~2014년 1월)부터 독자들의 이목을 끌었던 열다섯살 소년의 이야기는 '상처의 구조에 대한 투시와 천착의 서사'를 통해 한강만이 풀어낼 수 있는 방식으로 1980년 5월을 새롭게 조명한다. 한강은 무고한 영혼들의 말을 대신 전하는 듯한 진심 어린 문장들로 어느덧 그 시절을 잊고 무심하게 5ㆍ18 이후를 살고 있는 우리에게 묵직한 질문을 던지고, 여전히 5ㆍ18의 트라우마를 안고 힘겹게 살아가는 사람들을 위무한다. 『소년이 온다』는 광주민주화운동 당시 계엄군에 맞서 싸우던 중학생 동호를 비롯한 주변 인물들과 그후 남겨진 사람들의 고통받는 내면을 생생하게 그려내고, 당시의 처절한 장면들을 핍진하게 묘사하며 지금 \\\"우리가 '붙들어야 할' 역사적 기억이 무엇인지를 절실하게 환기하고 있다(백지연 평론가).\\\" \\\"이 소설을 피해갈 수 없었\\\"고, \\\"이 소설을 통과하지 않고는 어디로도 갈 수 없다고 느꼈\\\"다는 작가 스스로의 고백처럼 이 소설은 소설가 한강의 지금까지의 작품세계를 한단계 끌어올리는, \\\"한강을 뛰어넘은 한강의 소설(신형철 평론가)\\\"이라고 자신 있게 말할 수 있는 작품이다.\"\n",
      "\t\t},\n",
      "\t\t{\n",
      "\t\t\t\"title\":\"소년이 온다 2(큰글자도서) (2024년 노벨문학상 수상작가)\",\n",
      "\t\t\t\"link\":\"https:\\/\\/search.shopping.naver.com\\/book\\/catalog\\/32489353871\",\n",
      "\t\t\t\"image\":\"https:\\/\\/shopping-phinf.pstatic.net\\/main_3248935\\/32489353871.20230725121201.jpg\",\n",
      "\t\t\t\"author\":\"한강\",\n",
      "\t\t\t\"discount\":\"18050\",\n",
      "\t\t\t\"publisher\":\"창비\",\n",
      "\t\t\t\"pubdate\":\"20170220\",\n",
      "\t\t\t\"isbn\":\"9788936473242\",\n",
      "\t\t\t\"description\":\"『소년이 온다』를 큰글자로 제작한 책으로 소설 전체 중 후반부의 내용을 담고 있습니다.\\n\\n한강을 뛰어넘은 한강의 소설\\n\\n섬세한 감수성과 치밀한 문장으로 인간 존재의 본질을 탐구해온 작가 한강의 여섯번째 장편소설 『소년이 온다』가 출간되었다. 1980년 광주의 5월을 다뤄 창비문학블로그 '창문'에 연재할 당시(2013년 11월~2014년 1월)부터 독자들의 이목을 끌었던 열다섯살 소년의 이야기는 '상처의 구조에 대한 투시와 천착의 서사'를 통해 한강만이 풀어낼 수 있는 방식으로 1980년 5월을 새롭게 조명한다. 한강은 무고한 영혼들의 말을 대신 전하는 듯한 진심 어린 문장들로 어느덧 그 시절을 잊고 무심하게 5ㆍ18 이후를 살고 있는 우리에게 묵직한 질문을 던지고, 여전히 5ㆍ18의 트라우마를 안고 힘겹게 살아가는 사람들을 위무한다. 『소년이 온다』는 광주민주화운동 당시 계엄군에 맞서 싸우던 중학생 동호를 비롯한 주변 인물들과 그후 남겨진 사람들의 고통받는 내면을 생생하게 그려내고, 당시의 처절한 장면들을 핍진하게 묘사하며 지금 \\\"우리가 '붙들어야 할' 역사적 기억이 무엇인지를 절실하게 환기하고 있다(백지연 평론가).\\\" \\\"이 소설을 피해갈 수 없었\\\"고, \\\"이 소설을 통과하지 않고는 어디로도 갈 수 없다고 느꼈\\\"다는 작가 스스로의 고백처럼 이 소설은 소설가 한강의 지금까지의 작품세계를 한단계 끌어올리는, \\\"한강을 뛰어넘은 한강의 소설(신형철 평론가)\\\"이라고 자신 있게 말할 수 있는 작품이다.\"\n",
      "\t\t},\n",
      "\t\t{\n",
      "\t\t\t\"title\":\"Human Acts 한강 작가『소년이 온다』 영문판 (영국판) (소년이 온다)\",\n",
      "\t\t\t\"link\":\"https:\\/\\/search.shopping.naver.com\\/book\\/catalog\\/32480599219\",\n",
      "\t\t\t\"image\":\"https:\\/\\/shopping-phinf.pstatic.net\\/main_3248059\\/32480599219.20221229070927.jpg\",\n",
      "\t\t\t\"author\":\"한강\",\n",
      "\t\t\t\"discount\":\"8500\",\n",
      "\t\t\t\"publisher\":\"Granta Books\",\n",
      "\t\t\t\"pubdate\":\"20161103\",\n",
      "\t\t\t\"isbn\":\"9781846275975\",\n",
      "\t\t\t\"description\":\"WINNER OF THE 2024 NOBEL PRIZE IN LITERATURE: a riveting, poetic and unrelentingly powerful work from the author of the 2016 Man Booker International Prize-winning novel The Vegetarian\\n\\nA riveting, poetic and powerful work from the author of the International Booker Prize-winning novel The Vegetarian.\\n\\n'Exquisite, painful and deeply courageous' Philippe Sands, Best Books of the Year, Guardian\\n\\nGwangju, South Korea, 1980. Amid a violent student uprising a young boy named Dong-ho is killed. As his friend searches for Dong-ho's corpse, we also meet an editor struggling against censorship, a prisoner and a factory worker, each suffering from traumatic memories, and Dong-ho's grief-stricken mother. Through their collective heartbreak and acts of hope comes a tale of a brutalised people in search of a voice.\\n\\nA modern classic, Human Acts has been both a controversial bestseller and an award-winning book in Korea, and it confirmed Han Kang as a writer of international importance.\\n\\n'[Han Kang's] way of telling about the events of a 10-day insurgency in Gwangju, South Korea in 1980 and its psychological, spiritual and political aftermath opened my eyes' Susie Orbach, Best Books of the Year, Guardian\"\n",
      "\t\t},\n",
      "\t\t{\n",
      "\t\t\t\"title\":\"Human Acts  한강 작가『소년이 온다』 영문판 (미국판) (소년이 온다)\",\n",
      "\t\t\t\"link\":\"https:\\/\\/search.shopping.naver.com\\/book\\/catalog\\/32483273624\",\n",
      "\t\t\t\"image\":\"https:\\/\\/shopping-phinf.pstatic.net\\/main_3248327\\/32483273624.20221229071529.jpg\",\n",
      "\t\t\t\"author\":\"한강\",\n",
      "\t\t\t\"discount\":\"10000\",\n",
      "\t\t\t\"publisher\":\"Hogarth Press\",\n",
      "\t\t\t\"pubdate\":\"20171017\",\n",
      "\t\t\t\"isbn\":\"9781101906743\",\n",
      "\t\t\t\"description\":\"From the internationally bestselling author of The Vegetarian, a \\\"rare and astonishing\\\" (The Observer) portrait of political unrest and the universal struggle for justice.\\n\\nIn the midst of a violent student uprising in South Korea, a young boy named Dong-ho is shockingly killed.\\nThe story of this tragic episode unfolds in a sequence of interconnected chapters as the victims and the bereaved encounter suppression, denial, and the echoing agony of the massacre. From Dong-ho's best friend who meets his own fateful end; to an editor struggling against censorship; to a prisoner and a factory worker, each suffering from traumatic memories; and to Dong-ho's own grief-stricken mother; and through their collective heartbreak and acts of hope is the tale of a brutalized people in search of a voice.\\nAn award-winning, controversial bestseller, Human Acts is a timeless, pointillist portrait of an historic event with reverberations still being felt today, by turns tracing the harsh reality of oppression and the resounding, extraordinary poetry of humanity.\\nShortlisted for the International Dublin Literary Award\\nAmazon, 100 Best Books of 2017\\nThe Atlantic, \\\"The Best Books We Read in 2017\\\"\\nSan Francisco Chronicle, \\\"Best of 2017: 100 Recommended Books\\\"\\nNPR Book Concierge, 2017's Great Reads\\nLibrary Journal, \\\"Best Books of 2017\\\"\\nHuffington Post, \\\"Best Fiction Books of 2017\\\"\\nMedium, Kong Tsung-gan's \\\"Best Human Rights Books of 2017\\\"\"\n",
      "\t\t},\n",
      "\t\t{\n",
      "\t\t\t\"title\":\"소년이 온다(특별한정판) (한강 소설ㅣ2024년 노벨문학상 수상작가)\",\n",
      "\t\t\t\"link\":\"https:\\/\\/search.shopping.naver.com\\/book\\/catalog\\/32491820253\",\n",
      "\t\t\t\"image\":\"https:\\/\\/shopping-phinf.pstatic.net\\/main_3249182\\/32491820253.20220527025601.jpg\",\n",
      "\t\t\t\"author\":\"한강\",\n",
      "\t\t\t\"discount\":\"0\",\n",
      "\t\t\t\"publisher\":\"창비\",\n",
      "\t\t\t\"pubdate\":\"20200424\",\n",
      "\t\t\t\"isbn\":\"9788936434410\",\n",
      "\t\t\t\"description\":\"고통스럽게 되살려낸 5월 광주\\n\\n한국인 최초 맨부커상 수상작가 한강의 여섯 번째 장편소설 『소년이 온다』. 1980년 5월 18일부터 열흘간 있었던 광주민주화운동 당시의 상황과 그 이후 남겨진 사람들의 이야기를 들려주는 소설이다. 2013년 11월부터 2014년 1월까지 창비문학블로그 ‘창문’에서 연재했던 작품으로 지금까지의 작품세계를 한 단계 끌어올렸다는 평가를 받았다. 철저한 고증과 취재를 통해 저자 특유의 정교하고도 밀도 있는 문장으로 계엄군에 맞서 싸우다 죽음을 맞게 된 중학생 동호와 주변 인물들의 고통 받는 내면을 생생하게 그려냈다.\\n\\n중학교 3학년이던 소년 동호는 친구 정대의 죽음을 목격한 이후 도청 상무관에서 시신들을 관리하는 일을 돕게 된다. 매일같이 합동분향소가 있는 상무관으로 들어오는 시신들을 수습하며 주검들의 말 없는 혼을 위로하기 위해 초를 밝히던 그는 시신들 사이에서 친구 정대의 처참한 죽음을 떠올리며 괴로워한다.\\n\\n그리고 그날, 돌아오라는 엄마와 돌아가라는 형, 누나들의 말을 듣지 않고 동호는 도청에 남는다. 동호와 함께 상무관에서 일하던 형과 누나들은 5·18 이후 경찰에 연행되어 끔찍한 고문을 받으며 살아 있다는 것을 치욕스러운 고통으로 여기거나 일상을 회복할 수 없는 무력감에 빠진다. 저자는 5·18 당시 숨죽이며 고통 받았던 인물들의 숨겨진 이야기를 들려주며 그들의 아픔을 어루만진다. 2017년 이탈리아의 권위 있는 문학상인 말라파르테상 수상작으로 선정되었다.\"\n",
      "\t\t},\n",
      "\t\t{\n",
      "\t\t\t\"title\":\"少年來了【新裝紀念版】 『소년이 온다』 대만판\",\n",
      "\t\t\t\"link\":\"https:\\/\\/search.shopping.naver.com\\/book\\/catalog\\/50836523621\",\n",
      "\t\t\t\"image\":\"https:\\/\\/shopping-phinf.pstatic.net\\/main_5083652\\/50836523621.20241014145503.jpg\",\n",
      "\t\t\t\"author\":\"한강\",\n",
      "\t\t\t\"discount\":\"28900\",\n",
      "\t\t\t\"publisher\":\"漫遊者文化 AzothBooks\",\n",
      "\t\t\t\"pubdate\":\"20230619\",\n",
      "\t\t\t\"isbn\":\"9789864897865\",\n",
      "\t\t\t\"description\":\"한강을 뛰어넘은 한강의 소설\\n억울한 영혼들의 말을 대신 전하는 오월의 노래\\n\\n섬세한 감수성과 치밀한 문장으로 인간 존재의 본질을 탐구해온 작가 한강의 여섯번째 장편소설이다. 1980년 광주의 5월을 다뤄 독자들의 이목을 끌었던 열다섯살 소년의 이야기는 '상처의 구조에 대한 투시와 천착의 서사'를 통해 한강만이 풀어낼 수 있는 방식으로 1980년 5월을 새롭게 조명한다.\\n\\n한강은 무고한 영혼들의 말을 대신 전하는 듯한 진심 어린 문장들로 어느덧 그 시절을 잊고 무심하게 5·18 이후를 살고 있는 우리에게 묵직한 질문을 던지고, 여전히 5·18의 트라우마를 안고 힘겹게 살아가는 사람들을 위무한다.\"\n",
      "\t\t},\n",
      "\t\t{\n",
      "\t\t\t\"title\":\"Celui Qui Revient (한강 - 소년이 온다 프랑스어)\",\n",
      "\t\t\t\"link\":\"https:\\/\\/search.shopping.naver.com\\/book\\/catalog\\/50805045624\",\n",
      "\t\t\t\"image\":\"https:\\/\\/shopping-phinf.pstatic.net\\/main_5080504\\/50805045624.20241012082752.jpg\",\n",
      "\t\t\t\"author\":\"Han Kang\",\n",
      "\t\t\t\"discount\":\"9800\",\n",
      "\t\t\t\"publisher\":\"Points\",\n",
      "\t\t\t\"pubdate\":\"20170824\",\n",
      "\t\t\t\"isbn\":\"9782757868867\",\n",
      "\t\t\t\"description\":\"En ce printemps 1980, un vent de terreur souffle sur la Corée du Sud. La révolte de Gwangju se solde par un massacre sans nom. Dans la ville meurtrie, Tongho erre parmi les cadavres, à la recherche de son ami disparu. Dans une maison d'édition, Kim travaille sur un texte censuré. Dans l'au-delà, Chongdae part retrouver les siens. Et toutes ces âmes tourmentées ne demandent qu'à trouver la paix.\"\n",
      "\t\t},\n",
      "\t\t{\n",
      "\t\t\t\"title\":\"Atti umani (2024 노벨문학상 수상작가 한강 『소년이 온다』 이탈리아어판)\",\n",
      "\t\t\t\"link\":\"https:\\/\\/search.shopping.naver.com\\/book\\/catalog\\/46643001631\",\n",
      "\t\t\t\"image\":\"https:\\/\\/shopping-phinf.pstatic.net\\/main_4664300\\/46643001631.20241015151141.jpg\",\n",
      "\t\t\t\"author\":\"한강\",\n",
      "\t\t\t\"discount\":\"20000\",\n",
      "\t\t\t\"publisher\":\"Adelphi\",\n",
      "\t\t\t\"pubdate\":\"20230505\",\n",
      "\t\t\t\"isbn\":\"9788845937873\",\n",
      "\t\t\t\"description\":\"Una palestra comunale, decine di cadaveri che saturano l’aria di un \\\"orribile tanfo putrido\\\". Siamo a Gwangju, in Corea del Sud, nel maggio 1980: dopo il colpo di Stato di Chun Doo-hwan, in tutto il paese vige la legge marziale. Quando i militari hanno aperto il fuoco su un corteo di protesta è iniziata l’insurrezione, seguita da brutali rappresaglie; \\\"Atti umani\\\" è il coro polifonico dei vivi e dei morti di una carneficina mai veramente narrata in Occidente. Conosciamo il quindicenne Dong-ho, alla ricerca di un amico scomparso; Eun-sook, la redattrice che ha assaggiato il \\\"rullo inchiostratore\\\" della censura e i \\\"sette schiaffi\\\" di un interrogatorio; l’anonimo prigioniero che ha avuto la sfortuna di sopravvivere; la giovane operaia calpestata a sangue da un poliziotto in borghese. Dopo il massacro, ancora anni di carcere, sevizie, delazioni, dinieghi; al volgere del millennio stentate aperture, parziali ammissioni, tardive commemorazioni. Han Kang, con il terso, spietato lirismo della sua scrittura, scruta tante vite dilaniate, racconta oggi l’indicibile, le laceranti dissonanze di un passato che si voleva cancellato.\"\n",
      "\t\t},\n",
      "\t\t{\n",
      "\t\t\t\"title\":\"Human Acts 한강 작가『소년이 온다』 영문판 (영국판)\",\n",
      "\t\t\t\"link\":\"https:\\/\\/search.shopping.naver.com\\/book\\/catalog\\/50797348627\",\n",
      "\t\t\t\"image\":\"https:\\/\\/shopping-phinf.pstatic.net\\/main_5079734\\/50797348627.20241011201607.jpg\",\n",
      "\t\t\t\"author\":\"한강\",\n",
      "\t\t\t\"discount\":\"0\",\n",
      "\t\t\t\"publisher\":\"Granta Books\",\n",
      "\t\t\t\"pubdate\":\"\",\n",
      "\t\t\t\"isbn\":\"9781803512037\",\n",
      "\t\t\t\"description\":\"한강을 뛰어넘은 한강의 소설\\n억울한 영혼들의 말을 대신 전하는 오월의 노래\\n\\n섬세한 감수성과 치밀한 문장으로 인간 존재의 본질을 탐구해온 작가 한강의 여섯번째 장편소설이다. 1980년 광주의 5월을 다뤄 독자들의 이목을 끌었던 열다섯살 소년의 이야기는 '상처의 구조에 대한 투시와 천착의 서사'를 통해 한강만이 풀어낼 수 있는 방식으로 1980년 5월을 새롭게 조명한다.\\n\\n한강은 무고한 영혼들의 말을 대신 전하는 듯한 진심 어린 문장들로 어느덧 그 시절을 잊고 무심하게 5·18 이후를 살고 있는 우리에게 묵직한 질문을 던지고, 여전히 5·18의 트라우마를 안고 힘겹게 살아가는 사람들을 위무한다.\"\n",
      "\t\t}\n",
      "\t]\n",
      "}\n"
     ]
    }
   ],
   "source": [
    "# 네이버 검색 API 예제 - 블로그 검색\n",
    "import os\n",
    "import sys\n",
    "import urllib.request\n",
    "client_id = \"ZbUpN1joJ5SzDquoVzm9\"\n",
    "client_secret = \"7Q6FQ64qWW\"\n",
    "encText = urllib.parse.quote(\"소년이온다\")\n",
    "url = \"https://openapi.naver.com/v1/search/book.json?query={0}&display={1}\".format(encText, 50) # JSON 결과\n",
    "request = urllib.request.Request(url)\n",
    "request.add_header(\"X-Naver-Client-Id\",client_id)\n",
    "request.add_header(\"X-Naver-Client-Secret\",client_secret)\n",
    "response = urllib.request.urlopen(request)\n",
    "rescode = response.getcode()\n",
    "if(rescode==200):\n",
    "    response_body = response.read()\n",
    "    print(response_body.decode('utf-8'))\n",
    "else:\n",
    "    print(\"Error Code:\" + rescode)"
   ]
  },
  {
   "cell_type": "code",
   "execution_count": 3,
   "metadata": {},
   "outputs": [
    {
     "data": {
      "text/plain": [
       "'%EC%86%8C%EB%85%84%EC%9D%B4%EC%98%A8%EB%8B%A4'"
      ]
     },
     "execution_count": 3,
     "metadata": {},
     "output_type": "execute_result"
    }
   ],
   "source": [
    "urllib.parse.quote(\"소년이온다\")"
   ]
  },
  {
   "cell_type": "code",
   "execution_count": 4,
   "metadata": {},
   "outputs": [
    {
     "data": {
      "text/plain": [
       "'1번 테스트, 2번 연습'"
      ]
     },
     "execution_count": 4,
     "metadata": {},
     "output_type": "execute_result"
    }
   ],
   "source": [
    "'1번 {0}, 2번 {1}'.format('테스트', '연습')"
   ]
  },
  {
   "cell_type": "code",
   "execution_count": 2,
   "metadata": {},
   "outputs": [
    {
     "name": "stdout",
     "output_type": "stream",
     "text": [
      "{\n",
      "\t\"lastBuildDate\":\"Tue, 22 Oct 2024 10:17:23 +0900\",\n",
      "\t\"total\":10,\n",
      "\t\"start\":1,\n",
      "\t\"display\":10,\n",
      "\t\"items\":[\n",
      "\t\t{\n",
      "\t\t\t\"title\":\"소년이 온다 (한강 소설 l 2024년 노벨문학상 수상작가)\",\n",
      "\t\t\t\"link\":\"https:\\/\\/search.shopping.naver.com\\/book\\/catalog\\/32491401626\",\n",
      "\t\t\t\"image\":\"https:\\/\\/shopping-phinf.pstatic.net\\/main_3249140\\/32491401626.20231004072435.jpg\",\n",
      "\t\t\t\"author\":\"한강\",\n",
      "\t\t\t\"discount\":\"13500\",\n",
      "\t\t\t\"publisher\":\"창비\",\n",
      "\t\t\t\"pubdate\":\"20140519\",\n",
      "\t\t\t\"isbn\":\"9788936434120\",\n",
      "\t\t\t\"description\":\"말라파르테 문학상, 만해문학상 수상작 \\n우리 시대의 소설 『소년이 온다』\\n\\n2014년 만해문학상, 2017년 이탈리아 말라파르테 문학상을 수상하고 전세계 20여개국에 번역 출간되며 세계를 사로잡은 우리 시대의 소설 『소년이 온다』.\\n이 작품은 『채식주의자』로 인터내셔널 부커상을 수상한 한강 작가에게 “눈을 뗄 수 없는, 보편적이며 깊은 울림”(뉴욕타임즈), “역사와 인간의 본질을 다룬 충격적이고 도발적인 소설”(가디언), “한강을 뛰어넘은 한강의 소설”(문학평론가 신형철)이라는 찬사를 선사한 작품으로, 그간 많은 독자들에게 광주의 상처를 깨우치고 함께 아파하는 문학적인 헌사로 높은 관심과 찬사를 받아왔다. \\n『소년이 온다』는 ‘상처의 구조에 대한 투시와 천착의 서사’를 통해 한강만이 풀어낼 수 있는 방식으로 1980년 5월을 새롭게 조명하며, 무고한 영혼들의 말을 대신 전하는 듯한 진심 어린 문장들로 5·18 이후를 살고 있는 우리에게 묵직한 질문을 던진다. \\n이 작품은 가장 한국적인 서사로 세계를 사로잡은 한강 문학의 지향점을 보여준다. 인간의 잔혹함과 위대함을 동시에 증언하는 이 충일한 서사는 이렇듯 시공간의 한계를 넘어 인간 역사의 보편성을 보여주며 훼손되지 말아야 할 인간성을 절박하게 복원한다.\"\n",
      "\t\t},\n",
      "\t\t{\n",
      "\t\t\t\"title\":\"소년이 온다 1(큰글자도서) (한강 소설ㅣ2024년 노벨문학상 수상작가)\",\n",
      "\t\t\t\"link\":\"https:\\/\\/search.shopping.naver.com\\/book\\/catalog\\/32497276947\",\n",
      "\t\t\t\"image\":\"https:\\/\\/shopping-phinf.pstatic.net\\/main_3249727\\/32497276947.20240815214654.jpg\",\n",
      "\t\t\t\"author\":\"한강\",\n",
      "\t\t\t\"discount\":\"18050\",\n",
      "\t\t\t\"publisher\":\"창비\",\n",
      "\t\t\t\"pubdate\":\"20170220\",\n",
      "\t\t\t\"isbn\":\"9788936473235\",\n",
      "\t\t\t\"description\":\"『소년이 온다』를 큰글자로 제작한 책으로 소설 전체 중 전반부의 내용을 담고 있습니다.\\n\\n한강을 뛰어넘은 한강의 소설\\n\\n섬세한 감수성과 치밀한 문장으로 인간 존재의 본질을 탐구해온 작가 한강의 여섯번째 장편소설 『소년이 온다』가 출간되었다. 1980년 광주의 5월을 다뤄 창비문학블로그 '창문'에 연재할 당시(2013년 11월~2014년 1월)부터 독자들의 이목을 끌었던 열다섯살 소년의 이야기는 '상처의 구조에 대한 투시와 천착의 서사'를 통해 한강만이 풀어낼 수 있는 방식으로 1980년 5월을 새롭게 조명한다. 한강은 무고한 영혼들의 말을 대신 전하는 듯한 진심 어린 문장들로 어느덧 그 시절을 잊고 무심하게 5ㆍ18 이후를 살고 있는 우리에게 묵직한 질문을 던지고, 여전히 5ㆍ18의 트라우마를 안고 힘겹게 살아가는 사람들을 위무한다. 『소년이 온다』는 광주민주화운동 당시 계엄군에 맞서 싸우던 중학생 동호를 비롯한 주변 인물들과 그후 남겨진 사람들의 고통받는 내면을 생생하게 그려내고, 당시의 처절한 장면들을 핍진하게 묘사하며 지금 \\\"우리가 '붙들어야 할' 역사적 기억이 무엇인지를 절실하게 환기하고 있다(백지연 평론가).\\\" \\\"이 소설을 피해갈 수 없었\\\"고, \\\"이 소설을 통과하지 않고는 어디로도 갈 수 없다고 느꼈\\\"다는 작가 스스로의 고백처럼 이 소설은 소설가 한강의 지금까지의 작품세계를 한단계 끌어올리는, \\\"한강을 뛰어넘은 한강의 소설(신형철 평론가)\\\"이라고 자신 있게 말할 수 있는 작품이다.\"\n",
      "\t\t},\n",
      "\t\t{\n",
      "\t\t\t\"title\":\"소년이 온다 2(큰글자도서) (2024년 노벨문학상 수상작가)\",\n",
      "\t\t\t\"link\":\"https:\\/\\/search.shopping.naver.com\\/book\\/catalog\\/32489353871\",\n",
      "\t\t\t\"image\":\"https:\\/\\/shopping-phinf.pstatic.net\\/main_3248935\\/32489353871.20230725121201.jpg\",\n",
      "\t\t\t\"author\":\"한강\",\n",
      "\t\t\t\"discount\":\"18050\",\n",
      "\t\t\t\"publisher\":\"창비\",\n",
      "\t\t\t\"pubdate\":\"20170220\",\n",
      "\t\t\t\"isbn\":\"9788936473242\",\n",
      "\t\t\t\"description\":\"『소년이 온다』를 큰글자로 제작한 책으로 소설 전체 중 후반부의 내용을 담고 있습니다.\\n\\n한강을 뛰어넘은 한강의 소설\\n\\n섬세한 감수성과 치밀한 문장으로 인간 존재의 본질을 탐구해온 작가 한강의 여섯번째 장편소설 『소년이 온다』가 출간되었다. 1980년 광주의 5월을 다뤄 창비문학블로그 '창문'에 연재할 당시(2013년 11월~2014년 1월)부터 독자들의 이목을 끌었던 열다섯살 소년의 이야기는 '상처의 구조에 대한 투시와 천착의 서사'를 통해 한강만이 풀어낼 수 있는 방식으로 1980년 5월을 새롭게 조명한다. 한강은 무고한 영혼들의 말을 대신 전하는 듯한 진심 어린 문장들로 어느덧 그 시절을 잊고 무심하게 5ㆍ18 이후를 살고 있는 우리에게 묵직한 질문을 던지고, 여전히 5ㆍ18의 트라우마를 안고 힘겹게 살아가는 사람들을 위무한다. 『소년이 온다』는 광주민주화운동 당시 계엄군에 맞서 싸우던 중학생 동호를 비롯한 주변 인물들과 그후 남겨진 사람들의 고통받는 내면을 생생하게 그려내고, 당시의 처절한 장면들을 핍진하게 묘사하며 지금 \\\"우리가 '붙들어야 할' 역사적 기억이 무엇인지를 절실하게 환기하고 있다(백지연 평론가).\\\" \\\"이 소설을 피해갈 수 없었\\\"고, \\\"이 소설을 통과하지 않고는 어디로도 갈 수 없다고 느꼈\\\"다는 작가 스스로의 고백처럼 이 소설은 소설가 한강의 지금까지의 작품세계를 한단계 끌어올리는, \\\"한강을 뛰어넘은 한강의 소설(신형철 평론가)\\\"이라고 자신 있게 말할 수 있는 작품이다.\"\n",
      "\t\t},\n",
      "\t\t{\n",
      "\t\t\t\"title\":\"Human Acts 한강 작가『소년이 온다』 영문판 (영국판) (소년이 온다)\",\n",
      "\t\t\t\"link\":\"https:\\/\\/search.shopping.naver.com\\/book\\/catalog\\/32480599219\",\n",
      "\t\t\t\"image\":\"https:\\/\\/shopping-phinf.pstatic.net\\/main_3248059\\/32480599219.20221229070927.jpg\",\n",
      "\t\t\t\"author\":\"한강\",\n",
      "\t\t\t\"discount\":\"8500\",\n",
      "\t\t\t\"publisher\":\"Granta Books\",\n",
      "\t\t\t\"pubdate\":\"20161103\",\n",
      "\t\t\t\"isbn\":\"9781846275975\",\n",
      "\t\t\t\"description\":\"WINNER OF THE 2024 NOBEL PRIZE IN LITERATURE: a riveting, poetic and unrelentingly powerful work from the author of the 2016 Man Booker International Prize-winning novel The Vegetarian\\n\\nA riveting, poetic and powerful work from the author of the International Booker Prize-winning novel The Vegetarian.\\n\\n'Exquisite, painful and deeply courageous' Philippe Sands, Best Books of the Year, Guardian\\n\\nGwangju, South Korea, 1980. Amid a violent student uprising a young boy named Dong-ho is killed. As his friend searches for Dong-ho's corpse, we also meet an editor struggling against censorship, a prisoner and a factory worker, each suffering from traumatic memories, and Dong-ho's grief-stricken mother. Through their collective heartbreak and acts of hope comes a tale of a brutalised people in search of a voice.\\n\\nA modern classic, Human Acts has been both a controversial bestseller and an award-winning book in Korea, and it confirmed Han Kang as a writer of international importance.\\n\\n'[Han Kang's] way of telling about the events of a 10-day insurgency in Gwangju, South Korea in 1980 and its psychological, spiritual and political aftermath opened my eyes' Susie Orbach, Best Books of the Year, Guardian\"\n",
      "\t\t},\n",
      "\t\t{\n",
      "\t\t\t\"title\":\"Human Acts  한강 작가『소년이 온다』 영문판 (미국판) (소년이 온다)\",\n",
      "\t\t\t\"link\":\"https:\\/\\/search.shopping.naver.com\\/book\\/catalog\\/32483273624\",\n",
      "\t\t\t\"image\":\"https:\\/\\/shopping-phinf.pstatic.net\\/main_3248327\\/32483273624.20221229071529.jpg\",\n",
      "\t\t\t\"author\":\"한강\",\n",
      "\t\t\t\"discount\":\"10000\",\n",
      "\t\t\t\"publisher\":\"Hogarth Press\",\n",
      "\t\t\t\"pubdate\":\"20171017\",\n",
      "\t\t\t\"isbn\":\"9781101906743\",\n",
      "\t\t\t\"description\":\"From the internationally bestselling author of The Vegetarian, a \\\"rare and astonishing\\\" (The Observer) portrait of political unrest and the universal struggle for justice.\\n\\nIn the midst of a violent student uprising in South Korea, a young boy named Dong-ho is shockingly killed.\\nThe story of this tragic episode unfolds in a sequence of interconnected chapters as the victims and the bereaved encounter suppression, denial, and the echoing agony of the massacre. From Dong-ho's best friend who meets his own fateful end; to an editor struggling against censorship; to a prisoner and a factory worker, each suffering from traumatic memories; and to Dong-ho's own grief-stricken mother; and through their collective heartbreak and acts of hope is the tale of a brutalized people in search of a voice.\\nAn award-winning, controversial bestseller, Human Acts is a timeless, pointillist portrait of an historic event with reverberations still being felt today, by turns tracing the harsh reality of oppression and the resounding, extraordinary poetry of humanity.\\nShortlisted for the International Dublin Literary Award\\nAmazon, 100 Best Books of 2017\\nThe Atlantic, \\\"The Best Books We Read in 2017\\\"\\nSan Francisco Chronicle, \\\"Best of 2017: 100 Recommended Books\\\"\\nNPR Book Concierge, 2017's Great Reads\\nLibrary Journal, \\\"Best Books of 2017\\\"\\nHuffington Post, \\\"Best Fiction Books of 2017\\\"\\nMedium, Kong Tsung-gan's \\\"Best Human Rights Books of 2017\\\"\"\n",
      "\t\t},\n",
      "\t\t{\n",
      "\t\t\t\"title\":\"소년이 온다(특별한정판) (한강 소설ㅣ2024년 노벨문학상 수상작가)\",\n",
      "\t\t\t\"link\":\"https:\\/\\/search.shopping.naver.com\\/book\\/catalog\\/32491820253\",\n",
      "\t\t\t\"image\":\"https:\\/\\/shopping-phinf.pstatic.net\\/main_3249182\\/32491820253.20220527025601.jpg\",\n",
      "\t\t\t\"author\":\"한강\",\n",
      "\t\t\t\"discount\":\"0\",\n",
      "\t\t\t\"publisher\":\"창비\",\n",
      "\t\t\t\"pubdate\":\"20200424\",\n",
      "\t\t\t\"isbn\":\"9788936434410\",\n",
      "\t\t\t\"description\":\"고통스럽게 되살려낸 5월 광주\\n\\n한국인 최초 맨부커상 수상작가 한강의 여섯 번째 장편소설 『소년이 온다』. 1980년 5월 18일부터 열흘간 있었던 광주민주화운동 당시의 상황과 그 이후 남겨진 사람들의 이야기를 들려주는 소설이다. 2013년 11월부터 2014년 1월까지 창비문학블로그 ‘창문’에서 연재했던 작품으로 지금까지의 작품세계를 한 단계 끌어올렸다는 평가를 받았다. 철저한 고증과 취재를 통해 저자 특유의 정교하고도 밀도 있는 문장으로 계엄군에 맞서 싸우다 죽음을 맞게 된 중학생 동호와 주변 인물들의 고통 받는 내면을 생생하게 그려냈다.\\n\\n중학교 3학년이던 소년 동호는 친구 정대의 죽음을 목격한 이후 도청 상무관에서 시신들을 관리하는 일을 돕게 된다. 매일같이 합동분향소가 있는 상무관으로 들어오는 시신들을 수습하며 주검들의 말 없는 혼을 위로하기 위해 초를 밝히던 그는 시신들 사이에서 친구 정대의 처참한 죽음을 떠올리며 괴로워한다.\\n\\n그리고 그날, 돌아오라는 엄마와 돌아가라는 형, 누나들의 말을 듣지 않고 동호는 도청에 남는다. 동호와 함께 상무관에서 일하던 형과 누나들은 5·18 이후 경찰에 연행되어 끔찍한 고문을 받으며 살아 있다는 것을 치욕스러운 고통으로 여기거나 일상을 회복할 수 없는 무력감에 빠진다. 저자는 5·18 당시 숨죽이며 고통 받았던 인물들의 숨겨진 이야기를 들려주며 그들의 아픔을 어루만진다. 2017년 이탈리아의 권위 있는 문학상인 말라파르테상 수상작으로 선정되었다.\"\n",
      "\t\t},\n",
      "\t\t{\n",
      "\t\t\t\"title\":\"少年來了【新裝紀念版】 『소년이 온다』 대만판\",\n",
      "\t\t\t\"link\":\"https:\\/\\/search.shopping.naver.com\\/book\\/catalog\\/50836523621\",\n",
      "\t\t\t\"image\":\"https:\\/\\/shopping-phinf.pstatic.net\\/main_5083652\\/50836523621.20241014145503.jpg\",\n",
      "\t\t\t\"author\":\"한강\",\n",
      "\t\t\t\"discount\":\"28900\",\n",
      "\t\t\t\"publisher\":\"漫遊者文化 AzothBooks\",\n",
      "\t\t\t\"pubdate\":\"20230619\",\n",
      "\t\t\t\"isbn\":\"9789864897865\",\n",
      "\t\t\t\"description\":\"한강을 뛰어넘은 한강의 소설\\n억울한 영혼들의 말을 대신 전하는 오월의 노래\\n\\n섬세한 감수성과 치밀한 문장으로 인간 존재의 본질을 탐구해온 작가 한강의 여섯번째 장편소설이다. 1980년 광주의 5월을 다뤄 독자들의 이목을 끌었던 열다섯살 소년의 이야기는 '상처의 구조에 대한 투시와 천착의 서사'를 통해 한강만이 풀어낼 수 있는 방식으로 1980년 5월을 새롭게 조명한다.\\n\\n한강은 무고한 영혼들의 말을 대신 전하는 듯한 진심 어린 문장들로 어느덧 그 시절을 잊고 무심하게 5·18 이후를 살고 있는 우리에게 묵직한 질문을 던지고, 여전히 5·18의 트라우마를 안고 힘겹게 살아가는 사람들을 위무한다.\"\n",
      "\t\t},\n",
      "\t\t{\n",
      "\t\t\t\"title\":\"Celui Qui Revient (한강 - 소년이 온다 프랑스어)\",\n",
      "\t\t\t\"link\":\"https:\\/\\/search.shopping.naver.com\\/book\\/catalog\\/50805045624\",\n",
      "\t\t\t\"image\":\"https:\\/\\/shopping-phinf.pstatic.net\\/main_5080504\\/50805045624.20241012082752.jpg\",\n",
      "\t\t\t\"author\":\"Han Kang\",\n",
      "\t\t\t\"discount\":\"9800\",\n",
      "\t\t\t\"publisher\":\"Points\",\n",
      "\t\t\t\"pubdate\":\"20170824\",\n",
      "\t\t\t\"isbn\":\"9782757868867\",\n",
      "\t\t\t\"description\":\"En ce printemps 1980, un vent de terreur souffle sur la Corée du Sud. La révolte de Gwangju se solde par un massacre sans nom. Dans la ville meurtrie, Tongho erre parmi les cadavres, à la recherche de son ami disparu. Dans une maison d'édition, Kim travaille sur un texte censuré. Dans l'au-delà, Chongdae part retrouver les siens. Et toutes ces âmes tourmentées ne demandent qu'à trouver la paix.\"\n",
      "\t\t},\n",
      "\t\t{\n",
      "\t\t\t\"title\":\"Atti umani (2024 노벨문학상 수상작가 한강 『소년이 온다』 이탈리아어판)\",\n",
      "\t\t\t\"link\":\"https:\\/\\/search.shopping.naver.com\\/book\\/catalog\\/46643001631\",\n",
      "\t\t\t\"image\":\"https:\\/\\/shopping-phinf.pstatic.net\\/main_4664300\\/46643001631.20241015151141.jpg\",\n",
      "\t\t\t\"author\":\"한강\",\n",
      "\t\t\t\"discount\":\"20000\",\n",
      "\t\t\t\"publisher\":\"Adelphi\",\n",
      "\t\t\t\"pubdate\":\"20230505\",\n",
      "\t\t\t\"isbn\":\"9788845937873\",\n",
      "\t\t\t\"description\":\"Una palestra comunale, decine di cadaveri che saturano l’aria di un \\\"orribile tanfo putrido\\\". Siamo a Gwangju, in Corea del Sud, nel maggio 1980: dopo il colpo di Stato di Chun Doo-hwan, in tutto il paese vige la legge marziale. Quando i militari hanno aperto il fuoco su un corteo di protesta è iniziata l’insurrezione, seguita da brutali rappresaglie; \\\"Atti umani\\\" è il coro polifonico dei vivi e dei morti di una carneficina mai veramente narrata in Occidente. Conosciamo il quindicenne Dong-ho, alla ricerca di un amico scomparso; Eun-sook, la redattrice che ha assaggiato il \\\"rullo inchiostratore\\\" della censura e i \\\"sette schiaffi\\\" di un interrogatorio; l’anonimo prigioniero che ha avuto la sfortuna di sopravvivere; la giovane operaia calpestata a sangue da un poliziotto in borghese. Dopo il massacro, ancora anni di carcere, sevizie, delazioni, dinieghi; al volgere del millennio stentate aperture, parziali ammissioni, tardive commemorazioni. Han Kang, con il terso, spietato lirismo della sua scrittura, scruta tante vite dilaniate, racconta oggi l’indicibile, le laceranti dissonanze di un passato che si voleva cancellato.\"\n",
      "\t\t},\n",
      "\t\t{\n",
      "\t\t\t\"title\":\"Human Acts 한강 작가『소년이 온다』 영문판 (영국판)\",\n",
      "\t\t\t\"link\":\"https:\\/\\/search.shopping.naver.com\\/book\\/catalog\\/50797348627\",\n",
      "\t\t\t\"image\":\"https:\\/\\/shopping-phinf.pstatic.net\\/main_5079734\\/50797348627.20241011201607.jpg\",\n",
      "\t\t\t\"author\":\"한강\",\n",
      "\t\t\t\"discount\":\"0\",\n",
      "\t\t\t\"publisher\":\"Granta Books\",\n",
      "\t\t\t\"pubdate\":\"\",\n",
      "\t\t\t\"isbn\":\"9781803512037\",\n",
      "\t\t\t\"description\":\"한강을 뛰어넘은 한강의 소설\\n억울한 영혼들의 말을 대신 전하는 오월의 노래\\n\\n섬세한 감수성과 치밀한 문장으로 인간 존재의 본질을 탐구해온 작가 한강의 여섯번째 장편소설이다. 1980년 광주의 5월을 다뤄 독자들의 이목을 끌었던 열다섯살 소년의 이야기는 '상처의 구조에 대한 투시와 천착의 서사'를 통해 한강만이 풀어낼 수 있는 방식으로 1980년 5월을 새롭게 조명한다.\\n\\n한강은 무고한 영혼들의 말을 대신 전하는 듯한 진심 어린 문장들로 어느덧 그 시절을 잊고 무심하게 5·18 이후를 살고 있는 우리에게 묵직한 질문을 던지고, 여전히 5·18의 트라우마를 안고 힘겹게 살아가는 사람들을 위무한다.\"\n",
      "\t\t}\n",
      "\t]\n",
      "}\n"
     ]
    }
   ],
   "source": [
    "import os\n",
    "import sys\n",
    "import urllib.request # 웹 요청을 전송하고 응답을 수신하는 모듈 (브라우저 역할)\n",
    "\n",
    "# 서버로 전송하는 데이터\n",
    "client_id = \"ZbUpN1joJ5SzDquoVzm9\"\n",
    "client_secret = \"7Q6FQ64qWW\"\n",
    "encText = urllib.parse.quote(\"소년이온다\")\n",
    "\n",
    "# get 방식 전송 데이터 구성\n",
    "url = \"https://openapi.naver.com/v1/search/book.json?query={0}&display={1}\".format(encText, 50) # JSON 결과\n",
    "request = urllib.request.Request(url)\n",
    "\n",
    "# header에 전송 데이터 저장\n",
    "request.add_header(\"X-Naver-Client-Id\",client_id)\n",
    "request.add_header(\"X-Naver-Client-Secret\",client_secret)\n",
    "\n",
    "response = urllib.request.urlopen(request) # 요청 보내기 + 응답 수신\n",
    "\n",
    "rescode = response.getcode() # 응답코드 읽기\n",
    "if(rescode==200): # 정상 응답이라면\n",
    "    response_body = response.read() # 응답 데이터 읽기\n",
    "    print(response_body.decode('utf-8')) # binary 데이터를 text 데이터로 변환 여기서는 utf-8\n",
    "else:\n",
    "    print(\"Error Code:\" + rescode) #200번이 아니라면 에러코드를 표시해라\n"
   ]
  },
  {
   "cell_type": "code",
   "execution_count": 5,
   "metadata": {},
   "outputs": [],
   "source": [
    "text_response = response_body.decode('utf-8')"
   ]
  },
  {
   "cell_type": "code",
   "execution_count": 7,
   "metadata": {},
   "outputs": [
    {
     "data": {
      "text/plain": [
       "str"
      ]
     },
     "execution_count": 7,
     "metadata": {},
     "output_type": "execute_result"
    }
   ],
   "source": [
    "type(  text_response  ) # 내가 쓰는 데이터 형식 확인"
   ]
  },
  {
   "cell_type": "markdown",
   "metadata": {},
   "source": [
    "##### json -> dict 변환"
   ]
  },
  {
   "cell_type": "code",
   "execution_count": 15,
   "metadata": {},
   "outputs": [
    {
     "name": "stdout",
     "output_type": "stream",
     "text": [
      "<class 'dict'>\n",
      "<class 'list'>\n",
      "1. 소년이 온다 (한강 소설 l 2024년 노벨문학상 수상작가)\n",
      "2. 소년이 온다 1(큰글자도서) (한강 소설ㅣ2024년 노벨문학상 수상작가)\n",
      "3. 소년이 온다 2(큰글자도서) (2024년 노벨문학상 수상작가)\n",
      "4. Human Acts 한강 작가『소년이 온다』 영문판 (영국판) (소년이 온다)\n",
      "5. Human Acts  한강 작가『소년이 온다』 영문판 (미국판) (소년이 온다)\n",
      "6. 소년이 온다(특별한정판) (한강 소설ㅣ2024년 노벨문학상 수상작가)\n",
      "7. 少年來了【新裝紀念版】 『소년이 온다』 대만판\n",
      "8. Celui Qui Revient (한강 - 소년이 온다 프랑스어)\n",
      "9. Atti umani (2024 노벨문학상 수상작가 한강 『소년이 온다』 이탈리아어판)\n",
      "10. Human Acts 한강 작가『소년이 온다』 영문판 (영국판)\n"
     ]
    }
   ],
   "source": [
    "# json str -> dict\n",
    "import json\n",
    "\n",
    "dict_response = json.loads(text_response) # loads가 스트링 문자열을 변환\n",
    "\n",
    "print(type(dict_response))\n",
    "dict_response\n",
    "# print( dict_response )\n",
    "\n",
    "print(type(dict_response['items']))\n",
    "# for item in dict_response['items']:\n",
    "for idx, item in enumerate(dict_response['items']):\n",
    "    # print(type(item))\n",
    "    print(\"{0}. {1}\".format(idx + 1, item['title']))"
   ]
  },
  {
   "cell_type": "markdown",
   "metadata": {},
   "source": [
    "##### 리스트에 담기"
   ]
  },
  {
   "cell_type": "code",
   "execution_count": 16,
   "metadata": {},
   "outputs": [
    {
     "name": "stdout",
     "output_type": "stream",
     "text": [
      "['소년이 온다 (한강 소설 l 2024년 노벨문학상 수상작가)', '소년이 온다 1(큰글자도서) (한강 소설ㅣ2024년 노벨문학상 수상작가)', '소년이 온다 2(큰글자도서) (2024년 노벨문학상 수상작가)', 'Human Acts 한강 작가『소년이 온다』 영문판 (영국판) (소년이 온다)', 'Human Acts  한강 작가『소년이 온다』 영문판 (미국판) (소년이 온다)', '소년이 온다(특별한정판) (한강 소설ㅣ2024년 노벨문학상 수상작가)', '少年來了【新裝紀念版】 『소년이 온다』 대만판', 'Celui Qui Revient (한강 - 소년이 온다 프랑스어)', 'Atti umani (2024 노벨문학상 수상작가 한강 『소년이 온다』 이탈리아어판)', 'Human Acts 한강 작가『소년이 온다』 영문판 (영국판)']\n"
     ]
    }
   ],
   "source": [
    "# 리스트에 담아보는 작업\n",
    "titles = []\n",
    "for idx, item in enumerate(dict_response['items']):\n",
    "    # print(type(item))\n",
    "    titles.append(item['title'])\n",
    "\n",
    "print(titles)"
   ]
  },
  {
   "cell_type": "code",
   "execution_count": 18,
   "metadata": {},
   "outputs": [
    {
     "name": "stdout",
     "output_type": "stream",
     "text": [
      "['소년이 온다 (한강 소설 l 2024년 노벨문학상 수상작가)', '소년이 온다 1(큰글자도서) (한강 소설ㅣ2024년 노벨문학상 수상작가)', '소년이 온다 2(큰글자도서) (2024년 노벨문학상 수상작가)', 'Human Acts 한강 작가『소년이 온다』 영문판 (영국판) (소년이 온다)', 'Human Acts  한강 작가『소년이 온다』 영문판 (미국판) (소년이 온다)', '소년이 온다(특별한정판) (한강 소설ㅣ2024년 노벨문학상 수상작가)', '少年來了【新裝紀念版】 『소년이 온다』 대만판', 'Celui Qui Revient (한강 - 소년이 온다 프랑스어)', 'Atti umani (2024 노벨문학상 수상작가 한강 『소년이 온다』 이탈리아어판)', 'Human Acts 한강 작가『소년이 온다』 영문판 (영국판)']\n"
     ]
    }
   ],
   "source": [
    "# 리스트에 담아보는 작업\n",
    "# 위를 더 간결하게 표현(같은 결과)\n",
    "\n",
    "titles = [ item['title'] for item in dict_response['items']]\n",
    "# items는 딕셔너리의 문법으로 이걸 쓰면 키 값을 불러온다.\n",
    "# 키가 items라서 'items'의 값을 불러옴\n",
    "print(titles)"
   ]
  },
  {
   "cell_type": "code",
   "execution_count": 20,
   "metadata": {},
   "outputs": [
    {
     "name": "stdout",
     "output_type": "stream",
     "text": [
      "abc\n",
      "abc\n"
     ]
    }
   ],
   "source": [
    "# 이런게 딕셔너리\n",
    "# dict는 key:value로 이뤄져있음. 보통 value만 가지고 작업함. \n",
    "# list라면, \n",
    "# lv = ['abc', 'xyz', 'pqr']로 값만 저장함.\n",
    "# dic은 값에대한 식별자를 붙임.\n",
    "\n",
    "lv = ['abc', 'xyz', 'pqr']\n",
    "dv = { 1: 'abc', 2: 'xyz', 3: 'qpr'}\n",
    "\n",
    "print(lv[0]) # list에서 데이터 읽기(순서 번호가 0인 애를 불러오기)\n",
    "print(dv[1]) # dict에서 데이터 읽기(키가 1인 데이터의 값 불러오기)"
   ]
  },
  {
   "cell_type": "code",
   "execution_count": 23,
   "metadata": {},
   "outputs": [
    {
     "name": "stdout",
     "output_type": "stream",
     "text": [
      "abc\n",
      "abc\n",
      "abc\n",
      "dict_keys(['lastBuildDate', 'total', 'start', 'display', 'items'])\n"
     ]
    }
   ],
   "source": [
    "# 이런게 딕셔너리\n",
    "# dict는 key:value로 이뤄져있음. 보통 value만 가지고 작업함. \n",
    "# list라면, \n",
    "# lv = ['abc', 'xyz', 'pqr']로 값만 저장함.\n",
    "# dic은 값에대한 식별자를 붙임.\n",
    "\n",
    "lv = ['abc', 'xyz', 'pqr']\n",
    "dv = { 1: 'abc', 2: 'xyz', 3: 'qpr'}\n",
    "dv2 = {'11':'abc', '22':'xyz', '33':'pqr'}\n",
    "\n",
    "print( lv[0] ) # list에서 데이터 읽기(순서 번호가 0인 애를 불러오기)\n",
    "print( dv[1] ) # dict에서 데이터 읽기(키가 1인 데이터의 값 불러오기)\n",
    "print( dv2['11'] ) \n",
    "print( dict_response.keys() )\n",
    "# 해당 코드의 결과가 dict_keys(['lastBuildDate', 'total', 'start', 'display', 'items'])\n",
    "# 이게 해당 dict의 키를 뽑아내는걸로, 여기보면 items가 있음.\n"
   ]
  },
  {
   "cell_type": "code",
   "execution_count": 25,
   "metadata": {},
   "outputs": [
    {
     "name": "stdout",
     "output_type": "stream",
     "text": [
      "Defaulting to user installation because normal site-packages is not writeable\n",
      "Collecting pandas\n",
      "  Using cached pandas-2.2.3-cp312-cp312-win_amd64.whl.metadata (19 kB)\n",
      "Collecting numpy>=1.26.0 (from pandas)\n",
      "  Using cached numpy-2.1.2-cp312-cp312-win_amd64.whl.metadata (59 kB)\n",
      "Requirement already satisfied: python-dateutil>=2.8.2 in c:\\users\\human\\appdata\\roaming\\python\\python312\\site-packages (from pandas) (2.9.0.post0)\n",
      "Collecting pytz>=2020.1 (from pandas)\n",
      "  Using cached pytz-2024.2-py2.py3-none-any.whl.metadata (22 kB)\n",
      "Collecting tzdata>=2022.7 (from pandas)\n",
      "  Using cached tzdata-2024.2-py2.py3-none-any.whl.metadata (1.4 kB)\n",
      "Requirement already satisfied: six>=1.5 in c:\\users\\human\\appdata\\roaming\\python\\python312\\site-packages (from python-dateutil>=2.8.2->pandas) (1.16.0)\n",
      "Using cached pandas-2.2.3-cp312-cp312-win_amd64.whl (11.5 MB)\n",
      "Using cached numpy-2.1.2-cp312-cp312-win_amd64.whl (12.6 MB)\n",
      "Using cached pytz-2024.2-py2.py3-none-any.whl (508 kB)\n",
      "Using cached tzdata-2024.2-py2.py3-none-any.whl (346 kB)\n",
      "Installing collected packages: pytz, tzdata, numpy, pandas\n",
      "Successfully installed numpy-2.1.2 pandas-2.2.3 pytz-2024.2 tzdata-2024.2\n"
     ]
    },
    {
     "name": "stderr",
     "output_type": "stream",
     "text": [
      "ERROR: pip's dependency resolver does not currently take into account all the packages that are installed. This behaviour is the source of the following dependency conflicts.\n",
      "keras 3.6.0 requires h5py, which is not installed.\n",
      "keras 3.6.0 requires rich, which is not installed.\n",
      "tensorflow-hub 0.16.1 requires protobuf>=3.19.6, which is not installed.\n",
      "tensorflow-intel 2.17.0 requires h5py>=3.10.0, which is not installed.\n",
      "tensorflow-intel 2.17.0 requires protobuf!=4.21.0,!=4.21.1,!=4.21.2,!=4.21.3,!=4.21.4,!=4.21.5,<5.0.0dev,>=3.20.3, which is not installed.\n",
      "tensorflow-intel 2.17.0 requires tensorboard<2.18,>=2.17, which is not installed.\n",
      "tensorflow-intel 2.17.0 requires typing-extensions>=3.6.6, which is not installed.\n",
      "tensorflow-intel 2.17.0 requires wrapt>=1.11.0, which is not installed.\n",
      "tensorflow-intel 2.17.0 requires numpy<2.0.0,>=1.26.0; python_version >= \"3.12\", but you have numpy 2.1.2 which is incompatible.\n"
     ]
    }
   ],
   "source": [
    "! pip install pandas\n",
    "# 따로 써주는게 좋음"
   ]
  },
  {
   "cell_type": "markdown",
   "metadata": {},
   "source": [
    "##### DataFrame 변환"
   ]
  },
  {
   "cell_type": "code",
   "execution_count": 29,
   "metadata": {},
   "outputs": [
    {
     "name": "stdout",
     "output_type": "stream",
     "text": [
      "<class 'pandas.core.frame.DataFrame'>\n"
     ]
    }
   ],
   "source": [
    "import pandas as pd\n",
    "\n",
    "df_response = pd.DataFrame(dict_response['items']) # 데이터 프레임으로 변환\n",
    "print( type(df_response) ) # 데이터 타입 확인 -> 변환되에서 df로 바뀜."
   ]
  },
  {
   "cell_type": "code",
   "execution_count": null,
   "metadata": {},
   "outputs": [],
   "source": []
  }
 ],
 "metadata": {
  "kernelspec": {
   "display_name": "human-da-env",
   "language": "python",
   "name": "python3"
  },
  "language_info": {
   "codemirror_mode": {
    "name": "ipython",
    "version": 3
   },
   "file_extension": ".py",
   "mimetype": "text/x-python",
   "name": "python",
   "nbconvert_exporter": "python",
   "pygments_lexer": "ipython3",
   "version": "3.12.7"
  }
 },
 "nbformat": 4,
 "nbformat_minor": 2
}
