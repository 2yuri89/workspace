{
 "cells": [
  {
   "cell_type": "code",
   "execution_count": 76,
   "metadata": {},
   "outputs": [
    {
     "name": "stdout",
     "output_type": "stream",
     "text": [
      "hello python !!!\n"
     ]
    }
   ],
   "source": [
    "print(\"hello python !!!\")"
   ]
  },
  {
   "cell_type": "code",
   "execution_count": 77,
   "metadata": {},
   "outputs": [
    {
     "name": "stdout",
     "output_type": "stream",
     "text": [
      "abc abc abc abc abc abc abc abc abc abc \n",
      "[1, 2, 3, 1, 2, 3, 1, 2, 3, 1, 2, 3, 1, 2, 3, 1, 2, 3, 1, 2, 3, 1, 2, 3, 1, 2, 3, 1, 2, 3]\n"
     ]
    }
   ],
   "source": [
    "print(\"abc \" * 10)\n",
    "print([1, 2, 3] * 10)"
   ]
  },
  {
   "cell_type": "code",
   "execution_count": 1,
   "metadata": {},
   "outputs": [
    {
     "name": "stdout",
     "output_type": "stream",
     "text": [
      "numbers2 [10, 20, 30, 40, 50, 60, 70, 80, 90, 100]\n",
      "numbers3 [10, 20, 30, 40, 50, 60, 70, 80, 90, 100]\n"
     ]
    }
   ],
   "source": [
    "# numbers 각 요소에 10을 곱한 값의 리스트 만들기\n",
    "numbers = [1, 2, 3, 4, 5, 6, 7, 8, 9, 10] \n",
    "\n",
    "numbers2 = []\n",
    "for n in numbers:\n",
    "# n은 이 자체가 변수 선언이다!\n",
    "    numbers2.append(n * 10)\n",
    "\n",
    "print('numbers2', numbers2)\n",
    "\n",
    "numbers3 = [  n * 10 for n in numbers  ]\n",
    "print(\"numbers3\", numbers3)"
   ]
  },
  {
   "cell_type": "code",
   "execution_count": 26,
   "metadata": {},
   "outputs": [
    {
     "name": "stdout",
     "output_type": "stream",
     "text": [
      "[10, 30, 50, 70, 90]\n",
      "[10, 30, 50, 70, 90]\n"
     ]
    }
   ],
   "source": [
    "# numbers 짝수 번째 요소에 10을 곱한 값의 리스트 만들기\n",
    "numbers = [1, 2, 3, 4, 5, 6, 7, 8, 9, 10] \n",
    "\n",
    "numbers2 = []\n",
    "for idx, n in enumerate(numbers):\n",
    "    if idx % 2 == 0:\n",
    "        numbers2.append(n * 10)\n",
    "print(numbers2)\n",
    "\n",
    "numbers3 = [n * 10 for idx, n in enumerate(numbers) if idx % 2 == 0]\n",
    "print(numbers3)"
   ]
  },
  {
   "cell_type": "markdown",
   "metadata": {},
   "source": [
    "##### 로또 번호 추출"
   ]
  },
  {
   "cell_type": "code",
   "execution_count": 27,
   "metadata": {},
   "outputs": [],
   "source": [
    "# 로또 번호 추출기\n",
    "# 규칙 1. 1 ~ 45 사이, 난수추출, 중복 불허용, 6개 뽑기\n",
    "# 규칙 2. 6개 뽑기 - 뽑은 숫자의 평균은 20 ~ 26 사이 (범위를 벗어나면 1부터 다시)\n",
    "# 뽑은 숫자들의 평균계산, 이 계산을 10만회 반복 - 이 평균은 중심극한의정리에 의해 정규 분포가 나옴."
   ]
  },
  {
   "cell_type": "code",
   "execution_count": 30,
   "metadata": {},
   "outputs": [
    {
     "name": "stdout",
     "output_type": "stream",
     "text": [
      "14\n",
      "0 1 2 3 4 5 "
     ]
    }
   ],
   "source": [
    "# 난수 뽑기\n",
    "import random\n",
    "print( random.randint(1, 46) ) # 이 범위 안에서 난수 발생\n",
    "\n",
    "# 6번 반복하는 작업\n",
    "for i in range(6):\n",
    "    print(i, end=' ')"
   ]
  },
  {
   "cell_type": "code",
   "execution_count": 55,
   "metadata": {},
   "outputs": [
    {
     "name": "stdout",
     "output_type": "stream",
     "text": [
      "[4, 43, 14, 29, 22, 45]\n",
      "[4, 14, 22, 29, 43, 45]\n"
     ]
    }
   ],
   "source": [
    "# 6개의 난수 뽑기\n",
    "import random\n",
    "numbers = range(1, 46)          # 1~45 연속된 수를 numbers 변수에 저장\n",
    "a = random.sample(numbers, 6)   # 1~45 수 중 6개의 랜덤한 수를 추출해서 a 변수에 저장\n",
    "print(a)                        # 6개 숫자 출력\n",
    "sor_a = sorted(a)               # a를 오름차순 정렬\n",
    "print(sor_a)                    # 정렬된 숫자 출력"
   ]
  },
  {
   "cell_type": "markdown",
   "metadata": {},
   "source": [
    "##### 선생님의 정답"
   ]
  },
  {
   "cell_type": "code",
   "execution_count": 57,
   "metadata": {},
   "outputs": [
    {
     "name": "stdout",
     "output_type": "stream",
     "text": [
      "[14, 23, 20, 28, 42, 21]\n"
     ]
    }
   ],
   "source": [
    "# 선생님의 정답\n",
    "import random\n",
    "numbers = [] # 뽑은 번호를 저장할 리스트 변수\n",
    "for idx in range(6):        # 6회 반복\n",
    "    # random.randint(45)      # 0~44 까지 뽑음\n",
    "    number = random.randint(1, 45)   # 1~45 까지 뽑음.\n",
    "    numbers.append(number)\n",
    "\n",
    "print(numbers)\n",
    "\n",
    "# 이 경우 중복을 막을 수 없음.= 중복 가능"
   ]
  },
  {
   "cell_type": "code",
   "execution_count": 64,
   "metadata": {},
   "outputs": [
    {
     "name": "stdout",
     "output_type": "stream",
     "text": [
      "[3, 1, 2, 37, 28, 9]\n"
     ]
    }
   ],
   "source": [
    "# 선생님의 정답 - 중복해결 ver.1\n",
    "# 뽑으면서 중복 체크하기 = 중복 불가능\n",
    "import random\n",
    "\n",
    "numbers = [] # 뽑은 번호를 저장할 리스트 변수\n",
    "while True:\n",
    "    number = random.randint(1, 45)\n",
    "    if number not in numbers:\n",
    "        numbers.append(number)\n",
    "\n",
    "    if len(numbers) == 6:\n",
    "        break\n",
    "\n",
    "print(numbers)"
   ]
  },
  {
   "cell_type": "code",
   "execution_count": 65,
   "metadata": {},
   "outputs": [
    {
     "name": "stdout",
     "output_type": "stream",
     "text": [
      "[36, 44, 40, 27, 14, 37]\n"
     ]
    }
   ],
   "source": [
    "# 선생님의 정답 - 중복해결 ver.2\n",
    "# 뽑으면서 중복 나오면 처음 부터 다시 뽑기 = 중복 불가능\n",
    "import random\n",
    "\n",
    "numbers = [] # 뽑은 번호를 저장할 리스트 변수\n",
    "while True:\n",
    "    number = random.randint(1, 45)\n",
    "    if number not in numbers:\n",
    "        numbers.append(number)\n",
    "    else:\n",
    "        numbers = []    # 중복이 발생하면 처음부터 다시 뽑기\n",
    "\n",
    "    if len(numbers) == 6:\n",
    "        break\n",
    "\n",
    "print(numbers)"
   ]
  },
  {
   "cell_type": "markdown",
   "metadata": {},
   "source": [
    "##### 로또 - 중복해결"
   ]
  },
  {
   "cell_type": "code",
   "execution_count": 70,
   "metadata": {},
   "outputs": [
    {
     "name": "stdout",
     "output_type": "stream",
     "text": [
      "[22, 39, 14, 1, 2, 28]\n"
     ]
    }
   ],
   "source": [
    "# 선생님의 정답 - 중복해결 ver.2\n",
    "# 뽑으면서 중복 나오면 처음 부터 다시 뽑기 = 중복 불가능\n",
    "import random\n",
    "\n",
    "numbers = [] # 뽑은 번호를 저장할 리스트 변수\n",
    "while True:\n",
    "    number = random.randint(1, 45)\n",
    "    if number not in numbers:\n",
    "        numbers.append(number)\n",
    "\n",
    "    if len(numbers) == 6:\n",
    "        break\n",
    "\n",
    "mean = sum(numbers) / len(numbers)  # 6개 숫자의 평균 구하기\n",
    "if mean < 20 or mean > 26:  # 평균이 20보다 작고 26보다 크다면\n",
    "    # 처음부터 다시\n",
    "    pass\n",
    "\n",
    "print(numbers)"
   ]
  },
  {
   "cell_type": "code",
   "execution_count": 72,
   "metadata": {},
   "outputs": [
    {
     "name": "stdout",
     "output_type": "stream",
     "text": [
      "[2, 10, 22, 28, 30, 31] 20.5\n"
     ]
    }
   ],
   "source": [
    "# 선생님의 정답 - 중복해결 ver.2\n",
    "# 뽑으면서 중복 나오면 처음 부터 다시 뽑기 = 중복 불가능\n",
    "import random\n",
    "\n",
    "numbers = [] # 뽑은 번호를 저장할 리스트 변수\n",
    "while True:\n",
    "    while True:\n",
    "        number = random.randint(1, 45)\n",
    "        if number not in numbers:\n",
    "            numbers.append(number)\n",
    "\n",
    "        if len(numbers) == 6:\n",
    "            break\n",
    "\n",
    "    mean = sum(numbers) / len(numbers)  # 6개 숫자의 평균 구하기 # /는 소수점 이하 연산 나옴\n",
    "    if mean >= 20 and mean <= 26:  # 평균이 20 이상 26 이하라면\n",
    "        break\n",
    "    \n",
    "    numbers = [] # 다시 뽑기 위해 numbers 초기화\n",
    "\n",
    "numbers.sort()\n",
    "print(numbers, mean)"
   ]
  },
  {
   "cell_type": "code",
   "execution_count": 74,
   "metadata": {},
   "outputs": [
    {
     "name": "stdout",
     "output_type": "stream",
     "text": [
      "[9, 20, 25, 28, 31, 41] 25\n"
     ]
    }
   ],
   "source": [
    "# 선생님의 정답 - 중복해결 ver.2\n",
    "# 뽑으면서 중복 나오면 처음 부터 다시 뽑기 = 중복 불가능\n",
    "import random\n",
    "\n",
    "numbers = [] # 뽑은 번호를 저장할 리스트 변수\n",
    "while True:\n",
    "    # 기본 숫자 뽑기\n",
    "    while True:\n",
    "        number = random.randint(1, 45)\n",
    "        if number not in numbers:\n",
    "            numbers.append(number)\n",
    "\n",
    "        if len(numbers) == 6:\n",
    "            break\n",
    "\n",
    "    # 중복체크\n",
    "    mean = sum(numbers) // len(numbers)  # 6개 숫자의 평균 구하기 # //는 소숫점 이하 버림\n",
    "    if mean >= 20 and mean <= 26:  # 평균이 20 이상 26 이하라면\n",
    "        break\n",
    "    \n",
    "    numbers = [] # 다시 뽑기 위해 numbers 초기화\n",
    "\n",
    "numbers.sort()\n",
    "print(numbers, mean)"
   ]
  },
  {
   "cell_type": "code",
   "execution_count": 80,
   "metadata": {},
   "outputs": [],
   "source": [
    "# 함수\n",
    "import random\n",
    "\n",
    "def select_basic_numbers():\n",
    "    numbers = []\n",
    "    while True:\n",
    "        number = random.randint(1, 45) # 1~45\n",
    "        if number not in numbers:\n",
    "            numbers.append(number)\n",
    "\n",
    "        if len(numbers) == 6:\n",
    "            break\n",
    "\n",
    "    return numbers # 호출한 곳으로 반환"
   ]
  },
  {
   "cell_type": "code",
   "execution_count": 93,
   "metadata": {},
   "outputs": [
    {
     "name": "stdout",
     "output_type": "stream",
     "text": [
      "[6, 8, 19, 25, 38, 45] 23.5\n"
     ]
    }
   ],
   "source": [
    "# 선생님의 정답 - 중복해결 ver.2\n",
    "# 뽑으면서 중복 나오면 처음 부터 다시 뽑기 = 중복 불가능\n",
    "import random\n",
    "\n",
    "numbers = None\n",
    "while True:\n",
    "    numbers = select_basic_numbers()\n",
    "    # 중복체크\n",
    "    mean = sum(numbers) / len(numbers)  # 6개 숫자의 평균 구하기 # //는 소숫점 이하 버림\n",
    "    if mean >= 20 and mean <= 26:  # 평균이 20 이상 26 이하라면\n",
    "        break\n",
    "    \n",
    "    numbers = [] # 다시 뽑기 위해 numbers 초기화\n",
    "\n",
    "numbers.sort()\n",
    "print(numbers, mean)"
   ]
  },
  {
   "cell_type": "code",
   "execution_count": null,
   "metadata": {},
   "outputs": [],
   "source": []
  }
 ],
 "metadata": {
  "kernelspec": {
   "display_name": "human-da-env",
   "language": "python",
   "name": "python3"
  },
  "language_info": {
   "codemirror_mode": {
    "name": "ipython",
    "version": 3
   },
   "file_extension": ".py",
   "mimetype": "text/x-python",
   "name": "python",
   "nbconvert_exporter": "python",
   "pygments_lexer": "ipython3",
   "version": "3.12.7"
  }
 },
 "nbformat": 4,
 "nbformat_minor": 2
}
