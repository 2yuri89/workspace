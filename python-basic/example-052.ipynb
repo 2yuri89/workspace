{
 "cells": [
  {
   "cell_type": "code",
   "execution_count": 1,
   "metadata": {},
   "outputs": [
    {
     "ename": "NameError",
     "evalue": "name 'df_content' is not defined",
     "output_type": "error",
     "traceback": [
      "\u001b[1;31m---------------------------------------------------------------------------\u001b[0m",
      "\u001b[1;31mNameError\u001b[0m                                 Traceback (most recent call last)",
      "Cell \u001b[1;32mIn[1], line 4\u001b[0m\n\u001b[0;32m      1\u001b[0m \u001b[38;5;66;03m# df_pm_content['pm10Value'] = df_pm_content['pm10Value'].map(lambda v: float(v))\u001b[39;00m\n\u001b[0;32m      2\u001b[0m \u001b[38;5;66;03m# df_pm_content['pm25Value'] = df_pm_content['pm25Value'].map(lambda v: float(v))\u001b[39;00m\n\u001b[1;32m----> 4\u001b[0m \u001b[38;5;28mprint\u001b[39m( \u001b[43mdf_content\u001b[49m\u001b[38;5;241m.\u001b[39misna()\u001b[38;5;241m.\u001b[39msum() )\n\u001b[0;32m      5\u001b[0m \u001b[38;5;28mprint\u001b[39m( \u001b[38;5;241m~\u001b[39mdf_content\u001b[38;5;241m.\u001b[39misna()\u001b[38;5;241m.\u001b[39msum() )\n",
      "\u001b[1;31mNameError\u001b[0m: name 'df_content' is not defined"
     ]
    }
   ],
   "source": [
    "# df_pm_content['pm10Value'] = df_pm_content['pm10Value'].map(lambda v: float(v))\n",
    "# df_pm_content['pm25Value'] = df_pm_content['pm25Value'].map(lambda v: float(v))\n",
    "\n",
    "print( df_content.isna().sum() )\n",
    "print( ~df_content.isna().sum() )"
   ]
  },
  {
   "cell_type": "code",
   "execution_count": null,
   "metadata": {},
   "outputs": [],
   "source": []
  }
 ],
 "metadata": {
  "kernelspec": {
   "display_name": "human-da-env",
   "language": "python",
   "name": "python3"
  },
  "language_info": {
   "codemirror_mode": {
    "name": "ipython",
    "version": 3
   },
   "file_extension": ".py",
   "mimetype": "text/x-python",
   "name": "python",
   "nbconvert_exporter": "python",
   "pygments_lexer": "ipython3",
   "version": "3.12.7"
  }
 },
 "nbformat": 4,
 "nbformat_minor": 2
}
