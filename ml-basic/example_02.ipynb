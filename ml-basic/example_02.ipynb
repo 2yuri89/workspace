{
 "cells": [
  {
   "cell_type": "markdown",
   "metadata": {},
   "source": [
    "# 머신러닝 시작"
   ]
  },
  {
   "cell_type": "markdown",
   "metadata": {},
   "source": [
    "### ADALINE 구현하기 - 클래스 기반"
   ]
  },
  {
   "cell_type": "code",
   "execution_count": 24,
   "metadata": {},
   "outputs": [],
   "source": [
    "import numpy as np\n",
    "import pandas as pd\n",
    "import matplotlib.pyplot as plt\n",
    "\n",
    "from sklearn.datasets import load_iris, load_wine"
   ]
  },
  {
   "cell_type": "code",
   "execution_count": 38,
   "metadata": {},
   "outputs": [],
   "source": [
    "class AdalineGD: # SGD : Stochastic Gradient Descent\n",
    "\n",
    "    def __init__(self, eta, n_iter): # 초기화함수 : 객체 생성할 때 자동 호출\n",
    "        self.eta = eta               # 가중치 갱신 비율, 학습률\n",
    "        self.n_iter = n_iter         # 학습 반복 횟수\n",
    "    \n",
    "    def net_input(self, X):          # Net input function\n",
    "        return np.dot(X, self.w[1:]) + self.w[0] # x1*w1 + x2*w2 + ... + xn*wn + b(=w0)\n",
    "\n",
    "    def activation(self, X):         # Activation function\n",
    "        return self.net_input(X)     # 항등함수 : 입력값 그대로 활성화 출력\n",
    "    \n",
    "    def predict(self, X):             # Quantizer\n",
    "        output = self.activation(X)\n",
    "        return np.where(output > 0, 1, -1)\n",
    "    \n",
    "    def fit(self, X, y):              # 훈련하는 함수\n",
    "            self.w = np.zeros(X.shape[1] + 1)\n",
    "            self.cost = []            # 오차 배열 만들기 (오차 로그용)\n",
    "\n",
    "            for idx in np.arange(self.n_iter):      # 학습 반복 (에포크)\n",
    "                output = self.activation(X)\n",
    "                errors = y - output            # 오차 계산(실제값 - 출력값)\n",
    "                delta = self.eta * X.T.dot(errors)  # 학습률 * 기울기(미분)\n",
    "                    # X.T는 X를 트랜스포즈 행렬바꾸기, .dot은 행렬곱\n",
    "                self.w[1:] += delta                 # 가중치 업데이트\n",
    "                self.w[0] = self.eta * errors.sum() # 가중치(편향) 업데이트\n",
    "                self.cost.append( (errors**2).sum() )  # **는 제곱\n",
    "\n",
    "            return self     # w와 히스토리는 이미 클래스에 저장되어서 self만 반환하면 된다.\n"
   ]
  },
  {
   "cell_type": "code",
   "execution_count": 39,
   "metadata": {},
   "outputs": [],
   "source": [
    "iris_dataset = load_iris()\n",
    "X = iris_dataset['data']\n",
    "y = iris_dataset['target']\n",
    "y = np.where(y == 0, 1, -1)"
   ]
  },
  {
   "cell_type": "code",
   "execution_count": 75,
   "metadata": {},
   "outputs": [
    {
     "data": {
      "text/plain": [
       "<__main__.AdalineGD at 0x1bd48b6ef30>"
      ]
     },
     "execution_count": 75,
     "metadata": {},
     "output_type": "execute_result"
    }
   ],
   "source": [
    "model = AdalineGD(eta=0.00001, n_iter=5000)  # AdalineGD 인스턴스(객체) 만들기\n",
    "model.fit(X, y)"
   ]
  },
  {
   "cell_type": "code",
   "execution_count": 76,
   "metadata": {},
   "outputs": [
    {
     "data": {
      "text/plain": [
       "(array([-9.32043689e-06,  6.98559777e-02,  3.48384548e-01, -4.30408067e-01,\n",
       "        -1.52548394e-01]),\n",
       " [np.float64(150.0),\n",
       "  np.float64(143.19044496617488),\n",
       "  np.float64(137.5206548448522),\n",
       "  np.float64(132.73750935843123),\n",
       "  np.float64(128.6862487031217),\n",
       "  np.float64(125.23917732114758),\n",
       "  np.float64(122.2909942677699),\n",
       "  np.float64(119.75486479742403),\n",
       "  np.float64(117.55918117433586),\n",
       "  np.float64(115.64489169231261)],\n",
       " [np.float64(13.08952066633066),\n",
       "  np.float64(13.089483750202131),\n",
       "  np.float64(13.089446842897788),\n",
       "  np.float64(13.089409944415511),\n",
       "  np.float64(13.089373054753182),\n",
       "  np.float64(13.089336173908695),\n",
       "  np.float64(13.089299301879933),\n",
       "  np.float64(13.089262438664804),\n",
       "  np.float64(13.089225584261179),\n",
       "  np.float64(13.089188738666955)])"
      ]
     },
     "execution_count": 76,
     "metadata": {},
     "output_type": "execute_result"
    }
   ],
   "source": [
    "model.w, model.cost[:10], model.cost[-10:]\n",
    "# w : 맨 앞은 절편, 그 뒤부터 전부는 x특성에대한 가중치"
   ]
  },
  {
   "cell_type": "code",
   "execution_count": 77,
   "metadata": {},
   "outputs": [
    {
     "name": "stdout",
     "output_type": "stream",
     "text": [
      "Accuracy : 1.0\n"
     ]
    }
   ],
   "source": [
    "correct = []\n",
    "for idx in range(X.shape[0]):       # 행의 갯수 (150개)\n",
    "    pv = model.predict(X[idx])      # pv = predict value\n",
    "    correct.append(pv == y[idx])    # 맞는 갯수만 저장\n",
    "\n",
    "print(\"Accuracy : {0}\".format( np.mean(correct) ) )"
   ]
  },
  {
   "cell_type": "code",
   "execution_count": 78,
   "metadata": {},
   "outputs": [
    {
     "data": {
      "image/png": "[encoded data removed]",
      "text/plain": [
       "<Figure size 640x480 with 1 Axes>"
      ]
     },
     "metadata": {},
     "output_type": "display_data"
    }
   ],
   "source": [
    "# 그래프 그리기\n",
    "plt.plot(np.arange(len(model.cost)), model.cost)    # 손실이 얼마나 줄어드는지 확인\n",
    "# plt.plot(np.arange(0, len(model.cost[-1000:])), model.cost[-1000:])\n",
    "plt.show()"
   ]
  },
  {
   "cell_type": "code",
   "execution_count": null,
   "metadata": {},
   "outputs": [],
   "source": []
  }
 ],
 "metadata": {
  "kernelspec": {
   "display_name": "human-da-env",
   "language": "python",
   "name": "python3"
  },
  "language_info": {
   "codemirror_mode": {
    "name": "ipython",
    "version": 3
   },
   "file_extension": ".py",
   "mimetype": "text/x-python",
   "name": "python",
   "nbconvert_exporter": "python",
   "pygments_lexer": "ipython3",
   "version": "3.12.7"
  }
 },
 "nbformat": 4,
 "nbformat_minor": 2
}
