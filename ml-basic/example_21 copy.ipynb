{
 "cells": [
  {
   "cell_type": "markdown",
   "metadata": {},
   "source": [
    "# 추천 - 협력 필터링 (Collaborative Filtering)"
   ]
  },
  {
   "cell_type": "markdown",
   "metadata": {},
   "source": [
    "### 추천을 위한 파이썬 패키지 사용"
   ]
  },
  {
   "cell_type": "code",
   "execution_count": 1,
   "metadata": {},
   "outputs": [],
   "source": [
    "import numpy as np\n",
    "import pandas as pd\n",
    "import matplotlib.pyplot as plt\n",
    "import seaborn as sns\n",
    "\n",
    "import surprise"
   ]
  },
  {
   "cell_type": "markdown",
   "metadata": {},
   "source": [
    "# 설치 에러 해결 - 선생님과 함께"
   ]
  },
  {
   "cell_type": "code",
   "execution_count": 2,
   "metadata": {},
   "outputs": [],
   "source": [
    "# 데이터 준비 1.\n",
    "from surprise import Dataset\n",
    "data = Dataset.load_builtin(\"ml-100k\")"
   ]
  },
  {
   "cell_type": "code",
   "execution_count": 3,
   "metadata": {},
   "outputs": [],
   "source": [
    "# 데이터 준비 2.\n",
    "from surprise import Reader     # 데이터를 읽을 때 읽는 방법을 설정하는 클래스\n",
    "\n",
    "ratings_small = pd.read_csv('data-files/ml-latest-small/ratings.csv')\n",
    "data2 = Dataset.load_from_df(ratings_small[['userId', 'movieId', 'rating']], \n",
    "                             Reader(rating_scale=(0.5, 5)))"
   ]
  },
  {
   "cell_type": "code",
   "execution_count": 4,
   "metadata": {},
   "outputs": [
    {
     "data": {
      "text/plain": [
       "min    0.5\n",
       "max    5.0\n",
       "Name: rating, dtype: float64"
      ]
     },
     "execution_count": 4,
     "metadata": {},
     "output_type": "execute_result"
    }
   ],
   "source": [
    "ratings_small['rating'].agg(['min', 'max'])"
   ]
  },
  {
   "cell_type": "code",
   "execution_count": 5,
   "metadata": {},
   "outputs": [],
   "source": [
    "# 데이터 준비 3.\n",
    "from surprise import Reader     # 데이터를 읽을 때 읽는 방법을 설정하는 클래스\n",
    "\n",
    "data3 = Dataset.load_from_file('data-files/ml-latest-small/ratings.csv', \n",
    "                                Reader(rating_scale=(0.5, 5), sep=',', skip_lines=1))"
   ]
  },
  {
   "cell_type": "code",
   "execution_count": 6,
   "metadata": {},
   "outputs": [],
   "source": [
    "# from sklearn.model_selection import train_test_split\n",
    "from surprise.model_selection import train_test_split"
   ]
  },
  {
   "cell_type": "code",
   "execution_count": 7,
   "metadata": {},
   "outputs": [],
   "source": [
    "trainset, testset = train_test_split(data3, random_state=42)"
   ]
  },
  {
   "cell_type": "code",
   "execution_count": 8,
   "metadata": {},
   "outputs": [],
   "source": [
    "from surprise import KNNBasic   # 기본: 코사인 유사도\n",
    "\n",
    "knn_model = KNNBasic(sim_options={'name':\"cosine\", 'user_based':False})\n",
    "# 유사도는 코사인, 사용자기반 false = 아이템 기반"
   ]
  },
  {
   "cell_type": "code",
   "execution_count": 9,
   "metadata": {},
   "outputs": [
    {
     "name": "stdout",
     "output_type": "stream",
     "text": [
      "Computing the cosine similarity matrix...\n",
      "Done computing similarity matrix.\n"
     ]
    },
    {
     "data": {
      "text/plain": [
       "<surprise.prediction_algorithms.knns.KNNBasic at 0x206082e3590>"
      ]
     },
     "execution_count": 9,
     "metadata": {},
     "output_type": "execute_result"
    }
   ],
   "source": [
    "knn_model.fit(trainset)"
   ]
  },
  {
   "cell_type": "code",
   "execution_count": 10,
   "metadata": {},
   "outputs": [
    {
     "name": "stdout",
     "output_type": "stream",
     "text": [
      "[('140', '6765', 3.5), ('603', '290', 4.0), ('438', '5055', 4.0)]\n",
      "user: 140        item: 6765       r_ui = None   est = 3.42   {'actual_k': 40, 'was_impossible': False}\n",
      "user: 603        item: 290        r_ui = None   est = 3.55   {'actual_k': 40, 'was_impossible': False}\n"
     ]
    }
   ],
   "source": [
    "# 개별 값 예측\n",
    "\n",
    "print( testset[:3] )\n",
    "print( knn_model.predict('140', '6765') )   # est=3.425 예측 값\n",
    "print( knn_model.predict('603', '290') )"
   ]
  },
  {
   "cell_type": "code",
   "execution_count": 11,
   "metadata": {},
   "outputs": [
    {
     "data": {
      "text/plain": [
       "[Prediction(uid='140', iid='6765', r_ui=3.5, est=3.425, details={'actual_k': 40, 'was_impossible': False}),\n",
       " Prediction(uid='603', iid='290', r_ui=4.0, est=3.55, details={'actual_k': 40, 'was_impossible': False}),\n",
       " Prediction(uid='438', iid='5055', r_ui=4.0, est=3.1625, details={'actual_k': 40, 'was_impossible': False})]"
      ]
     },
     "execution_count": 11,
     "metadata": {},
     "output_type": "execute_result"
    }
   ],
   "source": [
    "# 다수 예측\n",
    "predictions = knn_model.test(testset)\n",
    "predictions[:3]\n",
    "# 'was_impossible': 계산 못함 False > 계산 해냈다는 뜻"
   ]
  },
  {
   "cell_type": "code",
   "execution_count": 12,
   "metadata": {},
   "outputs": [
    {
     "name": "stdout",
     "output_type": "stream",
     "text": [
      "MAE:  0.7615\n",
      "0.7614697475628528\n",
      "RMSE: 0.9800\n",
      "0.97995665962038\n"
     ]
    }
   ],
   "source": [
    "from surprise import accuracy\n",
    "\n",
    "print( accuracy.mae(predictions = predictions) )\n",
    "print( accuracy.rmse(predictions = predictions) )"
   ]
  },
  {
   "cell_type": "code",
   "execution_count": 13,
   "metadata": {},
   "outputs": [
    {
     "data": {
      "text/html": [
       "<div>\n",
       "<style scoped>\n",
       "    .dataframe tbody tr th:only-of-type {\n",
       "        vertical-align: middle;\n",
       "    }\n",
       "\n",
       "    .dataframe tbody tr th {\n",
       "        vertical-align: top;\n",
       "    }\n",
       "\n",
       "    .dataframe thead th {\n",
       "        text-align: right;\n",
       "    }\n",
       "</style>\n",
       "<table border=\"1\" class=\"dataframe\">\n",
       "  <thead>\n",
       "    <tr style=\"text-align: right;\">\n",
       "      <th></th>\n",
       "      <th>movieId</th>\n",
       "      <th>title</th>\n",
       "      <th>genres</th>\n",
       "    </tr>\n",
       "  </thead>\n",
       "  <tbody>\n",
       "    <tr>\n",
       "      <th>0</th>\n",
       "      <td>1</td>\n",
       "      <td>Toy Story (1995)</td>\n",
       "      <td>Adventure|Animation|Children|Comedy|Fantasy</td>\n",
       "    </tr>\n",
       "    <tr>\n",
       "      <th>1</th>\n",
       "      <td>2</td>\n",
       "      <td>Jumanji (1995)</td>\n",
       "      <td>Adventure|Children|Fantasy</td>\n",
       "    </tr>\n",
       "    <tr>\n",
       "      <th>2</th>\n",
       "      <td>3</td>\n",
       "      <td>Grumpier Old Men (1995)</td>\n",
       "      <td>Comedy|Romance</td>\n",
       "    </tr>\n",
       "    <tr>\n",
       "      <th>3</th>\n",
       "      <td>4</td>\n",
       "      <td>Waiting to Exhale (1995)</td>\n",
       "      <td>Comedy|Drama|Romance</td>\n",
       "    </tr>\n",
       "    <tr>\n",
       "      <th>4</th>\n",
       "      <td>5</td>\n",
       "      <td>Father of the Bride Part II (1995)</td>\n",
       "      <td>Comedy</td>\n",
       "    </tr>\n",
       "  </tbody>\n",
       "</table>\n",
       "</div>"
      ],
      "text/plain": [
       "   movieId                               title  \\\n",
       "0        1                    Toy Story (1995)   \n",
       "1        2                      Jumanji (1995)   \n",
       "2        3             Grumpier Old Men (1995)   \n",
       "3        4            Waiting to Exhale (1995)   \n",
       "4        5  Father of the Bride Part II (1995)   \n",
       "\n",
       "                                        genres  \n",
       "0  Adventure|Animation|Children|Comedy|Fantasy  \n",
       "1                   Adventure|Children|Fantasy  \n",
       "2                               Comedy|Romance  \n",
       "3                         Comedy|Drama|Romance  \n",
       "4                                       Comedy  "
      ]
     },
     "execution_count": 13,
     "metadata": {},
     "output_type": "execute_result"
    }
   ],
   "source": [
    "movies = pd.read_csv('data-files/ml-latest-small/movies.csv')\n",
    "movies.head()"
   ]
  },
  {
   "cell_type": "code",
   "execution_count": 14,
   "metadata": {},
   "outputs": [],
   "source": [
    "all_movie_id = ratings_small['movieId'].unique()\n",
    "# print(all_movie_id)\n",
    "# print(ratings_small['userId'].unique())\n",
    "# print((ratings_small['userId'] == 42).sum())\n",
    "rated_movies = ratings_small[ratings_small['userId'] == 42]['movieId'].values\n",
    "# 42번 사용자가 평점 매긴 영화만\n",
    "# len(rated_movies)\n",
    "\n",
    "# 42번 사용자가 추천하지 않은 모든 영화에 대한 예상 평점 계산\n",
    "predictions_of_user42 = []\n",
    "for movie_id in all_movie_id:\n",
    "    if movie_id not in rated_movies:\n",
    "        prediction = knn_model.predict(\"42\", str(movie_id))\n",
    "        predictions_of_user42.append(prediction)"
   ]
  },
  {
   "cell_type": "code",
   "execution_count": 15,
   "metadata": {},
   "outputs": [
    {
     "data": {
      "text/plain": [
       "[22, 10, 9, 7, 4]"
      ]
     },
     "execution_count": 15,
     "metadata": {},
     "output_type": "execute_result"
    }
   ],
   "source": [
    "# 리스트 정렬\n",
    "a = [10, 4, 7, 22, 9]\n",
    "a.sort()    # 리스트를 sort하면 정렬해 줌 (오름차순 정렬)\n",
    "a.reverse() # 그 정렬을 뒤집기 (내림차순 정렬)\n",
    "a   "
   ]
  },
  {
   "cell_type": "code",
   "execution_count": 16,
   "metadata": {},
   "outputs": [],
   "source": [
    "len(predictions_of_user42)\n",
    "# 위 결과를 평점 기준 정렬 (내림차순)\n",
    "predictions_of_user42.sort()\n",
    "# Prediction uid iid r_ui est 이 중 뭘로 정렬할지 문제 발생, 단일 값만 있으면 문제 없다"
   ]
  },
  {
   "cell_type": "code",
   "execution_count": 17,
   "metadata": {},
   "outputs": [
    {
     "data": {
      "text/plain": [
       "[Prediction(uid='42', iid='99750', r_ui=None, est=3.95, details={'actual_k': 40, 'was_impossible': False}),\n",
       " Prediction(uid='42', iid='99764', r_ui=None, est=4.275, details={'actual_k': 40, 'was_impossible': False}),\n",
       " Prediction(uid='42', iid='998', r_ui=None, est=3.675, details={'actual_k': 40, 'was_impossible': False}),\n",
       " Prediction(uid='42', iid='99813', r_ui=None, est=3.625, details={'actual_k': 40, 'was_impossible': False}),\n",
       " Prediction(uid='42', iid='99846', r_ui=None, est=3.7, details={'actual_k': 40, 'was_impossible': False}),\n",
       " Prediction(uid='42', iid='99853', r_ui=None, est=3.909090909090909, details={'actual_k': 22, 'was_impossible': False}),\n",
       " Prediction(uid='42', iid='999', r_ui=None, est=3.475, details={'actual_k': 40, 'was_impossible': False}),\n",
       " Prediction(uid='42', iid='99910', r_ui=None, est=4.05, details={'actual_k': 40, 'was_impossible': False}),\n",
       " Prediction(uid='42', iid='99917', r_ui=None, est=3.625, details={'actual_k': 40, 'was_impossible': False}),\n",
       " Prediction(uid='42', iid='99992', r_ui=None, est=3.7, details={'actual_k': 40, 'was_impossible': False})]"
      ]
     },
     "execution_count": 17,
     "metadata": {},
     "output_type": "execute_result"
    }
   ],
   "source": [
    "predictions_of_user42[-10:]\n",
    "# 정렬 기준이 여러개라서 우리가 원하는데로 정렬되지 않음"
   ]
  },
  {
   "cell_type": "code",
   "execution_count": 18,
   "metadata": {},
   "outputs": [],
   "source": [
    "# 위 결과를 평점 기준 정렬 (내림차순)\n",
    "predictions_of_user42.sort(key = lambda v: v.est, reverse=True)\n",
    "# 단일 값이 아닌 경우 sort함수에 기준(est) 지정해야 함.\n",
    "# 정렬할 때 뒤집기 옵션 True로 해서 내림차순 정렬"
   ]
  },
  {
   "cell_type": "code",
   "execution_count": 19,
   "metadata": {},
   "outputs": [
    {
     "data": {
      "text/plain": [
       "['One I Love, The (2014)',\n",
       " 'Laggies (2014)',\n",
       " 'Annabelle (2014)',\n",
       " 'Delirium (2014)',\n",
       " 'Deathgasm (2015)',\n",
       " 'A Street Cat Named Bob (2016)',\n",
       " 'Alvarez Kelly (1966)',\n",
       " 'Jungle Book 2, The (2003)',\n",
       " 'Cinderella (1997)',\n",
       " 'Young Victoria, The (2009)']"
      ]
     },
     "execution_count": 19,
     "metadata": {},
     "output_type": "execute_result"
    }
   ],
   "source": [
    "# predictions_of_user42[:10]\n",
    "# est 기준 상위 10개\n",
    "\n",
    "top_10_movies = []\n",
    "for p in predictions_of_user42[:10]:\n",
    "    movie = movies[movies['movieId'] == int(p.iid)]\n",
    "    # 아까 movieid를 str로 바꿨는데, 형이 안 맞으면 empty 됨\n",
    "    top_10_movies.append(movie['title'].values[0])\n",
    "\n",
    "top_10_movies"
   ]
  },
  {
   "cell_type": "code",
   "execution_count": 52,
   "metadata": {},
   "outputs": [],
   "source": [
    "# 데이터 준비 2.\n",
    "from surprise import Reader     # 데이터를 읽을 때 읽는 방법을 설정하는 클래스\n",
    "\n",
    "movies_small = pd.read_csv('data-files/ml-latest-small/movies.csv')\n",
    "ratings_small = pd.read_csv('data-files/ml-latest-small/ratings.csv')\n",
    "data2 = Dataset.load_from_df(ratings_small[['userId', 'movieId', 'rating']], \n",
    "                             Reader(rating_scale=(0.5, 5)))"
   ]
  },
  {
   "cell_type": "code",
   "execution_count": 53,
   "metadata": {},
   "outputs": [],
   "source": [
    "trainset = data.build_full_trainset()\n",
    "testset = trainset.build_testset"
   ]
  },
  {
   "cell_type": "code",
   "execution_count": 54,
   "metadata": {},
   "outputs": [
    {
     "ename": "TypeError",
     "evalue": "object of type 'method' has no len()",
     "output_type": "error",
     "traceback": [
      "\u001b[1;31m---------------------------------------------------------------------------\u001b[0m",
      "\u001b[1;31mTypeError\u001b[0m                                 Traceback (most recent call last)",
      "Cell \u001b[1;32mIn[54], line 1\u001b[0m\n\u001b[1;32m----> 1\u001b[0m \u001b[38;5;28;43mlen\u001b[39;49m\u001b[43m(\u001b[49m\u001b[43mtestset\u001b[49m\u001b[43m)\u001b[49m, testset[\u001b[38;5;241m0\u001b[39m]\n",
      "\u001b[1;31mTypeError\u001b[0m: object of type 'method' has no len()"
     ]
    }
   ],
   "source": [
    "len(testset), testset[0]"
   ]
  },
  {
   "cell_type": "code",
   "execution_count": null,
   "metadata": {},
   "outputs": [
    {
     "data": {
      "text/plain": [
       "<surprise.prediction_algorithms.matrix_factorization.SVD at 0x20622737d40>"
      ]
     },
     "execution_count": 35,
     "metadata": {},
     "output_type": "execute_result"
    }
   ],
   "source": [
    "# 모델 훈련 (학습)\n",
    "from surprise import SVD\n",
    "\n",
    "svd = SVD(n_factors = 100, n_epochs = 20, random_state=42) # 잠재요인 몇개로 할까?\n",
    "\n",
    "svd.fit(trainset)"
   ]
  },
  {
   "cell_type": "code",
   "execution_count": null,
   "metadata": {},
   "outputs": [
    {
     "name": "stdout",
     "output_type": "stream",
     "text": [
      "(21, 4)\n"
     ]
    },
    {
     "data": {
      "text/plain": [
       "movieId\n",
       "356       328\n",
       "318       317\n",
       "296       306\n",
       "593       278\n",
       "2571      278\n",
       "         ... \n",
       "86279       1\n",
       "86922       1\n",
       "5962        1\n",
       "87660       1\n",
       "163981      1\n",
       "Name: count, Length: 9724, dtype: int64"
      ]
     },
     "execution_count": 44,
     "metadata": {},
     "output_type": "execute_result"
    }
   ],
   "source": [
    "# 26번 사용자가 시청하지 않은 영화 평점 예측\n",
    "\n",
    "print( ratings_small[ratings_small['userId'] == 26].shape )\n",
    "\n",
    "uid_mask = ratings_small['userId'] == 26\n",
    "ratings_small[uid_mask][['userId', 'movieId']] # 26번 사용자가 평점 부여한 영화 조회\n",
    "t = ratings_small[~uid_mask][['userId', 'movieId']] # 26번 사용자가 평점 부여하지 않은 영화 조회\n",
    "t['movieId'].value_counts() # 영화마다 평점 매겨진 횟수 조회"
   ]
  },
  {
   "cell_type": "code",
   "execution_count": 62,
   "metadata": {},
   "outputs": [],
   "source": [
    "def select_unrated_movies(user_id):\n",
    "    all_movie_id = ratings['movieId'].unique() # 모든 영화 id\n",
    "    uid_mask = ratings_small['userId'] == user_id\n",
    "    rated_movies_ids = ratings[uid_mask]['movieId'].values # 평가한 영화 id\n",
    "    unrated_movies = [ mid for mid in all_movie_id if mid not in rated_movies_ids ]\n",
    "    return unrated_movies\n"
   ]
  },
  {
   "cell_type": "code",
   "execution_count": 63,
   "metadata": {},
   "outputs": [
    {
     "ename": "TypeError",
     "evalue": "select_unrated_movies() takes 1 positional argument but 2 were given",
     "output_type": "error",
     "traceback": [
      "\u001b[1;31m---------------------------------------------------------------------------\u001b[0m",
      "\u001b[1;31mTypeError\u001b[0m                                 Traceback (most recent call last)",
      "Cell \u001b[1;32mIn[63], line 1\u001b[0m\n\u001b[1;32m----> 1\u001b[0m \u001b[38;5;28mprint\u001b[39m( \u001b[43mselect_unrated_movies\u001b[49m\u001b[43m(\u001b[49m\u001b[43mratings_small\u001b[49m\u001b[43m,\u001b[49m\u001b[43m \u001b[49m\u001b[38;5;241;43m26\u001b[39;49m\u001b[43m)\u001b[49m[:\u001b[38;5;241m10\u001b[39m] )\n",
      "\u001b[1;31mTypeError\u001b[0m: select_unrated_movies() takes 1 positional argument but 2 were given"
     ]
    }
   ],
   "source": [
    "print( select_unrated_movies(ratings_small, 26)[:10] )"
   ]
  },
  {
   "cell_type": "code",
   "execution_count": null,
   "metadata": {},
   "outputs": [
    {
     "data": {
      "text/html": [
       "<div>\n",
       "<style scoped>\n",
       "    .dataframe tbody tr th:only-of-type {\n",
       "        vertical-align: middle;\n",
       "    }\n",
       "\n",
       "    .dataframe tbody tr th {\n",
       "        vertical-align: top;\n",
       "    }\n",
       "\n",
       "    .dataframe thead th {\n",
       "        text-align: right;\n",
       "    }\n",
       "</style>\n",
       "<table border=\"1\" class=\"dataframe\">\n",
       "  <thead>\n",
       "    <tr style=\"text-align: right;\">\n",
       "      <th></th>\n",
       "      <th>movieId</th>\n",
       "      <th>title</th>\n",
       "      <th>genres</th>\n",
       "    </tr>\n",
       "  </thead>\n",
       "  <tbody>\n",
       "    <tr>\n",
       "      <th>0</th>\n",
       "      <td>1</td>\n",
       "      <td>Toy Story (1995)</td>\n",
       "      <td>Adventure|Animation|Children|Comedy|Fantasy</td>\n",
       "    </tr>\n",
       "  </tbody>\n",
       "</table>\n",
       "</div>"
      ],
      "text/plain": [
       "   movieId             title                                       genres\n",
       "0        1  Toy Story (1995)  Adventure|Animation|Children|Comedy|Fantasy"
      ]
     },
     "execution_count": 56,
     "metadata": {},
     "output_type": "execute_result"
    }
   ],
   "source": [
    "movies_small[movies_small['movieId'] == 1]"
   ]
  },
  {
   "cell_type": "code",
   "execution_count": null,
   "metadata": {},
   "outputs": [
    {
     "data": {
      "text/plain": [
       "Prediction(uid=26, iid=1, r_ui=None, est=3.52986, details={'was_impossible': False})"
      ]
     },
     "execution_count": 58,
     "metadata": {},
     "output_type": "execute_result"
    }
   ],
   "source": [
    "svd.predict(26, 1)"
   ]
  },
  {
   "cell_type": "code",
   "execution_count": 64,
   "metadata": {},
   "outputs": [],
   "source": [
    "def get_movie_title(MOVIES, movie_id):\n",
    "    movie_id_mask = movies['movieId']== movie_id\n",
    "    return movies[movie_id_mask]['title'].values[0]\n",
    "\n",
    "def recommend_movies(ratings, movies, uid, top_n=10):\n",
    "    unrated_movie_ids = select_unrated_movies(ratings, user_id)\n",
    "    # for m in unrated_movies:\n",
    "    #     svd.predict(user_id, m)\n",
    "    prdictions = [ svd.predict(user_id, movie_id) for movie_id in unrated_movie_ids ]\n",
    "    prdictions.sort(key=lambda p: p.est, reverse=True) # 예상평점기준 내림차순 정렬\n",
    "\n",
    "    top_n_predcitions = prdictions[:top_n]\n",
    "    recommendations = [ (p.iid, get_movie_title(movies, p.iid)) for p in top_n_predcitions ]\n",
    "\n",
    "    return recommendations"
   ]
  },
  {
   "cell_type": "code",
   "execution_count": null,
   "metadata": {},
   "outputs": [
    {
     "ename": "NameError",
     "evalue": "name 'user_id' is not defined",
     "output_type": "error",
     "traceback": [
      "\u001b[1;31m---------------------------------------------------------------------------\u001b[0m",
      "\u001b[1;31mNameError\u001b[0m                                 Traceback (most recent call last)",
      "Cell \u001b[1;32mIn[61], line 1\u001b[0m\n\u001b[1;32m----> 1\u001b[0m \u001b[43mrecommend_movies\u001b[49m\u001b[43m(\u001b[49m\u001b[43mratings_small\u001b[49m\u001b[43m,\u001b[49m\u001b[43m \u001b[49m\u001b[43mmovies_small\u001b[49m\u001b[43m,\u001b[49m\u001b[43m \u001b[49m\u001b[38;5;241;43m26\u001b[39;49m\u001b[43m)\u001b[49m\n",
      "Cell \u001b[1;32mIn[60], line 6\u001b[0m, in \u001b[0;36mrecommend_movies\u001b[1;34m(ratings, movies, uid, top_n)\u001b[0m\n\u001b[0;32m      5\u001b[0m \u001b[38;5;28;01mdef\u001b[39;00m \u001b[38;5;21mrecommend_movies\u001b[39m(ratings, movies, uid, top_n\u001b[38;5;241m=\u001b[39m\u001b[38;5;241m10\u001b[39m):\n\u001b[1;32m----> 6\u001b[0m     unrated_movie_ids \u001b[38;5;241m=\u001b[39m select_unrated_movies(ratings, \u001b[43muser_id\u001b[49m)\n\u001b[0;32m      7\u001b[0m     \u001b[38;5;66;03m# for m in unrated_movies:\u001b[39;00m\n\u001b[0;32m      8\u001b[0m     \u001b[38;5;66;03m#     svd.predict(user_id, m)\u001b[39;00m\n\u001b[0;32m      9\u001b[0m     prdictions \u001b[38;5;241m=\u001b[39m [ svd\u001b[38;5;241m.\u001b[39mpredict(user_id, movie_id) \u001b[38;5;28;01mfor\u001b[39;00m movie_id \u001b[38;5;129;01min\u001b[39;00m unrated_movie_ids ]\n",
      "\u001b[1;31mNameError\u001b[0m: name 'user_id' is not defined"
     ]
    }
   ],
   "source": [
    "recommend_movies(ratings_small, movies_small, 26)"
   ]
  },
  {
   "cell_type": "code",
   "execution_count": 65,
   "metadata": {},
   "outputs": [
    {
     "ename": "NameError",
     "evalue": "name 'user_id' is not defined",
     "output_type": "error",
     "traceback": [
      "\u001b[1;31m---------------------------------------------------------------------------\u001b[0m",
      "\u001b[1;31mNameError\u001b[0m                                 Traceback (most recent call last)",
      "Cell \u001b[1;32mIn[65], line 1\u001b[0m\n\u001b[1;32m----> 1\u001b[0m \u001b[43mrecommend_movies\u001b[49m\u001b[43m(\u001b[49m\u001b[43mratings_small\u001b[49m\u001b[43m,\u001b[49m\u001b[43m \u001b[49m\u001b[43mmovies_small\u001b[49m\u001b[43m,\u001b[49m\u001b[43m \u001b[49m\u001b[38;5;241;43m26\u001b[39;49m\u001b[43m)\u001b[49m\n",
      "Cell \u001b[1;32mIn[64], line 6\u001b[0m, in \u001b[0;36mrecommend_movies\u001b[1;34m(ratings, movies, uid, top_n)\u001b[0m\n\u001b[0;32m      5\u001b[0m \u001b[38;5;28;01mdef\u001b[39;00m \u001b[38;5;21mrecommend_movies\u001b[39m(ratings, movies, uid, top_n\u001b[38;5;241m=\u001b[39m\u001b[38;5;241m10\u001b[39m):\n\u001b[1;32m----> 6\u001b[0m     unrated_movie_ids \u001b[38;5;241m=\u001b[39m select_unrated_movies(ratings, \u001b[43muser_id\u001b[49m)\n\u001b[0;32m      7\u001b[0m     \u001b[38;5;66;03m# for m in unrated_movies:\u001b[39;00m\n\u001b[0;32m      8\u001b[0m     \u001b[38;5;66;03m#     svd.predict(user_id, m)\u001b[39;00m\n\u001b[0;32m      9\u001b[0m     prdictions \u001b[38;5;241m=\u001b[39m [ svd\u001b[38;5;241m.\u001b[39mpredict(user_id, movie_id) \u001b[38;5;28;01mfor\u001b[39;00m movie_id \u001b[38;5;129;01min\u001b[39;00m unrated_movie_ids ]\n",
      "\u001b[1;31mNameError\u001b[0m: name 'user_id' is not defined"
     ]
    }
   ],
   "source": [
    "recommend_movies(ratings_small, movies_small, 26)"
   ]
  },
  {
   "cell_type": "code",
   "execution_count": 71,
   "metadata": {},
   "outputs": [
    {
     "data": {
      "text/plain": [
       "[9    GoldenEye (1995)\n",
       " Name: title, dtype: object,\n",
       " 32    Babe (1995)\n",
       " Name: title, dtype: object,\n",
       " 43    Seven (a.k.a. Se7en) (1995)\n",
       " Name: title, dtype: object,\n",
       " 123    Apollo 13 (1995)\n",
       " Name: title, dtype: object,\n",
       " 126    Batman Forever (1995)\n",
       " Name: title, dtype: object,\n",
       " 138    Die Hard: With a Vengeance (1995)\n",
       " Name: title, dtype: object,\n",
       " 156    Net, The (1995)\n",
       " Name: title, dtype: object,\n",
       " 176    Waterworld (1995)\n",
       " Name: title, dtype: object,\n",
       " 192    Disclosure (1994)\n",
       " Name: title, dtype: object,\n",
       " 249    Natural Born Killers (1994)\n",
       " Name: title, dtype: object,\n",
       " 257    Pulp Fiction (1994)\n",
       " Name: title, dtype: object,\n",
       " 260    Quiz Show (1994)\n",
       " Name: title, dtype: object,\n",
       " 302    Ace Ventura: Pet Detective (1994)\n",
       " Name: title, dtype: object,\n",
       " 307    Clear and Present Danger (1994)\n",
       " Name: title, dtype: object,\n",
       " 314    Forrest Gump (1994)\n",
       " Name: title, dtype: object,\n",
       " 337    True Lies (1994)\n",
       " Name: title, dtype: object,\n",
       " 378    Cliffhanger (1993)\n",
       " Name: title, dtype: object,\n",
       " 395    Firm, The (1993)\n",
       " Name: title, dtype: object,\n",
       " 398    Fugitive, The (1993)\n",
       " Name: title, dtype: object,\n",
       " 509    Batman (1989)\n",
       " Name: title, dtype: object,\n",
       " 510    Silence of the Lambs, The (1991)\n",
       " Name: title, dtype: object]"
      ]
     },
     "execution_count": 71,
     "metadata": {},
     "output_type": "execute_result"
    }
   ],
   "source": [
    "uid_mask = ratings_small['userId'] == 26\n",
    "rated_movie_ids = ratings_small[uid_mask]['movieId']\n",
    "[ movies_small[movies_small['movieId'] == movie_id]['title'] for movie_id in rated_movie_ids ]"
   ]
  },
  {
   "cell_type": "code",
   "execution_count": null,
   "metadata": {},
   "outputs": [],
   "source": []
  }
 ],
 "metadata": {
  "kernelspec": {
   "display_name": "human-da-env",
   "language": "python",
   "name": "python3"
  },
  "language_info": {
   "codemirror_mode": {
    "name": "ipython",
    "version": 3
   },
   "file_extension": ".py",
   "mimetype": "text/x-python",
   "name": "python",
   "nbconvert_exporter": "python",
   "pygments_lexer": "ipython3",
   "version": "3.12.7"
  }
 },
 "nbformat": 4,
 "nbformat_minor": 2
}
