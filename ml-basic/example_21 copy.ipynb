{
 "cells": [
  {
   "cell_type": "markdown",
   "metadata": {},
   "source": [
    "# 추천 - 협력 필터링 (Collaborative Filtering)"
   ]
  },
  {
   "cell_type": "markdown",
   "metadata": {},
   "source": [
    "### 추천을 위한 파이썬 패키지 사용"
   ]
  },
  {
   "cell_type": "code",
   "execution_count": 6,
   "metadata": {},
   "outputs": [],
   "source": [
    "import numpy as np\n",
    "import pandas as pd\n",
    "import matplotlib.pyplot as plt\n",
    "import seaborn as sns\n",
    "\n",
    "import surprise"
   ]
  },
  {
   "cell_type": "markdown",
   "metadata": {},
   "source": [
    "# 설치 에러 해결 - 선생님과 함께"
   ]
  },
  {
   "cell_type": "code",
   "execution_count": 18,
   "metadata": {},
   "outputs": [],
   "source": [
    "# 데이터 준비 1.\n",
    "from surprise import Dataset\n",
    "data = Dataset.load_builtin(\"ml-100k\")"
   ]
  },
  {
   "cell_type": "code",
   "execution_count": 19,
   "metadata": {},
   "outputs": [],
   "source": [
    "# 데이터 준비 2.\n",
    "from surprise import Reader     # 데이터를 읽을 때 읽는 방법을 설정하는 클래스\n",
    "\n",
    "ratings_small = pd.read_csv('data-files/ml-latest-small/ratings.csv')\n",
    "data2 = Dataset.load_from_df(ratings_small[['userId', 'movieId', 'rating']], \n",
    "                             Reader(rating_scale=(0.5, 5)))"
   ]
  },
  {
   "cell_type": "code",
   "execution_count": 20,
   "metadata": {},
   "outputs": [
    {
     "data": {
      "text/plain": [
       "min    0.5\n",
       "max    5.0\n",
       "Name: rating, dtype: float64"
      ]
     },
     "execution_count": 20,
     "metadata": {},
     "output_type": "execute_result"
    }
   ],
   "source": [
    "ratings_small['rating'].agg(['min', 'max'])"
   ]
  },
  {
   "cell_type": "code",
   "execution_count": null,
   "metadata": {},
   "outputs": [],
   "source": [
    "# 데이터 준비 3.\n",
    "from surprise import Reader     # 데이터를 읽을 때 읽는 방법을 설정하는 클래스\n",
    "\n",
    "data3 = Dataset.load_from_file('data-files/ml-latest-small/ratings.csv', \n",
    "                                Reader(rating_scale=(0.5, 5), sep=',', skip_lines=1))"
   ]
  },
  {
   "cell_type": "code",
   "execution_count": 23,
   "metadata": {},
   "outputs": [],
   "source": [
    "# from sklearn.model_selection import train_test_split\n",
    "from surprise.model_selection import train_test_split"
   ]
  },
  {
   "cell_type": "code",
   "execution_count": 27,
   "metadata": {},
   "outputs": [],
   "source": [
    "trainset, testset = train_test_split(data3, random_state=42)"
   ]
  },
  {
   "cell_type": "code",
   "execution_count": null,
   "metadata": {},
   "outputs": [],
   "source": [
    "from surprise import KNNBasic   # 기본: 코사인 유사도\n",
    "\n",
    "knn_model = KNNBasic(sim_options={'name':\"cosine\", 'user_based':False})\n",
    "# 유사도는 코사인, 사용자기반 false = 아이템 기반"
   ]
  },
  {
   "cell_type": "code",
   "execution_count": 30,
   "metadata": {},
   "outputs": [
    {
     "name": "stdout",
     "output_type": "stream",
     "text": [
      "Computing the cosine similarity matrix...\n",
      "Done computing similarity matrix.\n"
     ]
    },
    {
     "data": {
      "text/plain": [
       "<surprise.prediction_algorithms.knns.KNNBasic at 0x2482efa7ef0>"
      ]
     },
     "execution_count": 30,
     "metadata": {},
     "output_type": "execute_result"
    }
   ],
   "source": [
    "knn_model.fit(trainset)"
   ]
  },
  {
   "cell_type": "code",
   "execution_count": null,
   "metadata": {},
   "outputs": [
    {
     "name": "stdout",
     "output_type": "stream",
     "text": [
      "[('140', '6765', 3.5), ('603', '290', 4.0), ('438', '5055', 4.0)]\n",
      "user: 140        item: 6765       r_ui = None   est = 3.42   {'actual_k': 40, 'was_impossible': False}\n",
      "user: 603        item: 290        r_ui = None   est = 3.55   {'actual_k': 40, 'was_impossible': False}\n"
     ]
    }
   ],
   "source": [
    "# 개별 값 예측\n",
    "\n",
    "print( testset[:3] )\n",
    "print( knn_model.predict('140', '6765') )   # est=3.425 예측 값\n",
    "print( knn_model.predict('603', '290') )"
   ]
  },
  {
   "cell_type": "code",
   "execution_count": null,
   "metadata": {},
   "outputs": [
    {
     "data": {
      "text/plain": [
       "[Prediction(uid='140', iid='6765', r_ui=3.5, est=3.425, details={'actual_k': 40, 'was_impossible': False}),\n",
       " Prediction(uid='603', iid='290', r_ui=4.0, est=3.55, details={'actual_k': 40, 'was_impossible': False}),\n",
       " Prediction(uid='438', iid='5055', r_ui=4.0, est=3.1625, details={'actual_k': 40, 'was_impossible': False})]"
      ]
     },
     "execution_count": 37,
     "metadata": {},
     "output_type": "execute_result"
    }
   ],
   "source": [
    "# 다수 예측\n",
    "predictions = knn_model.test(testset)\n",
    "predictions[:3]\n",
    "# 'was_impossible': 계산 못함 False > 계산 해냈다는 뜻"
   ]
  },
  {
   "cell_type": "code",
   "execution_count": 40,
   "metadata": {},
   "outputs": [
    {
     "name": "stdout",
     "output_type": "stream",
     "text": [
      "MAE:  0.7615\n",
      "0.7614697475628528\n",
      "RMSE: 0.9800\n",
      "0.97995665962038\n"
     ]
    }
   ],
   "source": [
    "from surprise import accuracy\n",
    "\n",
    "print( accuracy.mae(predictions = predictions) )\n",
    "print( accuracy.rmse(predictions = predictions) )"
   ]
  },
  {
   "cell_type": "code",
   "execution_count": 41,
   "metadata": {},
   "outputs": [
    {
     "data": {
      "text/html": [
       "<div>\n",
       "<style scoped>\n",
       "    .dataframe tbody tr th:only-of-type {\n",
       "        vertical-align: middle;\n",
       "    }\n",
       "\n",
       "    .dataframe tbody tr th {\n",
       "        vertical-align: top;\n",
       "    }\n",
       "\n",
       "    .dataframe thead th {\n",
       "        text-align: right;\n",
       "    }\n",
       "</style>\n",
       "<table border=\"1\" class=\"dataframe\">\n",
       "  <thead>\n",
       "    <tr style=\"text-align: right;\">\n",
       "      <th></th>\n",
       "      <th>movieId</th>\n",
       "      <th>title</th>\n",
       "      <th>genres</th>\n",
       "    </tr>\n",
       "  </thead>\n",
       "  <tbody>\n",
       "    <tr>\n",
       "      <th>0</th>\n",
       "      <td>1</td>\n",
       "      <td>Toy Story (1995)</td>\n",
       "      <td>Adventure|Animation|Children|Comedy|Fantasy</td>\n",
       "    </tr>\n",
       "    <tr>\n",
       "      <th>1</th>\n",
       "      <td>2</td>\n",
       "      <td>Jumanji (1995)</td>\n",
       "      <td>Adventure|Children|Fantasy</td>\n",
       "    </tr>\n",
       "    <tr>\n",
       "      <th>2</th>\n",
       "      <td>3</td>\n",
       "      <td>Grumpier Old Men (1995)</td>\n",
       "      <td>Comedy|Romance</td>\n",
       "    </tr>\n",
       "    <tr>\n",
       "      <th>3</th>\n",
       "      <td>4</td>\n",
       "      <td>Waiting to Exhale (1995)</td>\n",
       "      <td>Comedy|Drama|Romance</td>\n",
       "    </tr>\n",
       "    <tr>\n",
       "      <th>4</th>\n",
       "      <td>5</td>\n",
       "      <td>Father of the Bride Part II (1995)</td>\n",
       "      <td>Comedy</td>\n",
       "    </tr>\n",
       "  </tbody>\n",
       "</table>\n",
       "</div>"
      ],
      "text/plain": [
       "   movieId                               title  \\\n",
       "0        1                    Toy Story (1995)   \n",
       "1        2                      Jumanji (1995)   \n",
       "2        3             Grumpier Old Men (1995)   \n",
       "3        4            Waiting to Exhale (1995)   \n",
       "4        5  Father of the Bride Part II (1995)   \n",
       "\n",
       "                                        genres  \n",
       "0  Adventure|Animation|Children|Comedy|Fantasy  \n",
       "1                   Adventure|Children|Fantasy  \n",
       "2                               Comedy|Romance  \n",
       "3                         Comedy|Drama|Romance  \n",
       "4                                       Comedy  "
      ]
     },
     "execution_count": 41,
     "metadata": {},
     "output_type": "execute_result"
    }
   ],
   "source": [
    "movies = pd.read_csv('data-files/ml-latest-small/movies.csv')\n",
    "movies.head()"
   ]
  },
  {
   "cell_type": "code",
   "execution_count": 65,
   "metadata": {},
   "outputs": [],
   "source": [
    "all_movie_id = ratings_small['movieId'].unique()\n",
    "# print(all_movie_id)\n",
    "# print(ratings_small['userId'].unique())\n",
    "# print((ratings_small['userId'] == 42).sum())\n",
    "rated_movies = ratings_small[ratings_small['userId'] == 42]['movieId'].values\n",
    "# 42번 사용자가 평점 매긴 영화만\n",
    "# len(rated_movies)\n",
    "\n",
    "# 42번 사용자가 추천하지 않은 모든 영화에 대한 예상 평점 계산\n",
    "predictions_of_user42 = []\n",
    "for movie_id in all_movie_id:\n",
    "    if movie_id not in rated_movies:\n",
    "        prediction = knn_model.predict(\"42\", str(movie_id))\n",
    "        predictions_of_user42.append(prediction)"
   ]
  },
  {
   "cell_type": "code",
   "execution_count": 64,
   "metadata": {},
   "outputs": [
    {
     "data": {
      "text/plain": [
       "[22, 10, 9, 7, 4]"
      ]
     },
     "execution_count": 64,
     "metadata": {},
     "output_type": "execute_result"
    }
   ],
   "source": [
    "# 리스트 정렬\n",
    "a = [10, 4, 7, 22, 9]\n",
    "a.sort()    # 리스트를 sort하면 정렬해 줌 (오름차순 정렬)\n",
    "a.reverse() # 그 정렬을 뒤집기 (내림차순 정렬)\n",
    "a   "
   ]
  },
  {
   "cell_type": "code",
   "execution_count": null,
   "metadata": {},
   "outputs": [],
   "source": [
    "len(predictions_of_user42)\n",
    "# 위 결과를 평점 기준 정렬 (내림차순)\n",
    "predictions_of_user42.sort()\n",
    "# Prediction uid iid r_ui est 이 중 뭘로 정렬할지 문제 발생, 단일 값만 있으면 문제 없다"
   ]
  },
  {
   "cell_type": "code",
   "execution_count": null,
   "metadata": {},
   "outputs": [
    {
     "data": {
      "text/plain": [
       "[Prediction(uid='42', iid='99750', r_ui=None, est=3.95, details={'actual_k': 40, 'was_impossible': False}),\n",
       " Prediction(uid='42', iid='99764', r_ui=None, est=4.275, details={'actual_k': 40, 'was_impossible': False}),\n",
       " Prediction(uid='42', iid='998', r_ui=None, est=3.675, details={'actual_k': 40, 'was_impossible': False}),\n",
       " Prediction(uid='42', iid='99813', r_ui=None, est=3.625, details={'actual_k': 40, 'was_impossible': False}),\n",
       " Prediction(uid='42', iid='99846', r_ui=None, est=3.7, details={'actual_k': 40, 'was_impossible': False}),\n",
       " Prediction(uid='42', iid='99853', r_ui=None, est=3.909090909090909, details={'actual_k': 22, 'was_impossible': False}),\n",
       " Prediction(uid='42', iid='999', r_ui=None, est=3.475, details={'actual_k': 40, 'was_impossible': False}),\n",
       " Prediction(uid='42', iid='99910', r_ui=None, est=4.05, details={'actual_k': 40, 'was_impossible': False}),\n",
       " Prediction(uid='42', iid='99917', r_ui=None, est=3.625, details={'actual_k': 40, 'was_impossible': False}),\n",
       " Prediction(uid='42', iid='99992', r_ui=None, est=3.7, details={'actual_k': 40, 'was_impossible': False})]"
      ]
     },
     "execution_count": 67,
     "metadata": {},
     "output_type": "execute_result"
    }
   ],
   "source": [
    "predictions_of_user42[-10:]\n",
    "# 정렬 기준이 여러개라서 우리가 원하는데로 정렬되지 않음"
   ]
  },
  {
   "cell_type": "code",
   "execution_count": 69,
   "metadata": {},
   "outputs": [],
   "source": [
    "# 위 결과를 평점 기준 정렬 (내림차순)\n",
    "predictions_of_user42.sort(key = lambda v: v.est, reverse=True)\n",
    "# 단일 값이 아닌 경우 sort함수에 기준(est) 지정해야 함.\n",
    "# 정렬할 때 뒤집기 옵션 True로 해서 내림차순 정렬"
   ]
  },
  {
   "cell_type": "code",
   "execution_count": 75,
   "metadata": {},
   "outputs": [
    {
     "data": {
      "text/plain": [
       "['One I Love, The (2014)',\n",
       " 'Laggies (2014)',\n",
       " 'Annabelle (2014)',\n",
       " 'Delirium (2014)',\n",
       " 'Deathgasm (2015)',\n",
       " 'A Street Cat Named Bob (2016)',\n",
       " 'Alvarez Kelly (1966)',\n",
       " 'Jungle Book 2, The (2003)',\n",
       " 'Cinderella (1997)',\n",
       " 'Young Victoria, The (2009)']"
      ]
     },
     "execution_count": 75,
     "metadata": {},
     "output_type": "execute_result"
    }
   ],
   "source": [
    "# predictions_of_user42[:10]\n",
    "# est 기준 상위 10개\n",
    "\n",
    "top_10_movies = []\n",
    "for p in predictions_of_user42[:10]:\n",
    "    movie = movies[movies['movieId'] == int(p.iid)]\n",
    "    # 아까 movieid를 str로 바꿨는데, 형이 안 맞으면 empty 됨\n",
    "    top_10_movies.append(movie['title'].values[0])\n",
    "\n",
    "top_10_movies"
   ]
  },
  {
   "cell_type": "code",
   "execution_count": null,
   "metadata": {},
   "outputs": [],
   "source": []
  }
 ],
 "metadata": {
  "kernelspec": {
   "display_name": "human-da-env",
   "language": "python",
   "name": "python3"
  },
  "language_info": {
   "codemirror_mode": {
    "name": "ipython",
    "version": 3
   },
   "file_extension": ".py",
   "mimetype": "text/x-python",
   "name": "python",
   "nbconvert_exporter": "python",
   "pygments_lexer": "ipython3",
   "version": "3.12.7"
  }
 },
 "nbformat": 4,
 "nbformat_minor": 2
}
