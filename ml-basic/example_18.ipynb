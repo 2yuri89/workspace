{
 "cells": [
  {
   "cell_type": "markdown",
   "metadata": {},
   "source": [
    "# 텍스트 데이터 - 한글"
   ]
  },
  {
   "cell_type": "code",
   "execution_count": 1,
   "metadata": {},
   "outputs": [],
   "source": [
    "import numpy as np\n",
    "import pandas as pd\n",
    "import matplotlib.pyplot as plt"
   ]
  },
  {
   "cell_type": "code",
   "execution_count": 2,
   "metadata": {},
   "outputs": [],
   "source": [
    "# 데이터 읽기\n",
    "ratings_train = pd.read_csv('data-files/ratings_train.txt', sep='\\t')   # 구분자 탭\n",
    "ratings_test = pd.read_csv('data-files/ratings_test.txt', sep='\\t')   # 구분자 탭"
   ]
  },
  {
   "cell_type": "code",
   "execution_count": 3,
   "metadata": {},
   "outputs": [
    {
     "name": "stdout",
     "output_type": "stream",
     "text": [
      "(150000, 3) (50000, 3)\n",
      "0.49884666666666666 0.50346\n",
      "(array([0, 1]), array([75173, 74827])) (array([0, 1]), array([24827, 25173]))\n"
     ]
    }
   ],
   "source": [
    "# 데이터 확인\n",
    "ratings_train.head(2), ratings_test.head(2)\n",
    "print( ratings_train.shape, ratings_test.shape )\n",
    "print( ratings_train['label'].mean(), ratings_test['label'].mean() )\n",
    "print( np.unique(ratings_train['label'], return_counts=True), np.unique(ratings_test['label'], return_counts=True))\n",
    "\n"
   ]
  },
  {
   "cell_type": "code",
   "execution_count": 4,
   "metadata": {},
   "outputs": [
    {
     "name": "stdout",
     "output_type": "stream",
     "text": [
      "<class 'pandas.core.frame.DataFrame'>\n",
      "RangeIndex: 150000 entries, 0 to 149999\n",
      "Data columns (total 3 columns):\n",
      " #   Column    Non-Null Count   Dtype \n",
      "---  ------    --------------   ----- \n",
      " 0   id        150000 non-null  int64 \n",
      " 1   document  149995 non-null  object\n",
      " 2   label     150000 non-null  int64 \n",
      "dtypes: int64(2), object(1)\n",
      "memory usage: 3.4+ MB\n",
      "<class 'pandas.core.frame.DataFrame'>\n",
      "RangeIndex: 50000 entries, 0 to 49999\n",
      "Data columns (total 3 columns):\n",
      " #   Column    Non-Null Count  Dtype \n",
      "---  ------    --------------  ----- \n",
      " 0   id        50000 non-null  int64 \n",
      " 1   document  49997 non-null  object\n",
      " 2   label     50000 non-null  int64 \n",
      "dtypes: int64(2), object(1)\n",
      "memory usage: 1.1+ MB\n"
     ]
    }
   ],
   "source": [
    "# 데이터 확인 2 --> missing value detected\n",
    "ratings_train.info()\n",
    "ratings_test.info()"
   ]
  },
  {
   "cell_type": "code",
   "execution_count": 5,
   "metadata": {},
   "outputs": [],
   "source": [
    "# 결측값 처리\n",
    "\n",
    "na_mask = ratings_train['document'].isna()\n",
    "ratings_na_removed_train = ratings_train[~na_mask].copy()   # ~ : not, & : and, | : or\n",
    "\n",
    "na_mask = ratings_test['document'].isna()\n",
    "ratings_na_removed_test = ratings_test[~na_mask].copy()"
   ]
  },
  {
   "cell_type": "code",
   "execution_count": 6,
   "metadata": {},
   "outputs": [],
   "source": [
    "# 데이터 전처리 1 : 한글 문자와 영문자만 보존\n",
    "\n",
    "# ratings_na_removed_train.tail()\n",
    "import re\n",
    "\n",
    "ratings_na_removed_train['document'] = \\\n",
    "    ratings_na_removed_train['document'].map(lambda v: re.sub(\"[^A-Za-zㄱ-힣]\", ' ', v))\n",
    "ratings_na_removed_test['document'] = \\\n",
    "    ratings_na_removed_test['document'].map(lambda v: re.sub(\"[^A-Za-zㄱ-힣]\", ' ', v))"
   ]
  },
  {
   "cell_type": "code",
   "execution_count": 7,
   "metadata": {},
   "outputs": [],
   "source": [
    "# 한국어 처리 패키지 설치\n",
    "# !pip install konlpy"
   ]
  },
  {
   "cell_type": "code",
   "execution_count": null,
   "metadata": {},
   "outputs": [
    {
     "name": "stdout",
     "output_type": "stream",
     "text": [
      "['아', '더빙', '진짜', '짜증나네요', '목소리']\n"
     ]
    }
   ],
   "source": [
    "# 형태소 분해 : 문장 -> 형태소 리스트\n",
    "\n",
    "from konlpy.tag import Okt  # 한국어 사전 준비 (형태소 분할에 사용)\n",
    "\n",
    "okt = Okt()\n",
    "print( okt.morphs(ratings_na_removed_train['document'][0]) )\n",
    "\n",
    "ratings_na_removed_train['document'] = ratings_na_removed_train['document'].map(okt.morphs)\n",
    "ratings_na_removed_test['document'] = ratings_na_removed_test['document'].map(okt.morphs)\n"
   ]
  },
  {
   "cell_type": "code",
   "execution_count": null,
   "metadata": {},
   "outputs": [],
   "source": [
    "ratings_na_removed_train.to_csv('data-files/ratings_train2.csv', index=False)\n",
    "ratings_na_removed_test.to_csv('data-files/ratings_test2.csv', index=False)\n",
    "# 원데이터는 리스트였는데, csv 저장 시 문자열로 저장함 -> 파일 불러온 후 리스트로 바꿔야함"
   ]
  },
  {
   "cell_type": "code",
   "execution_count": 2,
   "metadata": {},
   "outputs": [],
   "source": [
    "# 데이터 다시 읽어오기\n",
    "ratings_train2 = pd.read_csv('data-files/ratings_train2.csv')\n",
    "ratings_test2 = pd.read_csv('data-files/ratings_test2.csv')"
   ]
  },
  {
   "cell_type": "code",
   "execution_count": 3,
   "metadata": {},
   "outputs": [
    {
     "name": "stdout",
     "output_type": "stream",
     "text": [
      "<class 'pandas.core.frame.DataFrame'>\n",
      "RangeIndex: 149995 entries, 0 to 149994\n",
      "Data columns (total 3 columns):\n",
      " #   Column    Non-Null Count   Dtype \n",
      "---  ------    --------------   ----- \n",
      " 0   id        149995 non-null  int64 \n",
      " 1   document  149995 non-null  object\n",
      " 2   label     149995 non-null  int64 \n",
      "dtypes: int64(2), object(1)\n",
      "memory usage: 3.4+ MB\n",
      "<class 'pandas.core.frame.DataFrame'>\n",
      "RangeIndex: 49997 entries, 0 to 49996\n",
      "Data columns (total 3 columns):\n",
      " #   Column    Non-Null Count  Dtype \n",
      "---  ------    --------------  ----- \n",
      " 0   id        49997 non-null  int64 \n",
      " 1   document  49997 non-null  object\n",
      " 2   label     49997 non-null  int64 \n",
      "dtypes: int64(2), object(1)\n",
      "memory usage: 1.1+ MB\n"
     ]
    },
    {
     "data": {
      "text/plain": [
       "(None, None)"
      ]
     },
     "execution_count": 3,
     "metadata": {},
     "output_type": "execute_result"
    }
   ],
   "source": [
    "# 문제 확인 : document 컬럼이 문자열 형식으로 저장됨 -> 리스트로 변경 필요\n",
    "ratings_train2.head(1), ratings_test2.head(1)\n",
    "ratings_train2.info(), ratings_test2.info()"
   ]
  },
  {
   "cell_type": "code",
   "execution_count": 4,
   "metadata": {},
   "outputs": [
    {
     "name": "stdout",
     "output_type": "stream",
     "text": [
      "'\n",
      "456\n",
      "456\n"
     ]
    }
   ],
   "source": [
    "# document 컬럼 자료형 변경 : string -> list\n",
    "print(\"['123', '456', '789']\"[1])   # 문자열\n",
    "print(['123', '456', '789'][1])     # 리스트\n",
    "print(eval(\"['123', '456', '789']\")[1])   # eval : 문자열 -> 파이썬 코드\n",
    "\n",
    "ratings_train2['document'] = ratings_train2['document'].map(eval)\n",
    "ratings_test2['document'] = ratings_test2['document'].map(eval)\n"
   ]
  },
  {
   "cell_type": "code",
   "execution_count": 5,
   "metadata": {},
   "outputs": [
    {
     "data": {
      "text/plain": [
       "(list, list)"
      ]
     },
     "execution_count": 5,
     "metadata": {},
     "output_type": "execute_result"
    }
   ],
   "source": [
    "# 변환 확인\n",
    "type(ratings_train2['document'][0]), type(ratings_test2['document'][0])"
   ]
  },
  {
   "cell_type": "code",
   "execution_count": 6,
   "metadata": {},
   "outputs": [],
   "source": [
    "# token 리스트 -> 단일 문자열 > 이렇게 해야 카운트 할 수 있음\n",
    "ratings_train2['document'] = ratings_train2['document'].str.join(' ')\n",
    "ratings_test2['document'] = ratings_test2['document'].str.join(' ')"
   ]
  },
  {
   "cell_type": "code",
   "execution_count": 7,
   "metadata": {},
   "outputs": [],
   "source": [
    "# 전처리 결과 파일에 저장\n",
    "ratings_train2.to_csv(\"data-files/processed_ratings_train.csv\", index=False)\n",
    "ratings_test2.to_csv(\"data-files/processed_ratings_test.csv\", index=False)"
   ]
  },
  {
   "cell_type": "code",
   "execution_count": 8,
   "metadata": {},
   "outputs": [],
   "source": [
    "# 문자열 -> 숫자 ( encoding )\n",
    "from sklearn.feature_extraction.text import CountVectorizer, TfidfVectorizer, TfidfTransformer\n",
    "\n",
    "cv = CountVectorizer() # 원데이터 사용\n",
    "cv_train_counts = cv.fit_transform(ratings_train2['document'])\n",
    "cv_test_counts = cv.transform(ratings_test2['document'])\n",
    "\n",
    "tv = TfidfVectorizer() # 원데이터 사용\n",
    "tv_train_counts = tv.fit_transform(ratings_train2['document'])\n",
    "tv_test_counts = tv.transform(ratings_test2['document'])\n",
    "\n",
    "tt = TfidfTransformer() # 한 번 처리된 CountVectorizer를 사용\n",
    "tt_train_counts = tt.fit_transform(cv_train_counts)\n",
    "tt_test_counts = tt.transform(cv_test_counts)"
   ]
  },
  {
   "cell_type": "code",
   "execution_count": 9,
   "metadata": {},
   "outputs": [],
   "source": [
    "# print( cv_train_counts )\n",
    "# (149995, 98323) > 149995행, 98323 단어\n",
    "# cv_train_counts.toarray()   # 메모리 이유로 불가능 (110. GiB 필요)\n",
    "# print( cv.vocabulary_[:10] )"
   ]
  },
  {
   "cell_type": "code",
   "execution_count": 17,
   "metadata": {},
   "outputs": [
    {
     "name": "stdout",
     "output_type": "stream",
     "text": [
      "<class 'pandas.core.frame.DataFrame'>\n",
      "RangeIndex: 149995 entries, 0 to 149994\n",
      "Data columns (total 3 columns):\n",
      " #   Column    Non-Null Count   Dtype \n",
      "---  ------    --------------   ----- \n",
      " 0   id        149995 non-null  int64 \n",
      " 1   document  149995 non-null  object\n",
      " 2   label     149995 non-null  int64 \n",
      "dtypes: int64(2), object(1)\n",
      "memory usage: 3.4+ MB\n",
      "<class 'pandas.core.frame.DataFrame'>\n",
      "RangeIndex: 49997 entries, 0 to 49996\n",
      "Data columns (total 3 columns):\n",
      " #   Column    Non-Null Count  Dtype \n",
      "---  ------    --------------  ----- \n",
      " 0   id        49997 non-null  int64 \n",
      " 1   document  49997 non-null  object\n",
      " 2   label     49997 non-null  int64 \n",
      "dtypes: int64(2), object(1)\n",
      "memory usage: 1.1+ MB\n"
     ]
    },
    {
     "data": {
      "text/plain": [
       "(None, None)"
      ]
     },
     "execution_count": 17,
     "metadata": {},
     "output_type": "execute_result"
    }
   ],
   "source": [
    "ratings_train3 = ratings_train2.dropna()\n",
    "ratings_test3 = ratings_test2.dropna()\n",
    "ratings_train3.info(), ratings_test3.info()"
   ]
  },
  {
   "cell_type": "code",
   "execution_count": 22,
   "metadata": {},
   "outputs": [
    {
     "name": "stdout",
     "output_type": "stream",
     "text": [
      "98323 <class 'dict'>\n",
      "['더빙', '진짜', '짜증나네요', '목소리', '포스터', '보고', '초딩', '영화', '오버', '연기']\n"
     ]
    }
   ],
   "source": [
    "print( len(cv.vocabulary_), type(cv.vocabulary_) )\n",
    "type( cv.vocabulary_.items() )\n",
    "print( list(cv.vocabulary_.keys())[:10] )"
   ]
  },
  {
   "cell_type": "code",
   "execution_count": 30,
   "metadata": {},
   "outputs": [
    {
     "name": "stdout",
     "output_type": "stream",
     "text": [
      "0.8856695223174106\n",
      "0.8390303418205093\n"
     ]
    }
   ],
   "source": [
    "# 모델 훈련 및 평가\n",
    "from sklearn.linear_model import LogisticRegression\n",
    "\n",
    "logreg = LogisticRegression()\n",
    "logreg.fit(tv_train_counts, ratings_train3['label'])\n",
    "\n",
    "print( logreg.score(tv_train_counts, ratings_train3['label']) )\n",
    "print( logreg.score(tv_test_counts, ratings_test3['label']) )"
   ]
  },
  {
   "cell_type": "code",
   "execution_count": null,
   "metadata": {},
   "outputs": [],
   "source": []
  }
 ],
 "metadata": {
  "kernelspec": {
   "display_name": "human-da-env",
   "language": "python",
   "name": "python3"
  },
  "language_info": {
   "codemirror_mode": {
    "name": "ipython",
    "version": 3
   },
   "file_extension": ".py",
   "mimetype": "text/x-python",
   "name": "python",
   "nbconvert_exporter": "python",
   "pygments_lexer": "ipython3",
   "version": "3.12.7"
  }
 },
 "nbformat": 4,
 "nbformat_minor": 2
}
