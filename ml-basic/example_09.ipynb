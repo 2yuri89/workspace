{
 "cells": [
  {
   "cell_type": "markdown",
   "metadata": {},
   "source": [
    "# 서포트 백터 머신(SVM)"
   ]
  },
  {
   "cell_type": "code",
   "execution_count": 1,
   "metadata": {},
   "outputs": [],
   "source": [
    "import numpy as np\n",
    "import pandas as pd\n",
    "import matplotlib.pyplot as plt\n",
    "\n",
    "from sklearn.model_selection import train_test_split"
   ]
  },
  {
   "cell_type": "code",
   "execution_count": 2,
   "metadata": {},
   "outputs": [],
   "source": [
    "# 데이터 준비\n",
    "from sklearn.datasets import load_breast_cancer     # breast_cancer 분류 연습용 데이터\n",
    "\n",
    "bc_dataset = load_breast_cancer()\n",
    "\n",
    "X = bc_dataset['data']\n",
    "y = bc_dataset['target']\n",
    "\n",
    "X_train, X_test, y_train, y_test = train_test_split(X, y, stratify=y, random_state=42)"
   ]
  },
  {
   "cell_type": "code",
   "execution_count": 3,
   "metadata": {},
   "outputs": [],
   "source": [
    "\n",
    "bc_dataset = load_breast_cancer()\n",
    "\n",
    "X = bc_dataset['data']\n",
    "y = bc_dataset['target']\n",
    "\n",
    "X_train, X_test, y_train, y_test = train_test_split(X, y, stratify=y, random_state=42)"
   ]
  },
  {
   "cell_type": "markdown",
   "metadata": {},
   "source": [
    "### 커널 서포트 벡터 머신"
   ]
  },
  {
   "cell_type": "code",
   "execution_count": 17,
   "metadata": {},
   "outputs": [
    {
     "name": "stdout",
     "output_type": "stream",
     "text": [
      "0.9694835680751174 0.958041958041958\n",
      "0.9507042253521126 0.9440559440559441\n"
     ]
    }
   ],
   "source": [
    "# 모델 훈련 (학습)\n",
    "\n",
    "from sklearn.svm import LinearSVC, SVC\n",
    "\n",
    "lsvc = LinearSVC(random_state = 42)\n",
    "svc = SVC(C = 100, gamma = 0.000001, random_state = 42)\n",
    "\n",
    "lsvc.fit(X_train, y_train)\n",
    "svc.fit(X_train, y_train)\n",
    "\n",
    "print( lsvc.score(X_train, y_train), lsvc.score(X_test, y_test) )\n",
    "print( svc.score(X_train, y_train), svc.score(X_test, y_test) )"
   ]
  }
 ],
 "metadata": {
  "kernelspec": {
   "display_name": "human-da-env",
   "language": "python",
   "name": "python3"
  },
  "language_info": {
   "codemirror_mode": {
    "name": "ipython",
    "version": 3
   },
   "file_extension": ".py",
   "mimetype": "text/x-python",
   "name": "python",
   "nbconvert_exporter": "python",
   "pygments_lexer": "ipython3",
   "version": "3.12.7"
  }
 },
 "nbformat": 4,
 "nbformat_minor": 2
}
