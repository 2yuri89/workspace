{
 "cells": [
  {
   "cell_type": "markdown",
   "metadata": {},
   "source": [
    "# 혼동행렬"
   ]
  },
  {
   "cell_type": "code",
   "execution_count": 1,
   "metadata": {},
   "outputs": [],
   "source": [
    "import numpy as np\n",
    "import pandas as pd\n",
    "import matplotlib.pyplot as plt"
   ]
  },
  {
   "cell_type": "markdown",
   "metadata": {},
   "source": [
    "### 불균형 데이터"
   ]
  },
  {
   "cell_type": "code",
   "execution_count": null,
   "metadata": {},
   "outputs": [
    {
     "data": {
      "text/plain": [
       "(array([0, 1, 2, 3, 4, 5, 6, 7, 8, 9]),\n",
       " array([178, 182, 177, 183, 181, 182, 181, 179, 174, 180]))"
      ]
     },
     "execution_count": 4,
     "metadata": {},
     "output_type": "execute_result"
    }
   ],
   "source": [
    "# 데이터 준비\n",
    "from sklearn.datasets import load_digits\n",
    "# load_digits 손글씨 숫자\n",
    "\n",
    "digits_dataset = load_digits()\n",
    "np.unique(digits_dataset['target'], return_counts=True)\n",
    "# array([0, 1, 2, 3, 4, 5, 6, 7, 8, 9]),\n",
    "# array([178, 182, 177, 183, 181, 182, 181, 179, 174, 180]\n",
    "# 0~9까지 보면 거의 균형 데이터 셋임"
   ]
  },
  {
   "cell_type": "code",
   "execution_count": null,
   "metadata": {},
   "outputs": [
    {
     "name": "stdout",
     "output_type": "stream",
     "text": [
      "(array([0, 1]), array([1614,  183]))\n"
     ]
    }
   ],
   "source": [
    "# 불균형 데이터셋 만들기\n",
    "from sklearn.model_selection import train_test_split\n",
    "X = digits_dataset['data']\n",
    "y = digits_dataset['target']\n",
    "# 이건 균형 데이터 셋 > 변형 주기\n",
    "yis3 = (y == 3) \n",
    "# yis3은 불균형 데이터셋 > y== 3 T, y != 3 F 이진된다\n",
    "# 이건 불린. ml전부 숫자여야해서 타입 바꾸기\n",
    "yis3 = (y == 3).astype(int)\n",
    "# print( np.unique(yis3, return_counts=True) ) # 테스트\n",
    "\n",
    "X_train, X_test, y_train, y_test = train_test_split(X, yis3, stratify=yis3, random_state=42)"
   ]
  },
  {
   "cell_type": "code",
   "execution_count": null,
   "metadata": {},
   "outputs": [],
   "source": [
    "# 모델 훈련 - 3개\n",
    "from sklearn.dummy import DummyClassifier   # 알고리즘으로 학습하지 않는 모델\n"
   ]
  },
  {
   "cell_type": "code",
   "execution_count": null,
   "metadata": {},
   "outputs": [],
   "source": []
  }
 ],
 "metadata": {
  "kernelspec": {
   "display_name": "human-da-env",
   "language": "python",
   "name": "python3"
  },
  "language_info": {
   "codemirror_mode": {
    "name": "ipython",
    "version": 3
   },
   "file_extension": ".py",
   "mimetype": "text/x-python",
   "name": "python",
   "nbconvert_exporter": "python",
   "pygments_lexer": "ipython3",
   "version": "3.12.7"
  }
 },
 "nbformat": 4,
 "nbformat_minor": 2
}
