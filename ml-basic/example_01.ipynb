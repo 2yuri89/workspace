{
 "cells": [
  {
   "cell_type": "markdown",
   "metadata": {},
   "source": [
    "# 머신러닝 시작"
   ]
  },
  {
   "cell_type": "markdown",
   "metadata": {},
   "source": [
    "### 퍼셉트론 구현하기 - 함수기반"
   ]
  },
  {
   "cell_type": "markdown",
   "metadata": {},
   "source": [
    "아이리스 데이터 셋"
   ]
  },
  {
   "cell_type": "code",
   "execution_count": 104,
   "metadata": {},
   "outputs": [],
   "source": [
    "import numpy as np\n",
    "import pandas as pd\n",
    "import matplotlib.pyplot as plt\n",
    "\n",
    "from sklearn.datasets import load_iris, load_wine"
   ]
  },
  {
   "cell_type": "code",
   "execution_count": 65,
   "metadata": {},
   "outputs": [],
   "source": [
    "iris_dataset = load_iris()"
   ]
  },
  {
   "cell_type": "code",
   "execution_count": 66,
   "metadata": {},
   "outputs": [
    {
     "name": "stdout",
     "output_type": "stream",
     "text": [
      "<class 'sklearn.utils._bunch.Bunch'>\n",
      "dict_keys(['data', 'target', 'frame', 'target_names', 'DESCR', 'feature_names', 'filename', 'data_module'])\n",
      "[[5.1 3.5 1.4 0.2]\n",
      " [4.9 3.  1.4 0.2]\n",
      " [4.7 3.2 1.3 0.2]]\n",
      "[0 0 0]\n",
      "[0 1 2]\n",
      "['setosa' 'versicolor' 'virginica']\n"
     ]
    }
   ],
   "source": [
    "# scikit-learn이 제공하는 데이터셋의 구조 확인(다른 데이터셋도 거의 동일/유사한 구조)\n",
    "print( type(iris_dataset) ) # iris_dataset은 dict와 유사한 구조의 데이터\n",
    "print( iris_dataset.keys() ) # dict와 유사한 구조라서 keys를 가져올 수 있다\n",
    "# print( iris_dataset['DESCR'] )\n",
    "print( iris_dataset['data'][:3, :] )        # feature(x)에 해당하는 데이터(2차원 넘파이 어레이)\n",
    "print( iris_dataset['target'][:3] )         # target(y)에 해당하는 데이터(1차원)\n",
    "print( np.unique(iris_dataset['target']) )  # target(y)에 해당하는 데이터(1차원)\n",
    "print( iris_dataset['target_names'] )       # target(y)의 실제 값\n",
    "# 'data' = x, 'target' = y, 'target_names' = 숫자가 의미하는 이름을 정의\n",
    "# 'DESCR', 'feature_names', 'filename', 'data_module'"
   ]
  },
  {
   "cell_type": "markdown",
   "metadata": {},
   "source": [
    "프랑크 로젠블라트의 논리(퍼셉트론 알고리즘) : Net input 함수 만들기"
   ]
  },
  {
   "cell_type": "code",
   "execution_count": 67,
   "metadata": {},
   "outputs": [],
   "source": [
    "# pass : 지금은 아니지만 나중에 코드를 넣을 거라는 의미\n",
    "def net_input(X, w):    # X: 1D array, w: 1D array 1차원 배열\n",
    "    # return sum([x*w for x, w in zip(X, w[1:])]) + w[0]\n",
    "    return np.dot(X, w[1:]) + w[0]\n",
    "    # (np.dot하면 알아서 Transpose해 줌) W1X1 + W2X2 + ... + WnXn + W0*1 이 연산 함"
   ]
  },
  {
   "cell_type": "code",
   "execution_count": 68,
   "metadata": {},
   "outputs": [
    {
     "data": {
      "text/plain": [
       "np.int64(710)"
      ]
     },
     "execution_count": 68,
     "metadata": {},
     "output_type": "execute_result"
    }
   ],
   "source": [
    "net_input([1, 2, 3, 4, 5], [10, 20, 30, 40, 50, 60])"
   ]
  },
  {
   "cell_type": "markdown",
   "metadata": {},
   "source": [
    "프랑크 로젠블라트의 논리(퍼셉트론 알고리즘) : Activation 구현"
   ]
  },
  {
   "cell_type": "code",
   "execution_count": null,
   "metadata": {},
   "outputs": [],
   "source": [
    "def activation(v):\n",
    "    # if v > 0:\n",
    "    #     return 1\n",
    "    # else\n",
    "    #     return -1\n",
    "    return 1 if v > 0 else -1 # 0보다 크면 1 아니면 -1\n",
    "# 위의 if문과 완벽하게 같다"
   ]
  },
  {
   "cell_type": "code",
   "execution_count": 86,
   "metadata": {},
   "outputs": [
    {
     "data": {
      "text/plain": [
       "(1, -1)"
      ]
     },
     "execution_count": 86,
     "metadata": {},
     "output_type": "execute_result"
    }
   ],
   "source": [
    "activation(0.7), activation(-0.2)"
   ]
  },
  {
   "cell_type": "markdown",
   "metadata": {},
   "source": [
    "퍼셉트론 알고리즘 - net input과 activation 함수 이어 붙이기"
   ]
  },
  {
   "cell_type": "code",
   "execution_count": 87,
   "metadata": {},
   "outputs": [],
   "source": [
    "def predict(X, w):\n",
    "    net_value = net_input(X, w)\n",
    "    activated_value = activation(net_value)\n",
    "    return activated_value"
   ]
  },
  {
   "cell_type": "code",
   "execution_count": 204,
   "metadata": {},
   "outputs": [],
   "source": [
    "def fit(X, y, eta, n_iter):\n",
    "    \"\"\"\n",
    "    데이터를 사용해서 perceptron 모델을 훈련하는 함수\\n\\n\n",
    "    [전달인자]\n",
    "    1. X : feature\n",
    "    2. y : target\n",
    "    3. eta : 학습률(learning rate)\n",
    "    4. n_iter : 학습 반복 횟수\n",
    "    \"\"\"\n",
    "    w = np.zeros(X.shape[1] + 1) # X.shape : 2차원 배열의 열 갯수, +1은 편향(bias)에 대한 것\n",
    "    # 리스트를 직접 쓰는 것보다 np를 쓰는게 좋다\n",
    "    errors = np.zeros(n_iter)\n",
    "    # 학습 반복 횟수 크기의 오차 배열 만들기 (오차 로그용)\n",
    "\n",
    "    for idx in np.arange(n_iter): # 학습 반복\n",
    "        # _는 필요 없다는 뜻. \n",
    "        sum_of_error = 0\n",
    "        for xv, t in zip(X, y): # 한 행의 입력 + 타겟을 뽑아서 아래 문장(학습)을 실행 * 행 갯수\n",
    "            # zip : 양쪽에서 하나씩 뽑아서 묶어주는 것, X, y에서 뽑아서 xv, t에 넣어주는 것\n",
    "            output = predict(xv, w) # net input + activation -> 1 or -1 반환\n",
    "            error = t - output      # 오차 계산 (실제값 - 출력값)\n",
    "            # sum_of_error += error   # 현재 학습 반복의 에러를 합산\n",
    "            sum_of_error += 1 if error != 0 else 0\n",
    "            # 오차가 0이 아니라면(오차가 없는게 아니라면) 1을 증가시킨다는 의미\n",
    "            delta = eta * error     # 가중치 업데이트에 적용할 값 계산 (델타가중치 = 학습률(t-o)x)\n",
    "            w[1:] += delta * xv     # 가중치 업데이트 \n",
    "            w[0] = delta * 1        # 가중치(편향) 업데이트. 처음것은 1*w0라서 xv(입력값)이 없다. \n",
    "\n",
    "        errors[idx] = sum_of_error  # 에러 로그(히스트리)에 현재 학습 반복의 에러 추가\n",
    "        # 한 에포크당 에러가 어떻게 되는지\n",
    "\n",
    "    return w, errors                # 업데이트된 최종 가중치와 에러를 반환"
   ]
  },
  {
   "cell_type": "code",
   "execution_count": 205,
   "metadata": {},
   "outputs": [
    {
     "data": {
      "image/png": "[encoded data removed]",
      "text/plain": [
       "<Figure size 640x480 with 1 Axes>"
      ]
     },
     "metadata": {},
     "output_type": "display_data"
    }
   ],
   "source": [
    "# 구분이 잘 되는 품종 찾기\n",
    "X = iris_dataset['data']\n",
    "plt.scatter(X[:50, 0], X[:50, 1], label = 's')\n",
    "plt.scatter(X[50:100, 0], X[50:100, 1], label = 'vs')\n",
    "plt.scatter(X[100:150, 0], X[100:150, 1], label = 'vc')\n",
    "plt.legend()\n",
    "plt.show()"
   ]
  },
  {
   "cell_type": "code",
   "execution_count": 206,
   "metadata": {},
   "outputs": [],
   "source": [
    "X = iris_dataset['data'][:100] # 100까지만\n",
    "y = iris_dataset['target'][:100] # 0 : 50개, 1 : 50개\n",
    "# y = list( map(lambda v: -1 if v == 0 else 1, y) ) # 0 -> -1, 1 -> 1로 변경\n",
    "y = np.where(y == 0, -1, 1) # y의 각 값이 0이면 -1, 아니면 1로 변경 위의 if와 같은 의미\n",
    "eta, n_iter = 0.1, 10   # 학습률, 반복 횟수\n",
    "\n",
    "result_w, result_errors = fit(X, y, eta, n_iter)"
   ]
  },
  {
   "cell_type": "code",
   "execution_count": 207,
   "metadata": {},
   "outputs": [
    {
     "data": {
      "text/plain": [
       "(array([ 0.  , -0.22, -0.72,  1.04,  0.44]),\n",
       " array([1., 3., 1., 0., 0., 0., 0., 0., 0., 0.]))"
      ]
     },
     "execution_count": 207,
     "metadata": {},
     "output_type": "execute_result"
    }
   ],
   "source": [
    "result_w, result_errors\n",
    "# 0, 1, 2 epoch까지 돌리고, 3번 epoch 부터는 에려율 0"
   ]
  },
  {
   "cell_type": "code",
   "execution_count": 208,
   "metadata": {},
   "outputs": [
    {
     "name": "stdout",
     "output_type": "stream",
     "text": [
      "Accuracy : 1.0\n"
     ]
    }
   ],
   "source": [
    "sum_of_error = 0\n",
    "for xv, t in zip(X, y):\n",
    "    predicted_value = predict(xv, result_w) # 학습된 가중치를 사용해서 값 예측\n",
    "    sum_of_error += (predicted_value != t)  # 예측이 틀리면 error 1 증가\n",
    "    # print(predicted_value, t)\n",
    "print(\"Accuracy : {0}\".format(1 - (sum_of_error / 100))) # 정확도(에러/데이터갯수) 출력"
   ]
  },
  {
   "cell_type": "code",
   "execution_count": 209,
   "metadata": {},
   "outputs": [
    {
     "name": "stdout",
     "output_type": "stream",
     "text": [
      "Accuracy : 0.5\n"
     ]
    }
   ],
   "source": [
    "X = iris_dataset['data'][50:] # 100까지만\n",
    "y = iris_dataset['target'][50:] # 0 : 50개, 1 : 50개\n",
    "# y = list( map(lambda v: -1 if v == 1 else 1, y) ) # 0 -> -1, 1 -> 1로 변경\n",
    "y = np.where(y == 1, -1, 1) # y의 각 값이 0이면 -1, 아니면 1로 변경 위의 if와 같은 의미 (모델과 출력 값이 같도록 ??)\n",
    "eta, n_iter = 0.1, 10   # 학습률, 반복 횟수\n",
    "\n",
    "result_w, result_errors = fit(X, y, eta, n_iter)\n",
    "\n",
    "sum_of_error = 0\n",
    "for xv, t in zip(X, y):\n",
    "    predicted_value = predict(xv, result_w) # 학습된 가중치를 사용해서 값 예측\n",
    "    sum_of_error += (predicted_value != t)  # 예측이 틀리면 error 1 증가\n",
    "    # print(predicted_value, t)\n",
    "print(\"Accuracy : {0}\".format(1 - (sum_of_error / 100))) # 정확도(에러/데이터갯수) 출력"
   ]
  },
  {
   "cell_type": "markdown",
   "metadata": {},
   "source": [
    "연습(과제) - 와인(2진 분류)"
   ]
  },
  {
   "cell_type": "code",
   "execution_count": 210,
   "metadata": {},
   "outputs": [],
   "source": [
    "wine_dataset = load_wine()"
   ]
  },
  {
   "cell_type": "code",
   "execution_count": 211,
   "metadata": {},
   "outputs": [
    {
     "data": {
      "text/plain": [
       "dict_keys(['data', 'target', 'frame', 'target_names', 'DESCR', 'feature_names'])"
      ]
     },
     "execution_count": 211,
     "metadata": {},
     "output_type": "execute_result"
    }
   ],
   "source": [
    "wine_dataset.keys()\n",
    "# wine_dataset['target'], wine_dataset['target_names']\n",
    "# 'data', 'target', 'target_names'\n",
    "# 'target_names'있다면 보통 다중 분류일 가능성이 높다\n",
    "# print( wine_dataset['DESCR'] )"
   ]
  },
  {
   "cell_type": "code",
   "execution_count": 212,
   "metadata": {},
   "outputs": [
    {
     "data": {
      "text/plain": [
       "{'data': array([[1.423e+01, 1.710e+00, 2.430e+00, ..., 1.040e+00, 3.920e+00,\n",
       "         1.065e+03],\n",
       "        [1.320e+01, 1.780e+00, 2.140e+00, ..., 1.050e+00, 3.400e+00,\n",
       "         1.050e+03],\n",
       "        [1.316e+01, 2.360e+00, 2.670e+00, ..., 1.030e+00, 3.170e+00,\n",
       "         1.185e+03],\n",
       "        ...,\n",
       "        [1.327e+01, 4.280e+00, 2.260e+00, ..., 5.900e-01, 1.560e+00,\n",
       "         8.350e+02],\n",
       "        [1.317e+01, 2.590e+00, 2.370e+00, ..., 6.000e-01, 1.620e+00,\n",
       "         8.400e+02],\n",
       "        [1.413e+01, 4.100e+00, 2.740e+00, ..., 6.100e-01, 1.600e+00,\n",
       "         5.600e+02]]),\n",
       " 'target': array([0, 0, 0, 0, 0, 0, 0, 0, 0, 0, 0, 0, 0, 0, 0, 0, 0, 0, 0, 0, 0, 0,\n",
       "        0, 0, 0, 0, 0, 0, 0, 0, 0, 0, 0, 0, 0, 0, 0, 0, 0, 0, 0, 0, 0, 0,\n",
       "        0, 0, 0, 0, 0, 0, 0, 0, 0, 0, 0, 0, 0, 0, 0, 1, 1, 1, 1, 1, 1, 1,\n",
       "        1, 1, 1, 1, 1, 1, 1, 1, 1, 1, 1, 1, 1, 1, 1, 1, 1, 1, 1, 1, 1, 1,\n",
       "        1, 1, 1, 1, 1, 1, 1, 1, 1, 1, 1, 1, 1, 1, 1, 1, 1, 1, 1, 1, 1, 1,\n",
       "        1, 1, 1, 1, 1, 1, 1, 1, 1, 1, 1, 1, 1, 1, 1, 1, 1, 1, 1, 1, 2, 2,\n",
       "        2, 2, 2, 2, 2, 2, 2, 2, 2, 2, 2, 2, 2, 2, 2, 2, 2, 2, 2, 2, 2, 2,\n",
       "        2, 2, 2, 2, 2, 2, 2, 2, 2, 2, 2, 2, 2, 2, 2, 2, 2, 2, 2, 2, 2, 2,\n",
       "        2, 2]),\n",
       " 'frame': None,\n",
       " 'target_names': array(['class_0', 'class_1', 'class_2'], dtype='<U7'),\n",
       " 'DESCR': '.. _wine_dataset:\\n\\nWine recognition dataset\\n------------------------\\n\\n**Data Set Characteristics:**\\n\\n:Number of Instances: 178\\n:Number of Attributes: 13 numeric, predictive attributes and the class\\n:Attribute Information:\\n    - Alcohol\\n    - Malic acid\\n    - Ash\\n    - Alcalinity of ash\\n    - Magnesium\\n    - Total phenols\\n    - Flavanoids\\n    - Nonflavanoid phenols\\n    - Proanthocyanins\\n    - Color intensity\\n    - Hue\\n    - OD280/OD315 of diluted wines\\n    - Proline\\n    - class:\\n        - class_0\\n        - class_1\\n        - class_2\\n\\n:Summary Statistics:\\n\\n============================= ==== ===== ======= =====\\n                                Min   Max   Mean     SD\\n============================= ==== ===== ======= =====\\nAlcohol:                      11.0  14.8    13.0   0.8\\nMalic Acid:                   0.74  5.80    2.34  1.12\\nAsh:                          1.36  3.23    2.36  0.27\\nAlcalinity of Ash:            10.6  30.0    19.5   3.3\\nMagnesium:                    70.0 162.0    99.7  14.3\\nTotal Phenols:                0.98  3.88    2.29  0.63\\nFlavanoids:                   0.34  5.08    2.03  1.00\\nNonflavanoid Phenols:         0.13  0.66    0.36  0.12\\nProanthocyanins:              0.41  3.58    1.59  0.57\\nColour Intensity:              1.3  13.0     5.1   2.3\\nHue:                          0.48  1.71    0.96  0.23\\nOD280/OD315 of diluted wines: 1.27  4.00    2.61  0.71\\nProline:                       278  1680     746   315\\n============================= ==== ===== ======= =====\\n\\n:Missing Attribute Values: None\\n:Class Distribution: class_0 (59), class_1 (71), class_2 (48)\\n:Creator: R.A. Fisher\\n:Donor: Michael Marshall (MARSHALL%PLU@io.arc.nasa.gov)\\n:Date: July, 1988\\n\\nThis is a copy of UCI ML Wine recognition datasets.\\nhttps://archive.ics.uci.edu/ml/machine-learning-databases/wine/wine.data\\n\\nThe data is the results of a chemical analysis of wines grown in the same\\nregion in Italy by three different cultivators. There are thirteen different\\nmeasurements taken for different constituents found in the three types of\\nwine.\\n\\nOriginal Owners:\\n\\nForina, M. et al, PARVUS -\\nAn Extendible Package for Data Exploration, Classification and Correlation.\\nInstitute of Pharmaceutical and Food Analysis and Technologies,\\nVia Brigata Salerno, 16147 Genoa, Italy.\\n\\nCitation:\\n\\nLichman, M. (2013). UCI Machine Learning Repository\\n[https://archive.ics.uci.edu/ml]. Irvine, CA: University of California,\\nSchool of Information and Computer Science.\\n\\n.. dropdown:: References\\n\\n    (1) S. Aeberhard, D. Coomans and O. de Vel,\\n    Comparison of Classifiers in High Dimensional Settings,\\n    Tech. Rep. no. 92-02, (1992), Dept. of Computer Science and Dept. of\\n    Mathematics and Statistics, James Cook University of North Queensland.\\n    (Also submitted to Technometrics).\\n\\n    The data was used with many others for comparing various\\n    classifiers. The classes are separable, though only RDA\\n    has achieved 100% correct classification.\\n    (RDA : 100%, QDA 99.4%, LDA 98.9%, 1NN 96.1% (z-transformed data))\\n    (All results using the leave-one-out technique)\\n\\n    (2) S. Aeberhard, D. Coomans and O. de Vel,\\n    \"THE CLASSIFICATION PERFORMANCE OF RDA\"\\n    Tech. Rep. no. 92-01, (1992), Dept. of Computer Science and Dept. of\\n    Mathematics and Statistics, James Cook University of North Queensland.\\n    (Also submitted to Journal of Chemometrics).\\n',\n",
       " 'feature_names': ['alcohol',\n",
       "  'malic_acid',\n",
       "  'ash',\n",
       "  'alcalinity_of_ash',\n",
       "  'magnesium',\n",
       "  'total_phenols',\n",
       "  'flavanoids',\n",
       "  'nonflavanoid_phenols',\n",
       "  'proanthocyanins',\n",
       "  'color_intensity',\n",
       "  'hue',\n",
       "  'od280/od315_of_diluted_wines',\n",
       "  'proline']}"
      ]
     },
     "execution_count": 212,
     "metadata": {},
     "output_type": "execute_result"
    }
   ],
   "source": [
    "wine_dataset"
   ]
  },
  {
   "cell_type": "code",
   "execution_count": 213,
   "metadata": {},
   "outputs": [],
   "source": [
    "# wine_dataset을 사용해서 class_0과 나머지를 구분하는 이진 퍼셉트론 모델 사용\n",
    "# (위에서 만든 모델 사용)"
   ]
  },
  {
   "cell_type": "code",
   "execution_count": 214,
   "metadata": {},
   "outputs": [
    {
     "data": {
      "text/plain": [
       "array([0, 0, 0, 0, 0, 0, 0, 0, 0, 0, 0, 0, 0, 0, 0, 0, 0, 0, 0, 0, 0, 0,\n",
       "       0, 0, 0, 0, 0, 0, 0, 0, 0, 0, 0, 0, 0, 0, 0, 0, 0, 0, 0, 0, 0, 0,\n",
       "       0, 0, 0, 0, 0, 0, 0, 0, 0, 0, 0, 0, 0, 0, 0, 1, 1, 1, 1, 1, 1, 1,\n",
       "       1, 1, 1, 1, 1, 1, 1, 1, 1, 1, 1, 1, 1, 1, 1, 1, 1, 1, 1, 1, 1, 1,\n",
       "       1, 1, 1, 1, 1, 1, 1, 1, 1, 1, 1, 1, 1, 1, 1, 1, 1, 1, 1, 1, 1, 1,\n",
       "       1, 1, 1, 1, 1, 1, 1, 1, 1, 1, 1, 1, 1, 1, 1, 1, 1, 1, 1, 1, 2, 2,\n",
       "       2, 2, 2, 2, 2, 2, 2, 2, 2, 2, 2, 2, 2, 2, 2, 2, 2, 2, 2, 2, 2, 2,\n",
       "       2, 2, 2, 2, 2, 2, 2, 2, 2, 2, 2, 2, 2, 2, 2, 2, 2, 2, 2, 2, 2, 2,\n",
       "       2, 2])"
      ]
     },
     "execution_count": 214,
     "metadata": {},
     "output_type": "execute_result"
    }
   ],
   "source": [
    "wine_dataset['target']"
   ]
  },
  {
   "cell_type": "code",
   "execution_count": 215,
   "metadata": {},
   "outputs": [
    {
     "name": "stdout",
     "output_type": "stream",
     "text": [
      "class_0의 비율:  0.33146067415730335\n",
      "class_1의 비율:  0.398876404494382\n",
      "class_2의 비율:  0.2696629213483146\n"
     ]
    }
   ],
   "source": [
    "# class_0 (59), class_1 (71), class_2 (48)\n",
    "print( \"class_0의 비율: \", 59/(59+71+48))\n",
    "print( \"class_1의 비율: \", 71/(59+71+48))\n",
    "print( \"class_2의 비율: \", 48/(59+71+48))"
   ]
  },
  {
   "cell_type": "markdown",
   "metadata": {},
   "source": [
    "class0과 나머지 구하기"
   ]
  },
  {
   "cell_type": "code",
   "execution_count": 216,
   "metadata": {},
   "outputs": [
    {
     "name": "stdout",
     "output_type": "stream",
     "text": [
      "Accuracy : 0.6685393258426966\n"
     ]
    },
    {
     "data": {
      "image/png": "[encoded data removed]",
      "text/plain": [
       "<Figure size 600x300 with 1 Axes>"
      ]
     },
     "metadata": {},
     "output_type": "display_data"
    }
   ],
   "source": [
    "X = wine_dataset['data']\n",
    "y = wine_dataset['target']\n",
    "y = np.where(y == 0, -1, 1) \n",
    "eta, n_iter = 0.05, 50   # 학습률, 반복 횟수\n",
    "\n",
    "result_w, result_errors = fit(X, y, eta, n_iter)\n",
    "\n",
    "sum_of_error = 0\n",
    "for xv, t in zip(X, y):\n",
    "    predicted_value = predict(xv, result_w) # 학습된 가중치를 사용해서 값 예측\n",
    "    sum_of_error += (predicted_value != t)  # 예측이 틀리면 error 1 증가\n",
    "    # print(predicted_value, t)\n",
    "print(\"Accuracy : {0}\".format(1 - (sum_of_error / X.shape[0]))) # 정확도(에러/데이터갯수) 출력\n",
    "\n",
    "mask = y == -1\n",
    "plt.figure(figsize=(6,3))\n",
    "plt.scatter(X[y == -1, 0], X[y == -1, 1], label = 'class == 0', c='salmon', alpha = 0.5)\n",
    "plt.scatter(X[y == 1, 0], X[y == 1, 1], label = 'class != 0', c='mediumaquamarine', alpha = 0.5)\n",
    "plt.legend()\n",
    "plt.show()"
   ]
  },
  {
   "cell_type": "markdown",
   "metadata": {},
   "source": [
    "class_1과 나머지 구하기"
   ]
  },
  {
   "cell_type": "code",
   "execution_count": 217,
   "metadata": {},
   "outputs": [
    {
     "name": "stdout",
     "output_type": "stream",
     "text": [
      "Accuracy : 0.601123595505618\n"
     ]
    },
    {
     "data": {
      "image/png": "[encoded data removed]",
      "text/plain": [
       "<Figure size 600x300 with 1 Axes>"
      ]
     },
     "metadata": {},
     "output_type": "display_data"
    }
   ],
   "source": [
    "X = wine_dataset['data']\n",
    "y = wine_dataset['target']\n",
    "y = np.where(y == 1, -1, 1) \n",
    "eta, n_iter = 0.05, 50   # 학습률, 반복 횟수\n",
    "\n",
    "result_w, result_errors = fit(X, y, eta, n_iter)\n",
    "\n",
    "sum_of_error = 0\n",
    "for xv, t in zip(X, y):\n",
    "    predicted_value = predict(xv, result_w) # 학습된 가중치를 사용해서 값 예측\n",
    "    sum_of_error += (predicted_value != t)  # 예측이 틀리면 error 1 증가\n",
    "    # print(predicted_value, t)\n",
    "print(\"Accuracy : {0}\".format(1 - (sum_of_error / X.shape[0]))) # 정확도(에러/데이터갯수) 출력\n",
    "\n",
    "mask = y == -1\n",
    "plt.figure(figsize=(6,3))\n",
    "plt.scatter(X[y == -1, 0], X[y == -1, 1], label = 'class == 1', c='salmon', alpha = 0.5)\n",
    "plt.scatter(X[y == 1, 0], X[y == 1, 1], label = 'class != 1', c='mediumaquamarine', alpha = 0.5)\n",
    "plt.legend()\n",
    "plt.show()"
   ]
  },
  {
   "cell_type": "markdown",
   "metadata": {},
   "source": [
    "class_2와 나머지 구하기"
   ]
  },
  {
   "cell_type": "code",
   "execution_count": 218,
   "metadata": {},
   "outputs": [
    {
     "name": "stdout",
     "output_type": "stream",
     "text": [
      "Accuracy : 0.7303370786516854\n"
     ]
    },
    {
     "data": {
      "image/png": "[encoded data removed]",
      "text/plain": [
       "<Figure size 600x300 with 1 Axes>"
      ]
     },
     "metadata": {},
     "output_type": "display_data"
    }
   ],
   "source": [
    "X = wine_dataset['data']\n",
    "y = wine_dataset['target']\n",
    "y = np.where(y == 2, -1, 1) \n",
    "eta, n_iter = 0.1, 50   # 학습률, 반복 횟수\n",
    "\n",
    "result_w, result_errors = fit(X, y, eta, n_iter)\n",
    "\n",
    "sum_of_error = 0\n",
    "for xv, t in zip(X, y):\n",
    "    predicted_value = predict(xv, result_w) # 학습된 가중치를 사용해서 값 예측\n",
    "    sum_of_error += (predicted_value != t)  # 예측이 틀리면 error 1 증가\n",
    "    # print(predicted_value, t)\n",
    "print(\"Accuracy : {0}\".format((sum_of_error / X.shape[0]))) # 정확도(에러/데이터갯수) 출력\n",
    "\n",
    "mask = y == -1\n",
    "plt.figure(figsize=(6,3))\n",
    "plt.scatter(X[y == -1, 0], X[y == -1, 1], label = 'class == 2', c='salmon', alpha = 0.5)\n",
    "plt.scatter(X[y == 1, 0], X[y == 1, 1], label = 'class != 2', c='mediumaquamarine', alpha = 0.5)\n",
    "plt.legend()\n",
    "plt.show()"
   ]
  },
  {
   "cell_type": "markdown",
   "metadata": {},
   "source": [
    "# 선생님과 함께"
   ]
  },
  {
   "cell_type": "code",
   "execution_count": 219,
   "metadata": {},
   "outputs": [
    {
     "data": {
      "text/plain": [
       "dict_keys(['data', 'target', 'frame', 'target_names', 'DESCR', 'feature_names'])"
      ]
     },
     "execution_count": 219,
     "metadata": {},
     "output_type": "execute_result"
    }
   ],
   "source": [
    "wine_dataset = load_wine()\n",
    "wine_dataset.keys()"
   ]
  },
  {
   "cell_type": "code",
   "execution_count": 223,
   "metadata": {},
   "outputs": [],
   "source": [
    "X = wine_dataset['data']\n",
    "y = wine_dataset['target']\n",
    "y2 = np.where(y == 0, 1, -1) # 기존 데이터 중 0 -> 1, 나머지(1, 2) -> -1 "
   ]
  },
  {
   "cell_type": "code",
   "execution_count": 224,
   "metadata": {},
   "outputs": [
    {
     "data": {
      "text/plain": [
       "array([ 1,  1,  1,  1,  1,  1,  1,  1,  1,  1,  1,  1,  1,  1,  1,  1,  1,\n",
       "        1,  1,  1,  1,  1,  1,  1,  1,  1,  1,  1,  1,  1,  1,  1,  1,  1,\n",
       "        1,  1,  1,  1,  1,  1,  1,  1,  1,  1,  1,  1,  1,  1,  1,  1,  1,\n",
       "        1,  1,  1,  1,  1,  1,  1,  1, -1, -1, -1, -1, -1, -1, -1, -1, -1,\n",
       "       -1, -1, -1, -1, -1, -1, -1, -1, -1, -1, -1, -1, -1, -1, -1, -1, -1,\n",
       "       -1, -1, -1, -1, -1, -1, -1, -1, -1, -1, -1, -1, -1, -1, -1, -1, -1,\n",
       "       -1, -1, -1, -1, -1, -1, -1, -1, -1, -1, -1, -1, -1, -1, -1, -1, -1,\n",
       "       -1, -1, -1, -1, -1, -1, -1, -1, -1, -1, -1, -1, -1, -1, -1, -1, -1,\n",
       "       -1, -1, -1, -1, -1, -1, -1, -1, -1, -1, -1, -1, -1, -1, -1, -1, -1,\n",
       "       -1, -1, -1, -1, -1, -1, -1, -1, -1, -1, -1, -1, -1, -1, -1, -1, -1,\n",
       "       -1, -1, -1, -1, -1, -1, -1, -1])"
      ]
     },
     "execution_count": 224,
     "metadata": {},
     "output_type": "execute_result"
    }
   ],
   "source": [
    "y2"
   ]
  },
  {
   "cell_type": "code",
   "execution_count": 227,
   "metadata": {},
   "outputs": [
    {
     "data": {
      "text/plain": [
       "(array([   0.    ,  -48.016 ,   -0.762 ,   -4.51  ,  -47.68  , -251.2   ,\n",
       "          -4.73  ,    9.722 ,   -2.972 ,    9.042 ,    6.488 ,   -5.9912,\n",
       "           4.554 ,  -32.    ]),\n",
       " array([3., 3., 3., 3., 2., 3., 3., 3., 3., 2., 3., 3., 3., 3., 2., 3., 3.,\n",
       "        3., 3., 2., 3., 3., 3., 3., 2., 3., 3., 3., 3., 2.]))"
      ]
     },
     "execution_count": 227,
     "metadata": {},
     "output_type": "execute_result"
    }
   ],
   "source": [
    "rw, re = fit(X, y2, eta=0.1, n_iter=30)\n",
    "# rw: 학습된 결과물 \n",
    "# re: 에러 히스토리\n",
    "rw, re"
   ]
  },
  {
   "cell_type": "code",
   "execution_count": 228,
   "metadata": {},
   "outputs": [
    {
     "name": "stdout",
     "output_type": "stream",
     "text": [
      "Accuracy : 0.33146067415730335\n"
     ]
    }
   ],
   "source": [
    "error_cnt = 0\n",
    "for xv, t in zip(X, y2):\n",
    "    pv = predict(xv, rw)\n",
    "    error_cnt += (pv != t)\n",
    "\n",
    "print( \"Accuracy : {0}\".format( error_cnt / len(y2)) )"
   ]
  },
  {
   "cell_type": "code",
   "execution_count": null,
   "metadata": {},
   "outputs": [
    {
     "data": {
      "text/plain": [
       "array([1.483e+01, 5.800e+00, 3.230e+00, 3.000e+01, 1.620e+02, 3.880e+00,\n",
       "       5.080e+00, 6.600e-01, 3.580e+00, 1.300e+01, 1.710e+00, 4.000e+00,\n",
       "       1.680e+03])"
      ]
     },
     "execution_count": 230,
     "metadata": {},
     "output_type": "execute_result"
    }
   ],
   "source": [
    "X.max(axis=0)\n",
    "# 스케일이 중구난방 > 데이터가 편향되어 나온다."
   ]
  },
  {
   "cell_type": "code",
   "execution_count": 267,
   "metadata": {},
   "outputs": [],
   "source": [
    "from sklearn.preprocessing import MinMaxScaler"
   ]
  },
  {
   "cell_type": "code",
   "execution_count": 268,
   "metadata": {},
   "outputs": [],
   "source": [
    "# X를 최소-최대 정규화해서 모든 컬럼의 값을 0~1로 바꿈 > 스케일 맞추기\n",
    "X2 = MinMaxScaler().fit_transform(X)"
   ]
  },
  {
   "cell_type": "code",
   "execution_count": 269,
   "metadata": {},
   "outputs": [],
   "source": [
    "rw, re = fit(X2, y2, eta=0.1, n_iter=100)"
   ]
  },
  {
   "cell_type": "code",
   "execution_count": 270,
   "metadata": {},
   "outputs": [
    {
     "data": {
      "text/plain": [
       "array([4., 2., 4., 5., 3., 2., 3., 5., 5., 3., 5., 5., 5., 5., 4., 5., 5.,\n",
       "       6., 4., 3., 5., 5., 5., 4., 3., 5., 6., 4., 3., 5., 5., 5., 4., 3.,\n",
       "       5., 5., 4., 3., 5., 5., 4., 3., 5., 5., 5., 5., 5., 5., 5., 5., 5.,\n",
       "       5., 5., 5., 5., 5., 5., 4., 3., 5., 5., 5., 5., 4., 3., 3., 4., 3.,\n",
       "       5., 4., 3., 5., 5., 4., 3., 5., 5., 5., 5., 5., 3., 5., 5., 4., 3.,\n",
       "       2., 3., 5., 5., 5., 5., 5., 2., 3., 2., 3., 2., 3., 5., 4.])"
      ]
     },
     "execution_count": 270,
     "metadata": {},
     "output_type": "execute_result"
    }
   ],
   "source": [
    "re"
   ]
  },
  {
   "cell_type": "code",
   "execution_count": 271,
   "metadata": {},
   "outputs": [
    {
     "name": "stdout",
     "output_type": "stream",
     "text": [
      "Accuracy : 0.9775280898876404\n"
     ]
    }
   ],
   "source": [
    "error_cnt = 0\n",
    "for xv, t in zip(X2, y2):\n",
    "    pv = predict(xv, rw)\n",
    "    error_cnt += (pv != t)\n",
    "\n",
    "print( \"Accuracy : {0}\".format( 1 - (error_cnt / len(y2))) )"
   ]
  },
  {
   "cell_type": "code",
   "execution_count": null,
   "metadata": {},
   "outputs": [],
   "source": []
  }
 ],
 "metadata": {
  "kernelspec": {
   "display_name": "human-da-env",
   "language": "python",
   "name": "python3"
  },
  "language_info": {
   "codemirror_mode": {
    "name": "ipython",
    "version": 3
   },
   "file_extension": ".py",
   "mimetype": "text/x-python",
   "name": "python",
   "nbconvert_exporter": "python",
   "pygments_lexer": "ipython3",
   "version": "3.12.7"
  }
 },
 "nbformat": 4,
 "nbformat_minor": 2
}
