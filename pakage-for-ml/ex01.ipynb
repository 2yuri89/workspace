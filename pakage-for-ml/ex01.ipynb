{
 "cells": [
  {
   "cell_type": "code",
   "execution_count": 1,
   "metadata": {},
   "outputs": [],
   "source": [
    "import numpy as np"
   ]
  },
  {
   "cell_type": "code",
   "execution_count": 9,
   "metadata": {},
   "outputs": [
    {
     "name": "stdout",
     "output_type": "stream",
     "text": [
      "<class 'list'> <class 'numpy.ndarray'>\n",
      "<class 'int'> <class 'numpy.int64'> <class 'numpy.float32'>\n"
     ]
    }
   ],
   "source": [
    "l = [1, 2, 3, 4, 5]\n",
    "l2 = np.array(l)    # 대부분의 경우에 사용\n",
    "l3 = np.array(l, dtype = 'f')   # 옵션줘서 자료형 지정\n",
    "\n",
    "print( type(l), type(l2) )\n",
    "print( type(l[0]), type(l2[0]), type(l3[0] ))"
   ]
  },
  {
   "cell_type": "code",
   "execution_count": 12,
   "metadata": {},
   "outputs": [
    {
     "name": "stdout",
     "output_type": "stream",
     "text": [
      "(2, 3)\n",
      "[[1 2 3]\n",
      " [4 5 6]]\n"
     ]
    }
   ],
   "source": [
    "a = np.array([[1,2,3],[4,5,6]])\n",
    "print (a.shape)\n",
    "print(a)"
   ]
  },
  {
   "cell_type": "code",
   "execution_count": 11,
   "metadata": {},
   "outputs": [
    {
     "name": "stdout",
     "output_type": "stream",
     "text": [
      "(3, 2)\n",
      "[[1 2]\n",
      " [3 4]\n",
      " [5 6]]\n"
     ]
    }
   ],
   "source": [
    "a.shape = (3, 2)\n",
    "print(a.shape)\n",
    "print(a)"
   ]
  },
  {
   "cell_type": "code",
   "execution_count": 15,
   "metadata": {},
   "outputs": [
    {
     "name": "stdout",
     "output_type": "stream",
     "text": [
      "1\n",
      "[ 0  1  2  3  4  5  6  7  8  9 10 11 12 13 14 15 16 17 18 19 20 21 22 23]\n",
      "3\n",
      "[[[ 0  1  2]\n",
      "  [ 3  4  5]\n",
      "  [ 6  7  8]\n",
      "  [ 9 10 11]]\n",
      "\n",
      " [[12 13 14]\n",
      "  [15 16 17]\n",
      "  [18 19 20]\n",
      "  [21 22 23]]]\n"
     ]
    }
   ],
   "source": [
    "# 배열의 차원의 개수 정보\n",
    "a = np.arange(24) # 0부터 24개를 뽑겠다. 유사한 것이 range(24)\n",
    "print(a.ndim)\n",
    "print(a)\n",
    "b = a.reshape(2,4,3) # a를 4행 3열 2개인 3차원의 데이터\n",
    "print(b.ndim)\n",
    "print(b)"
   ]
  },
  {
   "cell_type": "code",
   "execution_count": 19,
   "metadata": {},
   "outputs": [
    {
     "name": "stdout",
     "output_type": "stream",
     "text": [
      "empty [[1 2]\n",
      " [3 4]\n",
      " [5 6]]\n",
      "zeros [0 0 0 0 0]\n",
      "ones [[1 1]\n",
      " [1 1]]\n"
     ]
    }
   ],
   "source": [
    "x = np.empty([3,2], dtype=int)\n",
    "print('empty', x)\n",
    "\n",
    "x = np.zeros((5,), dtype=\"int\")\n",
    "print('zeros', x)\n",
    "\n",
    "x = np.ones([2,2], dtype=int)\n",
    "print('ones', x)"
   ]
  },
  {
   "cell_type": "code",
   "execution_count": 22,
   "metadata": {},
   "outputs": [
    {
     "name": "stdout",
     "output_type": "stream",
     "text": [
      "[10 12 14 16 18]\n"
     ]
    }
   ],
   "source": [
    "x = np.arange(10,20,2)\n",
    "print (x)"
   ]
  },
  {
   "cell_type": "code",
   "execution_count": 26,
   "metadata": {},
   "outputs": [
    {
     "name": "stdout",
     "output_type": "stream",
     "text": [
      "[1.   1.25 1.5  1.75 2.  ]\n",
      "(array([10., 12., 14., 16., 18.]), np.float64(2.0))\n"
     ]
    }
   ],
   "source": [
    "a = np.linspace(1.0, 2.0, num = 5)\n",
    "print (a)\n",
    "# 시각화 할때 많이 사용. 1.0~2.0까지 숫자 5개를 뽑아라\n",
    "# 끝값 포함이 기본값\n",
    "\n",
    "x = np.linspace(10,20, 5, endpoint = False, retstep = True)\n",
    "print (x) \n",
    "# endpoin를 지정해서 미포함으로 설정\n",
    "# retstep은 간격이 얼마인지 계산해줌"
   ]
  },
  {
   "cell_type": "code",
   "execution_count": 28,
   "metadata": {},
   "outputs": [
    {
     "data": {
      "text/plain": [
       "array([0, 1, 2, 3, 4, 5, 6, 7, 8])"
      ]
     },
     "execution_count": 28,
     "metadata": {},
     "output_type": "execute_result"
    }
   ],
   "source": [
    "x = np.arange(9)\n",
    "x"
   ]
  },
  {
   "cell_type": "code",
   "execution_count": 31,
   "metadata": {},
   "outputs": [
    {
     "name": "stdout",
     "output_type": "stream",
     "text": [
      "[2 4 6]\n",
      "5\n",
      "[2 3 4 5 6 7 8 9]\n",
      "[0 1]\n"
     ]
    }
   ],
   "source": [
    "# Slicing\n",
    "a = np.arange(10)\n",
    "b = a[2:7:2] \n",
    "# [from:to:step] - 2번째(포함)에서 7번째(미포함)까지, 간격은 2로 자르기\n",
    "print (b)\n",
    "\n",
    "# Indexing\n",
    "a = np.arange(10)\n",
    "b = a[5] # 해당 위치에 있는 값만 가져오기\n",
    "print (b)\n",
    "\n",
    "# Slicing 2번째 부터 끝까지\n",
    "a = np.arange(10)\n",
    "print (a[2:])\n",
    "\n",
    "# Slicing 처음부터 2번째 까지\n",
    "a = np.arange(10)\n",
    "print (a[:2])\n"
   ]
  },
  {
   "cell_type": "code",
   "execution_count": 38,
   "metadata": {},
   "outputs": [
    {
     "name": "stdout",
     "output_type": "stream",
     "text": [
      "[[1 2 3]\n",
      " [3 4 5]\n",
      " [4 5 6]]\n",
      "(3, 3)\n",
      "[[3 4 5]\n",
      " [4 5 6]]\n",
      "[[3 4 5]]\n"
     ]
    }
   ],
   "source": [
    "a = np.array([[1,2,3],[3,4,5],[4,5,6]])\n",
    "print (a)\n",
    "print(a.shape)\n",
    "# 3행 3열로 나옴\n",
    "print (a[1:])\n",
    "# 2차원이라서 1개만 넣으면 행에 대한 슬라이싱만 한다.\n"
   ]
  },
  {
   "cell_type": "code",
   "execution_count": 39,
   "metadata": {},
   "outputs": [
    {
     "name": "stdout",
     "output_type": "stream",
     "text": [
      "[1 4 5]\n"
     ]
    }
   ],
   "source": [
    "# 슬라이싱 2차원 배열 열과 행을 맞춰 자르기\n",
    "x = np.array([[1, 2], [3, 4], [5, 6]])\n",
    "y = x[[0,1,2], [0,1,0]]\n",
    "# 0행 0열, 1행 1열, 2행 0열\n",
    "print (y)"
   ]
  },
  {
   "cell_type": "code",
   "execution_count": 44,
   "metadata": {},
   "outputs": [
    {
     "name": "stdout",
     "output_type": "stream",
     "text": [
      "(4, 3) \n",
      " [[ 0  1  2]\n",
      " [ 3  4  5]\n",
      " [ 6  7  8]\n",
      " [ 9 10 11]] \n",
      "\n",
      "[[ 4  5]\n",
      " [ 7  8]\n",
      " [10 11]] \n",
      "\n",
      "[[ 4  5]\n",
      " [ 7  8]\n",
      " [10 11]] \n",
      "\n"
     ]
    }
   ],
   "source": [
    "x = np.array([[ 0, 1, 2],[ 3, 4, 5], [ 6, 7, 8],[ 9, 10, 11]])\n",
    "print(x.shape, '\\n', x, '\\n')\n",
    "\n",
    "z = x[1:4,1:3] #1행 ~ 4행, 1열 ~ 3열\n",
    "print (z, '\\n')\n",
    "\n",
    "y = x[1:4,[1,2]]\n",
    "# 인덱싱과 슬라이승, 행 슬라이싱하고 열은 1열과 2열만 가져오라는 것\n",
    "print (y, '\\n')"
   ]
  },
  {
   "cell_type": "code",
   "execution_count": 47,
   "metadata": {},
   "outputs": [
    {
     "name": "stdout",
     "output_type": "stream",
     "text": [
      "[[ 0  1  2]\n",
      " [ 3  4  5]\n",
      " [ 6  7  8]\n",
      " [ 9 10 11]] \n",
      " [[False False False]\n",
      " [False False False]\n",
      " [ True  True  True]\n",
      " [ True  True  True]] \n",
      "\n",
      "[ 6  7  8  9 10 11]\n"
     ]
    }
   ],
   "source": [
    "# 불린 인덱싱\n",
    "\n",
    "x = np.array([[ 0, 1, 2],[ 3, 4, 5],[ 6, 7, 8],[ 9, 10, 11]])\n",
    "print(x, '\\n', x>5, '\\n')\n",
    "print(x[x > 5])\n",
    "# 5이하는 false, 5초과는 true.\n",
    "# 이 경우 true만 반환한다. "
   ]
  },
  {
   "cell_type": "code",
   "execution_count": 52,
   "metadata": {},
   "outputs": [
    {
     "name": "stdout",
     "output_type": "stream",
     "text": [
      "[nan  1.  2. nan  3.  4.  5.]\n",
      "[ True False False  True False False False]\n",
      "[False  True  True False  True  True  True]\n",
      "[1. 2. 3. 4. 5.]\n"
     ]
    }
   ],
   "source": [
    "# missing value 찾는 방법\n",
    "a = np.array([np.nan, 1,2,np.nan,3,4,5])\n",
    "print(a)\n",
    "\n",
    "print(np.isnan(a))\n",
    "# nan이 있는 위치만 true\n",
    "\n",
    "print(~np.isnan(a))\n",
    "# 위 결과를 반전시켜서 T/F를 바꿈\n",
    "\n",
    "print(a[~np.isnan(a)])\n",
    "# 첫 결과를 반전시켜서 nan이 아닌 값만 반환\n"
   ]
  },
  {
   "cell_type": "code",
   "execution_count": 54,
   "metadata": {},
   "outputs": [
    {
     "name": "stdout",
     "output_type": "stream",
     "text": [
      "[ 10  40  90 160]\n"
     ]
    }
   ],
   "source": [
    "# 브로드캐스팅 (Broadcasting)\n",
    "# 넘파이는 엘리먼트와이즈연산을한다\n",
    "# 같은 열 수라면, 수직행 끼리 연산\n",
    "a = np.array([1,2,3,4])\n",
    "b = np.array([10,20,30,40])\n",
    "c = a * b\n",
    "print(c)"
   ]
  },
  {
   "cell_type": "code",
   "execution_count": 58,
   "metadata": {},
   "outputs": [
    {
     "name": "stdout",
     "output_type": "stream",
     "text": [
      "(4, 3) (3,)\n",
      "[[ 1.  2.  3.]\n",
      " [11. 12. 13.]\n",
      " [21. 22. 23.]\n",
      " [31. 32. 33.]]\n"
     ]
    }
   ],
   "source": [
    "# 브로드캐스팅 (Broadcasting) - 구조가 다를때 구조에 맞춰서 연산해줌\n",
    "# 형태가 다른 배열 연산 처리\n",
    "a = np.array([[0.0,0.0,0.0],[10.0,10.0,10.0],[20.0,20.0,20.0],[30.0,30.0,30.0]])\n",
    "b = np.array([1.0,2.0,3.0])\n",
    "print(a.shape, b.shape)\n",
    "print (a + b)\n",
    "# a의 각 열과 b를 연산한다.\n",
    "# 이때 b의 값 개수가 a열의 개수와 맞지 않으면 에러남"
   ]
  },
  {
   "cell_type": "code",
   "execution_count": 60,
   "metadata": {},
   "outputs": [
    {
     "name": "stdout",
     "output_type": "stream",
     "text": [
      "[[ 0  5 10 15]\n",
      " [20 25 30 35]\n",
      " [40 45 50 55]]\n",
      "\n",
      "0 5 10 15 20 25 30 35 40 45 50 55 \n",
      "\n",
      "0 20 40 5 25 45 10 30 50 15 35 55 "
     ]
    }
   ],
   "source": [
    "# numpy.nditer (잘 안씀)\n",
    "\n",
    "a = np.arange(0,60,5)\n",
    "a = a.reshape(3,4)\n",
    "print(a)\n",
    "print()\n",
    "for x in np.nditer(a, order = 'C'):\n",
    "    # c언어에서 데이터를 읽는 순서\n",
    "    print (x, end=' ')\n",
    "print ('\\n')\n",
    "for x in np.nditer(a, order = 'F'):\n",
    "    # 포츠란? 언어에서 데이터를 읽는 순서\n",
    "    print (x, end=' ')"
   ]
  },
  {
   "cell_type": "code",
   "execution_count": null,
   "metadata": {},
   "outputs": [],
   "source": []
  }
 ],
 "metadata": {
  "kernelspec": {
   "display_name": "human-da-env",
   "language": "python",
   "name": "python3"
  },
  "language_info": {
   "codemirror_mode": {
    "name": "ipython",
    "version": 3
   },
   "file_extension": ".py",
   "mimetype": "text/x-python",
   "name": "python",
   "nbconvert_exporter": "python",
   "pygments_lexer": "ipython3",
   "version": "3.12.7"
  }
 },
 "nbformat": 4,
 "nbformat_minor": 2
}
