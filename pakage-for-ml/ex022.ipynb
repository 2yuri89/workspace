{
 "cells": [
  {
   "cell_type": "code",
   "execution_count": 14,
   "metadata": {},
   "outputs": [],
   "source": [
    "# weather_data.csv 데이터를 읽어서 dataframe 구성\n",
    "\n",
    "# 최저기온 기준 제일 추웠던 날의 기온 (그 날짜의 데이터) 찾기\n",
    "# 최고기온 기준 제일 더웠던 날의 기온 (그 날짜의 데이터) 찾기\n",
    "# 일교차가 가장 큰 날 찾기\n",
    "# 평균기온의 평균, 최저기온, 최고기온의 평균"
   ]
  },
  {
   "cell_type": "code",
   "execution_count": 15,
   "metadata": {},
   "outputs": [
    {
     "data": {
      "text/plain": [
       "(   지점번호 지점명          일시  평균기온(℃)  최고기온(℃) 최고기온시각  최저기온(℃) 최저기온시각   일교차\n",
       " 0   108  서울  1907-10-01     13.5     20.7    NaN      7.9    NaN  12.8,\n",
       "        지점번호 지점명          일시  평균기온(℃)  최고기온(℃) 최고기온시각  최저기온(℃) 최저기온시각  일교차\n",
       " 42015   108  서울  2023-12-17     -9.8     -6.4  14:52    -12.4  07:58  6.0)"
      ]
     },
     "execution_count": 15,
     "metadata": {},
     "output_type": "execute_result"
    }
   ],
   "source": [
    "import pandas as pd\n",
    "import numpy as np\n",
    "\n",
    "w_df = pd.read_csv('data-files/weather_data.csv')\n",
    "w_df.head(1), w_df.tail(1)\n"
   ]
  },
  {
   "cell_type": "code",
   "execution_count": 16,
   "metadata": {},
   "outputs": [
    {
     "data": {
      "text/plain": [
       "Index(['지점번호', '지점명', '일시', '평균기온(℃)', '최고기온(℃)', '최고기온시각', '최저기온(℃)',\n",
       "       '최저기온시각', '일교차'],\n",
       "      dtype='object')"
      ]
     },
     "execution_count": 16,
     "metadata": {},
     "output_type": "execute_result"
    }
   ],
   "source": [
    "w_df.columns"
   ]
  },
  {
   "cell_type": "code",
   "execution_count": 17,
   "metadata": {},
   "outputs": [
    {
     "data": {
      "text/plain": [
       "Index(['지점번호', '지점명', '일시', '평균기온', '최고기온', '최고기온시각', '최저기온', '최저기온시각', '일교차'], dtype='object')"
      ]
     },
     "execution_count": 17,
     "metadata": {},
     "output_type": "execute_result"
    }
   ],
   "source": [
    "# 전체 컬럼 이름 바꾸기\n",
    "w_df.columns = ['지점번호', '지점명', '일시', '평균기온', '최고기온', '최고기온시각', '최저기온',\n",
    "                 '최저기온시각', '일교차']\n",
    "w_df.columns\n"
   ]
  },
  {
   "cell_type": "code",
   "execution_count": 18,
   "metadata": {},
   "outputs": [
    {
     "data": {
      "text/html": [
       "<div>\n",
       "<style scoped>\n",
       "    .dataframe tbody tr th:only-of-type {\n",
       "        vertical-align: middle;\n",
       "    }\n",
       "\n",
       "    .dataframe tbody tr th {\n",
       "        vertical-align: top;\n",
       "    }\n",
       "\n",
       "    .dataframe thead th {\n",
       "        text-align: right;\n",
       "    }\n",
       "</style>\n",
       "<table border=\"1\" class=\"dataframe\">\n",
       "  <thead>\n",
       "    <tr style=\"text-align: right;\">\n",
       "      <th></th>\n",
       "      <th>지점번호</th>\n",
       "      <th>지점이름</th>\n",
       "      <th>관측일자</th>\n",
       "      <th>평균기온</th>\n",
       "      <th>최고기온</th>\n",
       "      <th>최고기온시각</th>\n",
       "      <th>최저기온</th>\n",
       "      <th>최저기온시각</th>\n",
       "      <th>일교차</th>\n",
       "    </tr>\n",
       "  </thead>\n",
       "  <tbody>\n",
       "    <tr>\n",
       "      <th>0</th>\n",
       "      <td>108</td>\n",
       "      <td>서울</td>\n",
       "      <td>1907-10-01</td>\n",
       "      <td>13.5</td>\n",
       "      <td>20.7</td>\n",
       "      <td>NaN</td>\n",
       "      <td>7.9</td>\n",
       "      <td>NaN</td>\n",
       "      <td>12.8</td>\n",
       "    </tr>\n",
       "  </tbody>\n",
       "</table>\n",
       "</div>"
      ],
      "text/plain": [
       "   지점번호 지점이름        관측일자  평균기온  최고기온 최고기온시각  최저기온 최저기온시각   일교차\n",
       "0   108   서울  1907-10-01  13.5  20.7    NaN   7.9    NaN  12.8"
      ]
     },
     "execution_count": 18,
     "metadata": {},
     "output_type": "execute_result"
    }
   ],
   "source": [
    "# 일부 컬럼 이름 바꾸기\n",
    "# w_df.rename(columns={ \"old-column\": \"new-column\"})\n",
    "w_df.rename(columns={ \"지점명\": \"지점이름\", \"일시\": \"관측일자\"})\n",
    "# 원본을 바꾸지 않고, 변경된 것을 복사본으로 반환\n",
    "# 바꾸고 싶다면 새로 지정한다\n",
    "w_df_rename = w_df.rename(columns={ \"지점명\": \"지점이름\", \"일시\": \"관측일자\"})\n",
    "\n",
    "w_df_rename.head(1)"
   ]
  },
  {
   "cell_type": "code",
   "execution_count": 19,
   "metadata": {},
   "outputs": [
    {
     "data": {
      "text/html": [
       "<div>\n",
       "<style scoped>\n",
       "    .dataframe tbody tr th:only-of-type {\n",
       "        vertical-align: middle;\n",
       "    }\n",
       "\n",
       "    .dataframe tbody tr th {\n",
       "        vertical-align: top;\n",
       "    }\n",
       "\n",
       "    .dataframe thead th {\n",
       "        text-align: right;\n",
       "    }\n",
       "</style>\n",
       "<table border=\"1\" class=\"dataframe\">\n",
       "  <thead>\n",
       "    <tr style=\"text-align: right;\">\n",
       "      <th></th>\n",
       "      <th>지점번호</th>\n",
       "      <th>지점이름</th>\n",
       "      <th>관측일자</th>\n",
       "      <th>평균기온</th>\n",
       "      <th>최고기온</th>\n",
       "      <th>최고기온시각</th>\n",
       "      <th>최저기온</th>\n",
       "      <th>최저기온시각</th>\n",
       "      <th>일교차</th>\n",
       "    </tr>\n",
       "  </thead>\n",
       "  <tbody>\n",
       "    <tr>\n",
       "      <th>0</th>\n",
       "      <td>108</td>\n",
       "      <td>서울</td>\n",
       "      <td>1907-10-01</td>\n",
       "      <td>13.5</td>\n",
       "      <td>20.7</td>\n",
       "      <td>NaN</td>\n",
       "      <td>7.9</td>\n",
       "      <td>NaN</td>\n",
       "      <td>12.8</td>\n",
       "    </tr>\n",
       "  </tbody>\n",
       "</table>\n",
       "</div>"
      ],
      "text/plain": [
       "   지점번호 지점이름        관측일자  평균기온  최고기온 최고기온시각  최저기온 최저기온시각   일교차\n",
       "0   108   서울  1907-10-01  13.5  20.7    NaN   7.9    NaN  12.8"
      ]
     },
     "execution_count": 19,
     "metadata": {},
     "output_type": "execute_result"
    }
   ],
   "source": [
    "# 원본에서 그 자체를 변경할 때\n",
    "w_df.rename(columns={ \"지점명\": \"지점이름\", \"일시\": \"관측일자\"}, inplace=True)\n",
    "w_df.head(1)\n",
    "\n",
    "# 데이터를 다룰때 불편성을 감수한다. 원본은 최대한 건드리지 말고, 변경하면 새로운 데이터로 하는 것이 정석\n",
    "# 원칙적으로는 사본을 만든다."
   ]
  },
  {
   "cell_type": "code",
   "execution_count": 21,
   "metadata": {},
   "outputs": [
    {
     "data": {
      "text/html": [
       "<div>\n",
       "<style scoped>\n",
       "    .dataframe tbody tr th:only-of-type {\n",
       "        vertical-align: middle;\n",
       "    }\n",
       "\n",
       "    .dataframe tbody tr th {\n",
       "        vertical-align: top;\n",
       "    }\n",
       "\n",
       "    .dataframe thead th {\n",
       "        text-align: right;\n",
       "    }\n",
       "</style>\n",
       "<table border=\"1\" class=\"dataframe\">\n",
       "  <thead>\n",
       "    <tr style=\"text-align: right;\">\n",
       "      <th></th>\n",
       "      <th>지점번호</th>\n",
       "      <th>지점이름</th>\n",
       "      <th>관측일자</th>\n",
       "      <th>평균기온</th>\n",
       "      <th>최고기온</th>\n",
       "      <th>최고기온시각</th>\n",
       "      <th>최저기온</th>\n",
       "      <th>최저기온시각</th>\n",
       "      <th>일교차</th>\n",
       "    </tr>\n",
       "  </thead>\n",
       "  <tbody>\n",
       "    <tr>\n",
       "      <th>7396</th>\n",
       "      <td>108</td>\n",
       "      <td>서울</td>\n",
       "      <td>1927-12-31</td>\n",
       "      <td>-15.3</td>\n",
       "      <td>-6.4</td>\n",
       "      <td>NaN</td>\n",
       "      <td>-23.1</td>\n",
       "      <td>NaN</td>\n",
       "      <td>16.7</td>\n",
       "    </tr>\n",
       "  </tbody>\n",
       "</table>\n",
       "</div>"
      ],
      "text/plain": [
       "      지점번호 지점이름        관측일자  평균기온  최고기온 최고기온시각  최저기온 최저기온시각   일교차\n",
       "7396   108   서울  1927-12-31 -15.3  -6.4    NaN -23.1    NaN  16.7"
      ]
     },
     "execution_count": 21,
     "metadata": {},
     "output_type": "execute_result"
    }
   ],
   "source": [
    "# 가장 낮은 최저 기온\n",
    "min_temperature = w_df[\"최저기온\"].min()\n",
    "min_idx = w_df['최저기온'] == min_temperature\n",
    "w_df[min_idx]\n",
    "# 알아서 nan처리를 해서 값이 있는 데이터에서 최소 값을 가져옴"
   ]
  },
  {
   "cell_type": "code",
   "execution_count": 25,
   "metadata": {},
   "outputs": [
    {
     "data": {
      "text/plain": [
       "지점번호             108\n",
       "지점이름              서울\n",
       "관측일자      1927-12-31\n",
       "평균기온           -15.3\n",
       "최고기온            -6.4\n",
       "최고기온시각           NaN\n",
       "최저기온           -23.1\n",
       "최저기온시각           NaN\n",
       "일교차             16.7\n",
       "Name: 7396, dtype: object"
      ]
     },
     "execution_count": 25,
     "metadata": {},
     "output_type": "execute_result"
    }
   ],
   "source": [
    "min_idx = w_df['최저기온'].argmin() # 최저 값이 있는 위치 (인덱스) 반환\n",
    "# w_df[min_idx] # 이 경우 min_idx를 컬럼으로 인지해서 에러남\n",
    "w_df.loc[min_idx] # 최저값이 있는 행을 행슬라이싱으로 반환"
   ]
  },
  {
   "cell_type": "code",
   "execution_count": 27,
   "metadata": {},
   "outputs": [
    {
     "data": {
      "text/plain": [
       "지점번호             108\n",
       "지점이름              서울\n",
       "관측일자      2018-08-01\n",
       "평균기온            33.6\n",
       "최고기온            39.6\n",
       "최고기온시각         15:36\n",
       "최저기온            27.8\n",
       "최저기온시각         05:56\n",
       "일교차             11.8\n",
       "Name: 40051, dtype: object"
      ]
     },
     "execution_count": 27,
     "metadata": {},
     "output_type": "execute_result"
    }
   ],
   "source": [
    "# 가장 높은 최고 기온\n",
    "max_idx = w_df['최고기온'].argmax() # 최고값이 있는 위치 (인덱스) 반환\n",
    "w_df.loc[max_idx] "
   ]
  },
  {
   "cell_type": "code",
   "execution_count": 28,
   "metadata": {},
   "outputs": [
    {
     "data": {
      "text/plain": [
       "지점번호             108\n",
       "지점이름              서울\n",
       "관측일자      1942-04-19\n",
       "평균기온            12.7\n",
       "최고기온            24.3\n",
       "최고기온시각         14:12\n",
       "최저기온             2.5\n",
       "최저기온시각         06:16\n",
       "일교차             21.8\n",
       "Name: 12619, dtype: object"
      ]
     },
     "execution_count": 28,
     "metadata": {},
     "output_type": "execute_result"
    }
   ],
   "source": [
    "# 일교차가 가장 큰 날\n",
    "max_idx = w_df['일교차'].argmax() # 최고값이 있는 위치 (인덱스) 반환\n",
    "w_df.loc[max_idx] \n"
   ]
  }
 ],
 "metadata": {
  "kernelspec": {
   "display_name": "human-da-env",
   "language": "python",
   "name": "python3"
  },
  "language_info": {
   "codemirror_mode": {
    "name": "ipython",
    "version": 3
   },
   "file_extension": ".py",
   "mimetype": "text/x-python",
   "name": "python",
   "nbconvert_exporter": "python",
   "pygments_lexer": "ipython3",
   "version": "3.12.7"
  }
 },
 "nbformat": 4,
 "nbformat_minor": 2
}
