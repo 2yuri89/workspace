{
 "cells": [
  {
   "cell_type": "code",
   "execution_count": 1,
   "metadata": {},
   "outputs": [],
   "source": [
    "# weather_data.csv 데이터를 읽어서 날짜 리스트와 기온 리스트를 각각 numpy.array로 저장\n",
    "# - csv 모듈 사용해서 행 단위로 데이터 읽기 or dataframe으로 읽어서 numpy.array로 구성\n",
    "\n",
    "# 최저기온 기준 제일 추웠던 날의 기온 (그 날짜의 데이터) 찾기\n",
    "# 최고기온 기준 제일 더웠던 날의 기온 (그 날짜의 데이터) 찾기\n",
    "# 일교차가 가장 큰 날 찾기\n",
    "# 평균기온의 평균, 최저기온, 최고기온의 평균"
   ]
  },
  {
   "cell_type": "code",
   "execution_count": 81,
   "metadata": {},
   "outputs": [
    {
     "data": {
      "text/plain": [
       "(   지점번호 지점명          일시  평균기온(℃)  최고기온(℃) 최고기온시각  최저기온(℃) 최저기온시각   일교차\n",
       " 0   108  서울  1907-10-01     13.5     20.7    NaN      7.9    NaN  12.8,\n",
       "        지점번호 지점명          일시  평균기온(℃)  최고기온(℃) 최고기온시각  최저기온(℃) 최저기온시각  일교차\n",
       " 42015   108  서울  2023-12-17     -9.8     -6.4  14:52    -12.4  07:58  6.0)"
      ]
     },
     "execution_count": 81,
     "metadata": {},
     "output_type": "execute_result"
    }
   ],
   "source": [
    "import pandas as pd\n",
    "import numpy as np\n",
    "\n",
    "w_df = pd.read_csv('data-files/weather_data.csv')\n",
    "w_df.head(1), w_df.tail(1)\n"
   ]
  },
  {
   "cell_type": "code",
   "execution_count": 83,
   "metadata": {},
   "outputs": [
    {
     "name": "stdout",
     "output_type": "stream",
     "text": [
      "(42016, 5)\n",
      "(41256, 5) \n",
      "            일시  평균기온(℃)  최고기온(℃)  최저기온(℃)   일교차\n",
      "0  1907-10-01     13.5     20.7      7.9  12.8 \n",
      "\n",
      "           일시\n",
      "0  1907-10-01 \n",
      "\n",
      "   평균기온(℃)\n",
      "0     13.5 \n",
      "\n",
      "   최고기온(℃)\n",
      "0     20.7 \n",
      "\n",
      "   최저기온(℃)\n",
      "0      7.9 \n",
      "\n",
      "    일교차\n",
      "0  12.8 \n",
      "\n"
     ]
    }
   ],
   "source": [
    "# 자료형에 따른 슬라이싱\n",
    "# 필요한 것  - 평균/최저/최고 기온, 날짜, 일교차\n",
    "# w_df.info()\n",
    "# 0   지점번호     42016 non-null  int64  \n",
    "# 1   지점명      42016 non-null  object \n",
    "# 2   일시       42016 non-null  object \n",
    "# 3   평균기온(℃)  41260 non-null  float64\n",
    "# 4   최고기온(℃)  41257 non-null  float64\n",
    "# 5   최고기온시각   29182 non-null  object \n",
    "# 6   최저기온(℃)  41257 non-null  float64\n",
    "# 7   최저기온시각   29172 non-null  object \n",
    "# 8   일교차      41256 non-null  float64\n",
    "# 필요 데이터\n",
    "# 2   일시       42016 non-null  object \n",
    "# 3   평균기온(℃)  41260 non-null  float64\n",
    "# 4   최고기온(℃)  41257 non-null  float64\n",
    "# 6   최저기온(℃)  41257 non-null  float64\n",
    "# 8   일교차      41256 non-null  float64\n",
    "\n",
    "df = w_df.loc[:, ['일시', '평균기온(℃)', '최고기온(℃)', '최저기온(℃)', '일교차']]\n",
    "print(df.shape)\n",
    "# 결측치 제거\n",
    "dropped_df = df.dropna()\n",
    "print(dropped_df.shape, '\\n', dropped_df.head(1), '\\n')\n",
    "\n",
    "\n",
    "# 자료형에 맞춰 데이터 프레임 분리\n",
    "date_df = dropped_df.loc[:, ['일시']]\n",
    "print(date_df.head(1), '\\n')\n",
    "avg_tem_df = dropped_df.loc[:, ['평균기온(℃)']]\n",
    "print(avg_tem_df.head(1), '\\n')\n",
    "max_tem_df = dropped_df.loc[:, ['최고기온(℃)']]\n",
    "print(max_tem_df.head(1), '\\n')\n",
    "min_tem_df = dropped_df.loc[:, ['최저기온(℃)']]\n",
    "print(min_tem_df.head(1), '\\n')\n",
    "gap_df = dropped_df.loc[:, ['일교차']]\n",
    "print(gap_df.head(1), '\\n')\n",
    "\n",
    "# 데이터 프레임을 배열로 변환\n",
    "date_ar = date_df.to_numpy()\n",
    "avg_tem_ar = avg_tem_df.to_numpy()\n",
    "max_tem_ar = max_tem_df.to_numpy()\n",
    "min_tem_ar = min_tem_df.to_numpy()\n",
    "gap_ar = gap_df.to_numpy()\n"
   ]
  },
  {
   "cell_type": "code",
   "execution_count": 86,
   "metadata": {},
   "outputs": [
    {
     "name": "stdout",
     "output_type": "stream",
     "text": [
      "최고기온 :  39.6 최저기온 :  -23.1\n",
      "최고기온 행 번호 :  39292 최저기온 행 번호 :  7396 \n",
      "\n",
      " 최저기온 기준 가장 추웠던 날 :  ['1927-12-31'] \n",
      " 최고기온 기준 가장 더웠던 날 :  ['2018-08-01']\n"
     ]
    }
   ],
   "source": [
    "# 최대/최소 기온 찾기\n",
    "max = np.max(max_tem_ar)\n",
    "min = np.min(min_tem_ar)\n",
    "print('최고기온 : ', max, '최저기온 : ', min)\n",
    "\n",
    "# 최대/최소 기온 인덱싱하기\n",
    "max_idx = np.argmax(max_tem_ar)\n",
    "min_idx = np.argmin(min_tem_ar)\n",
    "print('최고기온 행 번호 : ', max_idx, '최저기온 행 번호 : ', min_idx, '\\n')\n",
    "\n",
    "date_max = date_ar[39292] \n",
    "date_min = date_ar[7396]\n",
    "print(' 최저기온 기준 가장 추웠던 날 : ', date_min, '\\n',\n",
    "      '최고기온 기준 가장 더웠던 날 : ', date_max)"
   ]
  },
  {
   "cell_type": "code",
   "execution_count": 87,
   "metadata": {},
   "outputs": [
    {
     "name": "stdout",
     "output_type": "stream",
     "text": [
      "가장 큰 일교차 기온 :  21.8\n",
      "가장 큰 일교차의 행 번호 :  12619 \n",
      "\n",
      "일교차가 가장 컸던 날 :  ['1942-04-19']\n"
     ]
    }
   ],
   "source": [
    "# 일교차가 가장 큰 날 찾기\n",
    "g_max = np.max(gap_ar)\n",
    "print('가장 큰 일교차 기온 : ', g_max)\n",
    "\n",
    "g_max_idx = np.argmax(gap_ar)\n",
    "print('가장 큰 일교차의 행 번호 : ', g_max_idx, '\\n')\n",
    "\n",
    "date_g_max = date_ar[12619] \n",
    "print('일교차가 가장 컸던 날 : ', date_g_max)"
   ]
  },
  {
   "cell_type": "code",
   "execution_count": 76,
   "metadata": {},
   "outputs": [
    {
     "name": "stdout",
     "output_type": "stream",
     "text": [
      " 평균기온의 평균 :  11.798705642815591 \n",
      " 최저기온의 평균 :  7.51008338181113 \n",
      " 최고기온의 평균 :  16.799835175489623\n"
     ]
    }
   ],
   "source": [
    "# 평균기온의 평균, 최저기온의 평균, 최고기온의 평균\n",
    "avg_avg = np.average(avg_tem_ar)\n",
    "avg_min = np.average(min_tem_ar)\n",
    "avg_max = np.average(max_tem_ar)\n",
    "\n",
    "print(' 평균기온의 평균 : ', avg_avg, '\\n',\n",
    "      '최저기온의 평균 : ', avg_min, '\\n',\n",
    "      '최고기온의 평균 : ', avg_max)\n"
   ]
  },
  {
   "cell_type": "code",
   "execution_count": 92,
   "metadata": {},
   "outputs": [
    {
     "name": "stdout",
     "output_type": "stream",
     "text": [
      "최고기온 :  39.6 최저기온 :  -23.1 \n",
      "\n",
      "최저기온 기준 가장 추웠던 날 :  ['1927-12-31'] \n",
      "\n",
      "최고기온 기준 가장 더웠던 날 :  ['2018-08-01'] \n",
      "\n",
      "가장 큰 일교차 기온 :  21.8 \n",
      "\n",
      "일교차가 가장 컸던 날 :  ['1942-04-19'] \n",
      "\n",
      "평균기온의 평균 :  11.798705642815591 \n",
      "\n",
      "최저기온의 평균 :  7.51008338181113 \n",
      "\n",
      "최고기온의 평균 :  16.799835175489623 \n",
      "\n"
     ]
    }
   ],
   "source": [
    "print('최고기온 : ', max, '최저기온 : ', min, '\\n')\n",
    "print('최저기온 기준 가장 추웠던 날 : ', date_min, '\\n')\n",
    "print('최고기온 기준 가장 더웠던 날 : ', date_max, '\\n')\n",
    "print('가장 큰 일교차 기온 : ', g_max, '\\n')\n",
    "print('일교차가 가장 컸던 날 : ', date_g_max, '\\n')\n",
    "print('평균기온의 평균 : ', avg_avg, '\\n')\n",
    "print('최저기온의 평균 : ', avg_min, '\\n')\n",
    "print('최고기온의 평균 : ', avg_max, '\\n')\n"
   ]
  },
  {
   "cell_type": "markdown",
   "metadata": {},
   "source": [
    "## ver.2 \n",
    "\n",
    "결측치 행이 다른 셀에서 각각 발생할 수 있으므로\n",
    "\n",
    "평균-날짜, 최고-날짜, 최저-날짜, 일교차-날짜\n",
    "별로 묶어 결측치 제거해서 분석하기"
   ]
  },
  {
   "cell_type": "code",
   "execution_count": 4,
   "metadata": {},
   "outputs": [
    {
     "data": {
      "text/plain": [
       "(   지점번호 지점명          일시  평균기온(℃)  최고기온(℃) 최고기온시각  최저기온(℃) 최저기온시각   일교차\n",
       " 0   108  서울  1907-10-01     13.5     20.7    NaN      7.9    NaN  12.8,\n",
       "        지점번호 지점명          일시  평균기온(℃)  최고기온(℃) 최고기온시각  최저기온(℃) 최저기온시각  일교차\n",
       " 42015   108  서울  2023-12-17     -9.8     -6.4  14:52    -12.4  07:58  6.0)"
      ]
     },
     "execution_count": 4,
     "metadata": {},
     "output_type": "execute_result"
    }
   ],
   "source": [
    "import pandas as pd\n",
    "import numpy as np\n",
    "\n",
    "we_df = pd.read_csv('data-files/weather_data.csv')\n",
    "we_df.head(1), we_df.tail(1)\n"
   ]
  },
  {
   "cell_type": "code",
   "execution_count": 5,
   "metadata": {},
   "outputs": [
    {
     "name": "stdout",
     "output_type": "stream",
     "text": [
      "(41260, 2) (41257, 2) (41257, 2) (41256, 2)\n"
     ]
    }
   ],
   "source": [
    "avedf = we_df.loc[:, ['일시', '평균기온(℃)']]\n",
    "maxdf = we_df.loc[:, ['일시', '최고기온(℃)']]\n",
    "mindf = we_df.loc[:, ['일시', '최저기온(℃)']]\n",
    "gapdf = we_df.loc[:, ['일시', '일교차']]\n",
    "# 결측치 제거\n",
    "davedf = avedf.dropna()\n",
    "dmaxdf = maxdf.dropna()\n",
    "dmindf = mindf.dropna()\n",
    "dgapdf = gapdf.dropna()\n",
    "print(davedf.shape, dmaxdf.shape, dmindf.shape, dgapdf.shape)\n",
    "\n",
    "# # 자료형에 맞춰 데이터 프레임 분리\n",
    "avg_df = davedf.loc[:, ['평균기온(℃)']]\n",
    "adate_df = davedf.loc[:, ['일시']]\n",
    "\n",
    "max_df = dmaxdf.loc[:, ['최고기온(℃)']]\n",
    "xdate_df = dmaxdf.loc[:, ['일시']]\n",
    "\n",
    "min_df = dmindf.loc[:, ['최저기온(℃)']]\n",
    "ndate_df = dmindf.loc[:, ['일시']]\n",
    "\n",
    "gap_df = dgapdf.loc[:, ['일교차']]\n",
    "gdate_df = dgapdf.loc[:, ['일시']]\n",
    "\n",
    "# # 데이터 프레임을 배열로 변환\n",
    "avg_ar = avg_df.to_numpy()\n",
    "adate_ar = adate_df.to_numpy()\n",
    "\n",
    "max_ar = max_df.to_numpy()\n",
    "xdate_ar = xdate_df.to_numpy()\n",
    "\n",
    "min_ar = min_df.to_numpy()\n",
    "ndate_ar = ndate_df.to_numpy()\n",
    "\n",
    "gap_ar = gap_df.to_numpy()\n",
    "gdate_ar = gdate_df.to_numpy()\n",
    "\n"
   ]
  },
  {
   "cell_type": "code",
   "execution_count": 7,
   "metadata": {},
   "outputs": [
    {
     "name": "stdout",
     "output_type": "stream",
     "text": [
      "최고기온 :  39.6 최저기온 :  -23.1\n",
      "최고기온 행 번호 :  39292 최저기온 행 번호 :  7396 \n",
      "\n",
      " 최저기온 기준 가장 추웠던 날 :  ['1927-12-31'] \n",
      " 최고기온 기준 가장 더웠던 날 :  ['2018-07-31'] \n",
      "\n",
      "가장 큰 일교차 기온 :  21.8\n",
      "가장 큰 일교차의 행 번호 :  12619 \n",
      "\n",
      "일교차가 가장 컸던 날 :  ['1942-04-19']\n"
     ]
    }
   ],
   "source": [
    "# 최대/최소 기온 찾기\n",
    "max = np.max(max_ar)\n",
    "min = np.min(min_ar)\n",
    "print('최고기온 : ', max, '최저기온 : ', min)\n",
    "\n",
    "# 최대/최소 기온 인덱싱하기\n",
    "max_idx = np.argmax(max_ar)\n",
    "min_idx = np.argmin(min_ar)\n",
    "print('최고기온 행 번호 : ', max_idx, '최저기온 행 번호 : ', min_idx, '\\n')\n",
    "\n",
    "date_max = ndate_ar[39292] \n",
    "date_min = xdate_ar[7396]\n",
    "print(' 최저기온 기준 가장 추웠던 날 : ', date_min, '\\n',\n",
    "      '최고기온 기준 가장 더웠던 날 : ', date_max, '\\n')\n",
    "\n",
    "# 일교차가 가장 큰 날 찾기\n",
    "g_max = np.max(gap_ar)\n",
    "print('가장 큰 일교차 기온 : ', g_max)\n",
    "\n",
    "g_max_idx = np.argmax(gap_ar)\n",
    "print('가장 큰 일교차의 행 번호 : ', g_max_idx, '\\n')\n",
    "\n",
    "date_g_max = gdate_ar[12619] \n",
    "print('일교차가 가장 컸던 날 : ', date_g_max)"
   ]
  },
  {
   "cell_type": "code",
   "execution_count": 8,
   "metadata": {},
   "outputs": [
    {
     "name": "stdout",
     "output_type": "stream",
     "text": [
      " 평균기온의 평균 :  11.798744546776538 \n",
      " 최저기온의 평균 :  7.510114647211384 \n",
      " 최고기온의 평균 :  16.800116343893155\n"
     ]
    }
   ],
   "source": [
    "# 평균기온의 평균, 최저기온의 평균, 최고기온의 평균\n",
    "avg_avg = np.average(avg_ar)\n",
    "avg_min = np.average(min_ar)\n",
    "avg_max = np.average(max_ar)\n",
    "\n",
    "print(' 평균기온의 평균 : ', avg_avg, '\\n',\n",
    "      '최저기온의 평균 : ', avg_min, '\\n',\n",
    "      '최고기온의 평균 : ', avg_max)\n"
   ]
  },
  {
   "cell_type": "code",
   "execution_count": 9,
   "metadata": {},
   "outputs": [
    {
     "name": "stdout",
     "output_type": "stream",
     "text": [
      "최고기온 :  39.6 최저기온 :  -23.1 \n",
      "\n",
      "최저기온 기준 가장 추웠던 날 :  ['1927-12-31'] \n",
      "\n",
      "최고기온 기준 가장 더웠던 날 :  ['2018-07-31'] \n",
      "\n",
      "가장 큰 일교차 기온 :  21.8 \n",
      "\n",
      "일교차가 가장 컸던 날 :  ['1942-04-19'] \n",
      "\n",
      "평균기온의 평균 :  11.798744546776538 \n",
      "\n",
      "최저기온의 평균 :  7.510114647211384 \n",
      "\n",
      "최고기온의 평균 :  16.800116343893155 \n",
      "\n"
     ]
    }
   ],
   "source": [
    "print('최고기온 : ', max, '최저기온 : ', min, '\\n')\n",
    "print('최저기온 기준 가장 추웠던 날 : ', date_min, '\\n')\n",
    "print('최고기온 기준 가장 더웠던 날 : ', date_max, '\\n')\n",
    "print('가장 큰 일교차 기온 : ', g_max, '\\n')\n",
    "print('일교차가 가장 컸던 날 : ', date_g_max, '\\n')\n",
    "print('평균기온의 평균 : ', avg_avg, '\\n')\n",
    "print('최저기온의 평균 : ', avg_min, '\\n')\n",
    "print('최고기온의 평균 : ', avg_max, '\\n')\n"
   ]
  },
  {
   "cell_type": "markdown",
   "metadata": {},
   "source": [
    "## 선생님과 함께"
   ]
  },
  {
   "cell_type": "code",
   "execution_count": 12,
   "metadata": {},
   "outputs": [
    {
     "data": {
      "text/plain": [
       "Index(['지점번호', '지점명', '일시', '평균기온(℃)', '최고기온(℃)', '최고기온시각', '최저기온(℃)',\n",
       "       '최저기온시각', '일교차'],\n",
       "      dtype='object')"
      ]
     },
     "execution_count": 12,
     "metadata": {},
     "output_type": "execute_result"
    }
   ],
   "source": [
    "import pandas as pd\n",
    "import numpy as np\n",
    "\n",
    "weather_data = pd.read_csv('data-files/weather_data.csv')\n",
    "weather_data.columns\n"
   ]
  },
  {
   "cell_type": "code",
   "execution_count": 13,
   "metadata": {},
   "outputs": [],
   "source": [
    "date_array = weather_data[['일시']].values\n",
    "temperature_array = weather_data[['평균기온(℃)', '최고기온(℃)', '최저기온(℃)', '일교차']].values"
   ]
  },
  {
   "cell_type": "code",
   "execution_count": 14,
   "metadata": {},
   "outputs": [
    {
     "name": "stdout",
     "output_type": "stream",
     "text": [
      "(42016, 1) 2\n",
      "(42016, 4) 2\n",
      "<class 'numpy.ndarray'> <class 'numpy.ndarray'>\n",
      "object float64\n"
     ]
    }
   ],
   "source": [
    "print( date_array.shape, date_array.ndim )\n",
    "print( temperature_array.shape, temperature_array.ndim )\n",
    "print( type(date_array), type(temperature_array) )\n",
    "print( date_array.dtype, temperature_array.dtype )"
   ]
  },
  {
   "cell_type": "code",
   "execution_count": 15,
   "metadata": {},
   "outputs": [
    {
     "data": {
      "text/plain": [
       "np.float64(nan)"
      ]
     },
     "execution_count": 15,
     "metadata": {},
     "output_type": "execute_result"
    }
   ],
   "source": [
    "# 최저기온이 가장 낮은 날 찾기\n",
    "temperature_array[:, 2] # 기온배열에서 모든 행의 2번째 열 = 최저기온\n",
    "temperature_array[:, 2].min() # 최저기온 - nan 결측치 존재\n",
    "temperature_array[:, 1].max() # 최고기온 - nan 결측치 존재\n",
    "temperature_array[:, 0].max() # 평균기온 - nan 결측치 존재\n"
   ]
  },
  {
   "cell_type": "code",
   "execution_count": 16,
   "metadata": {},
   "outputs": [
    {
     "data": {
      "text/plain": [
       "np.float64(-23.1)"
      ]
     },
     "execution_count": 16,
     "metadata": {},
     "output_type": "execute_result"
    }
   ],
   "source": [
    "import numpy as np\n",
    "np.isnan(temperature_array[:, 2]).sum() # nan 값의 갯수\n",
    "# 우린 nan이 아닌 값만 필요\n",
    "~np.isnan(temperature_array[:, 2]) # nan인 데이터의 목록\n",
    "\n",
    "valide_idx = ~np.isnan(temperature_array[:, 2]) # nan이 아닌 데이터 위치\n",
    "temperature_array[:, 2][valide_idx].min()\n",
    "\n"
   ]
  },
  {
   "cell_type": "code",
   "execution_count": 20,
   "metadata": {},
   "outputs": [
    {
     "data": {
      "text/plain": [
       "(np.float64(-23.1), np.float64(7.510114647211384))"
      ]
     },
     "execution_count": 20,
     "metadata": {},
     "output_type": "execute_result"
    }
   ],
   "source": [
    "# 가장 낮은 최저 기온\n",
    "np.isnan(temperature_array[:, 2]).sum() # nan 값의 갯수\n",
    "~np.isnan(temperature_array[:, 2]) # nan인 데이터의 목록\n",
    "\n",
    "valide_idx = ~np.isnan(temperature_array[:, 2]) # nan이 아닌 데이터 위치\n",
    "min_value = temperature_array[:, 2][valide_idx].min()   # 최저기온의 min\n",
    "mean_value = temperature_array[:, 2][valide_idx].mean() # 최저기온의 평균\n",
    "min_value, mean_value"
   ]
  },
  {
   "cell_type": "code",
   "execution_count": 22,
   "metadata": {},
   "outputs": [
    {
     "data": {
      "text/plain": [
       "array(['1927-12-31'], dtype=object)"
      ]
     },
     "execution_count": 22,
     "metadata": {},
     "output_type": "execute_result"
    }
   ],
   "source": [
    "temperature_array[:,2] == min_value\n",
    "date_array[:, 0][temperature_array[:, 2] == min_value]"
   ]
  },
  {
   "cell_type": "code",
   "execution_count": 23,
   "metadata": {},
   "outputs": [
    {
     "data": {
      "text/plain": [
       "(np.float64(39.6), np.float64(16.800116343893155))"
      ]
     },
     "execution_count": 23,
     "metadata": {},
     "output_type": "execute_result"
    }
   ],
   "source": [
    "# 가장 높은 최고 기온\n",
    "valid_idx = ~np.isnan(temperature_array[:, 1]) #nan이 아닌 데이터 위치\n",
    "max_value = temperature_array[:, 1][valid_idx].max()\n",
    "mean_value = temperature_array[:, 1][valid_idx].mean()\n",
    "max_value, mean_value"
   ]
  },
  {
   "cell_type": "code",
   "execution_count": 24,
   "metadata": {},
   "outputs": [
    {
     "data": {
      "text/plain": [
       "array(['2018-08-01'], dtype=object)"
      ]
     },
     "execution_count": 24,
     "metadata": {},
     "output_type": "execute_result"
    }
   ],
   "source": [
    "# 최고 기온이 가장 높을 때 날짜\n",
    "date_array[:, 0][temperature_array[:, 1] == max_value]"
   ]
  },
  {
   "cell_type": "code",
   "execution_count": 25,
   "metadata": {},
   "outputs": [
    {
     "data": {
      "text/plain": [
       "(np.float64(33.7), np.float64(11.798744546776538))"
      ]
     },
     "execution_count": 25,
     "metadata": {},
     "output_type": "execute_result"
    }
   ],
   "source": [
    "# 가장 높은 평균 기온\n",
    "valid_idx = ~np.isnan(temperature_array[:, 0]) #nan이 아닌 데이터 위치\n",
    "max_value = temperature_array[:, 0][valid_idx].max()\n",
    "mean_value = temperature_array[:, 0][valid_idx].mean()\n",
    "max_value, mean_value"
   ]
  },
  {
   "cell_type": "code",
   "execution_count": 26,
   "metadata": {},
   "outputs": [
    {
     "data": {
      "text/plain": [
       "array(['2018-08-02'], dtype=object)"
      ]
     },
     "execution_count": 26,
     "metadata": {},
     "output_type": "execute_result"
    }
   ],
   "source": [
    "# 평균 기온이 가장 높을 때 날짜\n",
    "date_array[:, 0][temperature_array[:, 0] == max_value]"
   ]
  },
  {
   "cell_type": "code",
   "execution_count": 27,
   "metadata": {},
   "outputs": [
    {
     "data": {
      "text/plain": [
       "(np.float64(21.8), np.float64(9.289751793678494))"
      ]
     },
     "execution_count": 27,
     "metadata": {},
     "output_type": "execute_result"
    }
   ],
   "source": [
    "# 일교차가 가장 큰 날\n",
    "valid_idx = ~np.isnan(temperature_array[:, 3]) #nan이 아닌 데이터 위치\n",
    "max_value = temperature_array[:, 3][valid_idx].max()\n",
    "mean_value = temperature_array[:, 3][valid_idx].mean()\n",
    "max_value, mean_value"
   ]
  },
  {
   "cell_type": "code",
   "execution_count": 28,
   "metadata": {},
   "outputs": [
    {
     "data": {
      "text/plain": [
       "array(['1942-04-19'], dtype=object)"
      ]
     },
     "execution_count": 28,
     "metadata": {},
     "output_type": "execute_result"
    }
   ],
   "source": [
    "# 일교차가 가장 큰 날짜\n",
    "date_array[:, 0][temperature_array[:, 3] == max_value]"
   ]
  },
  {
   "cell_type": "code",
   "execution_count": 29,
   "metadata": {},
   "outputs": [],
   "source": [
    "\n",
    "def select_temperature_data(col='평균기온', vtype='max'):\n",
    "# 평균기온과 max가 기본값으로 설정됨\n",
    "    cols = {'평균기온':0, '최고기온':1, '최저기온':2, '일교차':3}\n",
    "    # cols = {'평균기온':0, '최고기온':1, '최저기온':2, '일교차':3} 컬럼을 딕셔너리로 만듦\n",
    "    col_idx = cols[col]\n",
    "\n",
    "    valid_filter = ~np.isnan(temperature_array[:, col_idx]) #nan이 아닌 데이터 위치\n",
    "    \n",
    "    max_value = temperature_array[:, col_idx][valid_filter].max()\n",
    "    min_value = temperature_array[:, col_idx][valid_filter].min()\n",
    "    mean_value = temperature_array[:, col_idx][valid_filter].mean()\n",
    "\n",
    "    temperature_key, target_value = ('최고기온', max_value) if vtype == 'max' else ('최저기온', min_value)\n",
    "    # max가 T면 '최고기온', max_value, F라면 '최저기온', min_value\n",
    "    # 실행문1(조건 T인 경우) if 조건 else 실행문2(조건 F인 경우)\n",
    "    dates = date_array[:, 0][temperature_array[:, col_idx] == target_value ]\n",
    "    # date_array는 날짜만 있음 1차원으로\n",
    "    # 타겟은 최저 or 최고\n",
    "    # 날짜의 배열가져오고, 찾은 값이 있는 위치를 지정해서 날짜를 찾음\n",
    "\n",
    "    return { temperature_key : target_value.item(), \"평균기온\" : mean_value.item(), \"날짜\": dates.item() }\n"
   ]
  },
  {
   "cell_type": "code",
   "execution_count": 47,
   "metadata": {},
   "outputs": [
    {
     "data": {
      "text/plain": [
       "np.int64(1)"
      ]
     },
     "execution_count": 47,
     "metadata": {},
     "output_type": "execute_result"
    }
   ],
   "source": [
    "temperature_array[:, 1] == 39.6 # 39.6인 것만 T\n",
    "# 39.6이 있는 행만 True, 나머지는 False\n",
    "(temperature_array[:, 1] == 39.6).sum() # 39.6인 값의 갯수"
   ]
  },
  {
   "cell_type": "code",
   "execution_count": 48,
   "metadata": {},
   "outputs": [
    {
     "data": {
      "text/plain": [
       "array(['2018-08-01'], dtype=object)"
      ]
     },
     "execution_count": 48,
     "metadata": {},
     "output_type": "execute_result"
    }
   ],
   "source": [
    "weather_data['일시'].values # weather_data[['일시']]\n",
    "date_array[:,0] # 1차원\n",
    "date_array[:,0][temperature_array[:, 1] == 39.6]"
   ]
  },
  {
   "cell_type": "code",
   "execution_count": 34,
   "metadata": {},
   "outputs": [
    {
     "name": "stdout",
     "output_type": "stream",
     "text": [
      "{'최고기온': 39.6, '평균기온': 16.800116343893155, '날짜': '2018-08-01'}\n",
      "{'최저기온': -23.1, '평균기온': 7.510114647211384, '날짜': '1927-12-31'}\n",
      "{'최저기온': -19.2, '평균기온': 11.798744546776538, '날짜': '1915-01-13'}\n",
      "{'최고기온': 21.8, '평균기온': 9.289751793678494, '날짜': '1942-04-19'}\n"
     ]
    }
   ],
   "source": [
    "print( select_temperature_data('최고기온', 'max') )\n",
    "print( select_temperature_data('최저기온', 'min') )\n",
    "print( select_temperature_data('평균기온', 'min') )\n",
    "print( select_temperature_data('일교차', 'max') )\n"
   ]
  },
  {
   "cell_type": "code",
   "execution_count": 36,
   "metadata": {},
   "outputs": [
    {
     "data": {
      "text/plain": [
       "지점번호           0\n",
       "지점명            0\n",
       "일시             0\n",
       "평균기온(℃)      756\n",
       "최고기온(℃)      759\n",
       "최고기온시각     12834\n",
       "최저기온(℃)      759\n",
       "최저기온시각     12844\n",
       "일교차          760\n",
       "dtype: int64"
      ]
     },
     "execution_count": 36,
     "metadata": {},
     "output_type": "execute_result"
    }
   ],
   "source": [
    "weather_data.isna().sum()"
   ]
  },
  {
   "cell_type": "code",
   "execution_count": null,
   "metadata": {},
   "outputs": [],
   "source": []
  }
 ],
 "metadata": {
  "kernelspec": {
   "display_name": "human-da-env",
   "language": "python",
   "name": "python3"
  },
  "language_info": {
   "codemirror_mode": {
    "name": "ipython",
    "version": 3
   },
   "file_extension": ".py",
   "mimetype": "text/x-python",
   "name": "python",
   "nbconvert_exporter": "python",
   "pygments_lexer": "ipython3",
   "version": "3.12.7"
  }
 },
 "nbformat": 4,
 "nbformat_minor": 2
}
