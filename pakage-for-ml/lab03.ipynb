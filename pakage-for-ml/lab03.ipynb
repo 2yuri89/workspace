{
 "cells": [
  {
   "cell_type": "code",
   "execution_count": 36,
   "metadata": {},
   "outputs": [],
   "source": [
    "# 1. population.csv 파일을 DataFrame으로 읽고 내용 확인\n",
    "#       -> 인구수 속의 숫자 구분기호인 ,를 없애고 자료형을 숫자로 바꿔라\n",
    "#       -> \"1,234,456\" -> \"1,234,456\" -> 1234456\n",
    "# 2. 현재 연구자 거주지 동의 인구 정보 조회 (행 전체)\n",
    "\n",
    "# 3. 총인구수가 가장 많은 동 조회 (읍면동 단위)\n",
    "# 4. 남성인구비가 가장 높은 동 조회 (읍면동 단위)\n",
    "# 5. 도시 법정동 1선정, 농촌 법정동 1선정, 인구 분표 비교 (읍면동 단위, bar plot 사용)\n",
    "# 6. 현재 연구자 거주지 동의 연령별 인구를 그래프로 표시\n"
   ]
  },
  {
   "cell_type": "code",
   "execution_count": 37,
   "metadata": {},
   "outputs": [],
   "source": [
    "# 1. population.csv 파일을 DataFrame으로 읽고 내용 확인\n",
    "\n",
    "import pandas as pd\n",
    "\n",
    "df = pd.read_csv(\"data-files/population.csv\", low_memory=False)\n"
   ]
  },
  {
   "cell_type": "code",
   "execution_count": 38,
   "metadata": {},
   "outputs": [
    {
     "data": {
      "text/html": [
       "<div>\n",
       "<style scoped>\n",
       "    .dataframe tbody tr th:only-of-type {\n",
       "        vertical-align: middle;\n",
       "    }\n",
       "\n",
       "    .dataframe tbody tr th {\n",
       "        vertical-align: top;\n",
       "    }\n",
       "\n",
       "    .dataframe thead th {\n",
       "        text-align: right;\n",
       "    }\n",
       "</style>\n",
       "<table border=\"1\" class=\"dataframe\">\n",
       "  <thead>\n",
       "    <tr style=\"text-align: right;\">\n",
       "      <th></th>\n",
       "      <th>행정구역</th>\n",
       "      <th>2024년09월_계_총인구수</th>\n",
       "      <th>2024년09월_계_연령구간인구수</th>\n",
       "      <th>2024년09월_계_0세</th>\n",
       "      <th>2024년09월_계_1세</th>\n",
       "      <th>2024년09월_계_2세</th>\n",
       "      <th>2024년09월_계_3세</th>\n",
       "      <th>2024년09월_계_4세</th>\n",
       "      <th>2024년09월_계_5세</th>\n",
       "      <th>2024년09월_계_6세</th>\n",
       "      <th>...</th>\n",
       "      <th>2024년09월_여_91세</th>\n",
       "      <th>2024년09월_여_92세</th>\n",
       "      <th>2024년09월_여_93세</th>\n",
       "      <th>2024년09월_여_94세</th>\n",
       "      <th>2024년09월_여_95세</th>\n",
       "      <th>2024년09월_여_96세</th>\n",
       "      <th>2024년09월_여_97세</th>\n",
       "      <th>2024년09월_여_98세</th>\n",
       "      <th>2024년09월_여_99세</th>\n",
       "      <th>2024년09월_여_100세 이상</th>\n",
       "    </tr>\n",
       "  </thead>\n",
       "  <tbody>\n",
       "    <tr>\n",
       "      <th>0</th>\n",
       "      <td>서울특별시  (1100000000)</td>\n",
       "      <td>9350995</td>\n",
       "      <td>9350995</td>\n",
       "      <td>38100</td>\n",
       "      <td>38486</td>\n",
       "      <td>40625</td>\n",
       "      <td>42608</td>\n",
       "      <td>44377</td>\n",
       "      <td>47757</td>\n",
       "      <td>51072</td>\n",
       "      <td>...</td>\n",
       "      <td>6767</td>\n",
       "      <td>5474</td>\n",
       "      <td>3921</td>\n",
       "      <td>3343</td>\n",
       "      <td>2623</td>\n",
       "      <td>1892</td>\n",
       "      <td>1391</td>\n",
       "      <td>776</td>\n",
       "      <td>523</td>\n",
       "      <td>1184</td>\n",
       "    </tr>\n",
       "    <tr>\n",
       "      <th>1</th>\n",
       "      <td>서울특별시 종로구 (1111000000)</td>\n",
       "      <td>138879</td>\n",
       "      <td>138879</td>\n",
       "      <td>415</td>\n",
       "      <td>419</td>\n",
       "      <td>467</td>\n",
       "      <td>471</td>\n",
       "      <td>516</td>\n",
       "      <td>512</td>\n",
       "      <td>580</td>\n",
       "      <td>...</td>\n",
       "      <td>131</td>\n",
       "      <td>105</td>\n",
       "      <td>87</td>\n",
       "      <td>63</td>\n",
       "      <td>52</td>\n",
       "      <td>46</td>\n",
       "      <td>34</td>\n",
       "      <td>21</td>\n",
       "      <td>8</td>\n",
       "      <td>33</td>\n",
       "    </tr>\n",
       "    <tr>\n",
       "      <th>2</th>\n",
       "      <td>서울특별시 종로구 청운효자동(1111051500)</td>\n",
       "      <td>11143</td>\n",
       "      <td>11143</td>\n",
       "      <td>52</td>\n",
       "      <td>35</td>\n",
       "      <td>43</td>\n",
       "      <td>48</td>\n",
       "      <td>46</td>\n",
       "      <td>50</td>\n",
       "      <td>50</td>\n",
       "      <td>...</td>\n",
       "      <td>13</td>\n",
       "      <td>10</td>\n",
       "      <td>11</td>\n",
       "      <td>3</td>\n",
       "      <td>6</td>\n",
       "      <td>4</td>\n",
       "      <td>1</td>\n",
       "      <td>2</td>\n",
       "      <td>0</td>\n",
       "      <td>4</td>\n",
       "    </tr>\n",
       "  </tbody>\n",
       "</table>\n",
       "<p>3 rows × 310 columns</p>\n",
       "</div>"
      ],
      "text/plain": [
       "                          행정구역 2024년09월_계_총인구수 2024년09월_계_연령구간인구수  \\\n",
       "0          서울특별시  (1100000000)         9350995            9350995   \n",
       "1       서울특별시 종로구 (1111000000)          138879             138879   \n",
       "2  서울특별시 종로구 청운효자동(1111051500)           11143              11143   \n",
       "\n",
       "  2024년09월_계_0세 2024년09월_계_1세 2024년09월_계_2세 2024년09월_계_3세 2024년09월_계_4세  \\\n",
       "0         38100         38486         40625         42608         44377   \n",
       "1           415           419           467           471           516   \n",
       "2            52            35            43            48            46   \n",
       "\n",
       "  2024년09월_계_5세 2024년09월_계_6세  ... 2024년09월_여_91세 2024년09월_여_92세  \\\n",
       "0         47757         51072  ...           6767           5474   \n",
       "1           512           580  ...            131            105   \n",
       "2            50            50  ...             13             10   \n",
       "\n",
       "  2024년09월_여_93세 2024년09월_여_94세 2024년09월_여_95세 2024년09월_여_96세 2024년09월_여_97세  \\\n",
       "0           3921           3343           2623           1892           1391   \n",
       "1             87             63             52             46             34   \n",
       "2             11              3              6              4              1   \n",
       "\n",
       "  2024년09월_여_98세 2024년09월_여_99세 2024년09월_여_100세 이상  \n",
       "0            776            523               1184  \n",
       "1             21              8                 33  \n",
       "2              2              0                  4  \n",
       "\n",
       "[3 rows x 310 columns]"
      ]
     },
     "execution_count": 38,
     "metadata": {},
     "output_type": "execute_result"
    }
   ],
   "source": [
    "# 인구 수에서 , 없애기\n",
    "df = df.replace(',', '', regex=True)\n",
    "df.head(3)"
   ]
  },
  {
   "cell_type": "code",
   "execution_count": 39,
   "metadata": {},
   "outputs": [
    {
     "data": {
      "text/plain": [
       "2024년09월_계_총인구수       int32\n",
       "2024년09월_계_연령구간인구수    int32\n",
       "2024년09월_계_0세         int32\n",
       "2024년09월_계_1세         int32\n",
       "2024년09월_계_2세         int32\n",
       "                      ...  \n",
       "2024년09월_여_96세        int32\n",
       "2024년09월_여_97세        int32\n",
       "2024년09월_여_98세        int32\n",
       "2024년09월_여_99세        int32\n",
       "2024년09월_여_100세 이상    int32\n",
       "Length: 309, dtype: object"
      ]
     },
     "execution_count": 39,
     "metadata": {},
     "output_type": "execute_result"
    }
   ],
   "source": [
    "# 인구 수를 문자열에서 숫자로 바꾸기\n",
    "df1 = df.iloc[:, 0]\n",
    "df2 = df.iloc[:, 1:]\n",
    "df2.head(2)\n",
    "df2 = df2.astype('int32')\n",
    "df2.dtypes"
   ]
  },
  {
   "cell_type": "code",
   "execution_count": 40,
   "metadata": {},
   "outputs": [
    {
     "data": {
      "text/plain": [
       "행정구역                  object\n",
       "2024년09월_계_총인구수        int32\n",
       "2024년09월_계_연령구간인구수     int32\n",
       "2024년09월_계_0세          int32\n",
       "2024년09월_계_1세          int32\n",
       "                       ...  \n",
       "2024년09월_여_96세         int32\n",
       "2024년09월_여_97세         int32\n",
       "2024년09월_여_98세         int32\n",
       "2024년09월_여_99세         int32\n",
       "2024년09월_여_100세 이상     int32\n",
       "Length: 310, dtype: object"
      ]
     },
     "execution_count": 40,
     "metadata": {},
     "output_type": "execute_result"
    }
   ],
   "source": [
    "# 합치기\n",
    "df = pd.concat([df1, df2], axis = 1)\n",
    "df.head(2)\n",
    "df.dtypes"
   ]
  },
  {
   "cell_type": "code",
   "execution_count": 41,
   "metadata": {},
   "outputs": [
    {
     "data": {
      "text/html": [
       "<div>\n",
       "<style scoped>\n",
       "    .dataframe tbody tr th:only-of-type {\n",
       "        vertical-align: middle;\n",
       "    }\n",
       "\n",
       "    .dataframe tbody tr th {\n",
       "        vertical-align: top;\n",
       "    }\n",
       "\n",
       "    .dataframe thead th {\n",
       "        text-align: right;\n",
       "    }\n",
       "</style>\n",
       "<table border=\"1\" class=\"dataframe\">\n",
       "  <thead>\n",
       "    <tr style=\"text-align: right;\">\n",
       "      <th></th>\n",
       "      <th>행정구역</th>\n",
       "      <th>2024년09월_계_총인구수</th>\n",
       "      <th>2024년09월_계_연령구간인구수</th>\n",
       "      <th>2024년09월_계_0세</th>\n",
       "      <th>2024년09월_계_1세</th>\n",
       "      <th>2024년09월_계_2세</th>\n",
       "      <th>2024년09월_계_3세</th>\n",
       "      <th>2024년09월_계_4세</th>\n",
       "      <th>2024년09월_계_5세</th>\n",
       "      <th>2024년09월_계_6세</th>\n",
       "      <th>...</th>\n",
       "      <th>2024년09월_여_91세</th>\n",
       "      <th>2024년09월_여_92세</th>\n",
       "      <th>2024년09월_여_93세</th>\n",
       "      <th>2024년09월_여_94세</th>\n",
       "      <th>2024년09월_여_95세</th>\n",
       "      <th>2024년09월_여_96세</th>\n",
       "      <th>2024년09월_여_97세</th>\n",
       "      <th>2024년09월_여_98세</th>\n",
       "      <th>2024년09월_여_99세</th>\n",
       "      <th>2024년09월_여_100세 이상</th>\n",
       "    </tr>\n",
       "  </thead>\n",
       "  <tbody>\n",
       "    <tr>\n",
       "      <th>1471</th>\n",
       "      <td>경기도 부천시 소사구 괴안동(4119457000)</td>\n",
       "      <td>18500</td>\n",
       "      <td>18500</td>\n",
       "      <td>63</td>\n",
       "      <td>54</td>\n",
       "      <td>70</td>\n",
       "      <td>74</td>\n",
       "      <td>86</td>\n",
       "      <td>87</td>\n",
       "      <td>83</td>\n",
       "      <td>...</td>\n",
       "      <td>28</td>\n",
       "      <td>23</td>\n",
       "      <td>14</td>\n",
       "      <td>10</td>\n",
       "      <td>6</td>\n",
       "      <td>7</td>\n",
       "      <td>5</td>\n",
       "      <td>2</td>\n",
       "      <td>2</td>\n",
       "      <td>8</td>\n",
       "    </tr>\n",
       "  </tbody>\n",
       "</table>\n",
       "<p>1 rows × 310 columns</p>\n",
       "</div>"
      ],
      "text/plain": [
       "                             행정구역  2024년09월_계_총인구수  2024년09월_계_연령구간인구수  \\\n",
       "1471  경기도 부천시 소사구 괴안동(4119457000)            18500               18500   \n",
       "\n",
       "      2024년09월_계_0세  2024년09월_계_1세  2024년09월_계_2세  2024년09월_계_3세  \\\n",
       "1471             63             54             70             74   \n",
       "\n",
       "      2024년09월_계_4세  2024년09월_계_5세  2024년09월_계_6세  ...  2024년09월_여_91세  \\\n",
       "1471             86             87             83  ...              28   \n",
       "\n",
       "      2024년09월_여_92세  2024년09월_여_93세  2024년09월_여_94세  2024년09월_여_95세  \\\n",
       "1471              23              14              10               6   \n",
       "\n",
       "      2024년09월_여_96세  2024년09월_여_97세  2024년09월_여_98세  2024년09월_여_99세  \\\n",
       "1471               7               5               2               2   \n",
       "\n",
       "      2024년09월_여_100세 이상  \n",
       "1471                   8  \n",
       "\n",
       "[1 rows x 310 columns]"
      ]
     },
     "execution_count": 41,
     "metadata": {},
     "output_type": "execute_result"
    }
   ],
   "source": [
    "# 2. 현재 연구자 거주지 동의 인구 정보 조회 (행 전체)\n",
    "df[df['행정구역'].str.contains('괴안동')]"
   ]
  },
  {
   "cell_type": "code",
   "execution_count": null,
   "metadata": {},
   "outputs": [],
   "source": []
  },
  {
   "cell_type": "markdown",
   "metadata": {},
   "source": [
    "### 선생님과 함께 1번, 2번 (+문자열에서 숫자로 변환까지)"
   ]
  },
  {
   "cell_type": "code",
   "execution_count": 42,
   "metadata": {},
   "outputs": [],
   "source": [
    "import pandas as pd"
   ]
  },
  {
   "cell_type": "code",
   "execution_count": 43,
   "metadata": {},
   "outputs": [
    {
     "name": "stderr",
     "output_type": "stream",
     "text": [
      "C:\\Users\\human\\AppData\\Local\\Temp\\ipykernel_444\\804588561.py:1: DtypeWarning: Columns (100,101,103,198,199,200,201,305,306,307,309) have mixed types. Specify dtype option on import or set low_memory=False.\n",
      "  population = pd.read_csv('data-files/population.csv')\n"
     ]
    }
   ],
   "source": [
    "population = pd.read_csv('data-files/population.csv')"
   ]
  },
  {
   "cell_type": "code",
   "execution_count": 44,
   "metadata": {},
   "outputs": [
    {
     "name": "stdout",
     "output_type": "stream",
     "text": [
      "<class 'pandas.core.frame.DataFrame'>\n",
      "RangeIndex: 3910 entries, 0 to 3909\n",
      "Columns: 310 entries, 행정구역 to 2024년09월_여_100세 이상\n",
      "dtypes: int64(7), object(303)\n",
      "memory usage: 9.2+ MB\n"
     ]
    }
   ],
   "source": [
    "population.info()"
   ]
  },
  {
   "cell_type": "code",
   "execution_count": 45,
   "metadata": {},
   "outputs": [
    {
     "data": {
      "text/html": [
       "<div>\n",
       "<style scoped>\n",
       "    .dataframe tbody tr th:only-of-type {\n",
       "        vertical-align: middle;\n",
       "    }\n",
       "\n",
       "    .dataframe tbody tr th {\n",
       "        vertical-align: top;\n",
       "    }\n",
       "\n",
       "    .dataframe thead th {\n",
       "        text-align: right;\n",
       "    }\n",
       "</style>\n",
       "<table border=\"1\" class=\"dataframe\">\n",
       "  <thead>\n",
       "    <tr style=\"text-align: right;\">\n",
       "      <th></th>\n",
       "      <th>행정구역</th>\n",
       "      <th>2024년09월_계_총인구수</th>\n",
       "      <th>2024년09월_계_연령구간인구수</th>\n",
       "      <th>2024년09월_계_0세</th>\n",
       "      <th>2024년09월_계_1세</th>\n",
       "      <th>2024년09월_계_2세</th>\n",
       "      <th>2024년09월_계_3세</th>\n",
       "      <th>2024년09월_계_4세</th>\n",
       "      <th>2024년09월_계_5세</th>\n",
       "      <th>2024년09월_계_6세</th>\n",
       "      <th>...</th>\n",
       "      <th>2024년09월_여_91세</th>\n",
       "      <th>2024년09월_여_92세</th>\n",
       "      <th>2024년09월_여_93세</th>\n",
       "      <th>2024년09월_여_94세</th>\n",
       "      <th>2024년09월_여_95세</th>\n",
       "      <th>2024년09월_여_96세</th>\n",
       "      <th>2024년09월_여_97세</th>\n",
       "      <th>2024년09월_여_98세</th>\n",
       "      <th>2024년09월_여_99세</th>\n",
       "      <th>2024년09월_여_100세 이상</th>\n",
       "    </tr>\n",
       "  </thead>\n",
       "  <tbody>\n",
       "    <tr>\n",
       "      <th>0</th>\n",
       "      <td>서울특별시  (1100000000)</td>\n",
       "      <td>9,350,995</td>\n",
       "      <td>9,350,995</td>\n",
       "      <td>38,100</td>\n",
       "      <td>38,486</td>\n",
       "      <td>40,625</td>\n",
       "      <td>42,608</td>\n",
       "      <td>44,377</td>\n",
       "      <td>47,757</td>\n",
       "      <td>51,072</td>\n",
       "      <td>...</td>\n",
       "      <td>6,767</td>\n",
       "      <td>5,474</td>\n",
       "      <td>3,921</td>\n",
       "      <td>3,343</td>\n",
       "      <td>2,623</td>\n",
       "      <td>1,892</td>\n",
       "      <td>1,391</td>\n",
       "      <td>776</td>\n",
       "      <td>523</td>\n",
       "      <td>1,184</td>\n",
       "    </tr>\n",
       "    <tr>\n",
       "      <th>1</th>\n",
       "      <td>서울특별시 종로구 (1111000000)</td>\n",
       "      <td>138,879</td>\n",
       "      <td>138,879</td>\n",
       "      <td>415</td>\n",
       "      <td>419</td>\n",
       "      <td>467</td>\n",
       "      <td>471</td>\n",
       "      <td>516</td>\n",
       "      <td>512</td>\n",
       "      <td>580</td>\n",
       "      <td>...</td>\n",
       "      <td>131</td>\n",
       "      <td>105</td>\n",
       "      <td>87</td>\n",
       "      <td>63</td>\n",
       "      <td>52</td>\n",
       "      <td>46</td>\n",
       "      <td>34</td>\n",
       "      <td>21</td>\n",
       "      <td>8</td>\n",
       "      <td>33</td>\n",
       "    </tr>\n",
       "    <tr>\n",
       "      <th>2</th>\n",
       "      <td>서울특별시 종로구 청운효자동(1111051500)</td>\n",
       "      <td>11,143</td>\n",
       "      <td>11,143</td>\n",
       "      <td>52</td>\n",
       "      <td>35</td>\n",
       "      <td>43</td>\n",
       "      <td>48</td>\n",
       "      <td>46</td>\n",
       "      <td>50</td>\n",
       "      <td>50</td>\n",
       "      <td>...</td>\n",
       "      <td>13</td>\n",
       "      <td>10</td>\n",
       "      <td>11</td>\n",
       "      <td>3</td>\n",
       "      <td>6</td>\n",
       "      <td>4</td>\n",
       "      <td>1</td>\n",
       "      <td>2</td>\n",
       "      <td>0</td>\n",
       "      <td>4</td>\n",
       "    </tr>\n",
       "  </tbody>\n",
       "</table>\n",
       "<p>3 rows × 310 columns</p>\n",
       "</div>"
      ],
      "text/plain": [
       "                          행정구역 2024년09월_계_총인구수 2024년09월_계_연령구간인구수  \\\n",
       "0          서울특별시  (1100000000)       9,350,995          9,350,995   \n",
       "1       서울특별시 종로구 (1111000000)         138,879            138,879   \n",
       "2  서울특별시 종로구 청운효자동(1111051500)          11,143             11,143   \n",
       "\n",
       "  2024년09월_계_0세 2024년09월_계_1세 2024년09월_계_2세 2024년09월_계_3세 2024년09월_계_4세  \\\n",
       "0        38,100        38,486        40,625        42,608        44,377   \n",
       "1           415           419           467           471           516   \n",
       "2            52            35            43            48            46   \n",
       "\n",
       "  2024년09월_계_5세 2024년09월_계_6세  ... 2024년09월_여_91세 2024년09월_여_92세  \\\n",
       "0        47,757        51,072  ...          6,767          5,474   \n",
       "1           512           580  ...            131            105   \n",
       "2            50            50  ...             13             10   \n",
       "\n",
       "  2024년09월_여_93세 2024년09월_여_94세 2024년09월_여_95세 2024년09월_여_96세 2024년09월_여_97세  \\\n",
       "0          3,921          3,343          2,623          1,892          1,391   \n",
       "1             87             63             52             46             34   \n",
       "2             11              3              6              4              1   \n",
       "\n",
       "  2024년09월_여_98세 2024년09월_여_99세 2024년09월_여_100세 이상  \n",
       "0            776            523              1,184  \n",
       "1             21              8                 33  \n",
       "2              2              0                  4  \n",
       "\n",
       "[3 rows x 310 columns]"
      ]
     },
     "execution_count": 45,
     "metadata": {},
     "output_type": "execute_result"
    }
   ],
   "source": [
    "population.head(3)"
   ]
  },
  {
   "cell_type": "code",
   "execution_count": 46,
   "metadata": {},
   "outputs": [
    {
     "data": {
      "text/html": [
       "<div>\n",
       "<style scoped>\n",
       "    .dataframe tbody tr th:only-of-type {\n",
       "        vertical-align: middle;\n",
       "    }\n",
       "\n",
       "    .dataframe tbody tr th {\n",
       "        vertical-align: top;\n",
       "    }\n",
       "\n",
       "    .dataframe thead th {\n",
       "        text-align: right;\n",
       "    }\n",
       "</style>\n",
       "<table border=\"1\" class=\"dataframe\">\n",
       "  <thead>\n",
       "    <tr style=\"text-align: right;\">\n",
       "      <th></th>\n",
       "      <th>행정구역</th>\n",
       "      <th>2024년09월_계_총인구수</th>\n",
       "      <th>2024년09월_계_연령구간인구수</th>\n",
       "      <th>2024년09월_계_0세</th>\n",
       "      <th>2024년09월_계_1세</th>\n",
       "      <th>2024년09월_계_2세</th>\n",
       "      <th>2024년09월_계_3세</th>\n",
       "      <th>2024년09월_계_4세</th>\n",
       "      <th>2024년09월_계_5세</th>\n",
       "      <th>2024년09월_계_6세</th>\n",
       "      <th>...</th>\n",
       "      <th>2024년09월_여_91세</th>\n",
       "      <th>2024년09월_여_92세</th>\n",
       "      <th>2024년09월_여_93세</th>\n",
       "      <th>2024년09월_여_94세</th>\n",
       "      <th>2024년09월_여_95세</th>\n",
       "      <th>2024년09월_여_96세</th>\n",
       "      <th>2024년09월_여_97세</th>\n",
       "      <th>2024년09월_여_98세</th>\n",
       "      <th>2024년09월_여_99세</th>\n",
       "      <th>2024년09월_여_100세 이상</th>\n",
       "    </tr>\n",
       "  </thead>\n",
       "  <tbody>\n",
       "    <tr>\n",
       "      <th>1471</th>\n",
       "      <td>경기도 부천시 소사구 괴안동(4119457000)</td>\n",
       "      <td>18,500</td>\n",
       "      <td>18,500</td>\n",
       "      <td>63</td>\n",
       "      <td>54</td>\n",
       "      <td>70</td>\n",
       "      <td>74</td>\n",
       "      <td>86</td>\n",
       "      <td>87</td>\n",
       "      <td>83</td>\n",
       "      <td>...</td>\n",
       "      <td>28</td>\n",
       "      <td>23</td>\n",
       "      <td>14</td>\n",
       "      <td>10</td>\n",
       "      <td>6</td>\n",
       "      <td>7</td>\n",
       "      <td>5</td>\n",
       "      <td>2</td>\n",
       "      <td>2</td>\n",
       "      <td>8</td>\n",
       "    </tr>\n",
       "  </tbody>\n",
       "</table>\n",
       "<p>1 rows × 310 columns</p>\n",
       "</div>"
      ],
      "text/plain": [
       "                             행정구역 2024년09월_계_총인구수 2024년09월_계_연령구간인구수  \\\n",
       "1471  경기도 부천시 소사구 괴안동(4119457000)          18,500             18,500   \n",
       "\n",
       "     2024년09월_계_0세 2024년09월_계_1세 2024년09월_계_2세 2024년09월_계_3세 2024년09월_계_4세  \\\n",
       "1471            63            54            70            74            86   \n",
       "\n",
       "     2024년09월_계_5세 2024년09월_계_6세  ... 2024년09월_여_91세 2024년09월_여_92세  \\\n",
       "1471            87            83  ...             28             23   \n",
       "\n",
       "     2024년09월_여_93세 2024년09월_여_94세 2024년09월_여_95세 2024년09월_여_96세  \\\n",
       "1471             14             10              6              7   \n",
       "\n",
       "     2024년09월_여_97세 2024년09월_여_98세 2024년09월_여_99세 2024년09월_여_100세 이상  \n",
       "1471              5              2              2                  8  \n",
       "\n",
       "[1 rows x 310 columns]"
      ]
     },
     "execution_count": 46,
     "metadata": {},
     "output_type": "execute_result"
    }
   ],
   "source": [
    "# Series.str : Series에 포함된 문자열 각각에 적용할 함수를 포함하는 객체\n",
    "# 따라서 내장된 반복문을 실행하여서 for문을 만드는 것보다 훨씬 빠르고 간결하다.\n",
    "dong_filter = population['행정구역'].str.contains('괴안동')\n",
    "population[dong_filter]"
   ]
  },
  {
   "cell_type": "code",
   "execution_count": 47,
   "metadata": {},
   "outputs": [
    {
     "data": {
      "text/plain": [
       "True"
      ]
     },
     "execution_count": 47,
     "metadata": {},
     "output_type": "execute_result"
    }
   ],
   "source": [
    "\"1\" in \"1234567\""
   ]
  },
  {
   "cell_type": "code",
   "execution_count": 48,
   "metadata": {},
   "outputs": [
    {
     "name": "stdout",
     "output_type": "stream",
     "text": [
      "object\n"
     ]
    }
   ],
   "source": [
    "# 인구수를 숫자 자료형으로 바꾸기\n",
    "# \"1,234,456\" -> \"1,234,456\" -> 1234456\n",
    "print(population['2024년09월_계_총인구수'].dtype)\n",
    "# 데이터 타입은 문자열로 확인된다.\n",
    "\n",
    "population['2024년09월_계_총인구수'] = \\\n",
    "        population['2024년09월_계_총인구수'].map(lambda v : int(str(v).replace(\",\", \"\")))\n",
    "        # 쉼표 제거 및 int로 자료형 바꾸기\n",
    "        # v는 행 하나 하나의 값\n"
   ]
  },
  {
   "cell_type": "code",
   "execution_count": 49,
   "metadata": {},
   "outputs": [
    {
     "data": {
      "text/plain": [
       "0       9350995\n",
       "1        138879\n",
       "2         11143\n",
       "3          8995\n",
       "4          2234\n",
       "         ...   \n",
       "3905      11111\n",
       "3906      15106\n",
       "3907      13755\n",
       "3908      12285\n",
       "3909       3833\n",
       "Name: 2024년09월_계_총인구수, Length: 3910, dtype: int64"
      ]
     },
     "execution_count": 49,
     "metadata": {},
     "output_type": "execute_result"
    }
   ],
   "source": [
    "population['2024년09월_계_총인구수'].dtype\n",
    "population['2024년09월_계_총인구수']"
   ]
  },
  {
   "cell_type": "code",
   "execution_count": 50,
   "metadata": {},
   "outputs": [
    {
     "data": {
      "text/plain": [
       "0                서울특별시  (1100000000)\n",
       "1             서울특별시 종로구 (1111000000)\n",
       "2        서울특별시 종로구 청운효자동(1111051500)\n",
       "3          서울특별시 종로구 사직동(1111053000)\n",
       "4          서울특별시 종로구 삼청동(1111054000)\n",
       "                    ...             \n",
       "3905    제주특별자치도 서귀포시 서홍동(5013058000)\n",
       "3906    제주특별자치도 서귀포시 대륜동(5013059000)\n",
       "3907    제주특별자치도 서귀포시 대천동(5013060000)\n",
       "3908    제주특별자치도 서귀포시 중문동(5013061000)\n",
       "3909    제주특별자치도 서귀포시 예래동(5013062000)\n",
       "Name: 행정구역, Length: 3910, dtype: object"
      ]
     },
     "execution_count": 50,
     "metadata": {},
     "output_type": "execute_result"
    }
   ],
   "source": [
    "population[\"행정구역\"]\n",
    "# 코드에 규칙이 있다.\n",
    "# 서울특별시 종로구 청운효자동(1111051500)에서 51500 부분이 동을 표시하는 부분"
   ]
  },
  {
   "cell_type": "code",
   "execution_count": 51,
   "metadata": {},
   "outputs": [
    {
     "data": {
      "text/html": [
       "<div>\n",
       "<style scoped>\n",
       "    .dataframe tbody tr th:only-of-type {\n",
       "        vertical-align: middle;\n",
       "    }\n",
       "\n",
       "    .dataframe tbody tr th {\n",
       "        vertical-align: top;\n",
       "    }\n",
       "\n",
       "    .dataframe thead th {\n",
       "        text-align: right;\n",
       "    }\n",
       "</style>\n",
       "<table border=\"1\" class=\"dataframe\">\n",
       "  <thead>\n",
       "    <tr style=\"text-align: right;\">\n",
       "      <th></th>\n",
       "      <th>행정구역</th>\n",
       "      <th>2024년09월_계_총인구수</th>\n",
       "      <th>2024년09월_계_연령구간인구수</th>\n",
       "      <th>2024년09월_계_0세</th>\n",
       "      <th>2024년09월_계_1세</th>\n",
       "      <th>2024년09월_계_2세</th>\n",
       "      <th>2024년09월_계_3세</th>\n",
       "      <th>2024년09월_계_4세</th>\n",
       "      <th>2024년09월_계_5세</th>\n",
       "      <th>2024년09월_계_6세</th>\n",
       "      <th>...</th>\n",
       "      <th>2024년09월_여_91세</th>\n",
       "      <th>2024년09월_여_92세</th>\n",
       "      <th>2024년09월_여_93세</th>\n",
       "      <th>2024년09월_여_94세</th>\n",
       "      <th>2024년09월_여_95세</th>\n",
       "      <th>2024년09월_여_96세</th>\n",
       "      <th>2024년09월_여_97세</th>\n",
       "      <th>2024년09월_여_98세</th>\n",
       "      <th>2024년09월_여_99세</th>\n",
       "      <th>2024년09월_여_100세 이상</th>\n",
       "    </tr>\n",
       "  </thead>\n",
       "  <tbody>\n",
       "    <tr>\n",
       "      <th>3715</th>\n",
       "      <td>경상남도 양산시 물금읍(4833025300)</td>\n",
       "      <td>117160</td>\n",
       "      <td>117,160</td>\n",
       "      <td>643</td>\n",
       "      <td>739</td>\n",
       "      <td>845</td>\n",
       "      <td>882</td>\n",
       "      <td>1,114</td>\n",
       "      <td>1,169</td>\n",
       "      <td>1,403</td>\n",
       "      <td>...</td>\n",
       "      <td>46</td>\n",
       "      <td>42</td>\n",
       "      <td>31</td>\n",
       "      <td>18</td>\n",
       "      <td>24</td>\n",
       "      <td>12</td>\n",
       "      <td>4</td>\n",
       "      <td>5</td>\n",
       "      <td>4</td>\n",
       "      <td>9</td>\n",
       "    </tr>\n",
       "  </tbody>\n",
       "</table>\n",
       "<p>1 rows × 310 columns</p>\n",
       "</div>"
      ],
      "text/plain": [
       "                          행정구역  2024년09월_계_총인구수 2024년09월_계_연령구간인구수  \\\n",
       "3715  경상남도 양산시 물금읍(4833025300)           117160            117,160   \n",
       "\n",
       "     2024년09월_계_0세 2024년09월_계_1세 2024년09월_계_2세 2024년09월_계_3세 2024년09월_계_4세  \\\n",
       "3715           643           739           845           882         1,114   \n",
       "\n",
       "     2024년09월_계_5세 2024년09월_계_6세  ... 2024년09월_여_91세 2024년09월_여_92세  \\\n",
       "3715         1,169         1,403  ...             46             42   \n",
       "\n",
       "     2024년09월_여_93세 2024년09월_여_94세 2024년09월_여_95세 2024년09월_여_96세  \\\n",
       "3715             31             18             24             12   \n",
       "\n",
       "     2024년09월_여_97세 2024년09월_여_98세 2024년09월_여_99세 2024년09월_여_100세 이상  \n",
       "3715              4              5              4                  9  \n",
       "\n",
       "[1 rows x 310 columns]"
      ]
     },
     "execution_count": 51,
     "metadata": {},
     "output_type": "execute_result"
    }
   ],
   "source": [
    "area_mask = population['행정구역'].map(lambda v: v[-6] != '0') # 동 행정구역 찾기\n",
    "max_value = population[area_mask]['2024년09월_계_총인구수'].max()\n",
    "max_value\n",
    "\n",
    "population[population['2024년09월_계_총인구수'] == max_value ]"
   ]
  },
  {
   "cell_type": "code",
   "execution_count": 52,
   "metadata": {},
   "outputs": [
    {
     "name": "stdout",
     "output_type": "stream",
     "text": [
      "                          행정구역  2024년09월_계_총인구수 2024년09월_계_연령구간인구수  \\\n",
      "0          서울특별시  (1100000000)          9350995          9,350,995   \n",
      "1       서울특별시 종로구 (1111000000)           138879            138,879   \n",
      "2  서울특별시 종로구 청운효자동(1111051500)            11143             11,143   \n",
      "\n",
      "  2024년09월_계_0세 2024년09월_계_1세 2024년09월_계_2세 2024년09월_계_3세 2024년09월_계_4세  \\\n",
      "0        38,100        38,486        40,625        42,608        44,377   \n",
      "1           415           419           467           471           516   \n",
      "2            52            35            43            48            46   \n",
      "\n",
      "  2024년09월_계_5세 2024년09월_계_6세  ... 2024년09월_여_91세 2024년09월_여_92세  \\\n",
      "0        47,757        51,072  ...          6,767          5,474   \n",
      "1           512           580  ...            131            105   \n",
      "2            50            50  ...             13             10   \n",
      "\n",
      "  2024년09월_여_93세 2024년09월_여_94세 2024년09월_여_95세 2024년09월_여_96세 2024년09월_여_97세  \\\n",
      "0          3,921          3,343          2,623          1,892          1,391   \n",
      "1             87             63             52             46             34   \n",
      "2             11              3              6              4              1   \n",
      "\n",
      "  2024년09월_여_98세 2024년09월_여_99세 2024년09월_여_100세 이상  \n",
      "0            776            523              1,184  \n",
      "1             21              8                 33  \n",
      "2              2              0                  4  \n",
      "\n",
      "[3 rows x 310 columns]\n",
      "Index(['행정구역', '2024년09월_계_총인구수', '2024년09월_계_연령구간인구수', '2024년09월_계_0세',\n",
      "       '2024년09월_계_1세', '2024년09월_계_2세', '2024년09월_계_3세', '2024년09월_계_4세',\n",
      "       '2024년09월_계_5세', '2024년09월_계_6세',\n",
      "       ...\n",
      "       '2024년09월_여_91세', '2024년09월_여_92세', '2024년09월_여_93세', '2024년09월_여_94세',\n",
      "       '2024년09월_여_95세', '2024년09월_여_96세', '2024년09월_여_97세', '2024년09월_여_98세',\n",
      "       '2024년09월_여_99세', '2024년09월_여_100세 이상'],\n",
      "      dtype='object', length=310)\n"
     ]
    }
   ],
   "source": [
    "print( population.head(3) )\n",
    "print( population.columns )\n"
   ]
  },
  {
   "cell_type": "markdown",
   "metadata": {},
   "source": [
    "### 4번 부터 (내가 해보기)"
   ]
  },
  {
   "cell_type": "code",
   "execution_count": 53,
   "metadata": {},
   "outputs": [],
   "source": [
    "# 4. 남성인구비가 가장 높은 동 조회 (읍면동 단위)\n",
    "# 5. 도시 법정동 1선정, 농촌 법정동 1선정, 인구 분표 비교 (읍면동 단위, bar plot 사용)\n",
    "# 6. 현재 연구자 거주지 동의 연령별 인구를 그래프로 표시\n",
    "\n",
    "# \"2024년09월_계_총인구수\"\n",
    "# \"2024년09월_남_총인구수\"\n",
    "# \"2024년09월_여_총인구수\"\n",
    "# 위 3개의 컬럼 사용"
   ]
  },
  {
   "cell_type": "code",
   "execution_count": 54,
   "metadata": {},
   "outputs": [],
   "source": [
    "df[\"2024년09월_남_총인구수\"] = \\\n",
    "        df[\"2024년09월_남_총인구수\"].map(lambda v : int(str(v).replace(\",\", \"\")))\n",
    "\n",
    "df[\"2024년09월_여_총인구수\"] = \\\n",
    "        df[\"2024년09월_여_총인구수\"].map(lambda v : int(str(v).replace(\",\", \"\")))"
   ]
  },
  {
   "cell_type": "code",
   "execution_count": 55,
   "metadata": {},
   "outputs": [
    {
     "name": "stdout",
     "output_type": "stream",
     "text": [
      "(0       9350995\n",
      "1        138879\n",
      "2         11143\n",
      "3          8995\n",
      "4          2234\n",
      "         ...   \n",
      "3905      11111\n",
      "3906      15106\n",
      "3907      13755\n",
      "3908      12285\n",
      "3909       3833\n",
      "Name: 2024년09월_계_총인구수, Length: 3910, dtype: int32, 0       4515791\n",
      "1         66846\n",
      "2          5079\n",
      "3          3948\n",
      "4          1073\n",
      "         ...   \n",
      "3905       5464\n",
      "3906       7617\n",
      "3907       6986\n",
      "3908       6223\n",
      "3909       1972\n",
      "Name: 2024년09월_남_총인구수, Length: 3910, dtype: int64, 0       4835204\n",
      "1         72033\n",
      "2          6064\n",
      "3          5047\n",
      "4          1161\n",
      "         ...   \n",
      "3905       5647\n",
      "3906       7489\n",
      "3907       6769\n",
      "3908       6062\n",
      "3909       1861\n",
      "Name: 2024년09월_여_총인구수, Length: 3910, dtype: int64)\n"
     ]
    }
   ],
   "source": [
    "t_pop = df.loc[:, \"2024년09월_계_총인구수\"]\n",
    "m_pop = df.loc[:, \"2024년09월_남_총인구수\"]\n",
    "f_pop = df.loc[:, \"2024년09월_여_총인구수\"]\n",
    "print( (t_pop, m_pop, f_pop) )"
   ]
  },
  {
   "cell_type": "code",
   "execution_count": 56,
   "metadata": {},
   "outputs": [],
   "source": [
    "m_t = m_pop.div(t_pop)\n",
    "f_t = f_pop.div(t_pop)\n",
    "# m_t.to_frame(name = \"남성비\")\n",
    "# f_t.to_frame(name = \"여성비\")\n",
    "# print (type(m_t))\n",
    "# print ( m_t )\n",
    "\n",
    "df[\"남성비\"] = m_t\n",
    "df[\"여성비\"] = f_t\n",
    "\n",
    "# m_f = m_t.add(f_t)\n",
    "# print(m_f)\n",
    "\n",
    "# print( m_t.max() )\n",
    "\n",
    "# population.insert(1, )\n"
   ]
  },
  {
   "cell_type": "code",
   "execution_count": 70,
   "metadata": {},
   "outputs": [
    {
     "data": {
      "text/plain": [
       "행정구역                   object\n",
       "2024년09월_계_총인구수         int64\n",
       "2024년09월_계_연령구간인구수      int64\n",
       "2024년09월_계_0세           int64\n",
       "2024년09월_계_1세           int64\n",
       "                       ...   \n",
       "2024년09월_여_98세          int64\n",
       "2024년09월_여_99세          int64\n",
       "2024년09월_여_100세 이상      int64\n",
       "남성비                   float64\n",
       "여성비                   float64\n",
       "Length: 312, dtype: object"
      ]
     },
     "execution_count": 70,
     "metadata": {},
     "output_type": "execute_result"
    }
   ],
   "source": [
    "df.head(1)\n",
    "df.dtypes"
   ]
  },
  {
   "cell_type": "code",
   "execution_count": 58,
   "metadata": {},
   "outputs": [
    {
     "name": "stdout",
     "output_type": "stream",
     "text": [
      "남성비가 가장 높은 지역:\n"
     ]
    },
    {
     "data": {
      "text/html": [
       "<div>\n",
       "<style scoped>\n",
       "    .dataframe tbody tr th:only-of-type {\n",
       "        vertical-align: middle;\n",
       "    }\n",
       "\n",
       "    .dataframe tbody tr th {\n",
       "        vertical-align: top;\n",
       "    }\n",
       "\n",
       "    .dataframe thead th {\n",
       "        text-align: right;\n",
       "    }\n",
       "</style>\n",
       "<table border=\"1\" class=\"dataframe\">\n",
       "  <thead>\n",
       "    <tr style=\"text-align: right;\">\n",
       "      <th></th>\n",
       "      <th>행정구역</th>\n",
       "      <th>2024년09월_계_총인구수</th>\n",
       "      <th>2024년09월_계_연령구간인구수</th>\n",
       "      <th>2024년09월_계_0세</th>\n",
       "      <th>2024년09월_계_1세</th>\n",
       "      <th>2024년09월_계_2세</th>\n",
       "      <th>2024년09월_계_3세</th>\n",
       "      <th>2024년09월_계_4세</th>\n",
       "      <th>2024년09월_계_5세</th>\n",
       "      <th>2024년09월_계_6세</th>\n",
       "      <th>...</th>\n",
       "      <th>2024년09월_여_93세</th>\n",
       "      <th>2024년09월_여_94세</th>\n",
       "      <th>2024년09월_여_95세</th>\n",
       "      <th>2024년09월_여_96세</th>\n",
       "      <th>2024년09월_여_97세</th>\n",
       "      <th>2024년09월_여_98세</th>\n",
       "      <th>2024년09월_여_99세</th>\n",
       "      <th>2024년09월_여_100세 이상</th>\n",
       "      <th>남성비</th>\n",
       "      <th>여성비</th>\n",
       "    </tr>\n",
       "  </thead>\n",
       "  <tbody>\n",
       "    <tr>\n",
       "      <th>1765</th>\n",
       "      <td>경기도 파주시 월롱면(4148031000)</td>\n",
       "      <td>8366</td>\n",
       "      <td>8366</td>\n",
       "      <td>9</td>\n",
       "      <td>7</td>\n",
       "      <td>3</td>\n",
       "      <td>9</td>\n",
       "      <td>9</td>\n",
       "      <td>7</td>\n",
       "      <td>13</td>\n",
       "      <td>...</td>\n",
       "      <td>5</td>\n",
       "      <td>1</td>\n",
       "      <td>5</td>\n",
       "      <td>3</td>\n",
       "      <td>1</td>\n",
       "      <td>3</td>\n",
       "      <td>0</td>\n",
       "      <td>2</td>\n",
       "      <td>0.653717</td>\n",
       "      <td>0.346283</td>\n",
       "    </tr>\n",
       "  </tbody>\n",
       "</table>\n",
       "<p>1 rows × 312 columns</p>\n",
       "</div>"
      ],
      "text/plain": [
       "                         행정구역  2024년09월_계_총인구수  2024년09월_계_연령구간인구수  \\\n",
       "1765  경기도 파주시 월롱면(4148031000)             8366                8366   \n",
       "\n",
       "      2024년09월_계_0세  2024년09월_계_1세  2024년09월_계_2세  2024년09월_계_3세  \\\n",
       "1765              9              7              3              9   \n",
       "\n",
       "      2024년09월_계_4세  2024년09월_계_5세  2024년09월_계_6세  ...  2024년09월_여_93세  \\\n",
       "1765              9              7             13  ...               5   \n",
       "\n",
       "      2024년09월_여_94세  2024년09월_여_95세  2024년09월_여_96세  2024년09월_여_97세  \\\n",
       "1765               1               5               3               1   \n",
       "\n",
       "      2024년09월_여_98세  2024년09월_여_99세  2024년09월_여_100세 이상       남성비       여성비  \n",
       "1765               3               0                   2  0.653717  0.346283  \n",
       "\n",
       "[1 rows x 312 columns]"
      ]
     },
     "execution_count": 58,
     "metadata": {},
     "output_type": "execute_result"
    }
   ],
   "source": [
    "area_mask = df['행정구역'].map(lambda v: v[-6] != '0') # 동 행정구역 찾기\n",
    "max_value = df[area_mask]['남성비'].max()\n",
    "max_value\n",
    "\n",
    "print( \"남성비가 가장 높은 지역:\" )\n",
    "df[df['남성비'] == max_value ]"
   ]
  },
  {
   "cell_type": "code",
   "execution_count": 59,
   "metadata": {},
   "outputs": [
    {
     "name": "stdout",
     "output_type": "stream",
     "text": [
      "여성비가 가장 높은 지역:\n"
     ]
    },
    {
     "data": {
      "text/html": [
       "<div>\n",
       "<style scoped>\n",
       "    .dataframe tbody tr th:only-of-type {\n",
       "        vertical-align: middle;\n",
       "    }\n",
       "\n",
       "    .dataframe tbody tr th {\n",
       "        vertical-align: top;\n",
       "    }\n",
       "\n",
       "    .dataframe thead th {\n",
       "        text-align: right;\n",
       "    }\n",
       "</style>\n",
       "<table border=\"1\" class=\"dataframe\">\n",
       "  <thead>\n",
       "    <tr style=\"text-align: right;\">\n",
       "      <th></th>\n",
       "      <th>행정구역</th>\n",
       "      <th>2024년09월_계_총인구수</th>\n",
       "      <th>2024년09월_계_연령구간인구수</th>\n",
       "      <th>2024년09월_계_0세</th>\n",
       "      <th>2024년09월_계_1세</th>\n",
       "      <th>2024년09월_계_2세</th>\n",
       "      <th>2024년09월_계_3세</th>\n",
       "      <th>2024년09월_계_4세</th>\n",
       "      <th>2024년09월_계_5세</th>\n",
       "      <th>2024년09월_계_6세</th>\n",
       "      <th>...</th>\n",
       "      <th>2024년09월_여_93세</th>\n",
       "      <th>2024년09월_여_94세</th>\n",
       "      <th>2024년09월_여_95세</th>\n",
       "      <th>2024년09월_여_96세</th>\n",
       "      <th>2024년09월_여_97세</th>\n",
       "      <th>2024년09월_여_98세</th>\n",
       "      <th>2024년09월_여_99세</th>\n",
       "      <th>2024년09월_여_100세 이상</th>\n",
       "      <th>남성비</th>\n",
       "      <th>여성비</th>\n",
       "    </tr>\n",
       "  </thead>\n",
       "  <tbody>\n",
       "    <tr>\n",
       "      <th>121</th>\n",
       "      <td>서울특별시 성북구 동선동(1129057500)</td>\n",
       "      <td>15081</td>\n",
       "      <td>15081</td>\n",
       "      <td>31</td>\n",
       "      <td>27</td>\n",
       "      <td>25</td>\n",
       "      <td>29</td>\n",
       "      <td>34</td>\n",
       "      <td>30</td>\n",
       "      <td>36</td>\n",
       "      <td>...</td>\n",
       "      <td>7</td>\n",
       "      <td>6</td>\n",
       "      <td>5</td>\n",
       "      <td>2</td>\n",
       "      <td>1</td>\n",
       "      <td>1</td>\n",
       "      <td>3</td>\n",
       "      <td>3</td>\n",
       "      <td>0.40866</td>\n",
       "      <td>0.59134</td>\n",
       "    </tr>\n",
       "  </tbody>\n",
       "</table>\n",
       "<p>1 rows × 312 columns</p>\n",
       "</div>"
      ],
      "text/plain": [
       "                          행정구역  2024년09월_계_총인구수  2024년09월_계_연령구간인구수  \\\n",
       "121  서울특별시 성북구 동선동(1129057500)            15081               15081   \n",
       "\n",
       "     2024년09월_계_0세  2024년09월_계_1세  2024년09월_계_2세  2024년09월_계_3세  \\\n",
       "121             31             27             25             29   \n",
       "\n",
       "     2024년09월_계_4세  2024년09월_계_5세  2024년09월_계_6세  ...  2024년09월_여_93세  \\\n",
       "121             34             30             36  ...               7   \n",
       "\n",
       "     2024년09월_여_94세  2024년09월_여_95세  2024년09월_여_96세  2024년09월_여_97세  \\\n",
       "121               6               5               2               1   \n",
       "\n",
       "     2024년09월_여_98세  2024년09월_여_99세  2024년09월_여_100세 이상      남성비      여성비  \n",
       "121               1               3                   3  0.40866  0.59134  \n",
       "\n",
       "[1 rows x 312 columns]"
      ]
     },
     "execution_count": 59,
     "metadata": {},
     "output_type": "execute_result"
    }
   ],
   "source": [
    "area_mask = df['행정구역'].map(lambda v: v[-6] != '0') # 동 행정구역 찾기\n",
    "max_value = df[area_mask]['여성비'].max()\n",
    "max_value\n",
    "\n",
    "print( \"여성비가 가장 높은 지역:\" )\n",
    "df[df['여성비'] == max_value ]"
   ]
  },
  {
   "cell_type": "markdown",
   "metadata": {},
   "source": [
    "## 선생님과 함께 4번"
   ]
  },
  {
   "cell_type": "code",
   "execution_count": 69,
   "metadata": {},
   "outputs": [],
   "source": [
    "# 행정구역 제외한 모든 컬럼 숫자로 바꾸기\n",
    "\n",
    "def value_to_int(v): # 함수를 만듦\n",
    "    if not v or str(v) == 'nan':  # 값에 문제가 있다면 0 반환\n",
    "        return 0\n",
    "    \n",
    "    str_v = str(v) # 정상이면 문자로 바꾸고\n",
    "    replaced_v = str_v.replace(\",\", \"\") # 쉼표 없애고\n",
    "    int_v = int(replaced_v) # 숫자로 바꿔서\n",
    "    \n",
    "    return int_v # 바꾼걸 반환해라\n",
    "# 위는 함수를 만들어서 변경 - 자바에서 많이 쓰는 방법\n",
    "\n",
    "# 아래는 람다 돌려서 변경 - 파이썬에서 많이 쓰는 방법\n",
    "# population.columns[1:]\n",
    "for column in population.columns[1:]:\n",
    "    # print(column)\n",
    "    # 밑에 맵코드 3개 중 택1해서 쓰면 됨\n",
    "    # population[column] = population[column].map(lambda v : int(str(v).replace(\",\", \"\")))\n",
    "    # 비어 있는것이 있어서 에러날 수 있다. 이걸 수정한 것이 바로 아래 코드\n",
    "    # population[column] = population[column].map(lambda v : int(str(v).replace(\",\", \"\")) if v and str(v) != \"nan\" else 0)\n",
    "    population[column] = population[column].map(value_to_int) # 위에서 만든 함수를 받음\n"
   ]
  },
  {
   "cell_type": "code",
   "execution_count": 61,
   "metadata": {},
   "outputs": [
    {
     "data": {
      "text/plain": [
       "행정구역                  object\n",
       "2024년09월_계_총인구수        int64\n",
       "2024년09월_계_연령구간인구수     int64\n",
       "2024년09월_계_0세          int64\n",
       "2024년09월_계_1세          int64\n",
       "                       ...  \n",
       "2024년09월_여_96세         int64\n",
       "2024년09월_여_97세         int64\n",
       "2024년09월_여_98세         int64\n",
       "2024년09월_여_99세         int64\n",
       "2024년09월_여_100세 이상     int64\n",
       "Length: 310, dtype: object"
      ]
     },
     "execution_count": 61,
     "metadata": {},
     "output_type": "execute_result"
    }
   ],
   "source": [
    "population.dtypes"
   ]
  },
  {
   "cell_type": "code",
   "execution_count": 62,
   "metadata": {},
   "outputs": [
    {
     "name": "stdout",
     "output_type": "stream",
     "text": [
      "0.6537174276834807 0.4086599031894437\n"
     ]
    },
    {
     "data": {
      "text/plain": [
       "행정구역                  서울특별시 성북구 동선동(1129057500)\n",
       "2024년09월_계_총인구수                           15081\n",
       "2024년09월_계_연령구간인구수                        15081\n",
       "2024년09월_계_0세                                31\n",
       "2024년09월_계_1세                                27\n",
       "                                ...            \n",
       "2024년09월_여_96세                                2\n",
       "2024년09월_여_97세                                1\n",
       "2024년09월_여_98세                                1\n",
       "2024년09월_여_99세                                3\n",
       "2024년09월_여_100세 이상                            3\n",
       "Name: 121, Length: 310, dtype: object"
      ]
     },
     "execution_count": 62,
     "metadata": {},
     "output_type": "execute_result"
    }
   ],
   "source": [
    "# 남성비 구하기\n",
    "\n",
    "male_ratio = population[\"2024년09월_남_총인구수\"] / population[\"2024년09월_계_총인구수\"]\n",
    "# type(male_ratio)\n",
    "male_ratio.argmax() # 가장 큰 값이 있는 행 index\n",
    "# 연산된 결과로 나오는 시리즈는 인덱스가 보장된다\n",
    "# 즉 원본 데이터 인덱스를 공유하는 것.\n",
    "# male_ratio\n",
    "population.loc[male_ratio.argmax()]  # loc[행인덱스, 열인덱스] # 열인덱스 생략 가능\n",
    "print( male_ratio.max(), male_ratio.min() )\n",
    "population.loc[male_ratio.argmin()]  # 남성비 최저 = 여성비 최고"
   ]
  },
  {
   "cell_type": "markdown",
   "metadata": {},
   "source": [
    "### 내가 5번 해보기"
   ]
  },
  {
   "cell_type": "code",
   "execution_count": 63,
   "metadata": {},
   "outputs": [],
   "source": [
    "# 5. 도시 법정동 1선정, 농촌 법정동 1선정, 인구 분표 비교 (읍면동 단위, bar plot 사용)"
   ]
  },
  {
   "cell_type": "code",
   "execution_count": 123,
   "metadata": {},
   "outputs": [
    {
     "data": {
      "text/plain": [
       "(                            행정구역  2024년09월_계_총인구수  2024년09월_계_연령구간인구수  \\\n",
       " 307  서울특별시 영등포구 영등포동(1156053500)            31360               31360   \n",
       " \n",
       "      2024년09월_계_0세  2024년09월_계_1세  2024년09월_계_2세  2024년09월_계_3세  \\\n",
       " 307            110            113            137             89   \n",
       " \n",
       "      2024년09월_계_4세  2024년09월_계_5세  2024년09월_계_6세  ...  2024년09월_여_93세  \\\n",
       " 307            118             92             99  ...              10   \n",
       " \n",
       "      2024년09월_여_94세  2024년09월_여_95세  2024년09월_여_96세  2024년09월_여_97세  \\\n",
       " 307              10               9               4               2   \n",
       " \n",
       "      2024년09월_여_98세  2024년09월_여_99세  2024년09월_여_100세 이상       남성비       여성비  \n",
       " 307               2               1                   3  0.506537  0.493463  \n",
       " \n",
       " [1 rows x 312 columns],\n",
       "                           행정구역  2024년09월_계_총인구수  2024년09월_계_연령구간인구수  \\\n",
       " 3399  경상북도 의성군 의성읍(4773025000)            12381               12381   \n",
       " \n",
       "       2024년09월_계_0세  2024년09월_계_1세  2024년09월_계_2세  2024년09월_계_3세  \\\n",
       " 3399             44             53             47             37   \n",
       " \n",
       "       2024년09월_계_4세  2024년09월_계_5세  2024년09월_계_6세  ...  2024년09월_여_93세  \\\n",
       " 3399             60             58             51  ...               6   \n",
       " \n",
       "       2024년09월_여_94세  2024년09월_여_95세  2024년09월_여_96세  2024년09월_여_97세  \\\n",
       " 3399               8              12               9               4   \n",
       " \n",
       "       2024년09월_여_98세  2024년09월_여_99세  2024년09월_여_100세 이상      남성비      여성비  \n",
       " 3399               0               2                   1  0.49584  0.50416  \n",
       " \n",
       " [1 rows x 312 columns])"
      ]
     },
     "execution_count": 123,
     "metadata": {},
     "output_type": "execute_result"
    }
   ],
   "source": [
    "city_filter = df[df['행정구역'].str.contains('영등포동')] # 307\n",
    "rural_filter = df[df['행정구역'].str.contains('의성읍')] #3399\n",
    "city_filter, rural_filter"
   ]
  },
  {
   "cell_type": "code",
   "execution_count": 121,
   "metadata": {},
   "outputs": [
    {
     "data": {
      "text/plain": [
       "2024년09월_계_0세         44\n",
       "2024년09월_계_1세         53\n",
       "2024년09월_계_2세         47\n",
       "2024년09월_계_3세         37\n",
       "2024년09월_계_4세         60\n",
       "                      ..\n",
       "2024년09월_계_96세        10\n",
       "2024년09월_계_97세         4\n",
       "2024년09월_계_98세         1\n",
       "2024년09월_계_99세         2\n",
       "2024년09월_계_100세 이상     1\n",
       "Name: 3399, Length: 101, dtype: object"
      ]
     },
     "execution_count": 121,
     "metadata": {},
     "output_type": "execute_result"
    }
   ],
   "source": [
    "# 5. 도시 법정동 1선정, 농촌 법정동 1선정, 인구 분표 비교 (읍면동 단위, bar plot 사용)\n",
    "#    2024년09월_계_0세 ~ 2024년09월_계_100세 컬럼의 데이터 사용\n",
    "# \"서울특별시 영등포구 영등포동(1156053500)\" \"경상북도 의성군 의성읍(4773025000)\"\n",
    "\n",
    "\n",
    "city_filter = df.iloc[307, 3:104]\n",
    "city_filter\n",
    "# city_filter2 = city_filter[[\"2024년09월_계_총인구수\", \"남성비\", \"여성비\"]]\n",
    "# city_filter2\n",
    "\n",
    "rural_filter = df.iloc[3399, 3:104]\n",
    "rural_filter"
   ]
  },
  {
   "cell_type": "code",
   "execution_count": 90,
   "metadata": {},
   "outputs": [],
   "source": [
    "# 6. 현재 연구자 거주지 동의 연령별 인구를 그래프로 표시\n",
    "my_filter = df[df['행정구역'].str.contains('괴안동')] # 1471\n",
    "# my_filter\n",
    "my_filter = df.iloc[1471, 3:104]\n",
    "# my_filter\n"
   ]
  },
  {
   "cell_type": "code",
   "execution_count": 75,
   "metadata": {},
   "outputs": [],
   "source": [
    "import numpy as np"
   ]
  },
  {
   "cell_type": "code",
   "execution_count": 94,
   "metadata": {},
   "outputs": [
    {
     "data": {
      "image/png": "[encoded data removed]",
      "text/plain": [
       "<Figure size 500x200 with 1 Axes>"
      ]
     },
     "metadata": {},
     "output_type": "display_data"
    },
    {
     "data": {
      "image/png": "[encoded data removed]",
      "text/plain": [
       "<Figure size 500x200 with 1 Axes>"
      ]
     },
     "metadata": {},
     "output_type": "display_data"
    },
    {
     "data": {
      "image/png": "[encoded data removed]",
      "text/plain": [
       "<Figure size 500x200 with 1 Axes>"
      ]
     },
     "metadata": {},
     "output_type": "display_data"
    }
   ],
   "source": [
    "plt.rcParams['font.family'] ='Malgun Gothic'\n",
    "plt.rcParams['axes.unicode_minus'] =False\n",
    "\n",
    "plt.figure(1, figsize=(5, 2))\n",
    "plt.bar(np.arange(city_filter.values.size), city_filter.values)\n",
    "plt.title(\"영등포구 인구\")\n",
    "plt.xlabel(\"연령\")\n",
    "plt.ylabel(\"인구 수\")\n",
    "\n",
    "plt.figure(2, figsize=(5, 2))\n",
    "plt.bar(np.arange(rural_filter.values.size), rural_filter.values)\n",
    "plt.title(\"의성읍 인구\")\n",
    "plt.xlabel(\"연령\")\n",
    "plt.ylabel(\"인구 수\")\n",
    "\n",
    "plt.figure(3, figsize=(5, 2))\n",
    "plt.bar(np.arange(my_filter.values.size), my_filter.values)\n",
    "plt.title(\"괴안동 인구\")\n",
    "plt.xlabel(\"연령\")\n",
    "plt.ylabel(\"인구 수\")\n",
    "\n",
    "plt.show()"
   ]
  },
  {
   "cell_type": "code",
   "execution_count": 120,
   "metadata": {},
   "outputs": [
    {
     "data": {
      "image/png": "[encoded data removed]",
      "text/plain": [
       "<Figure size 1000x500 with 1 Axes>"
      ]
     },
     "metadata": {},
     "output_type": "display_data"
    }
   ],
   "source": [
    "plt.figure(figsize=(10, 5))\n",
    "plt.bar(np.arange(city_filter.values.size), city_filter.values, label = \"영등포구\", alpha = 0.5)\n",
    "plt.bar(np.arange(my_filter.values.size), my_filter.values, label = \"괴안동\", alpha = 0.5)\n",
    "plt.bar(np.arange(rural_filter.values.size), rural_filter.values, label = \"의성읍\", alpha = 0.5)\n",
    "\n",
    "plt.title(\"지역별 인구 비교\")\n",
    "plt.xlabel(\"연령\")\n",
    "plt.ylabel(\"인구 수\")\n",
    "plt.legend()\n",
    "\n",
    "plt.show()\n",
    "# 3개 그리고 싶으면 선으로 그리거나 묶음 막대 그래프로 그리기"
   ]
  },
  {
   "cell_type": "markdown",
   "metadata": {},
   "source": [
    "### 선생님과 함께 5번 6번"
   ]
  },
  {
   "cell_type": "code",
   "execution_count": 128,
   "metadata": {},
   "outputs": [],
   "source": [
    "# 일단 이 패키지는 넣고 시작\n",
    "import matplotlib.pyplot as plt\n",
    "import pandas as pd\n",
    "import seaborn as sns\n",
    "import numpy as np"
   ]
  },
  {
   "cell_type": "code",
   "execution_count": 135,
   "metadata": {},
   "outputs": [
    {
     "data": {
      "text/html": [
       "<div>\n",
       "<style scoped>\n",
       "    .dataframe tbody tr th:only-of-type {\n",
       "        vertical-align: middle;\n",
       "    }\n",
       "\n",
       "    .dataframe tbody tr th {\n",
       "        vertical-align: top;\n",
       "    }\n",
       "\n",
       "    .dataframe thead th {\n",
       "        text-align: right;\n",
       "    }\n",
       "</style>\n",
       "<table border=\"1\" class=\"dataframe\">\n",
       "  <thead>\n",
       "    <tr style=\"text-align: right;\">\n",
       "      <th></th>\n",
       "      <th>행정구역</th>\n",
       "      <th>2024년09월_계_총인구수</th>\n",
       "      <th>2024년09월_계_연령구간인구수</th>\n",
       "      <th>2024년09월_계_0세</th>\n",
       "      <th>2024년09월_계_1세</th>\n",
       "      <th>2024년09월_계_2세</th>\n",
       "      <th>2024년09월_계_3세</th>\n",
       "      <th>2024년09월_계_4세</th>\n",
       "      <th>2024년09월_계_5세</th>\n",
       "      <th>2024년09월_계_6세</th>\n",
       "      <th>...</th>\n",
       "      <th>2024년09월_여_91세</th>\n",
       "      <th>2024년09월_여_92세</th>\n",
       "      <th>2024년09월_여_93세</th>\n",
       "      <th>2024년09월_여_94세</th>\n",
       "      <th>2024년09월_여_95세</th>\n",
       "      <th>2024년09월_여_96세</th>\n",
       "      <th>2024년09월_여_97세</th>\n",
       "      <th>2024년09월_여_98세</th>\n",
       "      <th>2024년09월_여_99세</th>\n",
       "      <th>2024년09월_여_100세 이상</th>\n",
       "    </tr>\n",
       "  </thead>\n",
       "  <tbody>\n",
       "    <tr>\n",
       "      <th>393</th>\n",
       "      <td>서울특별시 강남구 역삼2동(1168065000)</td>\n",
       "      <td>36338</td>\n",
       "      <td>36338</td>\n",
       "      <td>109</td>\n",
       "      <td>102</td>\n",
       "      <td>105</td>\n",
       "      <td>131</td>\n",
       "      <td>128</td>\n",
       "      <td>173</td>\n",
       "      <td>211</td>\n",
       "      <td>...</td>\n",
       "      <td>8</td>\n",
       "      <td>8</td>\n",
       "      <td>16</td>\n",
       "      <td>5</td>\n",
       "      <td>2</td>\n",
       "      <td>3</td>\n",
       "      <td>1</td>\n",
       "      <td>1</td>\n",
       "      <td>1</td>\n",
       "      <td>2</td>\n",
       "    </tr>\n",
       "  </tbody>\n",
       "</table>\n",
       "<p>1 rows × 310 columns</p>\n",
       "</div>"
      ],
      "text/plain": [
       "                           행정구역  2024년09월_계_총인구수  2024년09월_계_연령구간인구수  \\\n",
       "393  서울특별시 강남구 역삼2동(1168065000)            36338               36338   \n",
       "\n",
       "     2024년09월_계_0세  2024년09월_계_1세  2024년09월_계_2세  2024년09월_계_3세  \\\n",
       "393            109            102            105            131   \n",
       "\n",
       "     2024년09월_계_4세  2024년09월_계_5세  2024년09월_계_6세  ...  2024년09월_여_91세  \\\n",
       "393            128            173            211  ...               8   \n",
       "\n",
       "     2024년09월_여_92세  2024년09월_여_93세  2024년09월_여_94세  2024년09월_여_95세  \\\n",
       "393               8              16               5               2   \n",
       "\n",
       "     2024년09월_여_96세  2024년09월_여_97세  2024년09월_여_98세  2024년09월_여_99세  \\\n",
       "393               3               1               1               1   \n",
       "\n",
       "     2024년09월_여_100세 이상  \n",
       "393                   2  \n",
       "\n",
       "[1 rows x 310 columns]"
      ]
     },
     "execution_count": 135,
     "metadata": {},
     "output_type": "execute_result"
    }
   ],
   "source": [
    "population[population['행정구역'].str.contains('창평면')]\n",
    "population[population['행정구역'].str.contains('역삼2동')]"
   ]
  },
  {
   "cell_type": "code",
   "execution_count": 139,
   "metadata": {},
   "outputs": [],
   "source": [
    "# 특정 지역의 0세 ~ 100세 데이터를 찾아서 ndarray로 저장 - 이걸 하는게 values\n",
    "\n",
    "population_per_age392 = population.loc[392, '2024년09월_계_0세':'2024년09월_계_100세 이상'].values # 역삼2동\n",
    "population_per_age2942 = population.loc[2942, '2024년09월_계_0세':'2024년09월_계_100세 이상'].values # 창평면\n"
   ]
  },
  {
   "cell_type": "code",
   "execution_count": 140,
   "metadata": {},
   "outputs": [
    {
     "data": {
      "image/png": "[encoded data removed]",
      "text/plain": [
       "<Figure size 1000x300 with 1 Axes>"
      ]
     },
     "metadata": {},
     "output_type": "display_data"
    }
   ],
   "source": [
    "# 가정 : 도시에는 젋은이가 많고, 농촌에는 노인이 많을 것이다.\n",
    "# Q : 이걸 어떻게 보여줄까? -> 시각화\n",
    "\n",
    "plt.figure(figsize=(10, 3))\n",
    "plt.bar(np.arange(101), population_per_age392, label = '392')\n",
    "# x축에 np.range, 데이터는 age392\n",
    "plt.bar(np.arange(101), population_per_age2942, label = '2942')\n",
    "plt.legend()\n",
    "\n",
    "plt.show()\n"
   ]
  },
  {
   "cell_type": "code",
   "execution_count": 142,
   "metadata": {},
   "outputs": [
    {
     "data": {
      "image/png": "[encoded data removed]",
      "text/plain": [
       "<Figure size 1000x300 with 1 Axes>"
      ]
     },
     "metadata": {},
     "output_type": "display_data"
    }
   ],
   "source": [
    "plt.figure(figsize=(10, 3))\n",
    "plt.bar(np.arange(101), population_per_age392, label = '392')\n",
    "plt.bar(np.arange(101), -population_per_age2942, label = '2942')\n",
    "# -를 붙이면 마이너스가 되어서 그래프가 밑으로 떨어진다.\n",
    "plt.legend()\n",
    "\n",
    "plt.show()\n"
   ]
  },
  {
   "cell_type": "code",
   "execution_count": 143,
   "metadata": {},
   "outputs": [
    {
     "data": {
      "image/png": "[encoded data removed]",
      "text/plain": [
       "<Figure size 640x480 with 1 Axes>"
      ]
     },
     "metadata": {},
     "output_type": "display_data"
    }
   ],
   "source": [
    "plt.barh(np.arange(101), population_per_age392, label = '392')\n",
    "plt.barh(np.arange(101), -population_per_age2942, label = '2942')\n",
    "plt.legend()\n",
    "\n",
    "plt.show()\n"
   ]
  },
  {
   "cell_type": "code",
   "execution_count": 145,
   "metadata": {},
   "outputs": [],
   "source": [
    "# 총합해서 나누고 * 100 = 백분율\n",
    "population_per_age_ratio392 = population_per_age392 / population_per_age392.sum() * 100\n",
    "population_per_age_ratio2942 = population_per_age2942 / population_per_age2942.sum() * 100"
   ]
  },
  {
   "cell_type": "code",
   "execution_count": 148,
   "metadata": {},
   "outputs": [
    {
     "data": {
      "image/png": "[encoded data removed]",
      "text/plain": [
       "<Figure size 1000x500 with 1 Axes>"
      ]
     },
     "metadata": {},
     "output_type": "display_data"
    }
   ],
   "source": [
    "# 크기비교라면 그대로 비교하지만,  \n",
    "# 특징을 비교할때는 기준을 맞춰라 - 그래서 비율을 사용\n",
    "plt.figure(figsize=(10, 5))\n",
    "plt.bar(np.arange(101), population_per_age_ratio392, label = '392')\n",
    "plt.bar(np.arange(101), -population_per_age_ratio2942, label = '2942')\n",
    "plt.legend()\n",
    "\n",
    "plt.show()"
   ]
  },
  {
   "cell_type": "markdown",
   "metadata": {},
   "source": [
    "## 선생님과 함께하는 6번"
   ]
  },
  {
   "cell_type": "code",
   "execution_count": 165,
   "metadata": {},
   "outputs": [
    {
     "data": {
      "text/plain": [
       "np.int64(1471)"
      ]
     },
     "execution_count": 165,
     "metadata": {},
     "output_type": "execute_result"
    }
   ],
   "source": [
    "idx = population[population['행정구역'].str.contains('괴안동')].index # 동네 찾는 코드 - 인덱스\n",
    "idx[0]"
   ]
  },
  {
   "cell_type": "code",
   "execution_count": 172,
   "metadata": {},
   "outputs": [],
   "source": [
    "# 특정 지역의 0세 ~ 100세 데이터를 찾아서 ndarray로 저장 - 이걸 하는게 values\n",
    "m_pop_per_a = population.loc[1471, '2024년09월_남_0세':'2024년09월_남_100세 이상'].values\n",
    "f_pop_per_a = population.loc[1471, '2024년09월_여_0세':'2024년09월_여_100세 이상'].values\n",
    "t_pop_per_a = population.loc[1471, '2024년09월_계_0세':'2024년09월_계_100세 이상'].values"
   ]
  },
  {
   "cell_type": "code",
   "execution_count": 173,
   "metadata": {},
   "outputs": [
    {
     "data": {
      "image/png": "[encoded data removed]",
      "text/plain": [
       "<Figure size 640x480 with 1 Axes>"
      ]
     },
     "metadata": {},
     "output_type": "display_data"
    }
   ],
   "source": [
    "plt.barh(np.arange(101), m_pop_per_age, label = 'male')\n",
    "plt.barh(np.arange(101), -f_pop_per_age, label = 'female')\n",
    "plt.legend()\n",
    "plt.show()\n"
   ]
  },
  {
   "cell_type": "code",
   "execution_count": null,
   "metadata": {},
   "outputs": [],
   "source": [
    "# 이 지역은 40대 및 20세 미만 인구가 적은 지역으로 확인됨\n",
    "\n",
    "# 그러면 이유에 대한 분석 시작\n",
    "# 소득수준이 낮으면 출산율이 낮다. (소득수준과 출산율의 비레성)\n",
    "# 소득수준이 낮다면 왜 그런지. \n",
    "# 자영업자가 많은지 급여 근로자가 많은지"
   ]
  },
  {
   "cell_type": "markdown",
   "metadata": {},
   "source": [
    "추가 과제 - 남성 인구비가 가장 높은 지역 (월롱면)의 남 여 인구 구성을 시각화 (bar-plot)\n",
    "\n",
    "추가 과제 - 여성 인구비가 가장 높은 지역 (동선동)의 남 여 인구 구성을 시각화 (bar-plot)\n"
   ]
  },
  {
   "cell_type": "code",
   "execution_count": 162,
   "metadata": {},
   "outputs": [
    {
     "data": {
      "text/plain": [
       "np.int64(1765)"
      ]
     },
     "execution_count": 162,
     "metadata": {},
     "output_type": "execute_result"
    }
   ],
   "source": [
    "idx1 = df[df['행정구역'].str.contains('월롱면')].index # 동네 찾는 코드 - 인덱스\n",
    "idx[0]"
   ]
  },
  {
   "cell_type": "code",
   "execution_count": 164,
   "metadata": {},
   "outputs": [
    {
     "data": {
      "text/plain": [
       "np.int64(121)"
      ]
     },
     "execution_count": 164,
     "metadata": {},
     "output_type": "execute_result"
    }
   ],
   "source": [
    "idx2 = df[df['행정구역'].str.contains('동선동')].index # 동네 찾는 코드 - 인덱스\n",
    "idx[0]"
   ]
  },
  {
   "cell_type": "code",
   "execution_count": 170,
   "metadata": {},
   "outputs": [
    {
     "data": {
      "text/html": [
       "<div>\n",
       "<style scoped>\n",
       "    .dataframe tbody tr th:only-of-type {\n",
       "        vertical-align: middle;\n",
       "    }\n",
       "\n",
       "    .dataframe tbody tr th {\n",
       "        vertical-align: top;\n",
       "    }\n",
       "\n",
       "    .dataframe thead th {\n",
       "        text-align: right;\n",
       "    }\n",
       "</style>\n",
       "<table border=\"1\" class=\"dataframe\">\n",
       "  <thead>\n",
       "    <tr style=\"text-align: right;\">\n",
       "      <th></th>\n",
       "      <th>행정구역</th>\n",
       "      <th>2024년09월_계_총인구수</th>\n",
       "      <th>2024년09월_계_연령구간인구수</th>\n",
       "      <th>2024년09월_계_0세</th>\n",
       "      <th>2024년09월_계_1세</th>\n",
       "      <th>2024년09월_계_2세</th>\n",
       "      <th>2024년09월_계_3세</th>\n",
       "      <th>2024년09월_계_4세</th>\n",
       "      <th>2024년09월_계_5세</th>\n",
       "      <th>2024년09월_계_6세</th>\n",
       "      <th>...</th>\n",
       "      <th>2024년09월_여_93세</th>\n",
       "      <th>2024년09월_여_94세</th>\n",
       "      <th>2024년09월_여_95세</th>\n",
       "      <th>2024년09월_여_96세</th>\n",
       "      <th>2024년09월_여_97세</th>\n",
       "      <th>2024년09월_여_98세</th>\n",
       "      <th>2024년09월_여_99세</th>\n",
       "      <th>2024년09월_여_100세 이상</th>\n",
       "      <th>남성비</th>\n",
       "      <th>여성비</th>\n",
       "    </tr>\n",
       "  </thead>\n",
       "  <tbody>\n",
       "    <tr>\n",
       "      <th>0</th>\n",
       "      <td>서울특별시  (1100000000)</td>\n",
       "      <td>9350995</td>\n",
       "      <td>9350995</td>\n",
       "      <td>38100</td>\n",
       "      <td>38486</td>\n",
       "      <td>40625</td>\n",
       "      <td>42608</td>\n",
       "      <td>44377</td>\n",
       "      <td>47757</td>\n",
       "      <td>51072</td>\n",
       "      <td>...</td>\n",
       "      <td>3921</td>\n",
       "      <td>3343</td>\n",
       "      <td>2623</td>\n",
       "      <td>1892</td>\n",
       "      <td>1391</td>\n",
       "      <td>776</td>\n",
       "      <td>523</td>\n",
       "      <td>1184</td>\n",
       "      <td>0.482921</td>\n",
       "      <td>0.517079</td>\n",
       "    </tr>\n",
       "  </tbody>\n",
       "</table>\n",
       "<p>1 rows × 312 columns</p>\n",
       "</div>"
      ],
      "text/plain": [
       "                  행정구역  2024년09월_계_총인구수  2024년09월_계_연령구간인구수  2024년09월_계_0세  \\\n",
       "0  서울특별시  (1100000000)          9350995             9350995          38100   \n",
       "\n",
       "   2024년09월_계_1세  2024년09월_계_2세  2024년09월_계_3세  2024년09월_계_4세  2024년09월_계_5세  \\\n",
       "0          38486          40625          42608          44377          47757   \n",
       "\n",
       "   2024년09월_계_6세  ...  2024년09월_여_93세  2024년09월_여_94세  2024년09월_여_95세  \\\n",
       "0          51072  ...            3921            3343            2623   \n",
       "\n",
       "   2024년09월_여_96세  2024년09월_여_97세  2024년09월_여_98세  2024년09월_여_99세  \\\n",
       "0            1892            1391             776             523   \n",
       "\n",
       "   2024년09월_여_100세 이상       남성비       여성비  \n",
       "0                1184  0.482921  0.517079  \n",
       "\n",
       "[1 rows x 312 columns]"
      ]
     },
     "execution_count": 170,
     "metadata": {},
     "output_type": "execute_result"
    }
   ],
   "source": [
    "df.head(1)"
   ]
  },
  {
   "cell_type": "code",
   "execution_count": 184,
   "metadata": {},
   "outputs": [
    {
     "data": {
      "text/plain": [
       "남성비    0.653717\n",
       "여성비    0.346283\n",
       "Name: 1765, dtype: object"
      ]
     },
     "execution_count": 184,
     "metadata": {},
     "output_type": "execute_result"
    }
   ],
   "source": [
    "df.loc[1765, '남성비':'여성비']"
   ]
  },
  {
   "cell_type": "code",
   "execution_count": 187,
   "metadata": {},
   "outputs": [
    {
     "data": {
      "text/html": [
       "<div>\n",
       "<style scoped>\n",
       "    .dataframe tbody tr th:only-of-type {\n",
       "        vertical-align: middle;\n",
       "    }\n",
       "\n",
       "    .dataframe tbody tr th {\n",
       "        vertical-align: top;\n",
       "    }\n",
       "\n",
       "    .dataframe thead th {\n",
       "        text-align: right;\n",
       "    }\n",
       "</style>\n",
       "<table border=\"1\" class=\"dataframe\">\n",
       "  <thead>\n",
       "    <tr style=\"text-align: right;\">\n",
       "      <th></th>\n",
       "      <th>월롱면</th>\n",
       "      <th>동선동</th>\n",
       "    </tr>\n",
       "  </thead>\n",
       "  <tbody>\n",
       "    <tr>\n",
       "      <th>남성비</th>\n",
       "      <td>0.653717</td>\n",
       "      <td>0.40866</td>\n",
       "    </tr>\n",
       "    <tr>\n",
       "      <th>여성비</th>\n",
       "      <td>0.346283</td>\n",
       "      <td>0.59134</td>\n",
       "    </tr>\n",
       "  </tbody>\n",
       "</table>\n",
       "</div>"
      ],
      "text/plain": [
       "          월롱면      동선동\n",
       "남성비  0.653717  0.40866\n",
       "여성비  0.346283  0.59134"
      ]
     },
     "execution_count": 187,
     "metadata": {},
     "output_type": "execute_result"
    }
   ],
   "source": [
    "# 특정 지역의 0세 ~ 100세 데이터를 찾아서 ndarray로 저장 - 이걸 하는게 values\n",
    "\n",
    "population_per_age1765 = df.loc[1765, '남성비':'여성비'] # 월롱면\n",
    "population_per_age121 = df.loc[121, '남성비':'여성비'] # 동선동\n",
    "total = pd.concat([population_per_age1765, population_per_age121], axis=1)\n",
    "total.columns = [\"월롱면\", \"동선동\"]\n",
    "total"
   ]
  },
  {
   "cell_type": "code",
   "execution_count": 195,
   "metadata": {},
   "outputs": [
    {
     "data": {
      "image/png": "[encoded data removed]",
      "text/plain": [
       "<Figure size 640x480 with 1 Axes>"
      ]
     },
     "metadata": {},
     "output_type": "display_data"
    }
   ],
   "source": [
    "# 막대의 위치 설정\n",
    "x = np.arange(2)\n",
    "width = 0.35\n",
    "\n",
    "# 막대 그래프 생성\n",
    "plt.bar(x - width/2, total['월롱면'], width, label='월롱면', color='skyblue')\n",
    "plt.bar(x + width/2, total['동선동'], width, label='동선동', color='lightcoral')\n",
    "\n",
    "# 그래프 꾸미기\n",
    "plt.title('지역별 성별 비율 비교', fontsize=14)\n",
    "plt.xlabel('성별', fontsize=12)\n",
    "plt.ylabel('비율', fontsize=12)\n",
    "plt.xticks(x, ['남성비', '여성비'])\n",
    "# 이 코드는 x축의 위치값 [0, 1]을 ['남성비', '여성비']로 바꿔서 보여주는 역할\n",
    "plt.ylim(0, 1)  # y축 범위 설정\n",
    "\n",
    "# 비율값 표시\n",
    "# for i in range(2):\n",
    "#     plt.text(x[i] - width/2, total['월롱면'][i], f'{total[\"월롱면\"][i]:.2%}', \n",
    "#              ha='center', va='bottom')\n",
    "#     plt.text(x[i] + width/2, total['동선동'][i], f'{total[\"동선동\"][i]:.2%}', \n",
    "#              ha='center', va='bottom')\n",
    "\n",
    "plt.legend()\n",
    "# plt.grid(axis='y', linestyle='--', alpha=0.7)\n",
    "\n",
    "plt.tight_layout()\n",
    "plt.show()"
   ]
  },
  {
   "cell_type": "code",
   "execution_count": 196,
   "metadata": {},
   "outputs": [],
   "source": [
    "# # 잘못된 방법\n",
    "# plt.bar(2 - width/2, total['월롱면'], width, label='월롱면')\n",
    "# plt.bar(2 + width/2, total['동선동'], width, label='동선동')\n",
    "# # 이러면 x축의 2라는 위치에만 모든 막대가 그려지게 됩니다.\n",
    "\n",
    "# 올바른 방법\n",
    "# x = np.arange(2)  # [0, 1] 배열 생성\n",
    "# plt.bar(x - width/2, total['월롱면'], width, label='월롱면')\n",
    "# plt.bar(x + width/2, total['동선동'], width, label='동선동')\n",
    "# 이러면 0과 1 위치에 각각 막대가 그려지게 됩니다."
   ]
  },
  {
   "cell_type": "code",
   "execution_count": null,
   "metadata": {},
   "outputs": [],
   "source": []
  }
 ],
 "metadata": {
  "kernelspec": {
   "display_name": "human-da-env",
   "language": "python",
   "name": "python3"
  },
  "language_info": {
   "codemirror_mode": {
    "name": "ipython",
    "version": 3
   },
   "file_extension": ".py",
   "mimetype": "text/x-python",
   "name": "python",
   "nbconvert_exporter": "python",
   "pygments_lexer": "ipython3",
   "version": "3.12.7"
  }
 },
 "nbformat": 4,
 "nbformat_minor": 2
}
