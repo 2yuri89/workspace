{
 "cells": [
  {
   "cell_type": "code",
   "execution_count": 1,
   "metadata": {},
   "outputs": [],
   "source": [
    "import numpy as np\n",
    "import pandas as pd\n",
    "import matplotlib.pyplot as plt\n",
    "from scipy import stats"
   ]
  },
  {
   "cell_type": "markdown",
   "metadata": {},
   "source": [
    "# 카이제곱검정"
   ]
  },
  {
   "cell_type": "code",
   "execution_count": 2,
   "metadata": {},
   "outputs": [
    {
     "name": "stdout",
     "output_type": "stream",
     "text": [
      "[0.25 0.25 0.25 0.25]\n",
      "[1 3 2 2 0 0 0 3 2 2]\n",
      "[3 1 4 2]\n",
      "Power_divergenceResult(statistic=np.float64(2.0), pvalue=np.float64(0.5724067044708798))\n",
      "Power_divergenceResult(statistic=np.float64(10.8), pvalue=np.float64(0.012858001156297613))\n"
     ]
    }
   ],
   "source": [
    "N = 10  # 데이터 갯수\n",
    "K = 4   # 범주 갯수\n",
    "mu_0 = np.ones(K) / K   # np.ones : 모든 요소의 값이 1인 ndarray 만들기 -> 발생 확률(임의로 만든것)\n",
    "# (K개=4개) 각 1, 4개가 4로 나뉘어 0.25 4개 됨\n",
    "print(mu_0)\n",
    "\n",
    "np.random.seed(42)\n",
    "x = np.random.choice(K, N, p=mu_0)\n",
    "# 랜덤 시드 - 재현성 - 난수가 발생해도 같은 난수가 발생하게 하는 것\n",
    "# 컴퓨터는 뽑을때 규칙적이라 뽑힐 수를 흔들어 놓아서 난수 발생되게 한다\n",
    "# 기본 시드 값을 현재 시간으로 해서 매번 달라지는 것\n",
    "\n",
    "# x = np.random.choice(K, N, p=mu_0)\n",
    "# K범주 안에서 (4개) N개(10개)를 뽑고, p=mu_0는 확률(25%)\n",
    "# np.random.choice 구글링 - 넘파이 공식 문서 보기\n",
    "# https://numpy.org/doc/2.1/reference/random/generated/numpy.random.choice.html\n",
    "\n",
    "print(x)\n",
    "\n",
    "c = np.bincount(x)\n",
    "print(c)\n",
    "# array([3, 1, 4, 2]) > 0이 3개, 1이 1개, 2가 4개, 3이 2개 라는 뜻\n",
    "\n",
    "print(stats.chisquare(c))\n",
    "print(stats.chisquare([7, 1, 1, 1]))\n",
    "# pvalue=np.float64(0.5009344477491052)\n",
    "# 각 동일 분표일때 불규칙 샘플이 뽑힐 확률\n",
    "# 샘플이 같아도 50% 매우 빈번하다"
   ]
  },
  {
   "cell_type": "code",
   "execution_count": 6,
   "metadata": {},
   "outputs": [
    {
     "name": "stdout",
     "output_type": "stream",
     "text": [
      "[0.25 0.25 0.25 0.25]\n",
      "[1 3 2 ... 3 0 1]\n",
      "[2499927 2499831 2500938 2499304]\n",
      "Power_divergenceResult(statistic=np.float64(0.5592600000000001), pvalue=np.float64(0.9056921541012419))\n",
      "Power_divergenceResult(statistic=np.float64(10.8), pvalue=np.float64(0.012858001156297613))\n"
     ]
    }
   ],
   "source": [
    "N = 10  # 데이터 갯수\n",
    "K = 4   # 범주 갯수\n",
    "mu_0 = np.ones(K) / K \n",
    "print(mu_0)\n",
    "\n",
    "np.random.seed(42)\n",
    "x = np.random.choice(K, 10000000, p=mu_0)\n",
    "# 샘플이 커질수록 0.25, 0.25, 0.25, 0.25에 근접하다\n",
    "print(x)\n",
    "\n",
    "c = np.bincount(x)\n",
    "print(c)\n",
    "\n",
    "print(stats.chisquare(c))\n",
    "print(stats.chisquare([7, 1, 1, 1]))"
   ]
  },
  {
   "cell_type": "code",
   "execution_count": 8,
   "metadata": {},
   "outputs": [
    {
     "data": {
      "text/html": [
       "<div>\n",
       "<style scoped>\n",
       "    .dataframe tbody tr th:only-of-type {\n",
       "        vertical-align: middle;\n",
       "    }\n",
       "\n",
       "    .dataframe tbody tr th {\n",
       "        vertical-align: top;\n",
       "    }\n",
       "\n",
       "    .dataframe thead th {\n",
       "        text-align: right;\n",
       "    }\n",
       "</style>\n",
       "<table border=\"1\" class=\"dataframe\">\n",
       "  <thead>\n",
       "    <tr style=\"text-align: right;\">\n",
       "      <th></th>\n",
       "      <th>광고</th>\n",
       "      <th>구입</th>\n",
       "    </tr>\n",
       "  </thead>\n",
       "  <tbody>\n",
       "    <tr>\n",
       "      <th>0</th>\n",
       "      <td>B</td>\n",
       "      <td>하지 않았다</td>\n",
       "    </tr>\n",
       "    <tr>\n",
       "      <th>1</th>\n",
       "      <td>B</td>\n",
       "      <td>하지 않았다</td>\n",
       "    </tr>\n",
       "    <tr>\n",
       "      <th>2</th>\n",
       "      <td>A</td>\n",
       "      <td>했다</td>\n",
       "    </tr>\n",
       "    <tr>\n",
       "      <th>3</th>\n",
       "      <td>A</td>\n",
       "      <td>했다</td>\n",
       "    </tr>\n",
       "    <tr>\n",
       "      <th>4</th>\n",
       "      <td>B</td>\n",
       "      <td>하지 않았다</td>\n",
       "    </tr>\n",
       "    <tr>\n",
       "      <th>...</th>\n",
       "      <td>...</td>\n",
       "      <td>...</td>\n",
       "    </tr>\n",
       "    <tr>\n",
       "      <th>995</th>\n",
       "      <td>B</td>\n",
       "      <td>하지 않았다</td>\n",
       "    </tr>\n",
       "    <tr>\n",
       "      <th>996</th>\n",
       "      <td>B</td>\n",
       "      <td>하지 않았다</td>\n",
       "    </tr>\n",
       "    <tr>\n",
       "      <th>997</th>\n",
       "      <td>B</td>\n",
       "      <td>하지 않았다</td>\n",
       "    </tr>\n",
       "    <tr>\n",
       "      <th>998</th>\n",
       "      <td>B</td>\n",
       "      <td>하지 않았다</td>\n",
       "    </tr>\n",
       "    <tr>\n",
       "      <th>999</th>\n",
       "      <td>A</td>\n",
       "      <td>했다</td>\n",
       "    </tr>\n",
       "  </tbody>\n",
       "</table>\n",
       "<p>1000 rows × 2 columns</p>\n",
       "</div>"
      ],
      "text/plain": [
       "    광고      구입\n",
       "0    B  하지 않았다\n",
       "1    B  하지 않았다\n",
       "2    A      했다\n",
       "3    A      했다\n",
       "4    B  하지 않았다\n",
       "..  ..     ...\n",
       "995  B  하지 않았다\n",
       "996  B  하지 않았다\n",
       "997  B  하지 않았다\n",
       "998  B  하지 않았다\n",
       "999  A      했다\n",
       "\n",
       "[1000 rows x 2 columns]"
      ]
     },
     "execution_count": 8,
     "metadata": {},
     "output_type": "execute_result"
    }
   ],
   "source": [
    "ad_df = pd.read_csv('data-files/ad.csv')\n",
    "ad_df"
   ]
  },
  {
   "cell_type": "code",
   "execution_count": 11,
   "metadata": {},
   "outputs": [
    {
     "data": {
      "text/html": [
       "<div>\n",
       "<style scoped>\n",
       "    .dataframe tbody tr th:only-of-type {\n",
       "        vertical-align: middle;\n",
       "    }\n",
       "\n",
       "    .dataframe tbody tr th {\n",
       "        vertical-align: top;\n",
       "    }\n",
       "\n",
       "    .dataframe thead th {\n",
       "        text-align: right;\n",
       "    }\n",
       "</style>\n",
       "<table border=\"1\" class=\"dataframe\">\n",
       "  <thead>\n",
       "    <tr style=\"text-align: right;\">\n",
       "      <th></th>\n",
       "      <th>광고</th>\n",
       "      <th>구입</th>\n",
       "      <th>count</th>\n",
       "    </tr>\n",
       "  </thead>\n",
       "  <tbody>\n",
       "    <tr>\n",
       "      <th>0</th>\n",
       "      <td>A</td>\n",
       "      <td>하지 않았다</td>\n",
       "      <td>351</td>\n",
       "    </tr>\n",
       "    <tr>\n",
       "      <th>1</th>\n",
       "      <td>A</td>\n",
       "      <td>했다</td>\n",
       "      <td>49</td>\n",
       "    </tr>\n",
       "    <tr>\n",
       "      <th>2</th>\n",
       "      <td>B</td>\n",
       "      <td>하지 않았다</td>\n",
       "      <td>549</td>\n",
       "    </tr>\n",
       "    <tr>\n",
       "      <th>3</th>\n",
       "      <td>B</td>\n",
       "      <td>했다</td>\n",
       "      <td>51</td>\n",
       "    </tr>\n",
       "  </tbody>\n",
       "</table>\n",
       "</div>"
      ],
      "text/plain": [
       "  광고      구입  count\n",
       "0  A  하지 않았다    351\n",
       "1  A      했다     49\n",
       "2  B  하지 않았다    549\n",
       "3  B      했다     51"
      ]
     },
     "execution_count": 11,
     "metadata": {},
     "output_type": "execute_result"
    }
   ],
   "source": [
    "# ad_stats = ad_df.groupby('광고')[\"구입\"].count().reset_index()\n",
    "# 광고를 기준으로 구입이에 대한 카운트 구하기 > 전체 갯수 구하기\n",
    "ad_stats = ad_df.groupby('광고')[\"구입\"].value_counts().reset_index() # 값 별 갯수\n",
    "ad_stats"
   ]
  },
  {
   "cell_type": "code",
   "execution_count": null,
   "metadata": {},
   "outputs": [
    {
     "name": "stdout",
     "output_type": "stream",
     "text": [
      "0.1225\n",
      "0.085\n"
     ]
    }
   ],
   "source": [
    "# 49는 어느정도의 비중일까? > 1행 2열의 값임\n",
    "# A 광고 구매율 구하기\n",
    "print( ad_stats.iloc[1, 2] / ad_stats.iloc[:2, 2].sum() )\n",
    "# 결과 0.1225 > 12.25%\n",
    "\n",
    "# B 광고 구매율 구하기\n",
    "print( ad_stats.iloc[3, 2] / ad_stats.iloc[2:, 2].sum() )\n",
    "# 결과 0.085 > 8.5%"
   ]
  },
  {
   "cell_type": "code",
   "execution_count": 26,
   "metadata": {},
   "outputs": [
    {
     "name": "stdout",
     "output_type": "stream",
     "text": [
      "구입  하지 않았다    했다\n",
      "광고              \n",
      "A    351.0  49.0\n",
      "B    549.0  51.0\n",
      "구입  하지 않았다  했다\n",
      "광고            \n",
      "A      351  49\n",
      "B      549  51\n"
     ]
    }
   ],
   "source": [
    "# 교차표 작성 1 - 피벗테이블 사용\n",
    "# index: 행 지정, columns: 열 지정, values: 값 지정\n",
    "ad_cross1 = ad_stats.pivot_table(index=\"광고\", columns=\"구입\", values=\"count\")\n",
    "print( ad_cross1 )\n",
    "\n",
    "# 교차표 작성 2 - 데이터프레임 함수 사용\n",
    "ad_cross2 = pd.crosstab(ad_df['광고'], ad_df['구입'])\n",
    "print( ad_cross2 )\n"
   ]
  },
  {
   "cell_type": "code",
   "execution_count": null,
   "metadata": {},
   "outputs": [
    {
     "data": {
      "text/plain": [
       "Chi2ContingencyResult(statistic=np.float64(3.344907407407407), pvalue=np.float64(0.06741327136707487), dof=1, expected_freq=array([[360.,  40.],\n",
       "       [540.,  60.]]))"
      ]
     },
     "execution_count": 22,
     "metadata": {},
     "output_type": "execute_result"
    }
   ],
   "source": [
    "# chi-square test (카이 제곱 검정)\n",
    "# stats.chi2_contingency(크로스테이블_이름)\n",
    "stats.chi2_contingency(ad_cross1)\n",
    "\n",
    "# 결과\n",
    "# statistic=np.float64(3.344907407407407)\n",
    "# pvalue=np.float64(0.06741327136707487)\n",
    "# 이런 샘플(a=12.25%, b=8.5%)이 나올 확률로, 6%대(5%미만이 아님) 의미있는 차이는 없다고 판단\n",
    "# dof=1\n",
    "# expected_freq=array([[360.,  40.], [540.,  60.]"
   ]
  },
  {
   "cell_type": "code",
   "execution_count": 27,
   "metadata": {},
   "outputs": [
    {
     "data": {
      "text/plain": [
       "Chi2ContingencyResult(statistic=np.float64(3.344907407407407), pvalue=np.float64(0.06741327136707487), dof=1, expected_freq=array([[360.,  40.],\n",
       "       [540.,  60.]]))"
      ]
     },
     "execution_count": 27,
     "metadata": {},
     "output_type": "execute_result"
    }
   ],
   "source": [
    "# chi-square test (카이 제곱 검정)\n",
    "# stats.chi2_contingency(크로스테이블_이름)\n",
    "stats.chi2_contingency(ad_cross2)\n"
   ]
  },
  {
   "cell_type": "code",
   "execution_count": null,
   "metadata": {},
   "outputs": [],
   "source": []
  }
 ],
 "metadata": {
  "kernelspec": {
   "display_name": "human-da-env",
   "language": "python",
   "name": "python3"
  },
  "language_info": {
   "codemirror_mode": {
    "name": "ipython",
    "version": 3
   },
   "file_extension": ".py",
   "mimetype": "text/x-python",
   "name": "python",
   "nbconvert_exporter": "python",
   "pygments_lexer": "ipython3",
   "version": "3.12.7"
  }
 },
 "nbformat": 4,
 "nbformat_minor": 2
}
