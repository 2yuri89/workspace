{
 "cells": [
  {
   "cell_type": "code",
   "execution_count": 1,
   "metadata": {},
   "outputs": [],
   "source": [
    "import numpy as np\n",
    "import pandas as pd\n",
    "import matplotlib.pyplot as plt\n",
    "from scipy import stats"
   ]
  },
  {
   "cell_type": "code",
   "execution_count": 18,
   "metadata": {},
   "outputs": [
    {
     "name": "stdout",
     "output_type": "stream",
     "text": [
      "[0.25 0.25 0.25 0.25]\n",
      "[1 3 2 2 0 0 0 3 2 2]\n",
      "[3 1 4 2]\n",
      "Power_divergenceResult(statistic=np.float64(2.0), pvalue=np.float64(0.5724067044708798))\n",
      "Power_divergenceResult(statistic=np.float64(10.8), pvalue=np.float64(0.012858001156297613))\n"
     ]
    }
   ],
   "source": [
    "N = 10  # 데이터 갯수\n",
    "K = 4   # 범주 갯수\n",
    "mu_0 = np.ones(K) / K   # np.ones : 모든 요소의 값이 1인 ndarray 만들기 -> 발생 확률(임의로 만든것)\n",
    "# (K개=4개) 각 1, 4개가 4로 나뉘어 0.25 4개 됨\n",
    "print(mu_0)\n",
    "\n",
    "np.random.seed(42)\n",
    "x = np.random.choice(K, N, p=mu_0)\n",
    "# 랜덤 시드 - 재현성 - 난수가 발생해도 같은 난수가 발생하게 하는 것\n",
    "# 컴퓨터는 뽑을때 규칙적이라 뽑힐 수를 흔들어 놓아서 난수 발생되게 한다\n",
    "# 기본 시드 값을 현재 시간으로 해서 매번 달라지는 것\n",
    "\n",
    "# x = np.random.choice(K, N, p=mu_0)\n",
    "# K범주 안에서 (4개) N개(10개)를 뽑고, p=mu_0는 확률(25%)\n",
    "# np.random.choice 구글링 - 넘파이 공식 문서 보기\n",
    "# https://numpy.org/doc/2.1/reference/random/generated/numpy.random.choice.html\n",
    "\n",
    "print(x)\n",
    "\n",
    "c = np.bincount(x)\n",
    "print(c)\n",
    "# array([3, 1, 4, 2]) > 0이 3개, 1이 1개, 2가 4개, 3이 2개 라는 뜻\n",
    "\n",
    "print(stats.chisquare(c))\n",
    "print(stats.chisquare([7, 1, 1, 1]))\n",
    "# pvalue=np.float64(0.5009344477491052)\n",
    "# 각 동일 분표일때 불규칙 샘플이 뽑힐 확률\n",
    "# 샘플이 같아도 50% 매우 빈번하다"
   ]
  },
  {
   "cell_type": "code",
   "execution_count": null,
   "metadata": {},
   "outputs": [],
   "source": []
  }
 ],
 "metadata": {
  "kernelspec": {
   "display_name": "human-da-env",
   "language": "python",
   "name": "python3"
  },
  "language_info": {
   "codemirror_mode": {
    "name": "ipython",
    "version": 3
   },
   "file_extension": ".py",
   "mimetype": "text/x-python",
   "name": "python",
   "nbconvert_exporter": "python",
   "pygments_lexer": "ipython3",
   "version": "3.12.7"
  }
 },
 "nbformat": 4,
 "nbformat_minor": 2
}
