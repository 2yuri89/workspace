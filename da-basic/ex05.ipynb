{
 "cells": [
  {
   "cell_type": "code",
   "execution_count": null,
   "metadata": {},
   "outputs": [],
   "source": [
    "# !pip install statsmodels\n",
    "import numpy as np\n",
    "import pandas as pd\n",
    "import matplotlib.pyplot as plt\n",
    "import seaborn as sns\n",
    "from scipy import stats"
   ]
  },
  {
   "cell_type": "markdown",
   "metadata": {},
   "source": [
    "# t검정"
   ]
  },
  {
   "cell_type": "markdown",
   "metadata": {},
   "source": [
    "### 웹 페이지별 머무른 시간"
   ]
  },
  {
   "cell_type": "markdown",
   "metadata": {},
   "source": [
    "목적변수가 시간이 된다 = 수치형"
   ]
  },
  {
   "cell_type": "code",
   "execution_count": 43,
   "metadata": {},
   "outputs": [
    {
     "data": {
      "text/html": [
       "<div>\n",
       "<style scoped>\n",
       "    .dataframe tbody tr th:only-of-type {\n",
       "        vertical-align: middle;\n",
       "    }\n",
       "\n",
       "    .dataframe tbody tr th {\n",
       "        vertical-align: top;\n",
       "    }\n",
       "\n",
       "    .dataframe thead th {\n",
       "        text-align: right;\n",
       "    }\n",
       "</style>\n",
       "<table border=\"1\" class=\"dataframe\">\n",
       "  <thead>\n",
       "    <tr style=\"text-align: right;\">\n",
       "      <th></th>\n",
       "      <th>Page</th>\n",
       "      <th>Time</th>\n",
       "    </tr>\n",
       "  </thead>\n",
       "  <tbody>\n",
       "    <tr>\n",
       "      <th>0</th>\n",
       "      <td>Page A</td>\n",
       "      <td>0.21</td>\n",
       "    </tr>\n",
       "    <tr>\n",
       "      <th>1</th>\n",
       "      <td>Page B</td>\n",
       "      <td>2.53</td>\n",
       "    </tr>\n",
       "  </tbody>\n",
       "</table>\n",
       "</div>"
      ],
      "text/plain": [
       "     Page  Time\n",
       "0  Page A  0.21\n",
       "1  Page B  2.53"
      ]
     },
     "execution_count": 43,
     "metadata": {},
     "output_type": "execute_result"
    }
   ],
   "source": [
    "# web_page_data.csv를 사용해서 A, B 두 페이지의 접속시간 차이를 검정\n",
    "web_page_data_df = pd.read_csv('data-files/web_page_data.csv')\n",
    "web_page_data_df.head(2)"
   ]
  },
  {
   "cell_type": "code",
   "execution_count": 44,
   "metadata": {},
   "outputs": [
    {
     "data": {
      "text/plain": [
       "Page     object\n",
       "Time    float64\n",
       "dtype: object"
      ]
     },
     "execution_count": 44,
     "metadata": {},
     "output_type": "execute_result"
    }
   ],
   "source": [
    "web_page_data_df.dtypes"
   ]
  },
  {
   "cell_type": "code",
   "execution_count": 45,
   "metadata": {},
   "outputs": [
    {
     "data": {
      "text/plain": [
       "Page\n",
       "Page A    1.263333\n",
       "Page B    1.620000\n",
       "Name: Time, dtype: float64"
      ]
     },
     "execution_count": 45,
     "metadata": {},
     "output_type": "execute_result"
    }
   ],
   "source": [
    "# 두 페이지의 접속 시간 차이\n",
    "web_page_data_df.groupby('Page')['Time'].mean()"
   ]
  },
  {
   "cell_type": "code",
   "execution_count": 46,
   "metadata": {},
   "outputs": [
    {
     "data": {
      "text/html": [
       "<div>\n",
       "<style scoped>\n",
       "    .dataframe tbody tr th:only-of-type {\n",
       "        vertical-align: middle;\n",
       "    }\n",
       "\n",
       "    .dataframe tbody tr th {\n",
       "        vertical-align: top;\n",
       "    }\n",
       "\n",
       "    .dataframe thead th {\n",
       "        text-align: right;\n",
       "    }\n",
       "</style>\n",
       "<table border=\"1\" class=\"dataframe\">\n",
       "  <thead>\n",
       "    <tr style=\"text-align: right;\">\n",
       "      <th></th>\n",
       "      <th>Time</th>\n",
       "    </tr>\n",
       "    <tr>\n",
       "      <th>Page</th>\n",
       "      <th></th>\n",
       "    </tr>\n",
       "  </thead>\n",
       "  <tbody>\n",
       "    <tr>\n",
       "      <th>Page A</th>\n",
       "      <td>21</td>\n",
       "    </tr>\n",
       "    <tr>\n",
       "      <th>Page B</th>\n",
       "      <td>15</td>\n",
       "    </tr>\n",
       "  </tbody>\n",
       "</table>\n",
       "</div>"
      ],
      "text/plain": [
       "        Time\n",
       "Page        \n",
       "Page A    21\n",
       "Page B    15"
      ]
     },
     "execution_count": 46,
     "metadata": {},
     "output_type": "execute_result"
    }
   ],
   "source": [
    "web_page_data_df.groupby('Page').count()"
   ]
  },
  {
   "cell_type": "code",
   "execution_count": 47,
   "metadata": {},
   "outputs": [
    {
     "data": {
      "text/plain": [
       "TtestResult(statistic=np.float64(-1.1237042154424823), pvalue=np.float64(0.26901024363926024), df=np.float64(34.0))"
      ]
     },
     "execution_count": 47,
     "metadata": {},
     "output_type": "execute_result"
    }
   ],
   "source": [
    "stats.ttest_ind(web_page_data_df[web_page_data_df['Page'] == 'Page A']['Time'],\n",
    "                web_page_data_df[web_page_data_df['Page'] == 'Page B']['Time'])\n",
    "# pvalue=np.float64(0.26901024363926024)\n",
    "# pvalue를 근거로 차이 없는 모집단으로부터 위에서 보인 차이가 나타나는 표본이 뽑일 가능성이 27% \n",
    "# -> 귀무가설 기각 할 수 없음 \n",
    "# -> 두 페이지의 접속시간에는 차이가 있다고 말할 수 없다"
   ]
  },
  {
   "cell_type": "markdown",
   "metadata": {},
   "source": [
    "### Tip"
   ]
  },
  {
   "cell_type": "code",
   "execution_count": 48,
   "metadata": {},
   "outputs": [
    {
     "data": {
      "text/html": [
       "<div>\n",
       "<style scoped>\n",
       "    .dataframe tbody tr th:only-of-type {\n",
       "        vertical-align: middle;\n",
       "    }\n",
       "\n",
       "    .dataframe tbody tr th {\n",
       "        vertical-align: top;\n",
       "    }\n",
       "\n",
       "    .dataframe thead th {\n",
       "        text-align: right;\n",
       "    }\n",
       "</style>\n",
       "<table border=\"1\" class=\"dataframe\">\n",
       "  <thead>\n",
       "    <tr style=\"text-align: right;\">\n",
       "      <th></th>\n",
       "      <th>total_bill</th>\n",
       "      <th>tip</th>\n",
       "      <th>sex</th>\n",
       "      <th>smoker</th>\n",
       "      <th>day</th>\n",
       "      <th>time</th>\n",
       "      <th>size</th>\n",
       "    </tr>\n",
       "  </thead>\n",
       "  <tbody>\n",
       "    <tr>\n",
       "      <th>0</th>\n",
       "      <td>16.99</td>\n",
       "      <td>1.01</td>\n",
       "      <td>Female</td>\n",
       "      <td>No</td>\n",
       "      <td>Sun</td>\n",
       "      <td>Dinner</td>\n",
       "      <td>2</td>\n",
       "    </tr>\n",
       "    <tr>\n",
       "      <th>1</th>\n",
       "      <td>10.34</td>\n",
       "      <td>1.66</td>\n",
       "      <td>Male</td>\n",
       "      <td>No</td>\n",
       "      <td>Sun</td>\n",
       "      <td>Dinner</td>\n",
       "      <td>3</td>\n",
       "    </tr>\n",
       "    <tr>\n",
       "      <th>2</th>\n",
       "      <td>21.01</td>\n",
       "      <td>3.50</td>\n",
       "      <td>Male</td>\n",
       "      <td>No</td>\n",
       "      <td>Sun</td>\n",
       "      <td>Dinner</td>\n",
       "      <td>3</td>\n",
       "    </tr>\n",
       "  </tbody>\n",
       "</table>\n",
       "</div>"
      ],
      "text/plain": [
       "   total_bill   tip     sex smoker  day    time  size\n",
       "0       16.99  1.01  Female     No  Sun  Dinner     2\n",
       "1       10.34  1.66    Male     No  Sun  Dinner     3\n",
       "2       21.01  3.50    Male     No  Sun  Dinner     3"
      ]
     },
     "execution_count": 48,
     "metadata": {},
     "output_type": "execute_result"
    }
   ],
   "source": [
    "tips_df = sns.load_dataset('tips')\n",
    "tips_df.head(3)"
   ]
  },
  {
   "cell_type": "code",
   "execution_count": 49,
   "metadata": {},
   "outputs": [],
   "source": [
    "# 성별에 따라 tip에 차이가 있는지 분석\n",
    "# 흡연여부에 따라 tip에 차이가 있는지 분석\n",
    "# 식사시간대에 따라 tip에 차이가 있는지 분석\n",
    "# 요일에 따라 tip에 차이가 있는지 분석"
   ]
  },
  {
   "cell_type": "code",
   "execution_count": 68,
   "metadata": {},
   "outputs": [
    {
     "name": "stdout",
     "output_type": "stream",
     "text": [
      "['Female', 'Male']\n",
      "Categories (2, object): ['Male', 'Female']\n",
      "['No', 'Yes']\n",
      "Categories (2, object): ['Yes', 'No']\n",
      "['Sun', 'Sat', 'Thur', 'Fri']\n",
      "Categories (4, object): ['Thur', 'Fri', 'Sat', 'Sun']\n",
      "['Dinner', 'Lunch']\n",
      "Categories (2, object): ['Lunch', 'Dinner']\n"
     ]
    }
   ],
   "source": [
    "print( tips_df['sex'].unique() )\n",
    "print( tips_df['smoker'].unique() )\n",
    "print( tips_df['day'].unique() )\n",
    "print( tips_df['time'].unique() )"
   ]
  },
  {
   "cell_type": "code",
   "execution_count": null,
   "metadata": {},
   "outputs": [
    {
     "name": "stdout",
     "output_type": "stream",
     "text": [
      "sex\n",
      "Male      3.089618\n",
      "Female    2.833448\n",
      "Name: tip, dtype: float64\n",
      "sex\n",
      "Male      157\n",
      "Female     87\n",
      "Name: tip, dtype: int64\n"
     ]
    },
    {
     "data": {
      "text/plain": [
       "TtestResult(statistic=np.float64(-1.387859705421269), pvalue=np.float64(0.16645623503456755), df=np.float64(242.0))"
      ]
     },
     "execution_count": 50,
     "metadata": {},
     "output_type": "execute_result"
    }
   ],
   "source": [
    "# 성별에 따라 tip에 차이가 있는지 분석\n",
    "print( tips_df.groupby('sex', observed=True)['tip'].mean() )    # 평균\n",
    "print( tips_df.groupby('sex', observed=True)['tip'].count() )   # 횟수\n",
    "\n",
    "# t검정\n",
    "stats.ttest_ind(tips_df[tips_df['sex'] == 'Female']['tip'],\n",
    "                tips_df[tips_df['sex'] == 'Male']['tip'])\n"
   ]
  },
  {
   "cell_type": "code",
   "execution_count": 51,
   "metadata": {},
   "outputs": [
    {
     "name": "stdout",
     "output_type": "stream",
     "text": [
      "smoker\n",
      "Yes    3.008710\n",
      "No     2.991854\n",
      "Name: tip, dtype: float64\n",
      "smoker\n",
      "Yes     93\n",
      "No     151\n",
      "Name: tip, dtype: int64\n"
     ]
    },
    {
     "data": {
      "text/plain": [
       "TtestResult(statistic=np.float64(-0.09222805186888201), pvalue=np.float64(0.9265931522244976), df=np.float64(242.0))"
      ]
     },
     "execution_count": 51,
     "metadata": {},
     "output_type": "execute_result"
    }
   ],
   "source": [
    "# 흡연여부에 따라 tip에 차이가 있는지 분석\n",
    "print( tips_df.groupby('smoker', observed=True)['tip'].mean() )    # 평균\n",
    "print( tips_df.groupby('smoker', observed=True)['tip'].count() )   # 횟수\n",
    "\n",
    "# t검정\n",
    "stats.ttest_ind(tips_df[tips_df['smoker'] == 'No']['tip'],\n",
    "                tips_df[tips_df['smoker'] == 'Yes']['tip'])"
   ]
  },
  {
   "cell_type": "code",
   "execution_count": 52,
   "metadata": {},
   "outputs": [
    {
     "name": "stdout",
     "output_type": "stream",
     "text": [
      "time\n",
      "Lunch     2.728088\n",
      "Dinner    3.102670\n",
      "Name: tip, dtype: float64\n",
      "time\n",
      "Lunch      68\n",
      "Dinner    176\n",
      "Name: tip, dtype: int64\n"
     ]
    },
    {
     "data": {
      "text/plain": [
       "TtestResult(statistic=np.float64(1.9062569301202392), pvalue=np.float64(0.05780153475171558), df=np.float64(242.0))"
      ]
     },
     "execution_count": 52,
     "metadata": {},
     "output_type": "execute_result"
    }
   ],
   "source": [
    "# 식사시간대에 따라 tip에 차이가 있는지 분석\n",
    "print( tips_df.groupby('time', observed=True)['tip'].mean() )    # 평균\n",
    "print( tips_df.groupby('time', observed=True)['tip'].count() )   # 횟수\n",
    "\n",
    "# t검정\n",
    "stats.ttest_ind(tips_df[tips_df['time'] == 'Dinner']['tip'],\n",
    "                tips_df[tips_df['time'] == 'Lunch']['tip'])"
   ]
  },
  {
   "cell_type": "code",
   "execution_count": 70,
   "metadata": {},
   "outputs": [
    {
     "name": "stdout",
     "output_type": "stream",
     "text": [
      "day\n",
      "Thur    2.771452\n",
      "Fri     2.734737\n",
      "Sat     2.993103\n",
      "Sun     3.255132\n",
      "Name: tip, dtype: float64\n",
      "day\n",
      "Thur    62\n",
      "Fri     19\n",
      "Sat     87\n",
      "Sun     76\n",
      "Name: tip, dtype: int64\n"
     ]
    },
    {
     "data": {
      "text/plain": [
       "TtestResult(statistic=np.float64(-1.8834950801996837), pvalue=np.float64(0.06083244523772748), df=np.float64(242.0))"
      ]
     },
     "execution_count": 70,
     "metadata": {},
     "output_type": "execute_result"
    }
   ],
   "source": [
    "# 요일에 따라 tip에 차이가 있는지 분석\n",
    "print( tips_df.groupby('day', observed=True)['tip'].mean() )    # 평균\n",
    "print( tips_df.groupby('day', observed=True)['tip'].count() )   # 횟수\n",
    "\n",
    "# t검정 수행\n",
    "stats.ttest_ind(tips_df[tips_df['day'].isin(['Thur', 'Fri'])]['tip'], \n",
    "                tips_df[tips_df['day'].isin(['Sat', 'Sun'])]['tip'])"
   ]
  },
  {
   "cell_type": "code",
   "execution_count": 73,
   "metadata": {},
   "outputs": [
    {
     "data": {
      "text/plain": [
       "F_onewayResult(statistic=np.float64(1.6723551980998699), pvalue=np.float64(0.17358855530405373))"
      ]
     },
     "execution_count": 73,
     "metadata": {},
     "output_type": "execute_result"
    }
   ],
   "source": [
    "# 요일에 따라 tip에 차이가 있는지 분석\n",
    "# ANOVA 검정 수행\n",
    "stats.f_oneway(tips_df[tips_df['day']=='Thur']['tip'],\n",
    "               tips_df[tips_df['day']=='Fri']['tip'], \n",
    "               tips_df[tips_df['day']=='Sat']['tip'], \n",
    "               tips_df[tips_df['day']=='Sun']['tip'])"
   ]
  },
  {
   "cell_type": "code",
   "execution_count": 72,
   "metadata": {},
   "outputs": [],
   "source": [
    "# # 성별에 따라 tip에 차이가 있는지 분석\n",
    "    # pvalue=np.float64(0.16645623503456755) > 귀무가설을 기각 불가 > 관계 없다\n",
    "\n",
    "# # 흡연여부에 따라 tip에 차이가 있는지 분석\n",
    "    # pvalue=np.float64(0.9265931522244976) > 귀무가설을 기각 불가 > 관계 없다\n",
    "\n",
    "# # 식사시간대에 따라 tip에 차이가 있는지 분석\n",
    "    # pvalue=np.float64(0.05780153475171558) > 귀무가설을 기각 불가 > 관계 없다\n",
    "        # 이렇게 애매할때는 데이터를 더 모아 분석하는게 좋다\n",
    "\n",
    "# # 요일에 따라 tip에 차이가 있는지 분석\n",
    "    # t검정(평일/주말) pvalue=np.float64(0.06083244523772748) > 귀무가설을 기각 불가 > 관계 없다\n",
    "    # ANOVA검정 pvalue=np.float64(0.17358855530405373) > 귀무가설을 기각 불가 > 관계 없다"
   ]
  },
  {
   "cell_type": "markdown",
   "metadata": {},
   "source": [
    "선생님과 함께하는 요일에 대한 분석"
   ]
  },
  {
   "cell_type": "code",
   "execution_count": 85,
   "metadata": {},
   "outputs": [
    {
     "data": {
      "text/plain": [
       "(np.int64(81),\n",
       " np.int64(163),\n",
       " np.float64(2.7628395061728392),\n",
       " np.float64(3.115276073619632),\n",
       " np.float64(0.35243656744679264))"
      ]
     },
     "execution_count": 85,
     "metadata": {},
     "output_type": "execute_result"
    }
   ],
   "source": [
    "weekend_mask = (tips_df['day'] == 'Sat') | (tips_df['day'] == 'Sun')\n",
    "tips_df[~weekend_mask]['tip'].count(), \\\n",
    "tips_df[weekend_mask]['tip'].count(), \\\n",
    "tips_df[~weekend_mask]['tip'].mean(), \\\n",
    "tips_df[weekend_mask]['tip'].mean(), \\\n",
    "tips_df[weekend_mask]['tip'].mean() - tips_df[~weekend_mask]['tip'].mean()"
   ]
  },
  {
   "cell_type": "code",
   "execution_count": null,
   "metadata": {},
   "outputs": [
    {
     "data": {
      "text/plain": [
       "TtestResult(statistic=np.float64(1.8834950801996837), pvalue=np.float64(0.06083244523772748), df=np.float64(242.0))"
      ]
     },
     "execution_count": 89,
     "metadata": {},
     "output_type": "execute_result"
    }
   ],
   "source": [
    "# 요일에 따라 tip에 차이가 있는지 분석 1\n",
    "# 주말과 주중은 tip의 양에 차이가 있다고 주장할 수 있을까?\n",
    "\n",
    "stats.ttest_ind(tips_df[weekend_mask]['tip'], \n",
    "                tips_df[~weekend_mask]['tip'] )"
   ]
  },
  {
   "cell_type": "code",
   "execution_count": 88,
   "metadata": {},
   "outputs": [],
   "source": [
    "# ols: Ordinary Least Squares의 약자 \n",
    "# formula\n",
    "# 241108 수업필기 참고"
   ]
  },
  {
   "cell_type": "code",
   "execution_count": 91,
   "metadata": {},
   "outputs": [],
   "source": [
    "import statsmodels.api as sm\n",
    "import statsmodels.formula.api as smf"
   ]
  },
  {
   "cell_type": "code",
   "execution_count": 93,
   "metadata": {},
   "outputs": [
    {
     "name": "stdout",
     "output_type": "stream",
     "text": [
      "day\n",
      "Thur    2.771452\n",
      "Fri     2.734737\n",
      "Sat     2.993103\n",
      "Sun     3.255132\n",
      "Name: tip, dtype: float64\n",
      "day\n",
      "Thur    62\n",
      "Fri     19\n",
      "Sat     87\n",
      "Sun     76\n",
      "Name: tip, dtype: int64\n"
     ]
    }
   ],
   "source": [
    "# 현상 관측\n",
    "print( tips_df.groupby('day', observed=True)['tip'].mean() )    # 평균\n",
    "print( tips_df.groupby('day', observed=True)['tip'].count() )    # 빈도"
   ]
  },
  {
   "cell_type": "code",
   "execution_count": null,
   "metadata": {},
   "outputs": [
    {
     "data": {
      "text/html": [
       "<div>\n",
       "<style scoped>\n",
       "    .dataframe tbody tr th:only-of-type {\n",
       "        vertical-align: middle;\n",
       "    }\n",
       "\n",
       "    .dataframe tbody tr th {\n",
       "        vertical-align: top;\n",
       "    }\n",
       "\n",
       "    .dataframe thead th {\n",
       "        text-align: right;\n",
       "    }\n",
       "</style>\n",
       "<table border=\"1\" class=\"dataframe\">\n",
       "  <thead>\n",
       "    <tr style=\"text-align: right;\">\n",
       "      <th></th>\n",
       "      <th>df</th>\n",
       "      <th>sum_sq</th>\n",
       "      <th>mean_sq</th>\n",
       "      <th>F</th>\n",
       "      <th>PR(&gt;F)</th>\n",
       "    </tr>\n",
       "  </thead>\n",
       "  <tbody>\n",
       "    <tr>\n",
       "      <th>day</th>\n",
       "      <td>3.0</td>\n",
       "      <td>9.525873</td>\n",
       "      <td>3.175291</td>\n",
       "      <td>1.672355</td>\n",
       "      <td>0.173589</td>\n",
       "    </tr>\n",
       "    <tr>\n",
       "      <th>Residual</th>\n",
       "      <td>240.0</td>\n",
       "      <td>455.686604</td>\n",
       "      <td>1.898694</td>\n",
       "      <td>NaN</td>\n",
       "      <td>NaN</td>\n",
       "    </tr>\n",
       "  </tbody>\n",
       "</table>\n",
       "</div>"
      ],
      "text/plain": [
       "             df      sum_sq   mean_sq         F    PR(>F)\n",
       "day         3.0    9.525873  3.175291  1.672355  0.173589\n",
       "Residual  240.0  455.686604  1.898694       NaN       NaN"
      ]
     },
     "execution_count": 94,
     "metadata": {},
     "output_type": "execute_result"
    }
   ],
   "source": [
    "# 요일에 따라 tip에 차이가 있는지 분석 2\n",
    "\n",
    "# 회귀모델 만들기 (=회귀 직선 찾기)\n",
    "model = smf.ols(\"tip ~ day\", data=tips_df).fit() # tip = f(day)\n",
    "# 회귀선으로 분산분석 하기\n",
    "sm.stats.anova_lm(model)\n",
    "# 결과에서 F는 통계량, Probability(p-value) 0.173589"
   ]
  },
  {
   "cell_type": "markdown",
   "metadata": {},
   "source": [
    "ANOVA 분석(분산분석)은 변수가 3개 이상일때만 쓸 수 있을까?"
   ]
  },
  {
   "cell_type": "code",
   "execution_count": null,
   "metadata": {},
   "outputs": [
    {
     "data": {
      "text/html": [
       "<div>\n",
       "<style scoped>\n",
       "    .dataframe tbody tr th:only-of-type {\n",
       "        vertical-align: middle;\n",
       "    }\n",
       "\n",
       "    .dataframe tbody tr th {\n",
       "        vertical-align: top;\n",
       "    }\n",
       "\n",
       "    .dataframe thead th {\n",
       "        text-align: right;\n",
       "    }\n",
       "</style>\n",
       "<table border=\"1\" class=\"dataframe\">\n",
       "  <thead>\n",
       "    <tr style=\"text-align: right;\">\n",
       "      <th></th>\n",
       "      <th>df</th>\n",
       "      <th>sum_sq</th>\n",
       "      <th>mean_sq</th>\n",
       "      <th>F</th>\n",
       "      <th>PR(&gt;F)</th>\n",
       "    </tr>\n",
       "  </thead>\n",
       "  <tbody>\n",
       "    <tr>\n",
       "      <th>time</th>\n",
       "      <td>1.0</td>\n",
       "      <td>6.882181</td>\n",
       "      <td>6.882181</td>\n",
       "      <td>3.633815</td>\n",
       "      <td>0.057802</td>\n",
       "    </tr>\n",
       "    <tr>\n",
       "      <th>Residual</th>\n",
       "      <td>242.0</td>\n",
       "      <td>458.330296</td>\n",
       "      <td>1.893927</td>\n",
       "      <td>NaN</td>\n",
       "      <td>NaN</td>\n",
       "    </tr>\n",
       "  </tbody>\n",
       "</table>\n",
       "</div>"
      ],
      "text/plain": [
       "             df      sum_sq   mean_sq         F    PR(>F)\n",
       "time        1.0    6.882181  6.882181  3.633815  0.057802\n",
       "Residual  242.0  458.330296  1.893927       NaN       NaN"
      ]
     },
     "execution_count": 95,
     "metadata": {},
     "output_type": "execute_result"
    }
   ],
   "source": [
    "model = smf.ols(\"tip ~ time\", data=tips_df).fit()\n",
    "sm.stats.anova_lm(model)\n",
    "\n",
    "# 결과를 보니 가능하다! \n",
    "# 분산분석은 변수 2개 일때도 사용 가능하다"
   ]
  },
  {
   "cell_type": "code",
   "execution_count": 96,
   "metadata": {},
   "outputs": [],
   "source": [
    "# 우리는 탐색적 분석을하고, 현상을 봤어\n",
    "# 이 현상을 보고 이렇게 결정해도 될까?\n",
    "# 여태 배운 검정들은 탐색적 분석에서 도구로 활용되지 목적이 아니다."
   ]
  },
  {
   "cell_type": "code",
   "execution_count": null,
   "metadata": {},
   "outputs": [
    {
     "data": {
      "text/plain": [
       "TtestResult(statistic=np.float64(1.8834950801996837), pvalue=np.float64(0.03041622261886374), df=np.float64(242.0))"
      ]
     },
     "execution_count": 97,
     "metadata": {},
     "output_type": "execute_result"
    }
   ],
   "source": [
    "# 요일에 따라 tip에 차이가 있는지 분석 1\n",
    "# 주말에 tip을 더 많이 준다고 주장할 수 있을까?\n",
    "\n",
    "stats.ttest_ind(tips_df[weekend_mask]['tip'], \n",
    "                tips_df[~weekend_mask]['tip'],\n",
    "                alternative='greater' )\n",
    "\n",
    "# pvalue=np.float64(0.03041622261886374) > 귀무가설 기각 가능 > 주말에 팁을 더 준다"
   ]
  },
  {
   "cell_type": "code",
   "execution_count": null,
   "metadata": {},
   "outputs": [],
   "source": []
  }
 ],
 "metadata": {
  "kernelspec": {
   "display_name": "human-da-env",
   "language": "python",
   "name": "python3"
  },
  "language_info": {
   "codemirror_mode": {
    "name": "ipython",
    "version": 3
   },
   "file_extension": ".py",
   "mimetype": "text/x-python",
   "name": "python",
   "nbconvert_exporter": "python",
   "pygments_lexer": "ipython3",
   "version": "3.12.7"
  }
 },
 "nbformat": 4,
 "nbformat_minor": 2
}
