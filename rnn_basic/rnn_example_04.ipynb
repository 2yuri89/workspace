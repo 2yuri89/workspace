{
 "cells": [
  {
   "cell_type": "code",
   "execution_count": 1,
   "metadata": {},
   "outputs": [],
   "source": [
    "import pandas as pd\n",
    "import numpy as np\n",
    "import matplotlib.pyplot as plt\n",
    "\n",
    "import tensorflow as tf\n",
    "from tensorflow import keras as tf_keras"
   ]
  },
  {
   "cell_type": "code",
   "execution_count": 60,
   "metadata": {},
   "outputs": [
    {
     "data": {
      "text/html": [
       "<div>\n",
       "<style scoped>\n",
       "    .dataframe tbody tr th:only-of-type {\n",
       "        vertical-align: middle;\n",
       "    }\n",
       "\n",
       "    .dataframe tbody tr th {\n",
       "        vertical-align: top;\n",
       "    }\n",
       "\n",
       "    .dataframe thead th {\n",
       "        text-align: right;\n",
       "    }\n",
       "</style>\n",
       "<table border=\"1\" class=\"dataframe\">\n",
       "  <thead>\n",
       "    <tr style=\"text-align: right;\">\n",
       "      <th></th>\n",
       "      <th>target</th>\n",
       "      <th>message</th>\n",
       "    </tr>\n",
       "  </thead>\n",
       "  <tbody>\n",
       "    <tr>\n",
       "      <th>0</th>\n",
       "      <td>ham</td>\n",
       "      <td>Go until jurong point, crazy.. Available only ...</td>\n",
       "    </tr>\n",
       "    <tr>\n",
       "      <th>1</th>\n",
       "      <td>ham</td>\n",
       "      <td>Ok lar... Joking wif u oni...</td>\n",
       "    </tr>\n",
       "    <tr>\n",
       "      <th>2</th>\n",
       "      <td>spam</td>\n",
       "      <td>Free entry in 2 a wkly comp to win FA Cup fina...</td>\n",
       "    </tr>\n",
       "    <tr>\n",
       "      <th>3</th>\n",
       "      <td>ham</td>\n",
       "      <td>U dun say so early hor... U c already then say...</td>\n",
       "    </tr>\n",
       "    <tr>\n",
       "      <th>4</th>\n",
       "      <td>ham</td>\n",
       "      <td>Nah I don't think he goes to usf, he lives aro...</td>\n",
       "    </tr>\n",
       "  </tbody>\n",
       "</table>\n",
       "</div>"
      ],
      "text/plain": [
       "  target                                            message\n",
       "0    ham  Go until jurong point, crazy.. Available only ...\n",
       "1    ham                      Ok lar... Joking wif u oni...\n",
       "2   spam  Free entry in 2 a wkly comp to win FA Cup fina...\n",
       "3    ham  U dun say so early hor... U c already then say...\n",
       "4    ham  Nah I don't think he goes to usf, he lives aro..."
      ]
     },
     "execution_count": 60,
     "metadata": {},
     "output_type": "execute_result"
    }
   ],
   "source": [
    "# 데이터 준비\n",
    "df = pd.read_csv('data_files/SMSSpamCollection.tsv', sep = \"\\t\", header = None, \n",
    "                 names=['target', 'message'])\n",
    "df.head()"
   ]
  },
  {
   "cell_type": "code",
   "execution_count": 10,
   "metadata": {},
   "outputs": [
    {
     "name": "stdout",
     "output_type": "stream",
     "text": [
      "<class 'pandas.core.frame.DataFrame'>\n",
      "RangeIndex: 5572 entries, 0 to 5571\n",
      "Data columns (total 2 columns):\n",
      " #   Column   Non-Null Count  Dtype \n",
      "---  ------   --------------  ----- \n",
      " 0   target   5572 non-null   object\n",
      " 1   message  5572 non-null   object\n",
      "dtypes: object(2)\n",
      "memory usage: 87.2+ KB\n",
      "4457.6\n",
      "3566.0800000000004\n"
     ]
    }
   ],
   "source": [
    "df.info()                       # 전체 5572\n",
    "print(df.shape[0] * 0.8)        # 4457.60 > 4500\n",
    "print(df.shape[0] * 0.8 * 0.8)  # 3566.08 > 3500"
   ]
  },
  {
   "cell_type": "code",
   "execution_count": null,
   "metadata": {},
   "outputs": [],
   "source": [
    "# target 컬럼 숫자로 변환 (ham:1, spam:0)\n",
    "df['target'] = df['target'].map(lambda x: 1 if x == 'ham' else 0)"
   ]
  },
  {
   "cell_type": "code",
   "execution_count": null,
   "metadata": {},
   "outputs": [],
   "source": [
    "# train, validation, test 데이터프레임 나누기\n",
    "train_data = df.iloc[:3500]\n",
    "validation_data = df.iloc[3500:4500]\n",
    "test_data = df.iloc[4500:]"
   ]
  },
  {
   "cell_type": "code",
   "execution_count": 35,
   "metadata": {},
   "outputs": [],
   "source": [
    "# 각각의 데이터프레임을 데이터셋으로 만들기\n",
    "def dataframe_to_dataset(df, text_column, label_column):\n",
    "    text = df[text_column].values\n",
    "    label = df[label_column].values\n",
    "    dataset = tf.data.Dataset.from_tensor_slices((text, label))\n",
    "    return dataset\n",
    "\n",
    "# train 데이터셋\n",
    "train_dataset = dataframe_to_dataset(train_data, 'message', 'target')\n",
    "# validation 데이터셋\n",
    "validation_dataset = dataframe_to_dataset(validation_data, 'message', 'target')\n",
    "# test 데이터셋\n",
    "test_dataset = dataframe_to_dataset(test_data, 'message', 'target')\n",
    "\n",
    "# 배치 크기 32로 설정\n",
    "train_dataset = train_dataset.batch(32)\n",
    "validation_dataset = validation_dataset.batch(32)\n",
    "test_dataset = test_dataset.batch(32)"
   ]
  },
  {
   "cell_type": "code",
   "execution_count": 36,
   "metadata": {},
   "outputs": [],
   "source": [
    "# 메세지만 있는 데이터셋 만들기\n",
    "message_only_dataset = train_dataset.map(lambda message, target: message)"
   ]
  },
  {
   "cell_type": "code",
   "execution_count": 37,
   "metadata": {},
   "outputs": [],
   "source": [
    "# 메세지만 있는 데이터셋으로 단어사전 만들기\n",
    "text_vectorizer = tf_keras.layers.TextVectorization(max_tokens=20000, \n",
    "                                                    output_mode='int', \n",
    "                                                    output_sequence_length=100)\n",
    "\n",
    "text_vectorizer.adapt(message_only_dataset)"
   ]
  },
  {
   "cell_type": "code",
   "execution_count": 38,
   "metadata": {},
   "outputs": [
    {
     "name": "stdout",
     "output_type": "stream",
     "text": [
      "7437\n"
     ]
    },
    {
     "data": {
      "text/plain": [
       "['in', 'me', 'my', 'for', 'your', 'of', 'have', 'it', 'on', 'call']"
      ]
     },
     "execution_count": 38,
     "metadata": {},
     "output_type": "execute_result"
    }
   ],
   "source": [
    "# 단어 사전 확인\n",
    "dictionary = text_vectorizer.get_vocabulary()\n",
    "print(len(dictionary))\n",
    "# 단어 사전에 없는 단어 표시 : UNK(unknown) (혹은 oov (out of vocabulary))\n",
    "dictionary[10:20]"
   ]
  },
  {
   "cell_type": "code",
   "execution_count": 39,
   "metadata": {},
   "outputs": [
    {
     "name": "stdout",
     "output_type": "stream",
     "text": [
      "(32, 100)\n",
      "tf.Tensor(\n",
      "[[  51  369 5339 ...    0    0    0]\n",
      " [  46  293 2673 ...    0    0    0]\n",
      " [  54  392   10 ...    0    0    0]\n",
      " ...\n",
      " [6952  131    3 ...    0    0    0]\n",
      " [ 200  140   83 ...    0    0    0]\n",
      " [ 170   76   60 ...    0    0    0]], shape=(32, 100), dtype=int64)\n"
     ]
    }
   ],
   "source": [
    "# (문장 -> 숫자 리스트) 변환기 테스트\n",
    "for X, y in train_dataset:\n",
    "    d = text_vectorizer(X)  # 변환 실행 [X: (32, 1) -> X: (32, 300)]\n",
    "    # batch_size=32라서 X는 32문장이 나오는데, 위에서 한 문장당 300 단어 (정확히는 토큰) 쓰기로 했음\n",
    "    print(d.shape)\n",
    "    print(d)\n",
    "    break"
   ]
  },
  {
   "cell_type": "code",
   "execution_count": 40,
   "metadata": {},
   "outputs": [
    {
     "name": "stdout",
     "output_type": "stream",
     "text": [
      "[  46  293 2673  524    7 2522    0    0    0    0]\n",
      "ok lar joking wif u oni "
     ]
    }
   ],
   "source": [
    "# 숫자로 인코딩된 문장을 원래 문장으로 복원\n",
    "print(d[1][:10].numpy())    # .numpy()를 붙이면 숫자만 볼 수 있다. 배치처리해야 [1]붙이고, 아니라면 없애\n",
    "for t in d[1]:\n",
    "    if t != 0:\n",
    "        print(dictionary[t], end=\" \")"
   ]
  },
  {
   "cell_type": "code",
   "execution_count": 41,
   "metadata": {},
   "outputs": [],
   "source": [
    "# Embedding 모델 만들기\n",
    "input = tf_keras.layers.Input(shape=(None, ))\n",
    "output = tf_keras.layers.Embedding(input_dim=20000, output_dim=100)(input)\n",
    "\n",
    "embedding_model = tf_keras.models.Model(input, output)"
   ]
  },
  {
   "cell_type": "code",
   "execution_count": 42,
   "metadata": {},
   "outputs": [],
   "source": [
    "for review in message_only_dataset:\n",
    "    # print(review)\n",
    "    vectorized_message = text_vectorizer(message)                 # 단어 1개 -> 숫자 1개\n",
    "    embedded_message = embedding_model(vectorized_message)        # 숫자 1개 -> 숫자 100개 \n",
    "    break"
   ]
  },
  {
   "cell_type": "code",
   "execution_count": 43,
   "metadata": {},
   "outputs": [
    {
     "data": {
      "text/plain": [
       "(TensorShape([32, 100]), TensorShape([32, 100, 100]))"
      ]
     },
     "execution_count": 43,
     "metadata": {},
     "output_type": "execute_result"
    }
   ],
   "source": [
    "vectorized_message.shape, embedded_message.shape"
   ]
  },
  {
   "cell_type": "code",
   "execution_count": 53,
   "metadata": {},
   "outputs": [],
   "source": [
    "vectorized_train_dataset = train_dataset.map(lambda message, label: (text_vectorizer(message), label))\n",
    "vectorized_validation_dataset = validation_dataset.map(lambda message, label: (text_vectorizer(message), label))\n",
    "vectorized_test_dataset = test_dataset.map(lambda message, label: (text_vectorizer(message), label))"
   ]
  },
  {
   "cell_type": "code",
   "execution_count": 54,
   "metadata": {},
   "outputs": [
    {
     "name": "stdout",
     "output_type": "stream",
     "text": [
      "tf.Tensor(\n",
      "[[  51  369 5339 ...    0    0    0]\n",
      " [  46  293 2673 ...    0    0    0]\n",
      " [  54  392   10 ...    0    0    0]\n",
      " ...\n",
      " [6952  131    3 ...    0    0    0]\n",
      " [ 200  140   83 ...    0    0    0]\n",
      " [ 170   76   60 ...    0    0    0]], shape=(32, 100), dtype=int64)\n"
     ]
    }
   ],
   "source": [
    "# 변경 확인\n",
    "for X, y in vectorized_train_dataset:\n",
    "    print(X)\n",
    "    break"
   ]
  },
  {
   "cell_type": "code",
   "execution_count": 55,
   "metadata": {},
   "outputs": [
    {
     "name": "stdout",
     "output_type": "stream",
     "text": [
      "Model: \"model_2\"\n",
      "_________________________________________________________________\n",
      " Layer (type)                Output Shape              Param #   \n",
      "=================================================================\n",
      " input_3 (InputLayer)        [(None, None)]            0         \n",
      "                                                                 \n",
      " embedding_2 (Embedding)     (None, None, 100)         2000000   \n",
      "                                                                 \n",
      " lstm_1 (LSTM)               (None, 16)                7488      \n",
      "                                                                 \n",
      " dense_1 (Dense)             (None, 1)                 17        \n",
      "                                                                 \n",
      "=================================================================\n",
      "Total params: 2007505 (7.66 MB)\n",
      "Trainable params: 2007505 (7.66 MB)\n",
      "Non-trainable params: 0 (0.00 Byte)\n",
      "_________________________________________________________________\n"
     ]
    }
   ],
   "source": [
    "# 모델 구조 설계 : 텍스트 데이터 처리를 위한 순환신경망 모델\n",
    "\n",
    "input = tf_keras.layers.Input(shape=(None,))\n",
    "x = tf_keras.layers.Embedding(input_dim=20000, output_dim=100)(input)   # None, 300, 100\n",
    "x = tf_keras.layers.LSTM(units=16)(x)\n",
    "output = tf_keras.layers.Dense(units=1, activation='sigmoid')(x)\n",
    "\n",
    "model = tf_keras.models.Model(input, output)\n",
    "\n",
    "model.summary()"
   ]
  },
  {
   "cell_type": "code",
   "execution_count": 56,
   "metadata": {},
   "outputs": [],
   "source": [
    "# 모델 학습 설계\n",
    "model.compile(loss='binary_crossentropy', \n",
    "              optimizer = 'adam',\n",
    "              metrics = ['accuracy'])"
   ]
  },
  {
   "cell_type": "code",
   "execution_count": 57,
   "metadata": {},
   "outputs": [
    {
     "name": "stdout",
     "output_type": "stream",
     "text": [
      "Epoch 1/10\n"
     ]
    },
    {
     "name": "stdout",
     "output_type": "stream",
     "text": [
      "110/110 [==============================] - 7s 47ms/step - loss: 0.4270 - accuracy: 0.8614 - val_loss: 0.4013 - val_accuracy: 0.8630\n",
      "Epoch 2/10\n",
      "110/110 [==============================] - 5s 47ms/step - loss: 0.3948 - accuracy: 0.8660 - val_loss: 0.4009 - val_accuracy: 0.8630\n",
      "Epoch 3/10\n",
      "110/110 [==============================] - 5s 42ms/step - loss: 0.3947 - accuracy: 0.8660 - val_loss: 0.4008 - val_accuracy: 0.8630\n",
      "Epoch 4/10\n",
      "110/110 [==============================] - 5s 41ms/step - loss: 0.3946 - accuracy: 0.8660 - val_loss: 0.4007 - val_accuracy: 0.8630\n",
      "Epoch 5/10\n",
      "110/110 [==============================] - 4s 41ms/step - loss: 0.3946 - accuracy: 0.8660 - val_loss: 0.4007 - val_accuracy: 0.8630\n",
      "Epoch 6/10\n",
      "110/110 [==============================] - 5s 41ms/step - loss: 0.3945 - accuracy: 0.8660 - val_loss: 0.4006 - val_accuracy: 0.8630\n",
      "Epoch 7/10\n",
      "110/110 [==============================] - 4s 40ms/step - loss: 0.3945 - accuracy: 0.8660 - val_loss: 0.4006 - val_accuracy: 0.8630\n",
      "Epoch 8/10\n",
      "110/110 [==============================] - 5s 43ms/step - loss: 0.3944 - accuracy: 0.8660 - val_loss: 0.4006 - val_accuracy: 0.8630\n",
      "Epoch 9/10\n",
      "110/110 [==============================] - 4s 41ms/step - loss: 0.3944 - accuracy: 0.8660 - val_loss: 0.4005 - val_accuracy: 0.8630\n",
      "Epoch 10/10\n",
      "110/110 [==============================] - 5s 42ms/step - loss: 0.3944 - accuracy: 0.8660 - val_loss: 0.4005 - val_accuracy: 0.8630\n"
     ]
    }
   ],
   "source": [
    "# 모델 학습\n",
    "fit_history = model.fit(vectorized_train_dataset, \n",
    "                        epochs=10, \n",
    "                        validation_data=vectorized_validation_dataset)"
   ]
  },
  {
   "cell_type": "code",
   "execution_count": null,
   "metadata": {},
   "outputs": [
    {
     "name": "stdout",
     "output_type": "stream",
     "text": [
      "110/110 [==============================] - 1s 8ms/step - loss: 0.3946 - accuracy: 0.8660\n",
      "34/34 [==============================] - 0s 8ms/step - loss: 0.3897 - accuracy: 0.8685\n"
     ]
    },
    {
     "data": {
      "text/plain": [
       "([0.394575834274292, 0.8659999966621399],\n",
       " [0.3897154927253723, 0.8684701323509216])"
      ]
     },
     "execution_count": 59,
     "metadata": {},
     "output_type": "execute_result"
    }
   ],
   "source": [
    "model.evaluate(vectorized_train_dataset), model.evaluate(vectorized_test_dataset)\n",
    "# train: ([0.394575834274292, 0.8659999966621399],\n",
    "# test:  [0.3897154927253723, 0.8684701323509216])"
   ]
  },
  {
   "cell_type": "markdown",
   "metadata": {},
   "source": [
    "# 선생님과 함께"
   ]
  },
  {
   "cell_type": "code",
   "execution_count": 61,
   "metadata": {},
   "outputs": [],
   "source": [
    "import pandas as pd\n",
    "import numpy as np\n",
    "import matplotlib.pyplot as plt\n",
    "\n",
    "import tensorflow as tf\n",
    "from tensorflow import keras as tf_keras"
   ]
  },
  {
   "cell_type": "code",
   "execution_count": 63,
   "metadata": {},
   "outputs": [
    {
     "data": {
      "text/html": [
       "<div>\n",
       "<style scoped>\n",
       "    .dataframe tbody tr th:only-of-type {\n",
       "        vertical-align: middle;\n",
       "    }\n",
       "\n",
       "    .dataframe tbody tr th {\n",
       "        vertical-align: top;\n",
       "    }\n",
       "\n",
       "    .dataframe thead th {\n",
       "        text-align: right;\n",
       "    }\n",
       "</style>\n",
       "<table border=\"1\" class=\"dataframe\">\n",
       "  <thead>\n",
       "    <tr style=\"text-align: right;\">\n",
       "      <th></th>\n",
       "      <th>label</th>\n",
       "      <th>msg</th>\n",
       "    </tr>\n",
       "  </thead>\n",
       "  <tbody>\n",
       "    <tr>\n",
       "      <th>0</th>\n",
       "      <td>ham</td>\n",
       "      <td>Go until jurong point, crazy.. Available only ...</td>\n",
       "    </tr>\n",
       "    <tr>\n",
       "      <th>1</th>\n",
       "      <td>ham</td>\n",
       "      <td>Ok lar... Joking wif u oni...</td>\n",
       "    </tr>\n",
       "    <tr>\n",
       "      <th>2</th>\n",
       "      <td>spam</td>\n",
       "      <td>Free entry in 2 a wkly comp to win FA Cup fina...</td>\n",
       "    </tr>\n",
       "    <tr>\n",
       "      <th>3</th>\n",
       "      <td>ham</td>\n",
       "      <td>U dun say so early hor... U c already then say...</td>\n",
       "    </tr>\n",
       "    <tr>\n",
       "      <th>4</th>\n",
       "      <td>ham</td>\n",
       "      <td>Nah I don't think he goes to usf, he lives aro...</td>\n",
       "    </tr>\n",
       "  </tbody>\n",
       "</table>\n",
       "</div>"
      ],
      "text/plain": [
       "  label                                                msg\n",
       "0   ham  Go until jurong point, crazy.. Available only ...\n",
       "1   ham                      Ok lar... Joking wif u oni...\n",
       "2  spam  Free entry in 2 a wkly comp to win FA Cup fina...\n",
       "3   ham  U dun say so early hor... U c already then say...\n",
       "4   ham  Nah I don't think he goes to usf, he lives aro..."
      ]
     },
     "execution_count": 63,
     "metadata": {},
     "output_type": "execute_result"
    }
   ],
   "source": [
    "spam_df = pd.read_csv('data_files/SMSSpamCollection.tsv', \n",
    "                      sep='\\t', header=None, names=['label', 'msg'])\n",
    "spam_df.head()"
   ]
  },
  {
   "cell_type": "code",
   "execution_count": 65,
   "metadata": {},
   "outputs": [],
   "source": [
    "# 특성과 타겟 나누기\n",
    "from sklearn.preprocessing import LabelEncoder  # ham, spam 2개 뿐이라서 labelEncoder 괜찮\n",
    "from sklearn.model_selection import train_test_split\n",
    "\n",
    "X, y = spam_df['msg'], spam_df['label']\n",
    "y = LabelEncoder().fit_transform(y)\n",
    "X_train, X_test, y_train, y_test = train_test_split(X, y, random_state=42, stratify=y)"
   ]
  },
  {
   "cell_type": "code",
   "execution_count": null,
   "metadata": {},
   "outputs": [],
   "source": [
    "# 데이터프레임을 데이터셋으로 변환하기\n",
    "# tf.data.Dataset.from_tensor_slices: dataframe 이나 numpy array 을 tensorflow's dataset 으로 바꾸기\n",
    "train_dataset = tf.data.Dataset.from_tensor_slices((X_train, y_train))\n",
    "test_dataset = tf.data.Dataset.from_tensor_slices((X_test, y_test))"
   ]
  },
  {
   "cell_type": "code",
   "execution_count": 70,
   "metadata": {},
   "outputs": [
    {
     "name": "stdout",
     "output_type": "stream",
     "text": [
      "() ()\n",
      "tf.Tensor(b'Orh i tot u say she now still dun believe.', shape=(), dtype=string)\n"
     ]
    }
   ],
   "source": [
    "# dataset 구성 확인 : 배치 처리 하지 않아 문제 발생\n",
    "for X2, y2 in train_dataset:\n",
    "    print(X2.shape, y2.shape)   # () ()\n",
    "    print(X2)\n",
    "    break"
   ]
  },
  {
   "cell_type": "code",
   "execution_count": null,
   "metadata": {},
   "outputs": [],
   "source": [
    "batched_train_dataset = train_dataset.shuffle(buffer_size=3).batch(32)\n",
    "batched_test_dataset = test_dataset.shuffle(buffer_size=3).batch(32)\n",
    "# shuffle(buffer_size=3) 데이터 3개 공간 만들고 섞은 데이터에서 3개 추출 한개 쓰면 다시 랜덤에서 추출"
   ]
  },
  {
   "cell_type": "code",
   "execution_count": 73,
   "metadata": {},
   "outputs": [
    {
     "name": "stdout",
     "output_type": "stream",
     "text": [
      "(32,) (32,)\n",
      "tf.Tensor(b'Orh i tot u say she now still dun believe.', shape=(), dtype=string)\n"
     ]
    }
   ],
   "source": [
    "# dataset 구성 확인 : 배치 처리 후\n",
    "for X2, y2 in batched_train_dataset:\n",
    "    print(X2.shape, y2.shape)   # (32,) (32,)\n",
    "    print(X2[0])\n",
    "    break"
   ]
  },
  {
   "cell_type": "code",
   "execution_count": 92,
   "metadata": {},
   "outputs": [],
   "source": [
    "# 단어 사전 만들기\n",
    "msg_only_dataset = batched_train_dataset.map(lambda label, msg: msg)\n",
    "\n",
    "text_vector = tf_keras.layers.TextVectorization(max_tokens=20000, \n",
    "                                                output_mode='int',\n",
    "                                                output_sequence_length=300)"
   ]
  },
  {
   "cell_type": "code",
   "execution_count": 93,
   "metadata": {},
   "outputs": [],
   "source": [
    "# Embedding 모델 만들기\n",
    "input = tf_keras.layers.Input(shape=(None,))\n",
    "output = tf_keras.layers.Embedding(input_dim=20000, output_dim=300)(input)\n",
    "\n",
    "embedding_model = tf_keras.models.Model(input, output)"
   ]
  },
  {
   "cell_type": "code",
   "execution_count": 94,
   "metadata": {},
   "outputs": [
    {
     "ename": "UnimplementedError",
     "evalue": "Exception encountered when calling layer 'text_vectorization_6' (type TextVectorization).\n\n{{function_node __wrapped__Cast_device_/job:localhost/replica:0/task:0/device:CPU:0}} Cast int32 to string is not supported [Op:Cast] name: \n\nCall arguments received by layer 'text_vectorization_6' (type TextVectorization):\n  • inputs=tf.Tensor(shape=(32,), dtype=int32)",
     "output_type": "error",
     "traceback": [
      "\u001b[1;31m---------------------------------------------------------------------------\u001b[0m",
      "\u001b[1;31mUnimplementedError\u001b[0m                        Traceback (most recent call last)",
      "Cell \u001b[1;32mIn[94], line 2\u001b[0m\n\u001b[0;32m      1\u001b[0m \u001b[38;5;28;01mfor\u001b[39;00m msg \u001b[38;5;129;01min\u001b[39;00m msg_only_dataset:\n\u001b[1;32m----> 2\u001b[0m     vectorized_msg \u001b[38;5;241m=\u001b[39m \u001b[43mtext_vector\u001b[49m\u001b[43m(\u001b[49m\u001b[43mmsg\u001b[49m\u001b[43m)\u001b[49m                 \u001b[38;5;66;03m# 단어 1개 -> 숫자 1개\u001b[39;00m\n\u001b[0;32m      3\u001b[0m     embedded_msg \u001b[38;5;241m=\u001b[39m embedding_model(vectorized_msg)        \u001b[38;5;66;03m# 숫자 1개 -> 숫자 100개 \u001b[39;00m\n\u001b[0;32m      4\u001b[0m     \u001b[38;5;28;01mbreak\u001b[39;00m\n",
      "File \u001b[1;32mc:\\Users\\human\\.conda\\envs\\human-dl-env2\\lib\\site-packages\\keras\\src\\utils\\traceback_utils.py:70\u001b[0m, in \u001b[0;36mfilter_traceback.<locals>.error_handler\u001b[1;34m(*args, **kwargs)\u001b[0m\n\u001b[0;32m     67\u001b[0m     filtered_tb \u001b[38;5;241m=\u001b[39m _process_traceback_frames(e\u001b[38;5;241m.\u001b[39m__traceback__)\n\u001b[0;32m     68\u001b[0m     \u001b[38;5;66;03m# To get the full stack trace, call:\u001b[39;00m\n\u001b[0;32m     69\u001b[0m     \u001b[38;5;66;03m# `tf.debugging.disable_traceback_filtering()`\u001b[39;00m\n\u001b[1;32m---> 70\u001b[0m     \u001b[38;5;28;01mraise\u001b[39;00m e\u001b[38;5;241m.\u001b[39mwith_traceback(filtered_tb) \u001b[38;5;28;01mfrom\u001b[39;00m \u001b[38;5;28;01mNone\u001b[39;00m\n\u001b[0;32m     71\u001b[0m \u001b[38;5;28;01mfinally\u001b[39;00m:\n\u001b[0;32m     72\u001b[0m     \u001b[38;5;28;01mdel\u001b[39;00m filtered_tb\n",
      "File \u001b[1;32mc:\\Users\\human\\.conda\\envs\\human-dl-env2\\lib\\site-packages\\tensorflow\\python\\framework\\ops.py:5883\u001b[0m, in \u001b[0;36mraise_from_not_ok_status\u001b[1;34m(e, name)\u001b[0m\n\u001b[0;32m   5881\u001b[0m \u001b[38;5;28;01mdef\u001b[39;00m \u001b[38;5;21mraise_from_not_ok_status\u001b[39m(e, name) \u001b[38;5;241m-\u001b[39m\u001b[38;5;241m>\u001b[39m NoReturn:\n\u001b[0;32m   5882\u001b[0m   e\u001b[38;5;241m.\u001b[39mmessage \u001b[38;5;241m+\u001b[39m\u001b[38;5;241m=\u001b[39m (\u001b[38;5;124m\"\u001b[39m\u001b[38;5;124m name: \u001b[39m\u001b[38;5;124m\"\u001b[39m \u001b[38;5;241m+\u001b[39m \u001b[38;5;28mstr\u001b[39m(name \u001b[38;5;28;01mif\u001b[39;00m name \u001b[38;5;129;01mis\u001b[39;00m \u001b[38;5;129;01mnot\u001b[39;00m \u001b[38;5;28;01mNone\u001b[39;00m \u001b[38;5;28;01melse\u001b[39;00m \u001b[38;5;124m\"\u001b[39m\u001b[38;5;124m\"\u001b[39m))\n\u001b[1;32m-> 5883\u001b[0m   \u001b[38;5;28;01mraise\u001b[39;00m core\u001b[38;5;241m.\u001b[39m_status_to_exception(e) \u001b[38;5;28;01mfrom\u001b[39;00m \u001b[38;5;28;01mNone\u001b[39;00m\n",
      "\u001b[1;31mUnimplementedError\u001b[0m: Exception encountered when calling layer 'text_vectorization_6' (type TextVectorization).\n\n{{function_node __wrapped__Cast_device_/job:localhost/replica:0/task:0/device:CPU:0}} Cast int32 to string is not supported [Op:Cast] name: \n\nCall arguments received by layer 'text_vectorization_6' (type TextVectorization):\n  • inputs=tf.Tensor(shape=(32,), dtype=int32)"
     ]
    }
   ],
   "source": [
    "for msg in msg_only_dataset:\n",
    "    vectorized_msg = text_vector(msg)                 # 단어 1개 -> 숫자 1개\n",
    "    embedded_msg = embedding_model(vectorized_msg)        # 숫자 1개 -> 숫자 100개 \n",
    "    break"
   ]
  },
  {
   "cell_type": "code",
   "execution_count": null,
   "metadata": {},
   "outputs": [],
   "source": []
  }
 ],
 "metadata": {
  "kernelspec": {
   "display_name": "human-dl-env2",
   "language": "python",
   "name": "python3"
  },
  "language_info": {
   "codemirror_mode": {
    "name": "ipython",
    "version": 3
   },
   "file_extension": ".py",
   "mimetype": "text/x-python",
   "name": "python",
   "nbconvert_exporter": "python",
   "pygments_lexer": "ipython3",
   "version": "3.9.21"
  }
 },
 "nbformat": 4,
 "nbformat_minor": 2
}
