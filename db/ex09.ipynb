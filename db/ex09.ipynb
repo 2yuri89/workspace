{
 "cells": [
  {
   "cell_type": "markdown",
   "metadata": {},
   "source": [
    "csv 파일을 db에 저장해보기"
   ]
  },
  {
   "cell_type": "code",
   "execution_count": 1,
   "metadata": {},
   "outputs": [],
   "source": [
    "# 1. iris.data 파일 분석\n",
    "## bookstore db를 대상으로 아래 작업 수행\n",
    "# 2. iris.data 파일의 데이터를 저장할 테이블 만들기 (pymysql 사용)\n",
    "# 3. iris.data 파일의 데이터를 읽어서 2에서 만든 테이블에 저장 (pymysql 사용)\n",
    "# 4. iris 테이블에서 \"setosa\" 품종 데이터 조회 (pymysql 사용)"
   ]
  },
  {
   "cell_type": "code",
   "execution_count": 11,
   "metadata": {},
   "outputs": [
    {
     "name": "stdout",
     "output_type": "stream",
     "text": [
      "   sepal_length  sepal_width  petal_length  petal_width        class\n",
      "0           5.1          3.5           1.4          0.2  Iris-setosa \n",
      "      sepal_length  sepal_width  petal_length  petal_width           class\n",
      "149           5.9          3.0           5.1          1.8  Iris-virginica\n"
     ]
    }
   ],
   "source": [
    "# csv 파일 읽어와서 df으로 바꾸기\n",
    "\n",
    "import pandas as pd\n",
    "df = pd.read_csv('data-file/iris.data', header=None, \n",
    "                 names=['sepal_length', 'sepal_width', 'petal_length','petal_width', 'class'])\n",
    "print(df.head(1), '\\n', df.tail(1))"
   ]
  },
  {
   "cell_type": "code",
   "execution_count": 12,
   "metadata": {},
   "outputs": [],
   "source": [
    "# 테이블 만들기\n",
    "\n",
    "import pymysql\n",
    "\n",
    "conn = pymysql.connect(host=\"192.168.0.55\", port=3306, db=\"bookstore\", \n",
    "                       user=\"humanda\", passwd=\"humanda\")\n",
    "\n",
    "cursor = conn.cursor()\n"
   ]
  },
  {
   "cell_type": "code",
   "execution_count": null,
   "metadata": {},
   "outputs": [],
   "source": [
    "# sql = \"drop table iris\"\n",
    "# cursor.execute(sql)"
   ]
  },
  {
   "cell_type": "code",
   "execution_count": 14,
   "metadata": {},
   "outputs": [
    {
     "data": {
      "text/plain": [
       "0"
      ]
     },
     "execution_count": 14,
     "metadata": {},
     "output_type": "execute_result"
    }
   ],
   "source": [
    "sql = \"\"\"\n",
    "    create table iris\n",
    "    (\n",
    "        sepal_length float,\n",
    "        sepal_width float,\n",
    "        petal_length float,\n",
    "        petal_width float,\n",
    "        class varchar(100)\n",
    "    )    \"\"\"\n",
    "cursor.execute(sql)"
   ]
  },
  {
   "cell_type": "code",
   "execution_count": 15,
   "metadata": {},
   "outputs": [],
   "source": [
    "\n",
    "# # sql = \"insert into iris values (%s, %s, %s, %s, %s)\"\n",
    "# for iris_list in df.to_numpy():\n",
    "#     print(iris_list)\n",
    "#     # cursor.execute(sql, iris)"
   ]
  },
  {
   "cell_type": "code",
   "execution_count": 16,
   "metadata": {},
   "outputs": [],
   "source": [
    "# iris_list.shape\n",
    "# iris_list.tolist()\n",
    "# type(iris_list) # 자료형태가 numpy.array"
   ]
  },
  {
   "cell_type": "code",
   "execution_count": 17,
   "metadata": {},
   "outputs": [
    {
     "name": "stdout",
     "output_type": "stream",
     "text": [
      "[5.1 3.5 1.4 0.2 'Iris-setosa'] 5\n",
      "[4.9 3.0 1.4 0.2 'Iris-setosa'] 5\n",
      "[4.7 3.2 1.3 0.2 'Iris-setosa'] 5\n",
      "[4.6 3.1 1.5 0.2 'Iris-setosa'] 5\n",
      "[5.0 3.6 1.4 0.2 'Iris-setosa'] 5\n",
      "[5.4 3.9 1.7 0.4 'Iris-setosa'] 5\n",
      "[4.6 3.4 1.4 0.3 'Iris-setosa'] 5\n",
      "[5.0 3.4 1.5 0.2 'Iris-setosa'] 5\n",
      "[4.4 2.9 1.4 0.2 'Iris-setosa'] 5\n",
      "[4.9 3.1 1.5 0.1 'Iris-setosa'] 5\n",
      "[5.4 3.7 1.5 0.2 'Iris-setosa'] 5\n",
      "[4.8 3.4 1.6 0.2 'Iris-setosa'] 5\n",
      "[4.8 3.0 1.4 0.1 'Iris-setosa'] 5\n",
      "[4.3 3.0 1.1 0.1 'Iris-setosa'] 5\n",
      "[5.8 4.0 1.2 0.2 'Iris-setosa'] 5\n",
      "[5.7 4.4 1.5 0.4 'Iris-setosa'] 5\n",
      "[5.4 3.9 1.3 0.4 'Iris-setosa'] 5\n",
      "[5.1 3.5 1.4 0.3 'Iris-setosa'] 5\n",
      "[5.7 3.8 1.7 0.3 'Iris-setosa'] 5\n",
      "[5.1 3.8 1.5 0.3 'Iris-setosa'] 5\n",
      "[5.4 3.4 1.7 0.2 'Iris-setosa'] 5\n",
      "[5.1 3.7 1.5 0.4 'Iris-setosa'] 5\n",
      "[4.6 3.6 1.0 0.2 'Iris-setosa'] 5\n",
      "[5.1 3.3 1.7 0.5 'Iris-setosa'] 5\n",
      "[4.8 3.4 1.9 0.2 'Iris-setosa'] 5\n",
      "[5.0 3.0 1.6 0.2 'Iris-setosa'] 5\n",
      "[5.0 3.4 1.6 0.4 'Iris-setosa'] 5\n",
      "[5.2 3.5 1.5 0.2 'Iris-setosa'] 5\n",
      "[5.2 3.4 1.4 0.2 'Iris-setosa'] 5\n",
      "[4.7 3.2 1.6 0.2 'Iris-setosa'] 5\n",
      "[4.8 3.1 1.6 0.2 'Iris-setosa'] 5\n",
      "[5.4 3.4 1.5 0.4 'Iris-setosa'] 5\n",
      "[5.2 4.1 1.5 0.1 'Iris-setosa'] 5\n",
      "[5.5 4.2 1.4 0.2 'Iris-setosa'] 5\n",
      "[4.9 3.1 1.5 0.1 'Iris-setosa'] 5\n",
      "[5.0 3.2 1.2 0.2 'Iris-setosa'] 5\n",
      "[5.5 3.5 1.3 0.2 'Iris-setosa'] 5\n",
      "[4.9 3.1 1.5 0.1 'Iris-setosa'] 5\n",
      "[4.4 3.0 1.3 0.2 'Iris-setosa'] 5\n",
      "[5.1 3.4 1.5 0.2 'Iris-setosa'] 5\n",
      "[5.0 3.5 1.3 0.3 'Iris-setosa'] 5\n",
      "[4.5 2.3 1.3 0.3 'Iris-setosa'] 5\n",
      "[4.4 3.2 1.3 0.2 'Iris-setosa'] 5\n",
      "[5.0 3.5 1.6 0.6 'Iris-setosa'] 5\n",
      "[5.1 3.8 1.9 0.4 'Iris-setosa'] 5\n",
      "[4.8 3.0 1.4 0.3 'Iris-setosa'] 5\n",
      "[5.1 3.8 1.6 0.2 'Iris-setosa'] 5\n",
      "[4.6 3.2 1.4 0.2 'Iris-setosa'] 5\n",
      "[5.3 3.7 1.5 0.2 'Iris-setosa'] 5\n",
      "[5.0 3.3 1.4 0.2 'Iris-setosa'] 5\n",
      "[7.0 3.2 4.7 1.4 'Iris-versicolor'] 5\n",
      "[6.4 3.2 4.5 1.5 'Iris-versicolor'] 5\n",
      "[6.9 3.1 4.9 1.5 'Iris-versicolor'] 5\n",
      "[5.5 2.3 4.0 1.3 'Iris-versicolor'] 5\n",
      "[6.5 2.8 4.6 1.5 'Iris-versicolor'] 5\n",
      "[5.7 2.8 4.5 1.3 'Iris-versicolor'] 5\n",
      "[6.3 3.3 4.7 1.6 'Iris-versicolor'] 5\n",
      "[4.9 2.4 3.3 1.0 'Iris-versicolor'] 5\n",
      "[6.6 2.9 4.6 1.3 'Iris-versicolor'] 5\n",
      "[5.2 2.7 3.9 1.4 'Iris-versicolor'] 5\n",
      "[5.0 2.0 3.5 1.0 'Iris-versicolor'] 5\n",
      "[5.9 3.0 4.2 1.5 'Iris-versicolor'] 5\n",
      "[6.0 2.2 4.0 1.0 'Iris-versicolor'] 5\n",
      "[6.1 2.9 4.7 1.4 'Iris-versicolor'] 5\n",
      "[5.6 2.9 3.6 1.3 'Iris-versicolor'] 5\n",
      "[6.7 3.1 4.4 1.4 'Iris-versicolor'] 5\n",
      "[5.6 3.0 4.5 1.5 'Iris-versicolor'] 5\n",
      "[5.8 2.7 4.1 1.0 'Iris-versicolor'] 5\n",
      "[6.2 2.2 4.5 1.5 'Iris-versicolor'] 5\n",
      "[5.6 2.5 3.9 1.1 'Iris-versicolor'] 5\n",
      "[5.9 3.2 4.8 1.8 'Iris-versicolor'] 5\n",
      "[6.1 2.8 4.0 1.3 'Iris-versicolor'] 5\n",
      "[6.3 2.5 4.9 1.5 'Iris-versicolor'] 5\n",
      "[6.1 2.8 4.7 1.2 'Iris-versicolor'] 5\n",
      "[6.4 2.9 4.3 1.3 'Iris-versicolor'] 5\n",
      "[6.6 3.0 4.4 1.4 'Iris-versicolor'] 5\n",
      "[6.8 2.8 4.8 1.4 'Iris-versicolor'] 5\n",
      "[6.7 3.0 5.0 1.7 'Iris-versicolor'] 5\n",
      "[6.0 2.9 4.5 1.5 'Iris-versicolor'] 5\n",
      "[5.7 2.6 3.5 1.0 'Iris-versicolor'] 5\n",
      "[5.5 2.4 3.8 1.1 'Iris-versicolor'] 5\n",
      "[5.5 2.4 3.7 1.0 'Iris-versicolor'] 5\n",
      "[5.8 2.7 3.9 1.2 'Iris-versicolor'] 5\n",
      "[6.0 2.7 5.1 1.6 'Iris-versicolor'] 5\n",
      "[5.4 3.0 4.5 1.5 'Iris-versicolor'] 5\n",
      "[6.0 3.4 4.5 1.6 'Iris-versicolor'] 5\n",
      "[6.7 3.1 4.7 1.5 'Iris-versicolor'] 5\n",
      "[6.3 2.3 4.4 1.3 'Iris-versicolor'] 5\n",
      "[5.6 3.0 4.1 1.3 'Iris-versicolor'] 5\n",
      "[5.5 2.5 4.0 1.3 'Iris-versicolor'] 5\n",
      "[5.5 2.6 4.4 1.2 'Iris-versicolor'] 5\n",
      "[6.1 3.0 4.6 1.4 'Iris-versicolor'] 5\n",
      "[5.8 2.6 4.0 1.2 'Iris-versicolor'] 5\n",
      "[5.0 2.3 3.3 1.0 'Iris-versicolor'] 5\n",
      "[5.6 2.7 4.2 1.3 'Iris-versicolor'] 5\n",
      "[5.7 3.0 4.2 1.2 'Iris-versicolor'] 5\n",
      "[5.7 2.9 4.2 1.3 'Iris-versicolor'] 5\n",
      "[6.2 2.9 4.3 1.3 'Iris-versicolor'] 5\n",
      "[5.1 2.5 3.0 1.1 'Iris-versicolor'] 5\n",
      "[5.7 2.8 4.1 1.3 'Iris-versicolor'] 5\n",
      "[6.3 3.3 6.0 2.5 'Iris-virginica'] 5\n",
      "[5.8 2.7 5.1 1.9 'Iris-virginica'] 5\n",
      "[7.1 3.0 5.9 2.1 'Iris-virginica'] 5\n",
      "[6.3 2.9 5.6 1.8 'Iris-virginica'] 5\n",
      "[6.5 3.0 5.8 2.2 'Iris-virginica'] 5\n",
      "[7.6 3.0 6.6 2.1 'Iris-virginica'] 5\n",
      "[4.9 2.5 4.5 1.7 'Iris-virginica'] 5\n",
      "[7.3 2.9 6.3 1.8 'Iris-virginica'] 5\n",
      "[6.7 2.5 5.8 1.8 'Iris-virginica'] 5\n",
      "[7.2 3.6 6.1 2.5 'Iris-virginica'] 5\n",
      "[6.5 3.2 5.1 2.0 'Iris-virginica'] 5\n",
      "[6.4 2.7 5.3 1.9 'Iris-virginica'] 5\n",
      "[6.8 3.0 5.5 2.1 'Iris-virginica'] 5\n",
      "[5.7 2.5 5.0 2.0 'Iris-virginica'] 5\n",
      "[5.8 2.8 5.1 2.4 'Iris-virginica'] 5\n",
      "[6.4 3.2 5.3 2.3 'Iris-virginica'] 5\n",
      "[6.5 3.0 5.5 1.8 'Iris-virginica'] 5\n",
      "[7.7 3.8 6.7 2.2 'Iris-virginica'] 5\n",
      "[7.7 2.6 6.9 2.3 'Iris-virginica'] 5\n",
      "[6.0 2.2 5.0 1.5 'Iris-virginica'] 5\n",
      "[6.9 3.2 5.7 2.3 'Iris-virginica'] 5\n",
      "[5.6 2.8 4.9 2.0 'Iris-virginica'] 5\n",
      "[7.7 2.8 6.7 2.0 'Iris-virginica'] 5\n",
      "[6.3 2.7 4.9 1.8 'Iris-virginica'] 5\n",
      "[6.7 3.3 5.7 2.1 'Iris-virginica'] 5\n",
      "[7.2 3.2 6.0 1.8 'Iris-virginica'] 5\n",
      "[6.2 2.8 4.8 1.8 'Iris-virginica'] 5\n",
      "[6.1 3.0 4.9 1.8 'Iris-virginica'] 5\n",
      "[6.4 2.8 5.6 2.1 'Iris-virginica'] 5\n",
      "[7.2 3.0 5.8 1.6 'Iris-virginica'] 5\n",
      "[7.4 2.8 6.1 1.9 'Iris-virginica'] 5\n",
      "[7.9 3.8 6.4 2.0 'Iris-virginica'] 5\n",
      "[6.4 2.8 5.6 2.2 'Iris-virginica'] 5\n",
      "[6.3 2.8 5.1 1.5 'Iris-virginica'] 5\n",
      "[6.1 2.6 5.6 1.4 'Iris-virginica'] 5\n",
      "[7.7 3.0 6.1 2.3 'Iris-virginica'] 5\n",
      "[6.3 3.4 5.6 2.4 'Iris-virginica'] 5\n",
      "[6.4 3.1 5.5 1.8 'Iris-virginica'] 5\n",
      "[6.0 3.0 4.8 1.8 'Iris-virginica'] 5\n",
      "[6.9 3.1 5.4 2.1 'Iris-virginica'] 5\n",
      "[6.7 3.1 5.6 2.4 'Iris-virginica'] 5\n",
      "[6.9 3.1 5.1 2.3 'Iris-virginica'] 5\n",
      "[5.8 2.7 5.1 1.9 'Iris-virginica'] 5\n",
      "[6.8 3.2 5.9 2.3 'Iris-virginica'] 5\n",
      "[6.7 3.3 5.7 2.5 'Iris-virginica'] 5\n",
      "[6.7 3.0 5.2 2.3 'Iris-virginica'] 5\n",
      "[6.3 2.5 5.0 1.9 'Iris-virginica'] 5\n",
      "[6.5 3.0 5.2 2.0 'Iris-virginica'] 5\n",
      "[6.2 3.4 5.4 2.3 'Iris-virginica'] 5\n",
      "[5.9 3.0 5.1 1.8 'Iris-virginica'] 5\n"
     ]
    }
   ],
   "source": [
    "# 3. iris.data 파일의 데이터를 읽어서 2에서 만든 테이블에 저장 (pymysql 사용)\n",
    "\n",
    "sql = \"insert into iris values (%s, %s, %s, %s, %s)\" # %s로 데이터와 sql을 분리해줌.\n",
    "for iris in df.to_numpy():\n",
    "    print(iris, len(iris))\n",
    "    cursor.execute(sql, iris.tolist()) # 리스트로만 넣어야하는데 넘파이어레이라서 변환이 필요함"
   ]
  },
  {
   "cell_type": "code",
   "execution_count": 18,
   "metadata": {},
   "outputs": [],
   "source": [
    "conn.commit()"
   ]
  },
  {
   "cell_type": "code",
   "execution_count": 19,
   "metadata": {},
   "outputs": [
    {
     "data": {
      "text/plain": [
       "50"
      ]
     },
     "execution_count": 19,
     "metadata": {},
     "output_type": "execute_result"
    }
   ],
   "source": [
    "# 4. iris 테이블에서 \"setosa\" 품종 데이터 조회 (pymysql 사용)\n",
    "\n",
    "sql = \"\"\"select * from iris\n",
    "         where lower(class) like %s \"\"\"\n",
    "cursor.execute(sql, ['%{0}%'.format('setosa')]) \n",
    "\n",
    "# select절에 %s 넣는 방법"
   ]
  },
  {
   "cell_type": "code",
   "execution_count": 20,
   "metadata": {},
   "outputs": [],
   "source": [
    "iris_list = cursor.fetchall()"
   ]
  },
  {
   "cell_type": "code",
   "execution_count": 21,
   "metadata": {},
   "outputs": [
    {
     "name": "stdout",
     "output_type": "stream",
     "text": [
      "(5.1, 3.5, 1.4, 0.2, 'Iris-setosa')\n",
      "(4.9, 3.0, 1.4, 0.2, 'Iris-setosa')\n",
      "(4.7, 3.2, 1.3, 0.2, 'Iris-setosa')\n",
      "(4.6, 3.1, 1.5, 0.2, 'Iris-setosa')\n",
      "(5.0, 3.6, 1.4, 0.2, 'Iris-setosa')\n",
      "(5.4, 3.9, 1.7, 0.4, 'Iris-setosa')\n",
      "(4.6, 3.4, 1.4, 0.3, 'Iris-setosa')\n",
      "(5.0, 3.4, 1.5, 0.2, 'Iris-setosa')\n",
      "(4.4, 2.9, 1.4, 0.2, 'Iris-setosa')\n",
      "(4.9, 3.1, 1.5, 0.1, 'Iris-setosa')\n",
      "(5.4, 3.7, 1.5, 0.2, 'Iris-setosa')\n",
      "(4.8, 3.4, 1.6, 0.2, 'Iris-setosa')\n",
      "(4.8, 3.0, 1.4, 0.1, 'Iris-setosa')\n",
      "(4.3, 3.0, 1.1, 0.1, 'Iris-setosa')\n",
      "(5.8, 4.0, 1.2, 0.2, 'Iris-setosa')\n",
      "(5.7, 4.4, 1.5, 0.4, 'Iris-setosa')\n",
      "(5.4, 3.9, 1.3, 0.4, 'Iris-setosa')\n",
      "(5.1, 3.5, 1.4, 0.3, 'Iris-setosa')\n",
      "(5.7, 3.8, 1.7, 0.3, 'Iris-setosa')\n",
      "(5.1, 3.8, 1.5, 0.3, 'Iris-setosa')\n",
      "(5.4, 3.4, 1.7, 0.2, 'Iris-setosa')\n",
      "(5.1, 3.7, 1.5, 0.4, 'Iris-setosa')\n",
      "(4.6, 3.6, 1.0, 0.2, 'Iris-setosa')\n",
      "(5.1, 3.3, 1.7, 0.5, 'Iris-setosa')\n",
      "(4.8, 3.4, 1.9, 0.2, 'Iris-setosa')\n",
      "(5.0, 3.0, 1.6, 0.2, 'Iris-setosa')\n",
      "(5.0, 3.4, 1.6, 0.4, 'Iris-setosa')\n",
      "(5.2, 3.5, 1.5, 0.2, 'Iris-setosa')\n",
      "(5.2, 3.4, 1.4, 0.2, 'Iris-setosa')\n",
      "(4.7, 3.2, 1.6, 0.2, 'Iris-setosa')\n",
      "(4.8, 3.1, 1.6, 0.2, 'Iris-setosa')\n",
      "(5.4, 3.4, 1.5, 0.4, 'Iris-setosa')\n",
      "(5.2, 4.1, 1.5, 0.1, 'Iris-setosa')\n",
      "(5.5, 4.2, 1.4, 0.2, 'Iris-setosa')\n",
      "(4.9, 3.1, 1.5, 0.1, 'Iris-setosa')\n",
      "(5.0, 3.2, 1.2, 0.2, 'Iris-setosa')\n",
      "(5.5, 3.5, 1.3, 0.2, 'Iris-setosa')\n",
      "(4.9, 3.1, 1.5, 0.1, 'Iris-setosa')\n",
      "(4.4, 3.0, 1.3, 0.2, 'Iris-setosa')\n",
      "(5.1, 3.4, 1.5, 0.2, 'Iris-setosa')\n",
      "(5.0, 3.5, 1.3, 0.3, 'Iris-setosa')\n",
      "(4.5, 2.3, 1.3, 0.3, 'Iris-setosa')\n",
      "(4.4, 3.2, 1.3, 0.2, 'Iris-setosa')\n",
      "(5.0, 3.5, 1.6, 0.6, 'Iris-setosa')\n",
      "(5.1, 3.8, 1.9, 0.4, 'Iris-setosa')\n",
      "(4.8, 3.0, 1.4, 0.3, 'Iris-setosa')\n",
      "(5.1, 3.8, 1.6, 0.2, 'Iris-setosa')\n",
      "(4.6, 3.2, 1.4, 0.2, 'Iris-setosa')\n",
      "(5.3, 3.7, 1.5, 0.2, 'Iris-setosa')\n",
      "(5.0, 3.3, 1.4, 0.2, 'Iris-setosa')\n"
     ]
    }
   ],
   "source": [
    "for iris in iris_list:\n",
    "    print(iris)"
   ]
  },
  {
   "cell_type": "code",
   "execution_count": 22,
   "metadata": {},
   "outputs": [],
   "source": [
    "conn.close()\n",
    "cursor.close()"
   ]
  },
  {
   "cell_type": "markdown",
   "metadata": {},
   "source": [
    "선생님과 함께"
   ]
  },
  {
   "cell_type": "code",
   "execution_count": 23,
   "metadata": {},
   "outputs": [],
   "source": [
    "import pymysql"
   ]
  },
  {
   "cell_type": "code",
   "execution_count": 25,
   "metadata": {},
   "outputs": [],
   "source": [
    "# 1. \n",
    "conn = pymysql.connect(host = \"localhost\", port = 3306, db = \"bookstore\",\n",
    "                       user = \"humanda\", passwd = \"humanda\")"
   ]
  },
  {
   "cell_type": "code",
   "execution_count": 26,
   "metadata": {},
   "outputs": [],
   "source": [
    "# 2.\n",
    "cursor = conn.cursor()"
   ]
  },
  {
   "cell_type": "code",
   "execution_count": 28,
   "metadata": {},
   "outputs": [
    {
     "data": {
      "text/plain": [
       "0"
      ]
     },
     "execution_count": 28,
     "metadata": {},
     "output_type": "execute_result"
    }
   ],
   "source": [
    "# 4.\n",
    "sql = \"\"\"create table iris\n",
    "         (\n",
    "            sepal_length float,\n",
    "            sepal_width float,\n",
    "            petal_length  float,\n",
    "            petal_width  float,\n",
    "            species varchar(30)\n",
    "         )\"\"\"\n",
    "cursor.execute(sql)"
   ]
  },
  {
   "cell_type": "code",
   "execution_count": 29,
   "metadata": {},
   "outputs": [],
   "source": [
    "import pandas as pd"
   ]
  },
  {
   "cell_type": "code",
   "execution_count": 34,
   "metadata": {},
   "outputs": [],
   "source": [
    "# pd.read_csv(\"data-file/iris.data\", delimiter=\"$\") 데이터가 $로 구분되었다는 뜻. 기본은 ,다.\n",
    "iris_df = pd.read_csv(\"data-file/iris.data\", header = None, \n",
    "                      names=[\"sepal_length\", \"sepal_width\", \"petal_length\", \"petal_width\", \"species\"])\n",
    "\n",
    "# 우리는 바로 저장할 거라서 컬럼이름 없어도 된다. names이후 지워도 ㅇㅋ"
   ]
  },
  {
   "cell_type": "code",
   "execution_count": 40,
   "metadata": {},
   "outputs": [],
   "source": [
    "# iris_df.values # dataframe -> ndarray (n차원의 array로 반환)\n",
    "iris_list = iris_df.values.tolist() \n",
    "# iris_dataframe -> valuse : ndarray (n차원의 array로 반환) -> tolist() : python list로 반환"
   ]
  },
  {
   "cell_type": "code",
   "execution_count": 46,
   "metadata": {},
   "outputs": [],
   "source": [
    "cursor.execute(\"delete from iris\") # iris 테이블에 있는 데이터 모두 날리기\n",
    "conn.commit()"
   ]
  },
  {
   "cell_type": "code",
   "execution_count": 45,
   "metadata": {},
   "outputs": [],
   "source": [
    "# sql = \"\"\"insert into iris values (%s, %s, %s, %s, %s)\"\"\"\n",
    "# for iris in iris_list:\n",
    "#     cursor.execute(sql, iris) # iris [1, 2, 3, 4, 5, 'acb']\n",
    "# conn.commit()\n",
    "# # 이 방법은 데이터가 많아지면 속도가 느리가.\n",
    "# # 자동화된 반복문을 쓰는게 좋다. 함수나 내장된 기능을 활용"
   ]
  },
  {
   "cell_type": "code",
   "execution_count": 47,
   "metadata": {},
   "outputs": [],
   "source": [
    "# bulk insert : 한 번에 여러 개의 데이터 insert - executemany\n",
    "# 윗 셀 방법과 속도차이가 확연함\n",
    "sql = \"insert into iris values (%s, %s, %s, %s, %s)\"\n",
    "cursor.executemany(sql, iris_list) # irist_list [ [1, 2, 3, 4, 5, 'acb'], ... ]\n",
    "conn.commit()"
   ]
  },
  {
   "cell_type": "code",
   "execution_count": 50,
   "metadata": {},
   "outputs": [],
   "source": [
    "# setosa 품종 조회\n",
    "sql = \"select * from iris where class  like %s\"\n",
    "cursor.execute(sql, '%{0}%'.format('setosa'))\n",
    "setosa_list = cursor.fetchall()\n"
   ]
  },
  {
   "cell_type": "code",
   "execution_count": 51,
   "metadata": {},
   "outputs": [
    {
     "data": {
      "text/plain": [
       "((5.1, 3.5, 1.4, 0.2, 'Iris-setosa'),\n",
       " (4.9, 3.0, 1.4, 0.2, 'Iris-setosa'),\n",
       " (4.7, 3.2, 1.3, 0.2, 'Iris-setosa'),\n",
       " (4.6, 3.1, 1.5, 0.2, 'Iris-setosa'),\n",
       " (5.0, 3.6, 1.4, 0.2, 'Iris-setosa'),\n",
       " (5.4, 3.9, 1.7, 0.4, 'Iris-setosa'),\n",
       " (4.6, 3.4, 1.4, 0.3, 'Iris-setosa'),\n",
       " (5.0, 3.4, 1.5, 0.2, 'Iris-setosa'),\n",
       " (4.4, 2.9, 1.4, 0.2, 'Iris-setosa'),\n",
       " (4.9, 3.1, 1.5, 0.1, 'Iris-setosa'),\n",
       " (5.4, 3.7, 1.5, 0.2, 'Iris-setosa'),\n",
       " (4.8, 3.4, 1.6, 0.2, 'Iris-setosa'),\n",
       " (4.8, 3.0, 1.4, 0.1, 'Iris-setosa'),\n",
       " (4.3, 3.0, 1.1, 0.1, 'Iris-setosa'),\n",
       " (5.8, 4.0, 1.2, 0.2, 'Iris-setosa'),\n",
       " (5.7, 4.4, 1.5, 0.4, 'Iris-setosa'),\n",
       " (5.4, 3.9, 1.3, 0.4, 'Iris-setosa'),\n",
       " (5.1, 3.5, 1.4, 0.3, 'Iris-setosa'),\n",
       " (5.7, 3.8, 1.7, 0.3, 'Iris-setosa'),\n",
       " (5.1, 3.8, 1.5, 0.3, 'Iris-setosa'),\n",
       " (5.4, 3.4, 1.7, 0.2, 'Iris-setosa'),\n",
       " (5.1, 3.7, 1.5, 0.4, 'Iris-setosa'),\n",
       " (4.6, 3.6, 1.0, 0.2, 'Iris-setosa'),\n",
       " (5.1, 3.3, 1.7, 0.5, 'Iris-setosa'),\n",
       " (4.8, 3.4, 1.9, 0.2, 'Iris-setosa'),\n",
       " (5.0, 3.0, 1.6, 0.2, 'Iris-setosa'),\n",
       " (5.0, 3.4, 1.6, 0.4, 'Iris-setosa'),\n",
       " (5.2, 3.5, 1.5, 0.2, 'Iris-setosa'),\n",
       " (5.2, 3.4, 1.4, 0.2, 'Iris-setosa'),\n",
       " (4.7, 3.2, 1.6, 0.2, 'Iris-setosa'),\n",
       " (4.8, 3.1, 1.6, 0.2, 'Iris-setosa'),\n",
       " (5.4, 3.4, 1.5, 0.4, 'Iris-setosa'),\n",
       " (5.2, 4.1, 1.5, 0.1, 'Iris-setosa'),\n",
       " (5.5, 4.2, 1.4, 0.2, 'Iris-setosa'),\n",
       " (4.9, 3.1, 1.5, 0.1, 'Iris-setosa'),\n",
       " (5.0, 3.2, 1.2, 0.2, 'Iris-setosa'),\n",
       " (5.5, 3.5, 1.3, 0.2, 'Iris-setosa'),\n",
       " (4.9, 3.1, 1.5, 0.1, 'Iris-setosa'),\n",
       " (4.4, 3.0, 1.3, 0.2, 'Iris-setosa'),\n",
       " (5.1, 3.4, 1.5, 0.2, 'Iris-setosa'),\n",
       " (5.0, 3.5, 1.3, 0.3, 'Iris-setosa'),\n",
       " (4.5, 2.3, 1.3, 0.3, 'Iris-setosa'),\n",
       " (4.4, 3.2, 1.3, 0.2, 'Iris-setosa'),\n",
       " (5.0, 3.5, 1.6, 0.6, 'Iris-setosa'),\n",
       " (5.1, 3.8, 1.9, 0.4, 'Iris-setosa'),\n",
       " (4.8, 3.0, 1.4, 0.3, 'Iris-setosa'),\n",
       " (5.1, 3.8, 1.6, 0.2, 'Iris-setosa'),\n",
       " (4.6, 3.2, 1.4, 0.2, 'Iris-setosa'),\n",
       " (5.3, 3.7, 1.5, 0.2, 'Iris-setosa'),\n",
       " (5.0, 3.3, 1.4, 0.2, 'Iris-setosa'))"
      ]
     },
     "execution_count": 51,
     "metadata": {},
     "output_type": "execute_result"
    }
   ],
   "source": [
    "setosa_list"
   ]
  },
  {
   "cell_type": "code",
   "execution_count": 52,
   "metadata": {},
   "outputs": [],
   "source": [
    "cursor.close()\n",
    "conn.close()"
   ]
  },
  {
   "cell_type": "code",
   "execution_count": null,
   "metadata": {},
   "outputs": [],
   "source": []
  }
 ],
 "metadata": {
  "kernelspec": {
   "display_name": "human-da-env",
   "language": "python",
   "name": "python3"
  },
  "language_info": {
   "codemirror_mode": {
    "name": "ipython",
    "version": 3
   },
   "file_extension": ".py",
   "mimetype": "text/x-python",
   "name": "python",
   "nbconvert_exporter": "python",
   "pygments_lexer": "ipython3",
   "version": "3.12.7"
  }
 },
 "nbformat": 4,
 "nbformat_minor": 2
}
