{
 "cells": [
  {
   "cell_type": "code",
   "execution_count": 5,
   "metadata": {},
   "outputs": [],
   "source": [
    "# mysql database 연동 모듈\n",
    "# !pip install pymysql # pymysql 모듈 설치\n",
    "import pymysql"
   ]
  },
  {
   "cell_type": "code",
   "execution_count": 7,
   "metadata": {},
   "outputs": [],
   "source": [
    "# 1. 데이터베이스에 연결\n",
    "# pymysql.connect(host=\"\", port=1, user=\"\", passwd=\"\", db=\"\")\n",
    "# \"localhost\" = \"127.0.0.1\"\n",
    "conn = pymysql.connect(host=\"127.0.0.1\", port=3306, db=\"bookstore\",\n",
    "                       user=\"humanda\", passwd=\"humanda\")\n"
   ]
  },
  {
   "cell_type": "code",
   "execution_count": 9,
   "metadata": {},
   "outputs": [],
   "source": [
    "# 2. 명령 도구 준비\n",
    "cursor = conn.cursor()"
   ]
  },
  {
   "cell_type": "code",
   "execution_count": 10,
   "metadata": {},
   "outputs": [
    {
     "data": {
      "text/plain": [
       "5"
      ]
     },
     "execution_count": 10,
     "metadata": {},
     "output_type": "execute_result"
    }
   ],
   "source": [
    "# 3. 명령 실행\n",
    "sql = \"SELECT * FROM customer\"\n",
    "cursor.execute(sql)"
   ]
  },
  {
   "cell_type": "code",
   "execution_count": 11,
   "metadata": {},
   "outputs": [],
   "source": [
    "# 4. 조회 명령 실행 결과를 가져오기\n",
    "data = cursor.fetchall()"
   ]
  },
  {
   "cell_type": "code",
   "execution_count": 16,
   "metadata": {},
   "outputs": [
    {
     "name": "stdout",
     "output_type": "stream",
     "text": [
      "(1, '박지성', '영국 맨체스타', '000-5000-0001')\n",
      "(2, '김연아', '대한민국 서울', '000-6000-0001')\n",
      "(3, '장미란', '대한민국 강원도', '000-7000-0001')\n",
      "(4, '추신수', '미국 클리블랜드', '000-8000-0001')\n",
      "(5, '박세리', '대한민국 대전', None)\n"
     ]
    }
   ],
   "source": [
    "# 5. 데이터 사용\n",
    "# print(data)\n",
    "# print(type(data), len(data)) # 5개 로우라서 길이가 5로 나옴\n",
    "for row in data:\n",
    "    print(row)"
   ]
  },
  {
   "cell_type": "code",
   "execution_count": 17,
   "metadata": {},
   "outputs": [],
   "source": [
    "# 6. 연결 닫기\n",
    "cursor.close()\n",
    "conn.close()"
   ]
  },
  {
   "cell_type": "code",
   "execution_count": 19,
   "metadata": {},
   "outputs": [],
   "source": [
    "# 1. 데이터베이스에 연결\n",
    "conn = pymysql.connect(host=\"127.0.0.1\", port=3306, db=\"employees\",\n",
    "                       user=\"root\", passwd=\"1234\")\n"
   ]
  },
  {
   "cell_type": "code",
   "execution_count": 20,
   "metadata": {},
   "outputs": [],
   "source": [
    "# 2. 명령 도구 준비\n",
    "cursor = conn.cursor()"
   ]
  },
  {
   "cell_type": "code",
   "execution_count": 22,
   "metadata": {},
   "outputs": [
    {
     "data": {
      "text/plain": [
       "300024"
      ]
     },
     "execution_count": 22,
     "metadata": {},
     "output_type": "execute_result"
    }
   ],
   "source": [
    "# 3. 명령 실행\n",
    "# sql = \"SELECT * FROM salaries\"\n",
    "# cursor.execute(sql)\n",
    "sql = \"SELECT emp_no, MAX(salary) FROM salaries GROUP BY emp_no\"\n",
    "cursor.execute(sql)"
   ]
  },
  {
   "cell_type": "code",
   "execution_count": 23,
   "metadata": {},
   "outputs": [],
   "source": [
    "# 4. 조회 명령 실행 결과를 가져오기\n",
    "data = cursor.fetchall()"
   ]
  },
  {
   "cell_type": "code",
   "execution_count": 24,
   "metadata": {},
   "outputs": [
    {
     "name": "stdout",
     "output_type": "stream",
     "text": [
      "(10001, 88958)\n",
      "(10002, 72527)\n",
      "(10003, 43699)\n",
      "(10004, 74057)\n",
      "(10005, 94692)\n",
      "(10006, 60098)\n",
      "(10007, 88070)\n",
      "(10008, 52668)\n",
      "(10009, 94443)\n",
      "(10010, 80324)\n"
     ]
    }
   ],
   "source": [
    "# 5. 데이터 사용\n",
    "# print(data)\n",
    "# print(type(data), len(data)) # 5개 로우라서 길이가 5로 나옴\n",
    "for row in data[:10]:\n",
    "    print(row)"
   ]
  },
  {
   "cell_type": "code",
   "execution_count": 25,
   "metadata": {},
   "outputs": [],
   "source": [
    "# db에서 데이터 가져와서 df로 변환해서 avg, 집계 등등으로 활용함"
   ]
  },
  {
   "cell_type": "code",
   "execution_count": null,
   "metadata": {},
   "outputs": [],
   "source": []
  }
 ],
 "metadata": {
  "kernelspec": {
   "display_name": "human-da-env",
   "language": "python",
   "name": "python3"
  },
  "language_info": {
   "codemirror_mode": {
    "name": "ipython",
    "version": 3
   },
   "file_extension": ".py",
   "mimetype": "text/x-python",
   "name": "python",
   "nbconvert_exporter": "python",
   "pygments_lexer": "ipython3",
   "version": "3.12.7"
  }
 },
 "nbformat": 4,
 "nbformat_minor": 2
}
