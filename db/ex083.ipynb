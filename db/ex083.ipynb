{
 "cells": [
  {
   "cell_type": "code",
   "execution_count": 5,
   "metadata": {},
   "outputs": [],
   "source": [
    "# mysql database 연동 모듈\n",
    "# !pip install pymysql # pymysql 모듈 설치\n",
    "import pymysql"
   ]
  },
  {
   "cell_type": "code",
   "execution_count": 7,
   "metadata": {},
   "outputs": [],
   "source": [
    "# 1. 데이터베이스에 연결\n",
    "# pymysql.connect(host=\"\", port=1, user=\"\", passwd=\"\", db=\"\")\n",
    "# \"localhost\" = \"127.0.0.1\"\n",
    "conn = pymysql.connect(host=\"127.0.0.1\", port=3306, db=\"bookstore\",\n",
    "                       user=\"humanda\", passwd=\"humanda\")\n"
   ]
  },
  {
   "cell_type": "code",
   "execution_count": 9,
   "metadata": {},
   "outputs": [],
   "source": [
    "# 2. 명령 도구 준비\n",
    "cursor = conn.cursor()"
   ]
  },
  {
   "cell_type": "code",
   "execution_count": 10,
   "metadata": {},
   "outputs": [
    {
     "data": {
      "text/plain": [
       "5"
      ]
     },
     "execution_count": 10,
     "metadata": {},
     "output_type": "execute_result"
    }
   ],
   "source": [
    "# 3. 명령 실행\n",
    "sql = \"SELECT * FROM customer\"\n",
    "cursor.execute(sql)"
   ]
  },
  {
   "cell_type": "code",
   "execution_count": 11,
   "metadata": {},
   "outputs": [],
   "source": [
    "# 4. 조회 명령 실행 결과를 가져오기\n",
    "data = cursor.fetchall()"
   ]
  },
  {
   "cell_type": "code",
   "execution_count": 16,
   "metadata": {},
   "outputs": [
    {
     "name": "stdout",
     "output_type": "stream",
     "text": [
      "(1, '박지성', '영국 맨체스타', '000-5000-0001')\n",
      "(2, '김연아', '대한민국 서울', '000-6000-0001')\n",
      "(3, '장미란', '대한민국 강원도', '000-7000-0001')\n",
      "(4, '추신수', '미국 클리블랜드', '000-8000-0001')\n",
      "(5, '박세리', '대한민국 대전', None)\n"
     ]
    }
   ],
   "source": [
    "# 5. 데이터 사용\n",
    "# print(data)\n",
    "# print(type(data), len(data)) # 5개 로우라서 길이가 5로 나옴\n",
    "for row in data:\n",
    "    print(row)"
   ]
  },
  {
   "cell_type": "code",
   "execution_count": 17,
   "metadata": {},
   "outputs": [],
   "source": [
    "# 6. 연결 닫기\n",
    "cursor.close()\n",
    "conn.close()"
   ]
  },
  {
   "cell_type": "code",
   "execution_count": 19,
   "metadata": {},
   "outputs": [],
   "source": [
    "# 1. 데이터베이스에 연결\n",
    "conn = pymysql.connect(host=\"127.0.0.1\", port=3306, db=\"employees\",\n",
    "                       user=\"root\", passwd=\"1234\")\n"
   ]
  },
  {
   "cell_type": "code",
   "execution_count": 20,
   "metadata": {},
   "outputs": [],
   "source": [
    "# 2. 명령 도구 준비\n",
    "cursor = conn.cursor()"
   ]
  },
  {
   "cell_type": "code",
   "execution_count": 22,
   "metadata": {},
   "outputs": [
    {
     "data": {
      "text/plain": [
       "300024"
      ]
     },
     "execution_count": 22,
     "metadata": {},
     "output_type": "execute_result"
    }
   ],
   "source": [
    "# 3. 명령 실행\n",
    "# sql = \"SELECT * FROM salaries\"\n",
    "# cursor.execute(sql)\n",
    "sql = \"SELECT emp_no, MAX(salary) FROM salaries GROUP BY emp_no\"\n",
    "cursor.execute(sql)"
   ]
  },
  {
   "cell_type": "code",
   "execution_count": 23,
   "metadata": {},
   "outputs": [],
   "source": [
    "# 4. 조회 명령 실행 결과를 가져오기\n",
    "data = cursor.fetchall()"
   ]
  },
  {
   "cell_type": "code",
   "execution_count": 24,
   "metadata": {},
   "outputs": [
    {
     "name": "stdout",
     "output_type": "stream",
     "text": [
      "(10001, 88958)\n",
      "(10002, 72527)\n",
      "(10003, 43699)\n",
      "(10004, 74057)\n",
      "(10005, 94692)\n",
      "(10006, 60098)\n",
      "(10007, 88070)\n",
      "(10008, 52668)\n",
      "(10009, 94443)\n",
      "(10010, 80324)\n"
     ]
    }
   ],
   "source": [
    "# 5. 데이터 사용\n",
    "# print(data)\n",
    "# print(type(data), len(data)) # 5개 로우라서 길이가 5로 나옴\n",
    "for row in data[:10]:\n",
    "    print(row)"
   ]
  },
  {
   "cell_type": "code",
   "execution_count": 26,
   "metadata": {},
   "outputs": [],
   "source": [
    "# db에서 데이터 가져와서 df로 변환해서 avg, 집계 등등으로 활용함 + 시각화"
   ]
  },
  {
   "cell_type": "code",
   "execution_count": 6,
   "metadata": {},
   "outputs": [
    {
     "name": "stdout",
     "output_type": "stream",
     "text": [
      "Defaulting to user installation because normal site-packages is not writeable\n",
      "Collecting cryptograpy\n",
      "  Downloading cryptograpy-0.0.0-py2.py3-none-any.whl.metadata (290 bytes)\n",
      "Collecting cryptography (from cryptograpy)\n",
      "  Downloading cryptography-43.0.3-cp39-abi3-win_amd64.whl.metadata (5.4 kB)\n",
      "Requirement already satisfied: cffi>=1.12 in c:\\dev\\anaconda3\\envs\\human-da-env\\lib\\site-packages (from cryptography->cryptograpy) (1.17.1)\n",
      "Requirement already satisfied: pycparser in c:\\dev\\anaconda3\\envs\\human-da-env\\lib\\site-packages (from cffi>=1.12->cryptography->cryptograpy) (2.22)\n",
      "Downloading cryptograpy-0.0.0-py2.py3-none-any.whl (1.9 kB)\n",
      "Downloading cryptography-43.0.3-cp39-abi3-win_amd64.whl (3.1 MB)\n",
      "   ---------------------------------------- 0.0/3.1 MB ? eta -:--:--\n",
      "   ------------------------------ --------- 2.4/3.1 MB 12.2 MB/s eta 0:00:01\n",
      "   ------------------------------------- -- 2.9/3.1 MB 12.0 MB/s eta 0:00:01\n",
      "   ---------------------------------------- 3.1/3.1 MB 6.4 MB/s eta 0:00:00\n",
      "Installing collected packages: cryptography, cryptograpy\n",
      "Successfully installed cryptography-43.0.3 cryptograpy-0.0.0\n"
     ]
    }
   ],
   "source": [
    "# !pip install pymysql #pymysql 설치 1회만 하면 됌\n",
    "# !pip install cryptograpy"
   ]
  },
  {
   "cell_type": "code",
   "execution_count": 8,
   "metadata": {},
   "outputs": [],
   "source": [
    "import pymysql"
   ]
  },
  {
   "cell_type": "code",
   "execution_count": 9,
   "metadata": {},
   "outputs": [],
   "source": [
    "# 1. 데이터베이스에 연결\n",
    "\n",
    "conn = pymysql.connect(host=\"127.0.0.1\", port=3306, db=\"bookstore\",\n",
    "                       user=\"humanda\", passwd=\"humanda\")"
   ]
  },
  {
   "cell_type": "code",
   "execution_count": 10,
   "metadata": {},
   "outputs": [],
   "source": [
    "# 2. 명령 도구 준비\n",
    "cursor = conn.cursor()"
   ]
  },
  {
   "cell_type": "code",
   "execution_count": 11,
   "metadata": {},
   "outputs": [
    {
     "data": {
      "text/plain": [
       "5"
      ]
     },
     "execution_count": 11,
     "metadata": {},
     "output_type": "execute_result"
    }
   ],
   "source": [
    "# 3. 명령 실행\n",
    "sql = \"select * from customer\"\n",
    "cursor.execute(sql)\n",
    "# 서버에 결과 집합 만들어지고 읽을 준비 됨"
   ]
  },
  {
   "cell_type": "code",
   "execution_count": 12,
   "metadata": {},
   "outputs": [],
   "source": [
    "# 4. 조회 명령 실행 결과를 가져오기\n",
    "data = cursor.fetchall() # 2차원 튜플(튜플안에 튜플) > ((1, '박지 > (())가 2개 "
   ]
  },
  {
   "cell_type": "code",
   "execution_count": 15,
   "metadata": {},
   "outputs": [
    {
     "name": "stdout",
     "output_type": "stream",
     "text": [
      "<class 'tuple'> 5\n",
      "(1, '박지성', '영국 맨체스타', '000-5000-0001')\n",
      "(2, '김연아', '대한민국 서울', '000-6000-0001')\n",
      "(3, '장미란', '대한민국 강원도', '000-7000-0001')\n",
      "(4, '추신수', '미국 클리블랜드', '000-8000-0001')\n",
      "(5, '박세리', '대한민국 대전', None)\n"
     ]
    }
   ],
   "source": [
    "# 5. 데이터 사용\n",
    "# print(data)\n",
    "print(type(data), len(data))\n",
    "for row in data:\n",
    "    print(row)"
   ]
  },
  {
   "cell_type": "code",
   "execution_count": 17,
   "metadata": {},
   "outputs": [],
   "source": [
    "# 6. 연결 닫기\n",
    "cursor.close()\n",
    "conn.close()"
   ]
  },
  {
   "cell_type": "code",
   "execution_count": 14,
   "metadata": {},
   "outputs": [],
   "source": [
    "# 0. 데이터베이스 연동 도구 준비\n",
    "import pymysql"
   ]
  },
  {
   "cell_type": "code",
   "execution_count": 15,
   "metadata": {},
   "outputs": [],
   "source": [
    "# 1. 데이터베이스 연결 -> 연결 객체 반환\n",
    "conn = pymysql.connect(host=\"192.168.0.55\", port=3306, db=\"bookstore\",\n",
    "                       user=\"humanda\", passwd=\"humanda\")"
   ]
  },
  {
   "cell_type": "code",
   "execution_count": 16,
   "metadata": {},
   "outputs": [],
   "source": [
    "# 2. 명령 도구 만들기\n",
    "cursor = conn.cursor()"
   ]
  },
  {
   "cell_type": "code",
   "execution_count": 19,
   "metadata": {},
   "outputs": [
    {
     "data": {
      "text/plain": [
       "0"
      ]
     },
     "execution_count": 19,
     "metadata": {},
     "output_type": "execute_result"
    }
   ],
   "source": [
    "# 3. SQL 만들기 + 명령 실행\n",
    "sql = \"\"\"\n",
    "    create table newbook_yr\n",
    "    (\n",
    "        bookid integer primary key,\n",
    "        bookname varchar(100), \n",
    "        publisher varchar(100),\n",
    "        price integer\n",
    "    )    \"\"\"\n",
    "cursor.execute(sql)"
   ]
  },
  {
   "cell_type": "code",
   "execution_count": 46,
   "metadata": {},
   "outputs": [],
   "source": [
    "# 5. 연결 닫기 - 안하면 db는 이에대한 연결에대해 비용을 계속 지불함\n",
    "cursor.close()\n",
    "conn.close()"
   ]
  },
  {
   "cell_type": "markdown",
   "metadata": {},
   "source": [
    "## book의 데이터를 조회해서 newbook 에 저장"
   ]
  },
  {
   "cell_type": "code",
   "execution_count": 47,
   "metadata": {},
   "outputs": [],
   "source": [
    "# 1. 데이터베이스 연결 -> 연결 객체 반환\n",
    "conn = pymysql.connect(host=\"192.168.0.55\", port=3306, db=\"bookstore\",\n",
    "                       user=\"humanda\", passwd=\"humanda\")"
   ]
  },
  {
   "cell_type": "code",
   "execution_count": 48,
   "metadata": {},
   "outputs": [],
   "source": [
    "# 2. 명령 도구 만들기\n",
    "cursor = conn.cursor()"
   ]
  },
  {
   "cell_type": "code",
   "execution_count": null,
   "metadata": {},
   "outputs": [],
   "source": [
    "# 3. SQL 작성 + 명령 실행 (삭제 명령)\n",
    "sql = \"delete from newbook_yr\" # pk중복으로 기존 데이터 삭제\n",
    "cursor.execute(sql)\n",
    "conn.commit()"
   ]
  },
  {
   "cell_type": "code",
   "execution_count": 49,
   "metadata": {},
   "outputs": [
    {
     "data": {
      "text/plain": [
       "10"
      ]
     },
     "execution_count": 49,
     "metadata": {},
     "output_type": "execute_result"
    }
   ],
   "source": [
    "# 3. SQL 작성 + 명령 실행 (조회 명령)\n",
    "sql = \"select bookid, bookname, publisher, price from book\"\n",
    "cursor.execute(sql)"
   ]
  },
  {
   "cell_type": "code",
   "execution_count": 50,
   "metadata": {},
   "outputs": [],
   "source": [
    "# 4. 조회 결과 읽기\n",
    "book_list = cursor.fetchall()"
   ]
  },
  {
   "cell_type": "code",
   "execution_count": 51,
   "metadata": {},
   "outputs": [
    {
     "name": "stdout",
     "output_type": "stream",
     "text": [
      "(1, '축구의 역사', '굿스포츠', 50000)\n",
      "(2, '축구아는 여자', '나무수', 50000)\n",
      "(3, '축구의 이해', '대한미디어', 50000)\n",
      "(4, '골프 바이블', '대한미디어', 50000)\n",
      "(5, '피겨 교본', '굿스포츠', 50000)\n",
      "(6, '역도 단계별기술', '굿스포츠', 50000)\n",
      "(7, '야구의 추억', '이상미디어', 50000)\n",
      "(8, '야구를 부탁해', '이상미디어', 50000)\n",
      "(9, '올림픽 이야기', '삼성당', 50000)\n",
      "(10, 'Olympic Champions', 'Pearson', 50000)\n"
     ]
    }
   ],
   "source": [
    "# # 5. 데이터 처리 (데이터 삽입) 1 \n",
    "# sql2 = \"insert into newbook_yr values ({0}, '{1}', '{2}', {3})\" # 문자열 데이터는 ''로 감싸기\n",
    "# for book in book_list:\n",
    "#     print(book)\n",
    "#     # print(book)\n",
    "#     # book 데이터를 newbook_yr 테이블에 insert\n",
    "#     # sql1 = f\"insert into newbook_yr values ({book[0]}, {book[1]}, {book[2]}, {book[3]})\" # 데이터와 문자열결합\n",
    "#     # cursor.execute(sql1)\n",
    "#     cursor.execute(sql2.format(book[0], book[1], book[2], book[3]))\n"
   ]
  },
  {
   "cell_type": "code",
   "execution_count": null,
   "metadata": {},
   "outputs": [],
   "source": [
    "# 5. 데이터 처리 (데이터 삽입) 2\n",
    "sql2 = \"insert into newbook_yr values (%s, %s, %s, %s)\" # %s로 데이터와 sql을 분리해줌.\n",
    "for book in book_list:\n",
    "    print(book)\n",
    "    cursor.execute(sql2, book) # 실행계획은 sql2, 수행할때는 book데이터 넣어라"
   ]
  },
  {
   "cell_type": "code",
   "execution_count": 52,
   "metadata": {},
   "outputs": [],
   "source": [
    "conn.commit() # 이전 변경 작업을 모두 원본 테이블에 적용하기"
   ]
  },
  {
   "cell_type": "code",
   "execution_count": 53,
   "metadata": {},
   "outputs": [],
   "source": [
    "cursor.close()\n",
    "conn.close()"
   ]
  },
  {
   "cell_type": "markdown",
   "metadata": {},
   "source": [
    "## book의 데이터를 조회해서 newbook 에 저장"
   ]
  },
  {
   "cell_type": "code",
   "execution_count": 54,
   "metadata": {},
   "outputs": [],
   "source": [
    "# 1. 데이터베이스 연결 -> 연결 객체 반환\n",
    "conn = pymysql.connect(host=\"192.168.0.55\", port=3306, db=\"bookstore\",\n",
    "                       user=\"humanda\", passwd=\"humanda\")"
   ]
  },
  {
   "cell_type": "code",
   "execution_count": 55,
   "metadata": {},
   "outputs": [],
   "source": [
    "# 2. 명령 도구 만들기\n",
    "cursor = conn.cursor()"
   ]
  },
  {
   "cell_type": "code",
   "execution_count": 56,
   "metadata": {},
   "outputs": [],
   "source": [
    "# 3. SQL 작성 + 명령 실행 (삭제 명령)\n",
    "sql = \"delete from newbook_yr\" # pk중복으로 기존 데이터 삭제\n",
    "cursor.execute(sql)\n",
    "conn.commit()"
   ]
  },
  {
   "cell_type": "code",
   "execution_count": 57,
   "metadata": {},
   "outputs": [
    {
     "data": {
      "text/plain": [
       "10"
      ]
     },
     "execution_count": 57,
     "metadata": {},
     "output_type": "execute_result"
    }
   ],
   "source": [
    "# 3. SQL 작성 + 명령 실행 (조회 명령)\n",
    "sql = \"select bookid, bookname, publisher, price from book\"\n",
    "cursor.execute(sql)"
   ]
  },
  {
   "cell_type": "code",
   "execution_count": 58,
   "metadata": {},
   "outputs": [],
   "source": [
    "# 4. 조회 결과 읽기\n",
    "book_list = cursor.fetchall()"
   ]
  },
  {
   "cell_type": "code",
   "execution_count": 59,
   "metadata": {},
   "outputs": [
    {
     "name": "stdout",
     "output_type": "stream",
     "text": [
      "(1, '축구의 역사', '굿스포츠', 50000)\n",
      "(2, '축구아는 여자', '나무수', 50000)\n",
      "(3, '축구의 이해', '대한미디어', 50000)\n",
      "(4, '골프 바이블', '대한미디어', 50000)\n",
      "(5, '피겨 교본', '굿스포츠', 50000)\n",
      "(6, '역도 단계별기술', '굿스포츠', 50000)\n",
      "(7, '야구의 추억', '이상미디어', 50000)\n",
      "(8, '야구를 부탁해', '이상미디어', 50000)\n",
      "(9, '올림픽 이야기', '삼성당', 50000)\n",
      "(10, 'Olympic Champions', 'Pearson', 50000)\n"
     ]
    }
   ],
   "source": [
    "# 5. 데이터 처리 (데이터 삽입) 2\n",
    "sql2 = \"insert into newbook_yr values (%s, %s, %s, %s)\" # %s로 데이터와 sql을 분리해줌.(따로 국밥)\n",
    "for book in book_list:\n",
    "    print(book)\n",
    "    cursor.execute(sql2, book) # 실행계획은 sql2, 수행할때는 book데이터 넣어라\n",
    "\n",
    "# %s, %d 이런거 없이 pymysql 다 %s로써서 데이터 들어갈 자리만 마련해준다. = 자료형 지정 x"
   ]
  },
  {
   "cell_type": "code",
   "execution_count": 60,
   "metadata": {},
   "outputs": [],
   "source": [
    "conn.commit() # 이전 변경 작업을 모두 원본 테이블에 적용하기"
   ]
  },
  {
   "cell_type": "code",
   "execution_count": 61,
   "metadata": {},
   "outputs": [],
   "source": [
    "cursor.close()\n",
    "conn.close()"
   ]
  },
  {
   "cell_type": "markdown",
   "metadata": {},
   "source": [
    "employees db로 하기"
   ]
  },
  {
   "cell_type": "code",
   "execution_count": 64,
   "metadata": {},
   "outputs": [],
   "source": [
    "# 1. 데이터베이스 연결 -> 연결 객체 반환\n",
    "conn = pymysql.connect(host=\"192.168.0.55\", port=3306, db=\"employees\",\n",
    "                       user=\"humanda\", passwd=\"humanda\")"
   ]
  },
  {
   "cell_type": "code",
   "execution_count": 65,
   "metadata": {},
   "outputs": [],
   "source": [
    "# 2. 명령 도구 만들기\n",
    "cursor = conn.cursor()"
   ]
  },
  {
   "cell_type": "code",
   "execution_count": 66,
   "metadata": {},
   "outputs": [
    {
     "data": {
      "text/plain": [
       "94876"
      ]
     },
     "execution_count": 66,
     "metadata": {},
     "output_type": "execute_result"
    }
   ],
   "source": [
    "# 3. SQL 작성 + 명령 실행 (조회 명령)\n",
    "sql = \"\"\"select * from employees \n",
    "         where lower(first_name) like %s or lower(last_name) like %s\"\"\"\n",
    "cursor.execute(sql, ['%{0}%'.format('g')]*2) # list * 는 list 반복\n",
    "\n",
    "# select절에 %s 넣는 방법\n"
   ]
  },
  {
   "cell_type": "code",
   "execution_count": 67,
   "metadata": {},
   "outputs": [],
   "source": [
    "# 4. 조회 결과 읽기\n",
    "employee_list = cursor.fetchall()\n"
   ]
  },
  {
   "cell_type": "code",
   "execution_count": 68,
   "metadata": {},
   "outputs": [
    {
     "name": "stdout",
     "output_type": "stream",
     "text": [
      "(10001, datetime.date(1953, 9, 2), 'Georgi', 'Facello', 'M', datetime.date(1986, 6, 26))\n",
      "(10006, datetime.date(1953, 4, 20), 'Anneke', 'Preusig', 'F', datetime.date(1989, 6, 2))\n",
      "(10010, datetime.date(1963, 6, 1), 'Duangkaew', 'Piveteau', 'F', datetime.date(1989, 8, 24))\n",
      "(10012, datetime.date(1960, 10, 4), 'Patricio', 'Bridgland', 'M', datetime.date(1992, 12, 18))\n",
      "(10014, datetime.date(1956, 2, 12), 'Berni', 'Genin', 'M', datetime.date(1987, 3, 11))\n",
      "(10015, datetime.date(1959, 8, 19), 'Guoxiang', 'Nooteboom', 'M', datetime.date(1987, 7, 2))\n",
      "(10026, datetime.date(1953, 4, 3), 'Yongqiao', 'Berztiss', 'M', datetime.date(1995, 3, 20))\n",
      "(10032, datetime.date(1960, 8, 9), 'Jeong', 'Reistad', 'F', datetime.date(1990, 6, 20))\n",
      "(10036, datetime.date(1959, 8, 10), 'Adamantios', 'Portugali', 'M', datetime.date(1992, 1, 3))\n",
      "(10042, datetime.date(1956, 2, 26), 'Magy', 'Stamatiou', 'F', datetime.date(1993, 3, 21))\n"
     ]
    }
   ],
   "source": [
    "# 5. 데이터 처리 (표시)\n",
    "for employee in employee_list[:10]:\n",
    "    print(employee)\n"
   ]
  },
  {
   "cell_type": "code",
   "execution_count": 69,
   "metadata": {},
   "outputs": [],
   "source": [
    "# 6. 연결 닫기\n",
    "cursor.close()\n",
    "conn.close()"
   ]
  },
  {
   "cell_type": "code",
   "execution_count": null,
   "metadata": {},
   "outputs": [],
   "source": []
  }
 ],
 "metadata": {
  "kernelspec": {
   "display_name": "human-da-env",
   "language": "python",
   "name": "python3"
  },
  "language_info": {
   "codemirror_mode": {
    "name": "ipython",
    "version": 3
   },
   "file_extension": ".py",
   "mimetype": "text/x-python",
   "name": "python",
   "nbconvert_exporter": "python",
   "pygments_lexer": "ipython3",
   "version": "3.12.7"
  }
 },
 "nbformat": 4,
 "nbformat_minor": 2
}
